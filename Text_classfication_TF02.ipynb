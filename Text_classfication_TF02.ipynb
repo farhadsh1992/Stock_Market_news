{
 "cells": [
  {
   "cell_type": "code",
   "execution_count": null,
   "metadata": {},
   "outputs": [],
   "source": []
  },
  {
   "cell_type": "code",
   "execution_count": null,
   "metadata": {},
   "outputs": [],
   "source": []
  },
  {
   "cell_type": "code",
   "execution_count": 1,
   "metadata": {},
   "outputs": [
    {
     "name": "stderr",
     "output_type": "stream",
     "text": [
      "Using TensorFlow backend.\n"
     ]
    },
    {
     "name": "stdout",
     "output_type": "stream",
     "text": [
      "---------------------------------------------------------\n",
      "*** First def ***\n",
      "text_into_sequence_of_integers\n",
      "\n",
      "inputs: croups_df, dictunary, model=\"tfidf\"\n",
      "mode : (\"binary\" or \"count\" or \"tfidf\" or \"freq\")\n",
      "\n",
      "outputs: \n",
      "         Embadding = text to integer\n",
      "         Sequence; test to mode, mode=(\"binary\" or \"count\" or \"tfidf\" or \"freq\")\n",
      "---------------------------------------------------------\n",
      "---------------------------------------------------------\n",
      "*** second def ***\n",
      "text_into_sequence_of_integers_with_glove_dictionary\n",
      "\n",
      "inputs: croups_df,  model=\"tfidf\"\n",
      "mode : (\"binary\" or \"count\" or \"tfidf\" or \"freq\")\n",
      "\n",
      "outputs: \n",
      "         Embadding = text to integer\n",
      "         Sequence; test to mode, mode=(\"binary\" or \"count\" or \"tfidf\" or \"freq\")\n",
      "---------------------------------------------------------\n"
     ]
    }
   ],
   "source": [
    "import warnings\n",
    "warnings.filterwarnings('ignore')\n",
    "import pandas as pd\n",
    "from farhad.AwesomeTextTools import text_into_sequence_of_integers\n",
    "from farhad.AwesomeTextTools import Get_embeddings_from_Glove\n",
    "from tensorflow.keras.preprocessing.sequence import pad_sequences \n",
    "from sklearn.model_selection import train_test_split"
   ]
  },
  {
   "cell_type": "code",
   "execution_count": 2,
   "metadata": {},
   "outputs": [
    {
     "data": {
      "text/html": [
       "<div>\n",
       "<style scoped>\n",
       "    .dataframe tbody tr th:only-of-type {\n",
       "        vertical-align: middle;\n",
       "    }\n",
       "\n",
       "    .dataframe tbody tr th {\n",
       "        vertical-align: top;\n",
       "    }\n",
       "\n",
       "    .dataframe thead th {\n",
       "        text-align: right;\n",
       "    }\n",
       "</style>\n",
       "<table border=\"1\" class=\"dataframe\">\n",
       "  <thead>\n",
       "    <tr style=\"text-align: right;\">\n",
       "      <th></th>\n",
       "      <th>created_at</th>\n",
       "      <th>text</th>\n",
       "      <th>label_topicModels</th>\n",
       "      <th>Price_label</th>\n",
       "      <th>Price_label(0,1)</th>\n",
       "    </tr>\n",
       "  </thead>\n",
       "  <tbody>\n",
       "    <tr>\n",
       "      <th>0</th>\n",
       "      <td>2011-01-18</td>\n",
       "      <td>watch slammed suv blowing red light mph miami ...</td>\n",
       "      <td>1</td>\n",
       "      <td>-1</td>\n",
       "      <td>0</td>\n",
       "    </tr>\n",
       "    <tr>\n",
       "      <th>1</th>\n",
       "      <td>2011-01-19</td>\n",
       "      <td>tesla xyecla</td>\n",
       "      <td>1</td>\n",
       "      <td>-1</td>\n",
       "      <td>0</td>\n",
       "    </tr>\n",
       "    <tr>\n",
       "      <th>2</th>\n",
       "      <td>2011-01-21</td>\n",
       "      <td>yep tesla going take world structurally unprofi</td>\n",
       "      <td>1</td>\n",
       "      <td>2</td>\n",
       "      <td>1</td>\n",
       "    </tr>\n",
       "  </tbody>\n",
       "</table>\n",
       "</div>"
      ],
      "text/plain": [
       "   created_at                                               text  \\\n",
       "0  2011-01-18  watch slammed suv blowing red light mph miami ...   \n",
       "1  2011-01-19                                       tesla xyecla   \n",
       "2  2011-01-21    yep tesla going take world structurally unprofi   \n",
       "\n",
       "   label_topicModels  Price_label  Price_label(0,1)  \n",
       "0                  1           -1                 0  \n",
       "1                  1           -1                 0  \n",
       "2                  1            2                 1  "
      ]
     },
     "execution_count": 2,
     "metadata": {},
     "output_type": "execute_result"
    }
   ],
   "source": [
    "df = pd.read_csv('data/tesla_label_twoprice_andtopic.csv')\n",
    "df = df.dropna()\n",
    "df.head(3)"
   ]
  },
  {
   "cell_type": "code",
   "execution_count": 3,
   "metadata": {},
   "outputs": [
    {
     "name": "stdout",
     "output_type": "stream",
     "text": [
      "Training entries: 421, labels: 421\n"
     ]
    }
   ],
   "source": [
    "Embadding, sequence = text_into_sequence_of_integers(df['text'],df['text'], model='tfidf')\n",
    "x_train, x_test, y_train, y_test = train_test_split(Embadding,df['Price_label(0,1)'], test_size=0.25, random_state=42)\n",
    "print(\"Training entries: {}, labels: {}\".format(len(x_train), len(y_train)))"
   ]
  },
  {
   "cell_type": "code",
   "execution_count": null,
   "metadata": {},
   "outputs": [],
   "source": []
  },
  {
   "cell_type": "code",
   "execution_count": 43,
   "metadata": {},
   "outputs": [],
   "source": [
    "import os \n",
    "glove_dir = 'data/RNN/'\n",
    "glove_100k_50d = 'datastories.twitter.100d.txt'\n",
    "glove_path = os.path.join(glove_dir, glove_100k_50d)"
   ]
  },
  {
   "cell_type": "code",
   "execution_count": 45,
   "metadata": {},
   "outputs": [
    {
     "data": {
      "text/plain": [
       "100"
      ]
     },
     "execution_count": 45,
     "metadata": {},
     "output_type": "execute_result"
    }
   ],
   "source": [
    "maxlen =100\n",
    "\n",
    "embedding_matrix =  Get_embeddings_from_Glove(df['text'],max_words=maxlen,glove_path=glove_path )\n",
    "len(embedding_matrix[3])"
   ]
  },
  {
   "cell_type": "code",
   "execution_count": null,
   "metadata": {},
   "outputs": [],
   "source": []
  },
  {
   "cell_type": "code",
   "execution_count": null,
   "metadata": {},
   "outputs": [],
   "source": [
    "seq = [x.split() for x in df['text']]\n",
    "dic = []e\n",
    "for x in seq:\n",
    "    for i in x:\n",
    "        dic.append(i)\n",
    "dic = set(dic)"
   ]
  },
  {
   "cell_type": "code",
   "execution_count": 46,
   "metadata": {},
   "outputs": [],
   "source": [
    "\n",
    "train_data = pad_sequences(x_train, padding='post', maxlen=maxlen)\n",
    "test_data = pad_sequences(x_test, padding='post', maxlen=maxlen)"
   ]
  },
  {
   "cell_type": "code",
   "execution_count": 54,
   "metadata": {},
   "outputs": [
    {
     "data": {
      "text/plain": [
       "421"
      ]
     },
     "execution_count": 54,
     "metadata": {},
     "output_type": "execute_result"
    }
   ],
   "source": [
    "len(train_data)"
   ]
  },
  {
   "cell_type": "markdown",
   "metadata": {},
   "source": [
    "# Model"
   ]
  },
  {
   "cell_type": "code",
   "execution_count": 6,
   "metadata": {},
   "outputs": [],
   "source": [
    "from tensorflow.keras.models import Sequential\n",
    "from tensorflow.keras.layers import Dense, Dropout, Embedding, MaxPool1D, GlobalMaxPool1D, LSTM, RNN, Conv1D,Flatten\n",
    "from tensorflow.keras.callbacks import EarlyStopping,ModelCheckpoint\n",
    "from farhad_DL.utility import plot_confusion_matrix\n",
    "from farhad_DL.utils import TimeSummary, plot_training_summary, Estimate_fasterD\n",
    "\n",
    "\n",
    "from sklearn.metrics import confusion_matrix\n",
    "from tensorflow.logging import set_verbosity, ERROR"
   ]
  },
  {
   "cell_type": "code",
   "execution_count": null,
   "metadata": {},
   "outputs": [],
   "source": []
  },
  {
   "cell_type": "code",
   "execution_count": 61,
   "metadata": {},
   "outputs": [],
   "source": [
    "# https://medium.com/@sabber/classifying-yelp-review-comments-using-cnn-lstm-and-pre-trained-glove-word-embeddings-part-3-53fcea9a17fa"
   ]
  },
  {
   "cell_type": "code",
   "execution_count": 55,
   "metadata": {},
   "outputs": [],
   "source": [
    "def model_glove(embedding_matrix,maxlen, vocabulary_size=20000):\n",
    "    \n",
    "    model = Sequential()\n",
    "    model.add(Embedding(vocabulary_size ,maxlen, weights=[embedding_matrix], input_length=maxlen))\n",
    "    #model.add(Flatten())\n",
    "    model.add(Dropout(0.2))\n",
    "    model.add(Conv1D(64, 5, activation='relu'))\n",
    "    model.add(MaxPool1D(pool_size=2))#MaxPooling1D(pool_size=2)\n",
    "    \n",
    "    model.add(LSTM(50))\n",
    "    model.add(Dense(32, activation='relu'))\n",
    "    model.add(Dropout(0.2))\n",
    "    model.add(Dense(16, activation='relu'))\n",
    "    #model.add(Dropout(0.2))\n",
    "    #model.add(Dense(8, activation='relu'))\n",
    "    model.add(Dropout(0.2))\n",
    "    model.add(Dense(1, activation='sigmoid'))\n",
    "    \n",
    "    model.compile(optimizer=\"adam\",loss='binary_crossentropy',metrics=['accuracy'])\n",
    "    \n",
    "    return model\n",
    "    "
   ]
  },
  {
   "cell_type": "code",
   "execution_count": 60,
   "metadata": {},
   "outputs": [
    {
     "name": "stdout",
     "output_type": "stream",
     "text": [
      "[199/200]"
     ]
    }
   ],
   "source": [
    "set_verbosity(ERROR)\n",
    "epochs = 200\n",
    "monitor = EarlyStopping(monitor='vall_loss',min_delta=1e-3,verbose=0, mode='atuo')\n",
    "\n",
    "time_summary = TimeSummary()\n",
    "estimetor = Estimate_fasterD(epochs)\n",
    "\n",
    "\n",
    "model = model_glove(embedding_matrix,len(train_data[0]))\n",
    "history = model.fit(train_data,y_train, validation_data=(test_data,y_test),batch_size=40 ,verbose=0, epochs=epochs, callbacks=[monitor,time_summary,estimetor])"
   ]
  },
  {
   "cell_type": "code",
   "execution_count": 61,
   "metadata": {},
   "outputs": [
    {
     "name": "stdout",
     "output_type": "stream",
     "text": [
      "Training time: 0:10:31.457477(HH:MM:SS)\n",
      "Epoch time avg: 0:00:03.157263(HH:MM:SS)\n"
     ]
    },
    {
     "data": {
      "image/png": "[encoded data removed]",
      "text/plain": [
       "<Figure size 432x288 with 1 Axes>"
      ]
     },
     "metadata": {
      "needs_background": "light"
     },
     "output_type": "display_data"
    },
    {
     "data": {
      "image/png": "[encoded data removed]",
      "text/plain": [
       "<Figure size 432x288 with 1 Axes>"
      ]
     },
     "metadata": {
      "needs_background": "light"
     },
     "output_type": "display_data"
    },
    {
     "name": "stdout",
     "output_type": "stream",
     "text": [
      "Accuracy: 39.01%\n"
     ]
    }
   ],
   "source": [
    "plot_training_summary(history,time_summary)\n",
    "scores = model.evaluate(test_data, y_test, verbose=0)\n",
    "print(\"Accuracy: %.2f%%\" % (scores[1]*100))"
   ]
  },
  {
   "cell_type": "code",
   "execution_count": 131,
   "metadata": {},
   "outputs": [
    {
     "name": "stdout",
     "output_type": "stream",
     "text": [
      "_________________________________________________________________\n",
      "Layer (type)                 Output Shape              Param #   \n",
      "=================================================================\n",
      "embedding_21 (Embedding)     (None, 50, 50)            999950    \n",
      "_________________________________________________________________\n",
      "dropout_25 (Dropout)         (None, 50, 50)            0         \n",
      "_________________________________________________________________\n",
      "conv1d_12 (Conv1D)           (None, 46, 64)            16064     \n",
      "_________________________________________________________________\n",
      "max_pooling1d_12 (MaxPooling (None, 23, 64)            0         \n",
      "_________________________________________________________________\n",
      "lstm_12 (LSTM)               (None, 50)                23000     \n",
      "_________________________________________________________________\n",
      "dense_25 (Dense)             (None, 32)                1632      \n",
      "_________________________________________________________________\n",
      "dropout_26 (Dropout)         (None, 32)                0         \n",
      "_________________________________________________________________\n",
      "dense_26 (Dense)             (None, 16)                528       \n",
      "_________________________________________________________________\n",
      "dropout_27 (Dropout)         (None, 16)                0         \n",
      "_________________________________________________________________\n",
      "dense_27 (Dense)             (None, 1)                 17        \n",
      "=================================================================\n",
      "Total params: 1,041,191\n",
      "Trainable params: 41,241\n",
      "Non-trainable params: 999,950\n",
      "_________________________________________________________________\n"
     ]
    }
   ],
   "source": [
    "model.summary()"
   ]
  },
  {
   "cell_type": "code",
   "execution_count": 34,
   "metadata": {},
   "outputs": [
    {
     "data": {
      "text/plain": [
       "array([ 1.88579500e-01,  3.96706611e-01,  9.82837260e-01,  6.51208580e-01,\n",
       "       -2.46653005e-01,  7.45384872e-01, -1.54535472e-01, -1.22548811e-01,\n",
       "       -5.10579705e-01,  4.30535704e-01,  6.01680875e-01, -4.49572474e-01,\n",
       "       -9.52361617e-03, -4.78234291e-01,  8.95856246e-02,  1.92149580e-01,\n",
       "       -5.62345564e-01,  1.29003596e+00,  1.51061565e-02, -3.69300872e-01,\n",
       "        5.54542542e-01, -3.06965530e-01, -7.41289020e-01, -9.56003517e-02,\n",
       "       -8.39485601e-02,  6.23694446e-04, -3.66463006e-01,  9.33482647e-02,\n",
       "       -3.34191881e-02, -3.55018198e-01, -3.93564284e-01, -2.70415425e-01,\n",
       "       -2.17677042e-01, -7.19765425e-02,  2.67515928e-01, -1.12122081e-01,\n",
       "       -7.26530999e-02,  1.38305724e-01,  3.24100256e-01,  2.49598533e-01,\n",
       "        4.41444397e-01, -1.58401728e-02, -6.71361029e-01, -3.56848150e-01,\n",
       "       -7.93598965e-02, -1.54908478e-01,  1.14794418e-01,  3.91537696e-01,\n",
       "       -3.51995885e-01, -1.71987459e-01], dtype=float32)"
      ]
     },
     "execution_count": 34,
     "metadata": {},
     "output_type": "execute_result"
    }
   ],
   "source": [
    "glove_embds = model.layers[0].get_weights()[0]\n",
    "glove_embds[0]"
   ]
  },
  {
   "cell_type": "code",
   "execution_count": null,
   "metadata": {},
   "outputs": [],
   "source": []
  },
  {
   "cell_type": "code",
   "execution_count": null,
   "metadata": {},
   "outputs": [],
   "source": []
  },
  {
   "cell_type": "code",
   "execution_count": 18,
   "metadata": {},
   "outputs": [
    {
     "data": {
      "text/plain": [
       "array([[ 0.418   ,  0.24968 , -0.41242 , ..., -0.18411 , -0.11514 ,\n",
       "        -0.78581 ],\n",
       "       [ 0.013441,  0.23682 , -0.16899 , ..., -0.56657 ,  0.044691,\n",
       "         0.30392 ],\n",
       "       [ 0.15164 ,  0.30177 , -0.16763 , ..., -0.35652 ,  0.016413,\n",
       "         0.10216 ],\n",
       "       ...,\n",
       "       [ 0.50534 , -1.8903  ,  0.092603, ...,  0.55925 ,  0.5294  ,\n",
       "         1.0203  ],\n",
       "       [ 0.99636 , -0.063851, -0.19626 , ...,  0.15664 , -0.59819 ,\n",
       "        -0.3972  ],\n",
       "       [ 0.41386 ,  1.0513  , -0.66827 , ...,  0.68643 , -0.15402 ,\n",
       "        -1.1471  ]])"
      ]
     },
     "execution_count": 18,
     "metadata": {},
     "output_type": "execute_result"
    }
   ],
   "source": [
    "import glove\n",
    "import os\n",
    "glove_dir = '/anaconda3/lib/python3.6/farhad/data/RNN/'\n",
    "glove_100k_50d = 'glove.first-100k.6B.50d.txt'\n",
    "glove_path = os.path.join(glove_dir, glove_100k_50d)\n",
    "word_embedding = glove.Glove.load_stanford( glove_path )\n",
    "word_embedding.word_vectors"
   ]
  },
  {
   "cell_type": "code",
   "execution_count": 35,
   "metadata": {},
   "outputs": [],
   "source": [
    "#word_embedding.inverse_dictionary"
   ]
  },
  {
   "cell_type": "code",
   "execution_count": 38,
   "metadata": {},
   "outputs": [],
   "source": []
  },
  {
   "cell_type": "code",
   "execution_count": 40,
   "metadata": {},
   "outputs": [],
   "source": [
    "#from farhad.AwesomeTextTools import Visualize_Embedding_in_TensorBoard\n",
    "#Visualize_Embedding_in_TensorBoard(glove_embds)"
   ]
  },
  {
   "cell_type": "code",
   "execution_count": 146,
   "metadata": {},
   "outputs": [],
   "source": [
    "def jsut_for_embadding_model(vocab_size,max_length,embedding_matrix ):\n",
    "    model = Sequential()\n",
    "    model.add(Embedding(vocab_size, 50, input_length=max_length,weights=[embedding_matrix[1:]]))\n",
    "    model.add(Flatten())\n",
    "    model.add(Dense(1, activation='sigmoid'))\n",
    "    # compile the model\n",
    "    model.compile(optimizer='adam', loss='binary_crossentropy', metrics=['acc'])\n",
    "    return model"
   ]
  },
  {
   "cell_type": "code",
   "execution_count": 149,
   "metadata": {},
   "outputs": [
    {
     "name": "stdout",
     "output_type": "stream",
     "text": [
      "[99/100]Training time: 0:00:46.313102(HH:MM:SS)\n",
      "Epoch time avg: 0:00:00.463104(HH:MM:SS)\n"
     ]
    },
    {
     "data": {
      "image/png": "[encoded data removed]",
      "text/plain": [
       "<Figure size 432x288 with 1 Axes>"
      ]
     },
     "metadata": {
      "needs_background": "light"
     },
     "output_type": "display_data"
    },
    {
     "data": {
      "image/png": "[encoded data removed]",
      "text/plain": [
       "<Figure size 432x288 with 1 Axes>"
      ]
     },
     "metadata": {
      "needs_background": "light"
     },
     "output_type": "display_data"
    }
   ],
   "source": [
    "\n",
    "set_verbosity(ERROR)\n",
    "epochs = 100\n",
    "monitor = EarlyStopping(monitor='vall_loss',min_delta=1e-3,verbose=0, mode='atuo')\n",
    "\n",
    "time_summary = TimeSummary()\n",
    "estimetor = Estimate_fasterD(epochs)\n",
    "\n",
    "\n",
    "model = jsut_for_embadding_model(vocab_size=19999,max_length=50, embedding_matrix=embedding_matrix)\n",
    "history = model.fit(train_data,y_train, validation_split=0.15, verbose=0, epochs=epochs, callbacks=[monitor,time_summary,estimetor])\n",
    "plot_training_summary(history,time_summary)\n",
    "mode.summary"
   ]
  },
  {
   "cell_type": "code",
   "execution_count": 151,
   "metadata": {},
   "outputs": [
    {
     "name": "stdout",
     "output_type": "stream",
     "text": [
      "Accuracy: 39.01%\n"
     ]
    }
   ],
   "source": [
    "3\n",
    "# Final evaluation of the model\n",
    "scores = model.evaluate(test_data, y_test, verbose=0)\n",
    "print(\"Accuracy: %.2f%%\" % (scores[1]*100))"
   ]
  },
  {
   "cell_type": "code",
   "execution_count": null,
   "metadata": {},
   "outputs": [],
   "source": [
    "Visualize_Embedding_in_TensorBoard(word_embedding)"
   ]
  }
 ],
 "metadata": {
  "kernelspec": {
   "display_name": "Python 3",
   "language": "python",
   "name": "python3"
  },
  "language_info": {
   "codemirror_mode": {
    "name": "ipython",
    "version": 3
   },
   "file_extension": ".py",
   "mimetype": "text/x-python",
   "name": "python",
   "nbconvert_exporter": "python",
   "pygments_lexer": "ipython3",
   "version": "3.6.8"
  }
 },
 "nbformat": 4,
 "nbformat_minor": 2
}
