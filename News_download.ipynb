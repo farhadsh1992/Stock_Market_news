{
 "cells": [
  {
   "cell_type": "code",
   "execution_count": null,
   "metadata": {},
   "outputs": [],
   "source": []
  },
  {
   "cell_type": "code",
   "execution_count": null,
   "metadata": {},
   "outputs": [],
   "source": []
  },
  {
   "cell_type": "code",
   "execution_count": 1,
   "metadata": {},
   "outputs": [
    {
     "name": "stdout",
     "output_type": "stream",
     "text": [
      "----------------------------------------------------------\n",
      "__info_getnews__(number)\n",
      "number = 1, Yahoo_finacial_news_extract\n",
      "number = 2, CENT_news_extract\n",
      "number = 3, New_York_Times_news_extract\n",
      "number = 4, marketwatch_news_extract\n",
      "----------------------------------------------------------\n"
     ]
    }
   ],
   "source": [
    "import warnings\n",
    "warnings.filterwarnings('ignore')\n",
    "from getiing_news import __info_getnews__\n",
    "from getiing_news import CENT_news_extract, Yahoo_finacial_news_extract, Nytimes_news_extract, marketwatch_news_extract\n",
    "import pandas as pd"
   ]
  },
  {
   "cell_type": "code",
   "execution_count": 2,
   "metadata": {},
   "outputs": [],
   "source": [
    "#__info_getnews__(number=4)"
   ]
  },
  {
   "cell_type": "markdown",
   "metadata": {},
   "source": [
    "<font size='12' color='red'>Tesla"
   ]
  },
  {
   "cell_type": "markdown",
   "metadata": {},
   "source": [
    "## Yahoo"
   ]
  },
  {
   "cell_type": "code",
   "execution_count": 2,
   "metadata": {},
   "outputs": [],
   "source": [
    "#!touch data/Tesla_Yahoo_finacial_new.csv"
   ]
  },
  {
   "cell_type": "code",
   "execution_count": 2,
   "metadata": {},
   "outputs": [
    {
     "name": "stdout",
     "output_type": "stream",
     "text": [
      "[3/3][number of news that are saved]*** Done! ***\n"
     ]
    },
    {
     "data": {
      "text/html": [
       "<div>\n",
       "<style scoped>\n",
       "    .dataframe tbody tr th:only-of-type {\n",
       "        vertical-align: middle;\n",
       "    }\n",
       "\n",
       "    .dataframe tbody tr th {\n",
       "        vertical-align: top;\n",
       "    }\n",
       "\n",
       "    .dataframe thead th {\n",
       "        text-align: right;\n",
       "    }\n",
       "</style>\n",
       "<table border=\"1\" class=\"dataframe\">\n",
       "  <thead>\n",
       "    <tr style=\"text-align: right;\">\n",
       "      <th></th>\n",
       "      <th>date</th>\n",
       "      <th>main_text</th>\n",
       "      <th>titles</th>\n",
       "      <th>url_titles</th>\n",
       "    </tr>\n",
       "  </thead>\n",
       "  <tbody>\n",
       "    <tr>\n",
       "      <th>0</th>\n",
       "      <td>February 28, 2019</td>\n",
       "      <td></td>\n",
       "      <td>Tesla cuts Model 3 price, plans to close most ...</td>\n",
       "      <td>/m/e61a0147-4e8e-3440-afb7-0823e7d2aafd/tesla-...</td>\n",
       "    </tr>\n",
       "    <tr>\n",
       "      <th>1</th>\n",
       "      <td>March 1, 2019</td>\n",
       "      <td></td>\n",
       "      <td>Tesla delivers big price cuts to Model S and M...</td>\n",
       "      <td>/m/6fca7d77-e2aa-3ca3-a01b-c906b64c0e35/tesla-...</td>\n",
       "    </tr>\n",
       "    <tr>\n",
       "      <th>2</th>\n",
       "      <td>March 1, 2019</td>\n",
       "      <td>A drastic move Thursday by automotive and ener...</td>\n",
       "      <td>Tesla to close 'many' stores, shift to online-...</td>\n",
       "      <td>/video/tesla-close-many-stores-shift-080438452...</td>\n",
       "    </tr>\n",
       "  </tbody>\n",
       "</table>\n",
       "</div>"
      ],
      "text/plain": [
       "                date                                          main_text  \\\n",
       "0  February 28, 2019                                                      \n",
       "1      March 1, 2019                                                      \n",
       "2      March 1, 2019  A drastic move Thursday by automotive and ener...   \n",
       "\n",
       "                                              titles  \\\n",
       "0  Tesla cuts Model 3 price, plans to close most ...   \n",
       "1  Tesla delivers big price cuts to Model S and M...   \n",
       "2  Tesla to close 'many' stores, shift to online-...   \n",
       "\n",
       "                                          url_titles  \n",
       "0  /m/e61a0147-4e8e-3440-afb7-0823e7d2aafd/tesla-...  \n",
       "1  /m/6fca7d77-e2aa-3ca3-a01b-c906b64c0e35/tesla-...  \n",
       "2  /video/tesla-close-many-stores-shift-080438452...  "
      ]
     },
     "execution_count": 2,
     "metadata": {},
     "output_type": "execute_result"
    }
   ],
   "source": [
    "words= ['tesla']\n",
    "Yahoo = Yahoo_finacial_news_extract(words=words)\n",
    "Yahoo.Yahoo_finacial_search_topic()\n",
    "Yahoo.Yahoo_finacial_search_subscript()\n",
    "df = Yahoo.Yahoo_save_file(savename='Collected/Collected_News/Tesla/Tesla_Yahoo_finacial_new.csv')\n",
    "df.head()"
   ]
  },
  {
   "cell_type": "markdown",
   "metadata": {},
   "source": [
    "## CNET"
   ]
  },
  {
   "cell_type": "code",
   "execution_count": 2,
   "metadata": {},
   "outputs": [
    {
     "name": "stdout",
     "output_type": "stream",
     "text": [
      "[3/3][number of news that are saved]*** Done! ***\n"
     ]
    },
    {
     "data": {
      "text/html": [
       "<div>\n",
       "<style scoped>\n",
       "    .dataframe tbody tr th:only-of-type {\n",
       "        vertical-align: middle;\n",
       "    }\n",
       "\n",
       "    .dataframe tbody tr th {\n",
       "        vertical-align: top;\n",
       "    }\n",
       "\n",
       "    .dataframe thead th {\n",
       "        text-align: right;\n",
       "    }\n",
       "</style>\n",
       "<table border=\"1\" class=\"dataframe\">\n",
       "  <thead>\n",
       "    <tr style=\"text-align: right;\">\n",
       "      <th></th>\n",
       "      <th>date</th>\n",
       "      <th>main_text</th>\n",
       "      <th>titles</th>\n",
       "      <th>url_titles</th>\n",
       "    </tr>\n",
       "  </thead>\n",
       "  <tbody>\n",
       "    <tr>\n",
       "      <th>0</th>\n",
       "      <td>February 28, 2019</td>\n",
       "      <td>Love cars? Climb in the driver's seat for the ...</td>\n",
       "      <td>The $35,000 Tesla Model 3 is finally available...</td>\n",
       "      <td>https://www.cnet.com/roadshow/news/tesla-model...</td>\n",
       "    </tr>\n",
       "    <tr>\n",
       "      <th>1</th>\n",
       "      <td>February 28, 2019</td>\n",
       "      <td>Love cars? Climb in the driver's seat for the ...</td>\n",
       "      <td>Tesla to close retail stores, only sell cars o...</td>\n",
       "      <td>https://www.cnet.com/roadshow/news/tesla-close...</td>\n",
       "    </tr>\n",
       "    <tr>\n",
       "      <th>2</th>\n",
       "      <td>February 28, 2019</td>\n",
       "      <td>Love cars? Climb in the driver's seat for the ...</td>\n",
       "      <td>Tesla is shutting down the bulk of its retail ...</td>\n",
       "      <td>https://www.cnet.com/roadshow/news/tesla-close...</td>\n",
       "    </tr>\n",
       "  </tbody>\n",
       "</table>\n",
       "</div>"
      ],
      "text/plain": [
       "                date                                          main_text  \\\n",
       "0  February 28, 2019  Love cars? Climb in the driver's seat for the ...   \n",
       "1  February 28, 2019  Love cars? Climb in the driver's seat for the ...   \n",
       "2  February 28, 2019  Love cars? Climb in the driver's seat for the ...   \n",
       "\n",
       "                                              titles  \\\n",
       "0  The $35,000 Tesla Model 3 is finally available...   \n",
       "1  Tesla to close retail stores, only sell cars o...   \n",
       "2  Tesla is shutting down the bulk of its retail ...   \n",
       "\n",
       "                                          url_titles  \n",
       "0  https://www.cnet.com/roadshow/news/tesla-model...  \n",
       "1  https://www.cnet.com/roadshow/news/tesla-close...  \n",
       "2  https://www.cnet.com/roadshow/news/tesla-close...  "
      ]
     },
     "execution_count": 2,
     "metadata": {},
     "output_type": "execute_result"
    }
   ],
   "source": [
    "words= [\"tesla\"]\n",
    "CNET = CENT_news_extract(words)\n",
    "CNET.CENT_news_topics()\n",
    "CNET.CENT_news_search_subscript()\n",
    "df = CNET.CENT_save('Collected/Collected_News/Tesla/Tesla_CENT_new.csv')\n",
    "df.head()"
   ]
  },
  {
   "cell_type": "markdown",
   "metadata": {},
   "source": [
    "#  New_York_Times"
   ]
  },
  {
   "cell_type": "code",
   "execution_count": 7,
   "metadata": {},
   "outputs": [],
   "source": [
    "#!touch data/Tesla_Nytimes_new.csv"
   ]
  },
  {
   "cell_type": "code",
   "execution_count": 6,
   "metadata": {},
   "outputs": [
    {
     "name": "stdout",
     "output_type": "stream",
     "text": [
      "*** Done! ***\n"
     ]
    },
    {
     "data": {
      "text/html": [
       "<div>\n",
       "<style scoped>\n",
       "    .dataframe tbody tr th:only-of-type {\n",
       "        vertical-align: middle;\n",
       "    }\n",
       "\n",
       "    .dataframe tbody tr th {\n",
       "        vertical-align: top;\n",
       "    }\n",
       "\n",
       "    .dataframe thead th {\n",
       "        text-align: right;\n",
       "    }\n",
       "</style>\n",
       "<table border=\"1\" class=\"dataframe\">\n",
       "  <thead>\n",
       "    <tr style=\"text-align: right;\">\n",
       "      <th></th>\n",
       "      <th>date</th>\n",
       "      <th>main_text</th>\n",
       "      <th>titles</th>\n",
       "      <th>url_titles</th>\n",
       "    </tr>\n",
       "  </thead>\n",
       "  <tbody>\n",
       "  </tbody>\n",
       "</table>\n",
       "</div>"
      ],
      "text/plain": [
       "Empty DataFrame\n",
       "Columns: [date, main_text, titles, url_titles]\n",
       "Index: []"
      ]
     },
     "execution_count": 6,
     "metadata": {},
     "output_type": "execute_result"
    }
   ],
   "source": [
    "words= [\"tesla\"]\n",
    "Nytimes = Nytimes_news_extract(words)\n",
    "Nytimes.Nytimes_news_topics()\n",
    "Nytimes.Nytimes_news_search_subscript()\n",
    "df_Nytimes = Nytimes.Nytimes_save('Collected/Collected_News/Tesla/Tesla_Nytimes_new.csv')\n",
    "df_Nytimes.head()"
   ]
  },
  {
   "cell_type": "markdown",
   "metadata": {},
   "source": [
    "# marketwatch"
   ]
  },
  {
   "cell_type": "code",
   "execution_count": 16,
   "metadata": {},
   "outputs": [],
   "source": [
    "#!touch data/Tesla_marketwatch_new.csv"
   ]
  },
  {
   "cell_type": "code",
   "execution_count": 7,
   "metadata": {},
   "outputs": [
    {
     "name": "stdout",
     "output_type": "stream",
     "text": [
      "[9/9][number of news that are saved from marketwatch]*** Done! ***\n"
     ]
    },
    {
     "data": {
      "text/html": [
       "<div>\n",
       "<style scoped>\n",
       "    .dataframe tbody tr th:only-of-type {\n",
       "        vertical-align: middle;\n",
       "    }\n",
       "\n",
       "    .dataframe tbody tr th {\n",
       "        vertical-align: top;\n",
       "    }\n",
       "\n",
       "    .dataframe thead th {\n",
       "        text-align: right;\n",
       "    }\n",
       "</style>\n",
       "<table border=\"1\" class=\"dataframe\">\n",
       "  <thead>\n",
       "    <tr style=\"text-align: right;\">\n",
       "      <th></th>\n",
       "      <th>date</th>\n",
       "      <th>main_text</th>\n",
       "      <th>titles</th>\n",
       "      <th>url_titles</th>\n",
       "    </tr>\n",
       "  </thead>\n",
       "  <tbody>\n",
       "    <tr>\n",
       "      <th>0</th>\n",
       "      <td>Published: Feb 28, 2019 8:25 p.m. ET</td>\n",
       "      <td>Tesla CEO says cutting retail staff will make ...</td>\n",
       "      <td>Elon Musk thinks retail layoffs will keep Tesl...</td>\n",
       "      <td>https://www.marketwatch.com/story/elon-musk-th...</td>\n",
       "    </tr>\n",
       "    <tr>\n",
       "      <th>1</th>\n",
       "      <td>Published: Feb 28, 2019 8:25 p.m. ET</td>\n",
       "      <td>Tesla CEO says cutting retail staff will make ...</td>\n",
       "      <td>Elon Musk thinks retail layoffs will keep Tesl...</td>\n",
       "      <td>https://www.marketwatch.com/story/elon-musk-th...</td>\n",
       "    </tr>\n",
       "    <tr>\n",
       "      <th>2</th>\n",
       "      <td>Published: Feb 28, 2019 8:26 p.m. ET</td>\n",
       "      <td>Tesla stock falls after Musk says company like...</td>\n",
       "      <td>Tesla finally launches $35,000 Model 3, and mo...</td>\n",
       "      <td>https://www.marketwatch.com/story/tesla-launch...</td>\n",
       "    </tr>\n",
       "    <tr>\n",
       "      <th>3</th>\n",
       "      <td>Published: Feb 28, 2019 8:25 p.m. ET</td>\n",
       "      <td>Tesla CEO says cutting retail staff will make ...</td>\n",
       "      <td>Elon Musk thinks retail layoffs will keep Tesl...</td>\n",
       "      <td>https://www.marketwatch.com/story/elon-musk-th...</td>\n",
       "    </tr>\n",
       "    <tr>\n",
       "      <th>4</th>\n",
       "      <td>Updated Feb. 28, 2019 at 6:54 p.m. ET</td>\n",
       "      <td>Tesla (TSLA) will begin selling a Model 3 seda...</td>\n",
       "      <td>Tesla’s Big Reveal: The $35,000 Model 3 Sedan</td>\n",
       "      <td>https://www.marketwatch.com/articles/tesla-che...</td>\n",
       "    </tr>\n",
       "  </tbody>\n",
       "</table>\n",
       "</div>"
      ],
      "text/plain": [
       "                                      date  \\\n",
       "0     Published: Feb 28, 2019 8:25 p.m. ET   \n",
       "1     Published: Feb 28, 2019 8:25 p.m. ET   \n",
       "2     Published: Feb 28, 2019 8:26 p.m. ET   \n",
       "3     Published: Feb 28, 2019 8:25 p.m. ET   \n",
       "4    Updated Feb. 28, 2019 at 6:54 p.m. ET   \n",
       "\n",
       "                                           main_text  \\\n",
       "0  Tesla CEO says cutting retail staff will make ...   \n",
       "1  Tesla CEO says cutting retail staff will make ...   \n",
       "2  Tesla stock falls after Musk says company like...   \n",
       "3  Tesla CEO says cutting retail staff will make ...   \n",
       "4  Tesla (TSLA) will begin selling a Model 3 seda...   \n",
       "\n",
       "                                              titles  \\\n",
       "0  Elon Musk thinks retail layoffs will keep Tesl...   \n",
       "1  Elon Musk thinks retail layoffs will keep Tesl...   \n",
       "2  Tesla finally launches $35,000 Model 3, and mo...   \n",
       "3  Elon Musk thinks retail layoffs will keep Tesl...   \n",
       "4      Tesla’s Big Reveal: The $35,000 Model 3 Sedan   \n",
       "\n",
       "                                          url_titles  \n",
       "0  https://www.marketwatch.com/story/elon-musk-th...  \n",
       "1  https://www.marketwatch.com/story/elon-musk-th...  \n",
       "2  https://www.marketwatch.com/story/tesla-launch...  \n",
       "3  https://www.marketwatch.com/story/elon-musk-th...  \n",
       "4  https://www.marketwatch.com/articles/tesla-che...  "
      ]
     },
     "execution_count": 7,
     "metadata": {},
     "output_type": "execute_result"
    }
   ],
   "source": [
    "words= [\"Tesla\"]\n",
    "marketwatchT = marketwatch_news_extract(words)\n",
    "marketwatchT.marketwatch_news_topics()\n",
    "marketwatchT.marketwatch_news_search_subscript()\n",
    "df_marketwatchT = marketwatchT.marketwatch_save(nameSave=\"Collected/Collected_News/Tesla/Tesla_marketwatch_new.csv\")\n",
    "df_marketwatchT.head()"
   ]
  },
  {
   "cell_type": "markdown",
   "metadata": {},
   "source": [
    "<font size='12' color='red'>S$P500"
   ]
  },
  {
   "cell_type": "code",
   "execution_count": 7,
   "metadata": {},
   "outputs": [],
   "source": [
    "!touch data/SP500_Yahoo_finacial_new.csv"
   ]
  },
  {
   "cell_type": "code",
   "execution_count": null,
   "metadata": {},
   "outputs": [],
   "source": [
    "df = pd.DataFrame()\n",
    "words= ['S&P 500']\n",
    "df = Yahoo_finacial_search(words=words,savefile='SP500_Yahoo_finacial_new.csv')\n",
    "df = pd.DataFrame(df)\n",
    "df.head()"
   ]
  },
  {
   "cell_type": "code",
   "execution_count": null,
   "metadata": {},
   "outputs": [],
   "source": []
  },
  {
   "cell_type": "markdown",
   "metadata": {},
   "source": [
    "<font size='12' color='red'>Nasdaq"
   ]
  },
  {
   "cell_type": "code",
   "execution_count": 9,
   "metadata": {},
   "outputs": [],
   "source": [
    "!touch data/Nasdaq_Yahoo_finacial_new.csv"
   ]
  },
  {
   "cell_type": "code",
   "execution_count": null,
   "metadata": {},
   "outputs": [],
   "source": [
    "df = pd.DataFrame()\n",
    "words= ['Nasdaq']\n",
    "df = Yahoo_finacial_search(words=words,savefile='Nasdaq_Yahoo_finacial_new.csv')\n",
    "df = pd.DataFrame(df)\n",
    "df.head()"
   ]
  },
  {
   "cell_type": "code",
   "execution_count": null,
   "metadata": {},
   "outputs": [],
   "source": []
  },
  {
   "cell_type": "markdown",
   "metadata": {},
   "source": [
    "<font size='12' color='red'>Apple"
   ]
  },
  {
   "cell_type": "markdown",
   "metadata": {},
   "source": [
    "## Yahoo"
   ]
  },
  {
   "cell_type": "code",
   "execution_count": 3,
   "metadata": {},
   "outputs": [],
   "source": [
    "#!touch data/Apple_Yahoo_finacial_new.csv"
   ]
  },
  {
   "cell_type": "code",
   "execution_count": 8,
   "metadata": {},
   "outputs": [
    {
     "name": "stdout",
     "output_type": "stream",
     "text": [
      "*** Done! ***\n"
     ]
    },
    {
     "data": {
      "text/html": [
       "<div>\n",
       "<style scoped>\n",
       "    .dataframe tbody tr th:only-of-type {\n",
       "        vertical-align: middle;\n",
       "    }\n",
       "\n",
       "    .dataframe tbody tr th {\n",
       "        vertical-align: top;\n",
       "    }\n",
       "\n",
       "    .dataframe thead th {\n",
       "        text-align: right;\n",
       "    }\n",
       "</style>\n",
       "<table border=\"1\" class=\"dataframe\">\n",
       "  <thead>\n",
       "    <tr style=\"text-align: right;\">\n",
       "      <th></th>\n",
       "      <th>date</th>\n",
       "      <th>main_text</th>\n",
       "      <th>titles</th>\n",
       "      <th>url_titles</th>\n",
       "    </tr>\n",
       "  </thead>\n",
       "  <tbody>\n",
       "  </tbody>\n",
       "</table>\n",
       "</div>"
      ],
      "text/plain": [
       "Empty DataFrame\n",
       "Columns: [date, main_text, titles, url_titles]\n",
       "Index: []"
      ]
     },
     "execution_count": 8,
     "metadata": {},
     "output_type": "execute_result"
    }
   ],
   "source": [
    "words= ['Apple']\n",
    "Yahoo = Yahoo_finacial_news_extract(words=words)\n",
    "Yahoo.Yahoo_finacial_search_topic()\n",
    "Yahoo.Yahoo_finacial_search_subscript()\n",
    "df = Yahoo.Yahoo_save_file('Collected/Collected_News/Apple/Apple_Yahoo_finacial_new.csv')\n",
    "df.head()"
   ]
  },
  {
   "cell_type": "markdown",
   "metadata": {},
   "source": [
    "### CNET"
   ]
  },
  {
   "cell_type": "code",
   "execution_count": null,
   "metadata": {},
   "outputs": [],
   "source": [
    "# !touch data/CENT_new.csv"
   ]
  },
  {
   "cell_type": "code",
   "execution_count": 9,
   "metadata": {},
   "outputs": [
    {
     "name": "stdout",
     "output_type": "stream",
     "text": [
      "[1/1][number of news that are saved]*** Done! ***\n"
     ]
    },
    {
     "data": {
      "text/html": [
       "<div>\n",
       "<style scoped>\n",
       "    .dataframe tbody tr th:only-of-type {\n",
       "        vertical-align: middle;\n",
       "    }\n",
       "\n",
       "    .dataframe tbody tr th {\n",
       "        vertical-align: top;\n",
       "    }\n",
       "\n",
       "    .dataframe thead th {\n",
       "        text-align: right;\n",
       "    }\n",
       "</style>\n",
       "<table border=\"1\" class=\"dataframe\">\n",
       "  <thead>\n",
       "    <tr style=\"text-align: right;\">\n",
       "      <th></th>\n",
       "      <th>date</th>\n",
       "      <th>main_text</th>\n",
       "      <th>titles</th>\n",
       "      <th>url_titles</th>\n",
       "    </tr>\n",
       "  </thead>\n",
       "  <tbody>\n",
       "    <tr>\n",
       "      <th>0</th>\n",
       "      <td>February 28, 2019</td>\n",
       "      <td>Don't show this again A lot happened at Mobile...</td>\n",
       "      <td>Apple patents hint at AR headset that'll work ...</td>\n",
       "      <td>https://www.cnet.com/news/apple-patent-hints-a...</td>\n",
       "    </tr>\n",
       "  </tbody>\n",
       "</table>\n",
       "</div>"
      ],
      "text/plain": [
       "                date                                          main_text  \\\n",
       "0  February 28, 2019  Don't show this again A lot happened at Mobile...   \n",
       "\n",
       "                                              titles  \\\n",
       "0  Apple patents hint at AR headset that'll work ...   \n",
       "\n",
       "                                          url_titles  \n",
       "0  https://www.cnet.com/news/apple-patent-hints-a...  "
      ]
     },
     "execution_count": 9,
     "metadata": {},
     "output_type": "execute_result"
    }
   ],
   "source": [
    "words= [\"Apple\"]\n",
    "CNET = CENT_news_extract(words)\n",
    "CNET.CENT_news_topics()\n",
    "CNET.CENT_news_search_subscript()\n",
    "df = CNET.CENT_save('Collected/Collected_News/Apple/Apple_CENT_new.csv')\n",
    "df.head()"
   ]
  },
  {
   "cell_type": "markdown",
   "metadata": {},
   "source": [
    "#  New_York_Times"
   ]
  },
  {
   "cell_type": "code",
   "execution_count": 4,
   "metadata": {},
   "outputs": [],
   "source": [
    "#!touch data/Apple_Nytimes_new.csv"
   ]
  },
  {
   "cell_type": "code",
   "execution_count": 10,
   "metadata": {},
   "outputs": [
    {
     "name": "stdout",
     "output_type": "stream",
     "text": [
      "*** Done! ***\n"
     ]
    },
    {
     "data": {
      "text/html": [
       "<div>\n",
       "<style scoped>\n",
       "    .dataframe tbody tr th:only-of-type {\n",
       "        vertical-align: middle;\n",
       "    }\n",
       "\n",
       "    .dataframe tbody tr th {\n",
       "        vertical-align: top;\n",
       "    }\n",
       "\n",
       "    .dataframe thead th {\n",
       "        text-align: right;\n",
       "    }\n",
       "</style>\n",
       "<table border=\"1\" class=\"dataframe\">\n",
       "  <thead>\n",
       "    <tr style=\"text-align: right;\">\n",
       "      <th></th>\n",
       "      <th>date</th>\n",
       "      <th>main_text</th>\n",
       "      <th>titles</th>\n",
       "      <th>url_titles</th>\n",
       "    </tr>\n",
       "  </thead>\n",
       "  <tbody>\n",
       "  </tbody>\n",
       "</table>\n",
       "</div>"
      ],
      "text/plain": [
       "Empty DataFrame\n",
       "Columns: [date, main_text, titles, url_titles]\n",
       "Index: []"
      ]
     },
     "execution_count": 10,
     "metadata": {},
     "output_type": "execute_result"
    }
   ],
   "source": [
    "words= [\"Apple\"]\n",
    "Nytimes = Nytimes_news_extract(words)\n",
    "Nytimes.Nytimes_news_topics()\n",
    "Nytimes.Nytimes_news_search_subscript()\n",
    "df_Nytimes = Nytimes.Nytimes_save('Collected/Collected_News/Apple/Apple_Nytimes_new.csv')\n",
    "df_Nytimes.head()"
   ]
  },
  {
   "cell_type": "markdown",
   "metadata": {},
   "source": [
    "# marketwatch"
   ]
  },
  {
   "cell_type": "code",
   "execution_count": 18,
   "metadata": {},
   "outputs": [],
   "source": [
    "#__info_getnews__(number=4)"
   ]
  },
  {
   "cell_type": "code",
   "execution_count": 12,
   "metadata": {},
   "outputs": [],
   "source": [
    "#!touch data/Apple_marketwatch_new.csv"
   ]
  },
  {
   "cell_type": "code",
   "execution_count": 11,
   "metadata": {},
   "outputs": [
    {
     "name": "stdout",
     "output_type": "stream",
     "text": [
      "*** Done! ***\n"
     ]
    },
    {
     "data": {
      "text/html": [
       "<div>\n",
       "<style scoped>\n",
       "    .dataframe tbody tr th:only-of-type {\n",
       "        vertical-align: middle;\n",
       "    }\n",
       "\n",
       "    .dataframe tbody tr th {\n",
       "        vertical-align: top;\n",
       "    }\n",
       "\n",
       "    .dataframe thead th {\n",
       "        text-align: right;\n",
       "    }\n",
       "</style>\n",
       "<table border=\"1\" class=\"dataframe\">\n",
       "  <thead>\n",
       "    <tr style=\"text-align: right;\">\n",
       "      <th></th>\n",
       "      <th>date</th>\n",
       "      <th>main_text</th>\n",
       "      <th>titles</th>\n",
       "      <th>url_titles</th>\n",
       "    </tr>\n",
       "  </thead>\n",
       "  <tbody>\n",
       "  </tbody>\n",
       "</table>\n",
       "</div>"
      ],
      "text/plain": [
       "Empty DataFrame\n",
       "Columns: [date, main_text, titles, url_titles]\n",
       "Index: []"
      ]
     },
     "execution_count": 11,
     "metadata": {},
     "output_type": "execute_result"
    }
   ],
   "source": [
    "words= [\"Apple\"]\n",
    "marketwatch = marketwatch_news_extract(words)\n",
    "marketwatch.marketwatch_news_topics()\n",
    "marketwatch.marketwatch_news_search_subscript()\n",
    "df_marketwatch = marketwatch.marketwatch_save(nameSave=\"Collected/Collected_News/Apple/Apple_marketwatch_new.csv\")\n",
    "df_marketwatch.head()"
   ]
  },
  {
   "cell_type": "code",
   "execution_count": 14,
   "metadata": {},
   "outputs": [],
   "source": [
    "df = pd.read_csv('data/Apple_marketwatch_new.csv')"
   ]
  },
  {
   "cell_type": "code",
   "execution_count": 15,
   "metadata": {},
   "outputs": [
    {
     "data": {
      "text/plain": [
       "5"
      ]
     },
     "execution_count": 15,
     "metadata": {},
     "output_type": "execute_result"
    }
   ],
   "source": [
    "len(df)"
   ]
  },
  {
   "cell_type": "code",
   "execution_count": null,
   "metadata": {},
   "outputs": [],
   "source": []
  }
 ],
 "metadata": {
  "kernelspec": {
   "display_name": "Python 3",
   "language": "python",
   "name": "python3"
  },
  "language_info": {
   "codemirror_mode": {
    "name": "ipython",
    "version": 3
   },
   "file_extension": ".py",
   "mimetype": "text/x-python",
   "name": "python",
   "nbconvert_exporter": "python",
   "pygments_lexer": "ipython3",
   "version": "3.6.8"
  }
 },
 "nbformat": 4,
 "nbformat_minor": 2
}
