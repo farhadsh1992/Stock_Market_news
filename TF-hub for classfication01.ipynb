{
 "cells": [
  {
   "cell_type": "code",
   "execution_count": null,
   "metadata": {},
   "outputs": [],
   "source": []
  },
  {
   "cell_type": "code",
   "execution_count": null,
   "metadata": {},
   "outputs": [],
   "source": []
  },
  {
   "cell_type": "markdown",
   "metadata": {},
   "source": [
    "<font size='10'>Universal Sentence Encoder embadding "
   ]
  },
  {
   "cell_type": "markdown",
   "metadata": {},
   "source": [
    "## Refrance:\n",
    "\n",
    "https://towardsdatascience.com/use-cases-of-googles-universal-sentence-encoder-in-production-dd5aaab4fc15\n",
    "\n",
    "https://tfhub.dev/s?module-type=text-embedding"
   ]
  },
  {
   "cell_type": "code",
   "execution_count": null,
   "metadata": {},
   "outputs": [],
   "source": []
  },
  {
   "cell_type": "markdown",
   "metadata": {},
   "source": [
    "<font size='8' color='red'> +PLus Theory"
   ]
  },
  {
   "cell_type": "markdown",
   "metadata": {},
   "source": [
    "<b>The encoder takes as input a lowercased PTB tokenized string (input English strings) and outputs a 512 dimensional vector as the sentence embedding. </b>\n",
    "\n",
    "<p>\n",
    "present models for encoding sentences into embedding vectors that specifically target transfer learning to other NLP tasks. The models are efficient and result in accurate performance on diverse transfer tasks. <br>\n",
    "With transfer learn- ing via sentence embeddings, we observe surprisingly good performance with min- imal amounts of supervised training data for a transfer task .<br>\n",
    "We obtain encouraging results on Word Embedding Associ-ation Tests (WEAT) targeted at detecting model bias. <br>\n",
    "Given the high cost of annotating supervised training data, very large training sets are usually not available for most research or industry NLP tasks. Many models address the problem by implicitly per- forming limited transfer learning through the use of pre-trained word embeddings such as those produced by word2vec (Mikolov et al., 2013) or GloVe (Pennington et al., 2014). However, recent work has demonstrated strong transfer task per- formance using pre-trained sentence level embed- dings (Conneau et al., 2017). \n",
    "</p>\n",
    "<p>\n",
    "They used two new models for encoding sentences into embedding vectors :<br>\n",
    "1. used transformer architecture ,(Vaswani et al., 2017)<br>\n",
    "2. other is formulated as a deep averaging network (DAN).(Iyyer et al., 2015)  <br>\n",
    "</p>"
   ]
  },
  {
   "cell_type": "markdown",
   "metadata": {},
   "source": [
    "## Transformer architecture:\n",
    "Transfer Learning differs from traditional Machine Learning in that it is the use of pre-trained models that have been used for another task to jump start the development process on a new task or problem.\n",
    "<p>This sub-graph uses at- tention to compute context aware representations of words in a sentence that take into account both the ordering and identity of all the other words.<br>\n",
    "The encoder takes as input a lowercased PTB tokenized string and outputs a 512 dimensional vector as the sentence embedding.\n",
    "</p>\n",
    "\n",
    "\n",
    "\n",
    "\n",
    "\n",
    "\n",
    "<b>Refrence:</b>\n",
    "1. (Vaswani et al., 2017)\n",
    "2. (Henderson et al., 2017)\n",
    "3. (Hochreiter and Schmidhu- ber, 1997) \n",
    "\n"
   ]
  },
  {
   "cell_type": "markdown",
   "metadata": {},
   "source": [
    "## Deep Averaging Network (DAN):\n",
    "<p> input embeddings for words and bi-grams are first averaged together and then passed through a feedforward deep neural network (DNN) to produce sentence embeddings.</p>\n",
    "<p>the DAN encoder takes as input a lowercased PTB tokenized string and outputs a 512 dimensional sentence embed- ding.</p>\n",
    "<p>The primary advantage of the DAN encoder is that compute time is linear in the length of the input sequence. DANs achieve strong base- line performance on text classification tasks.</p>"
   ]
  },
  {
   "cell_type": "markdown",
   "metadata": {},
   "source": [
    "##  the data used for the transfer learning experiments and the Word Embedding Association Test \n",
    "\n",
    "- MR : Movie review snippet sentiment on a five star scale (Pang and Lee, 2005). \n",
    "- CR : Sentiment of sentences mined from customer reviews (Hu and Liu, 2004). \n",
    "- SUBJ : Subjectivity of sentences from movie reviews and plot summaries (Pang and Lee, 2004). \n",
    "- MPQA : Phrase level opinion polarity from news data (Wiebe et al., 2005). \n",
    "- TREC : Fine grained question classification sourced from TREC (Li and Roth, 2002). \n",
    "- SST : Binary phrase level sentiment classification (Socher et al., 2013). \n",
    "- STS Benchmark : Semantic textual similarity (STS) between sentence pairs scored by Pear- son correlation with human judgments (Cer et al., 2017). \n",
    "- WEAT : Word pairs from the psychology literature on implicit association tests (IAT) that are used to characterize model bias (Caliskan et al., 2017). \n"
   ]
  },
  {
   "cell_type": "code",
   "execution_count": null,
   "metadata": {},
   "outputs": [],
   "source": []
  },
  {
   "cell_type": "code",
   "execution_count": null,
   "metadata": {},
   "outputs": [],
   "source": []
  },
  {
   "cell_type": "markdown",
   "metadata": {},
   "source": [
    "# Coding "
   ]
  },
  {
   "cell_type": "markdown",
   "metadata": {},
   "source": [
    "## Summary"
   ]
  },
  {
   "cell_type": "code",
   "execution_count": null,
   "metadata": {},
   "outputs": [],
   "source": [
    "import tensorflow as tf\n",
    "import tensorflow_hub as hub\n",
    "import matplotlib.pyplot as plt\n",
    "import seaborn as sns\n",
    "\n",
    "def First_Universal_Sentence_Encoder_embading(df):\n",
    "    \"\"\"\n",
    "    it is fist function that I write for this, secound editition is faster\n",
    "    The models take as input English strings and produce as output a fixed 512 dimensional embedding representation of the string. \n",
    "    -------------------------------------------------\n",
    "    input: \n",
    "         dataframe of text\n",
    "    -------------------------------------------------\n",
    "    output: \n",
    "        embadding lsit of string in 512 dimensional\n",
    "    -------------------------------------------------\n",
    "    https://tfhub.dev/google/universal-sentence-encoder-large/3?tf-hub-format=compressed\n",
    "    !curl -L \"https://tfhub.dev/google/universal-sentence-encoder-large/3?tf-hub-format=compressed\" | tar -zxvC sentence_wise_email/module/module_useT\n",
    "    \"\"\"\n",
    "    \n",
    "    embed = hub.Module(\"/Users/apple/Documents/Programming/python/Project/sentence_wise_email/module/module_useT\")\n",
    "    embeddings = embed(df)\n",
    "    with tf.Session() as session:\n",
    "        session.run([tf.global_variables_initializer(), tf.tables_initializer()])\n",
    "        new_data = session.run(embeddings)\n",
    "    return new_data\n",
    "\n",
    "def embed_useT(module):\n",
    "    with tf.Graph().as_default():\n",
    "        sentences = tf.placeholder(tf.string)\n",
    "        embed = hub.Module(module)\n",
    "        embeddings = embed(sentences)\n",
    "        session = tf.train.MonitoredSession()\n",
    "    return lambda x: session.run(embeddings, {sentences: x})\n",
    "def Universal_Sentence_Encoder_embadding(df):\n",
    "    \"\"\"\n",
    "    The encoder takes as input a lowercased PTB tokenized string and outputs a 512 dimensional vector as the sentence embedding. \n",
    "    -------------------------------------------------\n",
    "    input: \n",
    "        dataframe of text\n",
    "    -------------------------------------------------\n",
    "    output: \n",
    "        embadding lsit of string in 512 dimensional\n",
    "    -------------------------------------------------\n",
    "    https://tfhub.dev/google/universal-sentence-encoder-large/3?tf-hub-format=compressed\n",
    "    !curl -L \"https://tfhub.dev/google/universal-sentence-encoder-large/3?tf-hub-format=compressed\" | tar -zxvC sentence_wise_email/module/module_useT\n",
    "    \"\"\"\n",
    "    \n",
    "    embed_fn = embed_useT('sentence_wise_email/module/module_useT')\n",
    "    data = embed_fn(df)\n",
    "    return data\n",
    "def nnlm_en_dim128_with_normalization(df):\n",
    "    \n",
    "    \"\"\"\n",
    "    The encoder takes as input a lowercased PTB tokenized string and outputs a 128 dimensional vector as the sentence embedding. \n",
    "    -------------------------------------------------\n",
    "    input: \n",
    "        dataframe of text\n",
    "    -------------------------------------------------\n",
    "    output: \n",
    "        embadding lsit of string in 128 dimensional\n",
    "    -------------------------------------------------\n",
    "    https://tfhub.dev/google/nnlm-id-dim128-with-normalization/1?tf-hub-format=compressed\n",
    "    !curl -L \"https://tfhub.dev/google/nnlm-id-dim128-with-normalization/1?tf-hub-format=compressed\" | tar -zxvC sentence_wise_email/module/module_useT2\n",
    "    \"\"\"\n",
    "    \n",
    "    \n",
    "    embed_fn = embed_useT('sentence_wise_email/module/module_useT2')\n",
    "    data = embed_fn(df)\n",
    "    return data\n",
    "def nnlm_en_dim50_with_normalization(df):\n",
    "    \"\"\"\n",
    "    The encoder takes as input a lowercased PTB tokenized string and outputs a 50 dimensional vector as the sentence embedding. \n",
    "    -------------------------------------------------\n",
    "    input: \n",
    "         dataframe of text\n",
    "    -------------------------------------------------\n",
    "    output: \n",
    "        embadding lsit of string in 50 dimensional\n",
    "    -------------------------------------------------\n",
    "    https://tfhub.dev/google/nnlm-en-dim50-with-normalization/1\n",
    "    \"\"\"\n",
    "    \n",
    "    embed_fn = embed_useT('')\n",
    "    data = embed_fn(df)\n",
    "    return data"
   ]
  },
  {
   "cell_type": "code",
   "execution_count": null,
   "metadata": {},
   "outputs": [],
   "source": [
    "def redundant_sent_idx(sim_matrix):\n",
    "    \"\"\"\n",
    "    It takes similarity matrix (generated from sentence encoder) as input and gives index of redundant statements\n",
    "    \n",
    "    \"\"\"\n",
    "    dup_idx = [] \n",
    "    for i in range(sim_matrix.shape[0]):\n",
    "        if i not in dup_idx:\n",
    "            tmp = [t+i+1 for t in list(np.where( sim_matrix[i][i+1:] > 0.8 )[0])]\n",
    "            dup_idx.extend(tmp)\n",
    "    return dup_idx\n",
    "#indexes of duplicate statements.\n",
    "\n",
    "def unique_messages_for_similarity_visualization(encoding_matrix):\n",
    "    \"\"\"\n",
    "    indexes of duplicate statements.\n",
    "    \"\"\"\n",
    "    dup_indexes  = redundant_sent_idx(np.inner(encoding_matrix,encoding_matrix))\n",
    "    unique_messages = np.delete(np.array(messages), dup_indexes)\n",
    "    \n",
    "    return unique_messages\n",
    "def plot_similarity(labels, features, rotation):\n",
    "    \n",
    "    \"\"\"\n",
    "    plot_similarity(messages, encoding_matrix, 90)\n",
    "    \"\"\"\n",
    "    \n",
    "    \n",
    "    corr = np.inner(features, features)\n",
    "    sns.set(font_scale=1.2)\n",
    "    g = sns.heatmap(\n",
    "      corr,\n",
    "      xticklabels=labels,\n",
    "      yticklabels=labels,\n",
    "      vmin=0,\n",
    "      vmax=1,\n",
    "      cmap=\"YlGnBu\")\n",
    "    g.set_xticklabels(labels, rotation=rotation)\n",
    "    g.set_title(\"Semantic Textual Similarity\")\n",
    "\n",
    "plot_similarity(messages, encoding_matrix, 90)"
   ]
  },
  {
   "cell_type": "code",
   "execution_count": null,
   "metadata": {},
   "outputs": [],
   "source": []
  },
  {
   "cell_type": "code",
   "execution_count": null,
   "metadata": {},
   "outputs": [],
   "source": []
  },
  {
   "cell_type": "code",
   "execution_count": 5,
   "metadata": {},
   "outputs": [
    {
     "name": "stderr",
     "output_type": "stream",
     "text": [
      "/anaconda3/lib/python3.6/importlib/_bootstrap.py:219: RuntimeWarning: numpy.dtype size changed, may indicate binary incompatibility. Expected 96, got 88\n",
      "  return f(*args, **kwds)\n",
      "/anaconda3/lib/python3.6/importlib/_bootstrap.py:219: RuntimeWarning: numpy.dtype size changed, may indicate binary incompatibility. Expected 96, got 88\n",
      "  return f(*args, **kwds)\n"
     ]
    }
   ],
   "source": [
    "import tensorflow as tf\n",
    "import tensorflow_hub as hub"
   ]
  },
  {
   "cell_type": "code",
   "execution_count": 14,
   "metadata": {},
   "outputs": [],
   "source": [
    "import numpy as np"
   ]
  },
  {
   "cell_type": "markdown",
   "metadata": {},
   "source": [
    "module_useT2 ----> news\n",
    "\n",
    "module_useT  ----> universal"
   ]
  },
  {
   "cell_type": "code",
   "execution_count": null,
   "metadata": {},
   "outputs": [],
   "source": [
    "#download the model to local so it can be used again and again"
   ]
  },
  {
   "cell_type": "code",
   "execution_count": 5,
   "metadata": {},
   "outputs": [],
   "source": [
    "#!mkdir sentence_wise_email/module/module_useT"
   ]
  },
  {
   "cell_type": "code",
   "execution_count": 9,
   "metadata": {},
   "outputs": [
    {
     "name": "stdout",
     "output_type": "stream",
     "text": [
      "  % Total    % Received % Xferd  Average Speed   Time    Time     Time  Current\n",
      "                                 Dload  Upload   Total   Spent    Left  Speed\n",
      "  0     0    0     0    0     0      0      0 --:--:-- --:--:-- --:--:--     0\n",
      "x ./\n",
      "x ./tfhub_module.pb\n",
      "x ./variables/\n",
      " 99  745M   99  743M    0     0  3546k      0  0:03:35  0:03:34  0:00:01 3507k\n",
      "x ./variables/variables.index\n",
      "x ./assets/\n",
      "100  745M  100  745M    0     0  3550k      0  0:03:35  0:03:35 --:--:-- 3685k\n",
      "\n"
     ]
    }
   ],
   "source": [
    "# Download the module, and uncompress it to the destination folder. \n",
    "!curl -L \"https://tfhub.dev/google/universal-sentence-encoder-large/3?tf-hub-format=compressed\" | tar -zxvC sentence_wise_email/module/module_useT"
   ]
  },
  {
   "cell_type": "code",
   "execution_count": 13,
   "metadata": {},
   "outputs": [
    {
     "name": "stdout",
     "output_type": "stream",
     "text": [
      "Message: Elephant\n",
      "Embedding size: 512\n",
      "Embedding[0.04498474299907684, -0.05743394419550896, 0.002211471786722541,...]\n",
      "\n",
      "Message: I am a sentence for which I would like to get its embedding.\n",
      "Embedding size: 512\n",
      "Embedding[0.05568016692996025, -0.009607920423150063, 0.006246279925107956,...]\n",
      "\n",
      "Message: Universal Sentence Encoder embeddings also support short paragraphs. There is no hard limit on how long the paragraph is. Roughly, the longer the more 'diluted' the embedding will be.\n",
      "Embedding size: 512\n",
      "Embedding[0.03874938562512398, 0.0765201598405838, -0.0007945825927890837,...]\n",
      "\n"
     ]
    }
   ],
   "source": [
    "embed = hub.Module(\"sentence_wise_email/module/module_useT\")\n",
    "\n",
    "# Compute a representation for each message, showing various lengths supported.\n",
    "word = \"Elephant\"\n",
    "sentence = \"I am a sentence for which I would like to get its embedding.\"\n",
    "paragraph = (\n",
    "    \"Universal Sentence Encoder embeddings also support short paragraphs. \"\n",
    "    \"There is no hard limit on how long the paragraph is. Roughly, the longer \"\n",
    "    \"the more 'diluted' the embedding will be.\")\n",
    "\n",
    "messages = [word, sentence, paragraph]\n",
    "\n",
    "# Reduce logging output.\n",
    "tf.logging.set_verbosity(tf.logging.ERROR)\n",
    "\n",
    "with tf.Session() as session:\n",
    "    session.run([tf.global_variables_initializer(), tf.tables_initializer()])\n",
    "    message_embeddings = session.run(embed(messages))\n",
    "        \n",
    "for i, message_embedding in enumerate(np.array(message_embeddings).tolist()):\n",
    "    print(\"Message: {}\".format(messages[i]))\n",
    "    print(\"Embedding size: {}\".format(len(message_embedding))) \n",
    "    message_embedding_snippet = \", \".join((str(x) for x in        message_embedding[:3]))\n",
    "    print(\"Embedding[{},...]\\n\".format(message_embedding_snippet))"
   ]
  },
  {
   "cell_type": "code",
   "execution_count": null,
   "metadata": {},
   "outputs": [],
   "source": [
    "\n",
    "\n",
    "embed = hub.Module(\"https://tfhub.dev/google/universal-sentence-encoder/2\")\n",
    "embeddings = embed([\n",
    "\"The quick brown fox jumps over the lazy dog.\",\n",
    "\"I am a sentence for which I would like to get its embedding\"])\n",
    "\n",
    "\n",
    "with tf.Session() as session:\n",
    "    session.run([tf.global_variables_initializer(), tf.tables_initializer()])\n",
    "    print(session.run(embeddings))"
   ]
  },
  {
   "cell_type": "code",
   "execution_count": null,
   "metadata": {},
   "outputs": [],
   "source": []
  },
  {
   "cell_type": "code",
   "execution_count": 1,
   "metadata": {},
   "outputs": [],
   "source": [
    "!mkdir sentence_wise_email/module/module_useT2"
   ]
  },
  {
   "cell_type": "code",
   "execution_count": 3,
   "metadata": {},
   "outputs": [
    {
     "name": "stdout",
     "output_type": "stream",
     "text": [
      "  % Total    % Received % Xferd  Average Speed   Time    Time     Time  Current\n",
      "                                 Dload  Upload   Total   Spent    Left  Speed\n",
      "  0     0    0     0    0     0      0      0 --:--:-- --:--:-- --:--:--     0\n",
      "  0     0    0     0    0     0      0      0 --:--:-- --:--:-- --:--:--     0x assets/\n",
      "  0  401M    0 2126k    0     0  1485k      0  0:04:36  0:00:01  0:04:35 2365k\n",
      "x saved_model.pb\n",
      "x tfhub_module.pb\n",
      "x variables/\n",
      "x variables/variables.index\n",
      "100  401M  100  401M    0     0  1892k      0  0:03:37  0:03:37 --:--:-- 3409k\n",
      "\n"
     ]
    }
   ],
   "source": [
    "!curl -L \"https://tfhub.dev/google/nnlm-id-dim128-with-normalization/1?tf-hub-format=compressed\" | tar -zxvC sentence_wise_email/module/module_useT2"
   ]
  },
  {
   "cell_type": "code",
   "execution_count": 6,
   "metadata": {},
   "outputs": [
    {
     "name": "stdout",
     "output_type": "stream",
     "text": [
      "INFO:tensorflow:Saver not created because there are no variables in the graph to restore\n",
      "[[-9.17550623e-02  1.98048800e-02  2.03363691e-02 -6.77533150e-02\n",
      "  -6.60339147e-02  1.13052772e-02 -9.90561675e-03 -7.46383294e-02\n",
      "   1.09684899e-01 -6.94854185e-02  7.92946965e-02 -1.00808389e-01\n",
      "   1.33106455e-01 -2.89725531e-02 -1.21929288e-01 -4.78923209e-02\n",
      "   2.51515415e-02 -1.45736225e-02  1.14273503e-01 -1.31929129e-01\n",
      "   1.30299732e-01  1.17414799e-02 -8.76725465e-02  2.76321806e-02\n",
      "   8.48763958e-02  9.58619341e-02 -3.39910015e-02  7.42413104e-02\n",
      "   1.41477942e-01  5.54507039e-02  2.07513978e-04 -5.49393259e-02\n",
      "   5.92960604e-02 -4.64704260e-02  7.93719813e-02 -1.02927998e-01\n",
      "  -1.87704861e-02 -7.48659670e-02  8.18240345e-02  7.20073506e-02\n",
      "   1.73921064e-01  5.90694919e-02 -1.95656042e-03 -8.55402276e-02\n",
      "   8.67313147e-02 -1.28781483e-01  1.96813256e-01 -1.77905127e-01\n",
      "   7.05166459e-02  1.50533393e-01 -3.98268066e-02 -1.18108280e-01\n",
      "  -9.62451994e-02  1.28963590e-01 -1.25406206e-01  8.96862745e-02\n",
      "   3.40640545e-02  6.42541647e-02 -7.59914070e-02  1.77922081e-02\n",
      "  -8.62559397e-03  2.24219918e-01  3.10318102e-03  2.31600422e-02\n",
      "  -8.35900232e-02  1.49515942e-02 -7.30608031e-02 -5.32834493e-02\n",
      "  -1.82919353e-02 -3.63043621e-02  9.08053666e-02  1.55402562e-02\n",
      "   1.22020347e-02 -5.93490005e-02  1.04391180e-01 -5.05900010e-02\n",
      "   1.69801507e-02 -1.23666689e-01  3.23435962e-02  3.38396020e-02\n",
      "   3.73387523e-02  1.52385142e-02 -6.08704165e-02 -5.58805503e-02\n",
      "  -9.93187353e-02  3.46643627e-02  1.09271988e-01  1.88117787e-01\n",
      "   2.98354290e-02 -2.60048900e-02  1.31986305e-01 -1.07322849e-01\n",
      "   1.24431103e-01 -9.83436257e-02 -5.91838360e-02  1.38118550e-01\n",
      "  -8.05673003e-02 -5.33872098e-02  1.20833486e-01 -9.31091979e-02\n",
      "  -1.22182325e-01 -1.24195002e-01  1.74830519e-02  5.98804913e-02\n",
      "  -7.62740970e-02 -4.93396260e-02  4.95143197e-02  3.86272445e-02\n",
      "   6.32600039e-02 -5.72484508e-02 -4.19389978e-02 -1.38333485e-01\n",
      "  -1.26011809e-02 -5.65062724e-02  1.68881446e-01 -3.06792483e-02\n",
      "  -1.20104011e-02  4.85646240e-02  1.93457037e-01  2.95929760e-02\n",
      "   6.29106164e-02  7.18866512e-02  2.07217522e-02 -1.39267296e-01\n",
      "   1.70726836e-01  8.96566287e-02  9.33474153e-02  9.31631923e-02]\n",
      " [-1.20925076e-01 -3.10141649e-02  8.03352743e-02 -9.96967480e-02\n",
      "   5.14715910e-03  1.72689669e-02 -2.16463301e-02 -1.95133314e-01\n",
      "   1.84282988e-01  1.73869114e-02  7.69216940e-02 -7.80150667e-02\n",
      "   5.54879569e-02 -1.35892972e-01 -3.48935351e-02 -1.17700607e-01\n",
      "   1.28688574e-01  3.07009667e-02  9.14617330e-02 -6.03779145e-02\n",
      "   1.91074058e-01  1.54422596e-02  2.80862544e-02 -1.13556329e-02\n",
      "   2.18197599e-01 -2.11769622e-02 -7.50661343e-02  1.17031306e-01\n",
      "   8.89256671e-02  6.88978508e-02 -2.65381075e-02 -8.47500861e-02\n",
      "   5.03059328e-02  7.69424364e-02  1.27692759e-01 -1.11630231e-01\n",
      "  -2.92137172e-02 -9.84439701e-02  3.32464613e-02  6.62947744e-02\n",
      "   1.32436574e-01  4.75367792e-02  1.72458999e-02 -1.44216344e-02\n",
      "   3.55278812e-02 -1.80136576e-01  1.86915874e-01 -2.37611249e-01\n",
      "   7.62160867e-02  8.72508585e-02 -5.69676533e-02 -9.32907686e-02\n",
      "  -1.97411880e-01  6.25110790e-02 -1.44542992e-01  1.72768563e-01\n",
      "   6.00442626e-02  1.45477697e-01 -1.44837245e-01 -3.46781053e-02\n",
      "  -5.50469421e-02  1.61347643e-01 -2.95924116e-03 -2.61578839e-02\n",
      "  -6.98658153e-02  3.12913842e-02 -2.14063972e-01 -4.22321539e-03\n",
      "  -1.28007773e-02  3.23709324e-02  1.54504955e-01  9.79763418e-02\n",
      "  -1.57123990e-02 -1.44082651e-01  1.77441761e-01 -9.99983847e-02\n",
      "   6.38108999e-02 -8.72527584e-02  9.16846246e-02  3.77848744e-02\n",
      "  -2.66064573e-02 -7.55273178e-02 -7.19686076e-02  2.91550700e-02\n",
      "   2.30361857e-02  1.09758526e-01  5.20405546e-02  1.62885547e-01\n",
      "   1.96935963e-02  2.07630303e-02  1.14869252e-01 -2.84656398e-02\n",
      "   1.29054531e-01 -9.63903442e-02 -1.49255320e-01  1.68373480e-01\n",
      "  -1.86130866e-01 -1.07816450e-01  4.98837270e-02 -2.45528281e-01\n",
      "  -9.65012833e-02 -1.29204541e-01  2.17526257e-02  5.66663370e-02\n",
      "  -9.94683728e-02 -1.68182421e-02  2.11432390e-02 -1.52000785e-02\n",
      "   1.95600428e-02  1.93165131e-02 -3.83275822e-02 -7.00195730e-02\n",
      "   1.08695384e-02 -1.12503961e-01  2.06314191e-01 -1.41382217e-02\n",
      "   4.10629846e-02  8.38604942e-02  1.33566827e-01  7.59163722e-02\n",
      "   3.77439260e-02  1.31472766e-01  6.34585992e-02 -1.30870074e-01\n",
      "   1.05588429e-01  1.04261175e-01  8.96109119e-02  7.37873390e-02]]\n"
     ]
    }
   ],
   "source": [
    "with tf.Session() as session:\n",
    "    session.run([tf.global_variables_initializer(), tf.tables_initializer()])\n",
    "\n",
    "embed = hub.Module(\"sentence_wise_email/module/module_useT2\")\n",
    "embeddings = embed([\"kucing\", \"kucing dan anjing\"])\n",
    "with tf.Session() as session:\n",
    "    session.run([tf.global_variables_initializer(), tf.tables_initializer()])\n",
    "    print(session.run(embeddings))"
   ]
  },
  {
   "cell_type": "code",
   "execution_count": 9,
   "metadata": {},
   "outputs": [
    {
     "name": "stdout",
     "output_type": "stream",
     "text": [
      "INFO:tensorflow:Saver not created because there are no variables in the graph to restore\n",
      "INFO:tensorflow:Graph was finalized.\n",
      "INFO:tensorflow:Running local_init_op.\n",
      "INFO:tensorflow:Done running local_init_op.\n"
     ]
    }
   ],
   "source": [
    "#Function so that one session can be called multiple times. \n",
    "#Useful while multiple calls need to be done for embedding. \n",
    "import tensorflow as tf\n",
    "import tensorflow_hub as hub\n",
    "\n",
    "def embed_useT(module):\n",
    "    with tf.Graph().as_default():\n",
    "        sentences = tf.placeholder(tf.string)\n",
    "        embed = hub.Module(module)\n",
    "        embeddings = embed(sentences)\n",
    "        session = tf.train.MonitoredSession()\n",
    "    return lambda x: session.run(embeddings, {sentences: x})\n",
    "\n",
    "embed_fn = embed_useT('sentence_wise_email/module/module_useT2')\n",
    "messages = [\n",
    "    \"we are sorry for the inconvenience\",\n",
    "    \"we are sorry for the delay\",\n",
    "    \"we regret for your inconvenience\",\n",
    "    \"we don't deliver to baner region in pune\",\n",
    "    \"we will get you the best possible rate\"\n",
    "]\n",
    "data = embed_fn(messages)"
   ]
  },
  {
   "cell_type": "code",
   "execution_count": 12,
   "metadata": {},
   "outputs": [
    {
     "name": "stdout",
     "output_type": "stream",
     "text": [
      "5\n",
      "128\n"
     ]
    }
   ],
   "source": [
    "print(len(data))\n",
    "print(len(data[0]))"
   ]
  },
  {
   "cell_type": "code",
   "execution_count": null,
   "metadata": {},
   "outputs": [],
   "source": []
  },
  {
   "cell_type": "markdown",
   "metadata": {},
   "source": [
    "# Find Similarty:"
   ]
  },
  {
   "cell_type": "markdown",
   "metadata": {},
   "source": [
    "https://github.com/sambit9238/Deep-Learning/blob/master/tensorflow_hub_useT.ipynb"
   ]
  },
  {
   "cell_type": "code",
   "execution_count": 17,
   "metadata": {},
   "outputs": [],
   "source": [
    "encoding_matrix = data\n",
    "\n",
    "#It takes similarity matrix (generated from sentence encoder) as input and gives index of redundant statements\n",
    "def redundant_sent_idx(sim_matrix):\n",
    "    \"\"\"\n",
    "    It takes similarity matrix (generated from sentence encoder) as input and gives index of redundant statements\n",
    "    \n",
    "    \"\"\"\n",
    "    dup_idx = [] \n",
    "    for i in range(sim_matrix.shape[0]):\n",
    "        if i not in dup_idx:\n",
    "            tmp = [t+i+1 for t in list(np.where( sim_matrix[i][i+1:] > 0.8 )[0])]\n",
    "            dup_idx.extend(tmp)\n",
    "    return dup_idx\n",
    "#indexes of duplicate statements.\n",
    "\n",
    "def unique_messages_for_similarity_visualization(encoding_matrix):\n",
    "    \"\"\"\n",
    "    indexes of duplicate statements.\n",
    "    \"\"\"\n",
    "    dup_indexes  = redundant_sent_idx(np.inner(encoding_matrix,encoding_matrix))\n",
    "    unique_messages = np.delete(np.array(messages), dup_indexes)\n",
    "    \n",
    "    return unique_messages\n",
    "def plot_similarity(labels, features, rotation):\n",
    "    \n",
    "    \"\"\"\n",
    "    plot_similarity(messages, encoding_matrix, 90)\n",
    "    \"\"\"\n",
    "    \n",
    "    \n",
    "    corr = np.inner(features, features)\n",
    "    sns.set(font_scale=1.2)\n",
    "    g = sns.heatmap(\n",
    "      corr,\n",
    "      xticklabels=labels,\n",
    "      yticklabels=labels,\n",
    "      vmin=0,\n",
    "      vmax=1,\n",
    "      cmap=\"YlGnBu\")\n",
    "    g.set_xticklabels(labels, rotation=rotation)\n",
    "    g.set_title(\"Semantic Textual Similarity\")\n",
    "\n",
    "plot_similarity(messages, encoding_matrix, 90)"
   ]
  },
  {
   "cell_type": "code",
   "execution_count": 23,
   "metadata": {},
   "outputs": [
    {
     "data": {
      "text/plain": [
       "array(['we are sorry for the inconvenience'], dtype='<U40')"
      ]
     },
     "execution_count": 23,
     "metadata": {},
     "output_type": "execute_result"
    }
   ],
   "source": [
    "#encoding_matrix\n",
    "unique_messages"
   ]
  },
  {
   "cell_type": "code",
   "execution_count": 19,
   "metadata": {},
   "outputs": [
    {
     "data": {
      "text/plain": [
       "array([[2.4195127, 2.2291534, 1.9311321, 1.2090695, 2.1309268],\n",
       "       [2.2291534, 2.2334814, 1.7915511, 1.2269642, 2.1166344],\n",
       "       [1.9311321, 1.7915511, 1.961492 , 1.1338664, 1.8944802],\n",
       "       [1.2090695, 1.2269642, 1.1338664, 1.593376 , 1.4737406],\n",
       "       [2.1309268, 2.1166344, 1.8944802, 1.4737406, 3.1485028]],\n",
       "      dtype=float32)"
      ]
     },
     "execution_count": 19,
     "metadata": {},
     "output_type": "execute_result"
    }
   ],
   "source": [
    "np.inner(encoding_matrix,encoding_matrix)"
   ]
  },
  {
   "cell_type": "code",
   "execution_count": 18,
   "metadata": {},
   "outputs": [
    {
     "data": {
      "image/png": "[encoded data removed]",
      "text/plain": [
       "<Figure size 432x288 with 2 Axes>"
      ]
     },
     "metadata": {},
     "output_type": "display_data"
    }
   ],
   "source": [
    "import matplotlib.pyplot as plt\n",
    "import seaborn as sns\n",
    "\n",
    "\n",
    "%matplotlib inline\n",
    "def plot_similarity(labels, features, rotation):\n",
    "    corr = np.inner(features, features)\n",
    "    sns.set(font_scale=1.2)\n",
    "    g = sns.heatmap(\n",
    "      corr,\n",
    "      xticklabels=labels,\n",
    "      yticklabels=labels,\n",
    "      vmin=0,\n",
    "      vmax=1,\n",
    "      cmap=\"YlGnBu\")\n",
    "    g.set_xticklabels(labels, rotation=rotation)\n",
    "    g.set_title(\"Semantic Textual Similarity\")\n",
    "\n",
    "plot_similarity(messages, encoding_matrix, 90)"
   ]
  },
  {
   "cell_type": "code",
   "execution_count": null,
   "metadata": {},
   "outputs": [],
   "source": [
    "embed = hub.Module(\"https://tfhub.dev/google/nnlm-en-dim50-with-normalization/1\")\n",
    "embeddings = embed([\"cat is on the mat\", \"dog is in the fog\"])\n"
   ]
  }
 ],
 "metadata": {
  "kernelspec": {
   "display_name": "Python 3",
   "language": "python",
   "name": "python3"
  },
  "language_info": {
   "codemirror_mode": {
    "name": "ipython",
    "version": 3
   },
   "file_extension": ".py",
   "mimetype": "text/x-python",
   "name": "python",
   "nbconvert_exporter": "python",
   "pygments_lexer": "ipython3",
   "version": "3.6.8"
  }
 },
 "nbformat": 4,
 "nbformat_minor": 2
}
