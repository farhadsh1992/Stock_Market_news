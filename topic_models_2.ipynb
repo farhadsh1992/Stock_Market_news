{
 "cells": [
  {
   "cell_type": "code",
   "execution_count": null,
   "metadata": {},
   "outputs": [],
   "source": []
  },
  {
   "cell_type": "code",
   "execution_count": null,
   "metadata": {},
   "outputs": [],
   "source": []
  },
  {
   "cell_type": "code",
   "execution_count": null,
   "metadata": {},
   "outputs": [],
   "source": []
  },
  {
   "cell_type": "code",
   "execution_count": 1,
   "metadata": {},
   "outputs": [
    {
     "name": "stdout",
     "output_type": "stream",
     "text": [
      "------------------------------------------------------------------------\n",
      "Class:  Tweets_preprocesiing \n",
      "\n",
      "input: df\n",
      "Function:\n",
      "          Cleaner()\n",
      "          Remove_stop_words()\n",
      "\n",
      "output:  new_list\n",
      "------------------------------------------------------------------------\n"
     ]
    },
    {
     "name": "stderr",
     "output_type": "stream",
     "text": [
      "Using TensorFlow backend.\n"
     ]
    }
   ],
   "source": [
    "import warnings\n",
    "warnings.filterwarnings('ignore')\n",
    "import pandas as pd\n",
    "import matplotlib.pyplot as plt\n",
    "from farhad.TwCleaner import Tweets_preprocesiing\n",
    "from farhad.TextTalent import plot_frequency_distribution_of_ngrams,plot_sample_length_distribution\n"
   ]
  },
  {
   "cell_type": "code",
   "execution_count": 7,
   "metadata": {},
   "outputs": [
    {
     "data": {
      "text/html": [
       "<div>\n",
       "<style scoped>\n",
       "    .dataframe tbody tr th:only-of-type {\n",
       "        vertical-align: middle;\n",
       "    }\n",
       "\n",
       "    .dataframe tbody tr th {\n",
       "        vertical-align: top;\n",
       "    }\n",
       "\n",
       "    .dataframe thead th {\n",
       "        text-align: right;\n",
       "    }\n",
       "</style>\n",
       "<table border=\"1\" class=\"dataframe\">\n",
       "  <thead>\n",
       "    <tr style=\"text-align: right;\">\n",
       "      <th></th>\n",
       "      <th>name</th>\n",
       "      <th>screen_name</th>\n",
       "      <th>text</th>\n",
       "      <th>created_at</th>\n",
       "      <th>geo</th>\n",
       "      <th>source</th>\n",
       "      <th>data_location</th>\n",
       "    </tr>\n",
       "  </thead>\n",
       "  <tbody>\n",
       "    <tr>\n",
       "      <th>994</th>\n",
       "      <td>Angel Martínez</td>\n",
       "      <td>ztmlegna</td>\n",
       "      <td>RT @Tesla: Introducing Dog Mode: set a cabin t...</td>\n",
       "      <td>2013-12-01 23:48:42</td>\n",
       "      <td>NaN</td>\n",
       "      <td>Twitter for Android</td>\n",
       "      <td>México</td>\n",
       "    </tr>\n",
       "    <tr>\n",
       "      <th>995</th>\n",
       "      <td>est.nine7®</td>\n",
       "      <td>RXCONTRERVS_12</td>\n",
       "      <td>RT @iProxy: Tesla Model 3 stops itself to avoi...</td>\n",
       "      <td>2014-09-12 20:49:26</td>\n",
       "      <td>NaN</td>\n",
       "      <td>Twitter for Android</td>\n",
       "      <td>NaN</td>\n",
       "    </tr>\n",
       "    <tr>\n",
       "      <th>996</th>\n",
       "      <td>moe</td>\n",
       "      <td>sloppymoe7</td>\n",
       "      <td>RT @Tesla: Introducing Dog Mode: set a cabin t...</td>\n",
       "      <td>2017-10-29 18:16:21</td>\n",
       "      <td>NaN</td>\n",
       "      <td>Twitter for iPhone</td>\n",
       "      <td>NaN</td>\n",
       "    </tr>\n",
       "    <tr>\n",
       "      <th>997</th>\n",
       "      <td>4.48 Psychosis</td>\n",
       "      <td>Gaybriele_</td>\n",
       "      <td>RT @Rainmaker1973: You can actually kind of 's...</td>\n",
       "      <td>2013-12-09 19:50:22</td>\n",
       "      <td>NaN</td>\n",
       "      <td>Twitter for Android</td>\n",
       "      <td>NaN</td>\n",
       "    </tr>\n",
       "    <tr>\n",
       "      <th>998</th>\n",
       "      <td>Truthbetold</td>\n",
       "      <td>Truthbe04166543</td>\n",
       "      <td>RT @ROYALMRBADNEWS: either elon musk goes or t...</td>\n",
       "      <td>2018-07-25 07:57:26</td>\n",
       "      <td>NaN</td>\n",
       "      <td>Twitter for Android</td>\n",
       "      <td>NaN</td>\n",
       "    </tr>\n",
       "    <tr>\n",
       "      <th>999</th>\n",
       "      <td>iScot Magazine</td>\n",
       "      <td>iScotNews</td>\n",
       "      <td>RT @Rainmaker1973: You can actually kind of 's...</td>\n",
       "      <td>2014-09-15 13:22:08</td>\n",
       "      <td>NaN</td>\n",
       "      <td>Twitter Web Client</td>\n",
       "      <td>Helensburgh Pro Scotland</td>\n",
       "    </tr>\n",
       "  </tbody>\n",
       "</table>\n",
       "</div>"
      ],
      "text/plain": [
       "               name      screen_name  \\\n",
       "994  Angel Martínez         ztmlegna   \n",
       "995      est.nine7®   RXCONTRERVS_12   \n",
       "996             moe       sloppymoe7   \n",
       "997  4.48 Psychosis       Gaybriele_   \n",
       "998     Truthbetold  Truthbe04166543   \n",
       "999  iScot Magazine        iScotNews   \n",
       "\n",
       "                                                  text           created_at  \\\n",
       "994  RT @Tesla: Introducing Dog Mode: set a cabin t...  2013-12-01 23:48:42   \n",
       "995  RT @iProxy: Tesla Model 3 stops itself to avoi...  2014-09-12 20:49:26   \n",
       "996  RT @Tesla: Introducing Dog Mode: set a cabin t...  2017-10-29 18:16:21   \n",
       "997  RT @Rainmaker1973: You can actually kind of 's...  2013-12-09 19:50:22   \n",
       "998  RT @ROYALMRBADNEWS: either elon musk goes or t...  2018-07-25 07:57:26   \n",
       "999  RT @Rainmaker1973: You can actually kind of 's...  2014-09-15 13:22:08   \n",
       "\n",
       "     geo               source             data_location  \n",
       "994  NaN  Twitter for Android                    México  \n",
       "995  NaN  Twitter for Android                       NaN  \n",
       "996  NaN   Twitter for iPhone                       NaN  \n",
       "997  NaN  Twitter for Android                       NaN  \n",
       "998  NaN  Twitter for Android                       NaN  \n",
       "999  NaN   Twitter Web Client  Helensburgh Pro Scotland  "
      ]
     },
     "execution_count": 7,
     "metadata": {},
     "output_type": "execute_result"
    }
   ],
   "source": [
    "df = pd.read_csv('data2/Third_colletion_tesla_tweets(1000_2018-06-18_2014-12-16).csv')\n",
    "df.tail(6)"
   ]
  },
  {
   "cell_type": "code",
   "execution_count": 8,
   "metadata": {},
   "outputs": [
    {
     "name": "stdout",
     "output_type": "stream",
     "text": [
      "[1000/1000][clean tweets]*** Done! ***\n",
      "[1000/1000][Remove stop_words]*** Done! ***\n",
      "CPU times: user 2.34 s, sys: 314 ms, total: 2.65 s\n",
      "Wall time: 2.46 s\n"
     ]
    }
   ],
   "source": [
    "%%time\n",
    "tw = Tweets_preprocesiing(df['text'])\n",
    "tw.Cleaner()\n",
    "tw.Remove_stop_words()"
   ]
  },
  {
   "cell_type": "code",
   "execution_count": 22,
   "metadata": {},
   "outputs": [],
   "source": [
    "df_data = pd.DataFrame()\n",
    "df_data['created_at'] = df['created_at']\n",
    "df_data['text'] = tw.new_list\n",
    "df_data['created_at'] = pd.to_datetime(df_data['created_at'])\n",
    "df_data['created_at'] = df_data['created_at'].dt.date\n",
    "df_data.to_csv('Clean_Third_colletion_tesla_tweets(1000_2018-06-18_2014-12-16).csv',index=False)"
   ]
  },
  {
   "cell_type": "code",
   "execution_count": 10,
   "metadata": {},
   "outputs": [
    {
     "data": {
      "text/html": [
       "<div>\n",
       "<style scoped>\n",
       "    .dataframe tbody tr th:only-of-type {\n",
       "        vertical-align: middle;\n",
       "    }\n",
       "\n",
       "    .dataframe tbody tr th {\n",
       "        vertical-align: top;\n",
       "    }\n",
       "\n",
       "    .dataframe thead th {\n",
       "        text-align: right;\n",
       "    }\n",
       "</style>\n",
       "<table border=\"1\" class=\"dataframe\">\n",
       "  <thead>\n",
       "    <tr style=\"text-align: right;\">\n",
       "      <th></th>\n",
       "      <th>created_at</th>\n",
       "      <th>text</th>\n",
       "    </tr>\n",
       "  </thead>\n",
       "  <tbody>\n",
       "    <tr>\n",
       "      <th>995</th>\n",
       "      <td>2014-09-12 20:49:26</td>\n",
       "      <td>tesla model stops avoid horrific crash</td>\n",
       "    </tr>\n",
       "    <tr>\n",
       "      <th>996</th>\n",
       "      <td>2017-10-29 18:16:21</td>\n",
       "      <td>introducing dog mode set cabin temperature kee...</td>\n",
       "    </tr>\n",
       "    <tr>\n",
       "      <th>997</th>\n",
       "      <td>2013-12-09 19:50:22</td>\n",
       "      <td>actually kind suction plasma tesla coil syring...</td>\n",
       "    </tr>\n",
       "    <tr>\n",
       "      <th>998</th>\n",
       "      <td>2018-07-25 07:57:26</td>\n",
       "      <td>either elon musk goes tesla goes not debate</td>\n",
       "    </tr>\n",
       "    <tr>\n",
       "      <th>999</th>\n",
       "      <td>2014-09-15 13:22:08</td>\n",
       "      <td>actually kind suction plasma tesla coil syring...</td>\n",
       "    </tr>\n",
       "  </tbody>\n",
       "</table>\n",
       "</div>"
      ],
      "text/plain": [
       "              created_at                                               text\n",
       "995  2014-09-12 20:49:26             tesla model stops avoid horrific crash\n",
       "996  2017-10-29 18:16:21  introducing dog mode set cabin temperature kee...\n",
       "997  2013-12-09 19:50:22  actually kind suction plasma tesla coil syring...\n",
       "998  2018-07-25 07:57:26        either elon musk goes tesla goes not debate\n",
       "999  2014-09-15 13:22:08  actually kind suction plasma tesla coil syring..."
      ]
     },
     "execution_count": 10,
     "metadata": {},
     "output_type": "execute_result"
    }
   ],
   "source": [
    "df_data.tail()"
   ]
  },
  {
   "cell_type": "code",
   "execution_count": 11,
   "metadata": {},
   "outputs": [
    {
     "data": {
      "text/plain": [
       "'actually kind suction plasma tesla coil syringe helped nail https'"
      ]
     },
     "execution_count": 11,
     "metadata": {},
     "output_type": "execute_result"
    }
   ],
   "source": []
  },
  {
   "cell_type": "code",
   "execution_count": null,
   "metadata": {},
   "outputs": [],
   "source": []
  },
  {
   "cell_type": "code",
   "execution_count": 12,
   "metadata": {},
   "outputs": [
    {
     "data": {
      "image/png": "[encoded data removed]",
      "text/plain": [
       "<Figure size 864x576 with 1 Axes>"
      ]
     },
     "metadata": {
      "needs_background": "light"
     },
     "output_type": "display_data"
    }
   ],
   "source": [
    "plt.figure(figsize=(12,8))\n",
    "plot_sample_length_distribution(df_data['text'])"
   ]
  },
  {
   "cell_type": "code",
   "execution_count": 13,
   "metadata": {},
   "outputs": [
    {
     "data": {
      "image/png": "[encoded data removed]",
      "text/plain": [
       "<Figure size 864x576 with 1 Axes>"
      ]
     },
     "metadata": {
      "needs_background": "light"
     },
     "output_type": "display_data"
    }
   ],
   "source": [
    "plt.figure(figsize=(12,8))\n",
    "plot_frequency_distribution_of_ngrams(df_data['text'],ngram_range=(1, 2),\n",
    "                                      num_ngrams=35,title='n-grams Frequency distribution tweets about Tesla ')"
   ]
  },
  {
   "cell_type": "code",
   "execution_count": null,
   "metadata": {},
   "outputs": [],
   "source": [
    "# lyex, suv, pu"
   ]
  },
  {
   "cell_type": "code",
   "execution_count": 23,
   "metadata": {},
   "outputs": [
    {
     "data": {
      "text/html": [
       "<div>\n",
       "<style scoped>\n",
       "    .dataframe tbody tr th:only-of-type {\n",
       "        vertical-align: middle;\n",
       "    }\n",
       "\n",
       "    .dataframe tbody tr th {\n",
       "        vertical-align: top;\n",
       "    }\n",
       "\n",
       "    .dataframe thead th {\n",
       "        text-align: right;\n",
       "    }\n",
       "</style>\n",
       "<table border=\"1\" class=\"dataframe\">\n",
       "  <thead>\n",
       "    <tr style=\"text-align: right;\">\n",
       "      <th></th>\n",
       "      <th>created_at</th>\n",
       "      <th>text</th>\n",
       "    </tr>\n",
       "  </thead>\n",
       "  <tbody>\n",
       "    <tr>\n",
       "      <th>995</th>\n",
       "      <td>2014-09-12</td>\n",
       "      <td>tesla model stops avoid horrific crash</td>\n",
       "    </tr>\n",
       "    <tr>\n",
       "      <th>996</th>\n",
       "      <td>2017-10-29</td>\n",
       "      <td>introducing dog mode set cabin temperature kee...</td>\n",
       "    </tr>\n",
       "    <tr>\n",
       "      <th>997</th>\n",
       "      <td>2013-12-09</td>\n",
       "      <td>actually kind suction plasma tesla coil syring...</td>\n",
       "    </tr>\n",
       "    <tr>\n",
       "      <th>998</th>\n",
       "      <td>2018-07-25</td>\n",
       "      <td>either elon musk goes tesla goes not debate</td>\n",
       "    </tr>\n",
       "    <tr>\n",
       "      <th>999</th>\n",
       "      <td>2014-09-15</td>\n",
       "      <td>actually kind suction plasma tesla coil syring...</td>\n",
       "    </tr>\n",
       "  </tbody>\n",
       "</table>\n",
       "</div>"
      ],
      "text/plain": [
       "     created_at                                               text\n",
       "995  2014-09-12             tesla model stops avoid horrific crash\n",
       "996  2017-10-29  introducing dog mode set cabin temperature kee...\n",
       "997  2013-12-09  actually kind suction plasma tesla coil syring...\n",
       "998  2018-07-25        either elon musk goes tesla goes not debate\n",
       "999  2014-09-15  actually kind suction plasma tesla coil syring..."
      ]
     },
     "execution_count": 23,
     "metadata": {},
     "output_type": "execute_result"
    }
   ],
   "source": [
    "df_data.tail()"
   ]
  },
  {
   "cell_type": "code",
   "execution_count": null,
   "metadata": {},
   "outputs": [],
   "source": []
  },
  {
   "cell_type": "markdown",
   "metadata": {},
   "source": [
    "# Topic_models:"
   ]
  },
  {
   "cell_type": "code",
   "execution_count": 24,
   "metadata": {},
   "outputs": [],
   "source": [
    "import warnings\n",
    "warnings.filterwarnings(\"ignore\")\n",
    "\n",
    "import pandas as pd\n",
    "from farhad.TopicModels import bag_of_words_for_bigrams,bag_of_words_for_unigrams, make_dictionary\n",
    "from farhad.TopicModels import evaluate_graph_for_max_label\n",
    "from farhad.TopicModels import find_probility_for_label, arrowforlebels\n",
    "\n",
    "from gensim.models import CoherenceModel, LdaModel, LsiModel, HdpModel\n",
    "import matplotlib.pyplot as plt\n",
    "from  dask import delayed \n",
    "import pyLDAvis.gensim\n",
    "import pyLDAvis\n",
    "\n",
    "import numpy as np\n",
    "import seaborn as sns\n",
    "from itertools import chain"
   ]
  },
  {
   "cell_type": "code",
   "execution_count": 25,
   "metadata": {},
   "outputs": [
    {
     "data": {
      "text/html": [
       "<div>\n",
       "<style scoped>\n",
       "    .dataframe tbody tr th:only-of-type {\n",
       "        vertical-align: middle;\n",
       "    }\n",
       "\n",
       "    .dataframe tbody tr th {\n",
       "        vertical-align: top;\n",
       "    }\n",
       "\n",
       "    .dataframe thead th {\n",
       "        text-align: right;\n",
       "    }\n",
       "</style>\n",
       "<table border=\"1\" class=\"dataframe\">\n",
       "  <thead>\n",
       "    <tr style=\"text-align: right;\">\n",
       "      <th></th>\n",
       "      <th>created_at</th>\n",
       "      <th>text</th>\n",
       "    </tr>\n",
       "  </thead>\n",
       "  <tbody>\n",
       "    <tr>\n",
       "      <th>0</th>\n",
       "      <td>2011-07-19</td>\n",
       "      <td>difference going stellar marketp</td>\n",
       "    </tr>\n",
       "    <tr>\n",
       "      <th>1</th>\n",
       "      <td>2013-01-02</td>\n",
       "      <td>get limitations compared tesla os pressuring a...</td>\n",
       "    </tr>\n",
       "    <tr>\n",
       "      <th>2</th>\n",
       "      <td>2012-05-08</td>\n",
       "      <td>grandote asi sincero como los que da mi gato t...</td>\n",
       "    </tr>\n",
       "  </tbody>\n",
       "</table>\n",
       "</div>"
      ],
      "text/plain": [
       "   created_at                                               text\n",
       "0  2011-07-19                   difference going stellar marketp\n",
       "1  2013-01-02  get limitations compared tesla os pressuring a...\n",
       "2  2012-05-08  grandote asi sincero como los que da mi gato t..."
      ]
     },
     "execution_count": 25,
     "metadata": {},
     "output_type": "execute_result"
    }
   ],
   "source": [
    "df_data = pd.read_csv('Clean_Third_colletion_tesla_tweets(1000_2018-06-18_2014-12-16).csv')\n",
    "df_data.head(3)"
   ]
  },
  {
   "cell_type": "code",
   "execution_count": 26,
   "metadata": {},
   "outputs": [
    {
     "name": "stdout",
     "output_type": "stream",
     "text": [
      "CPU times: user 443 ms, sys: 12.3 ms, total: 456 ms\n",
      "Wall time: 459 ms\n"
     ]
    }
   ],
   "source": [
    "%%time\n",
    "warnings.filterwarnings(\"ignore\")\n",
    "unigrams = df_data['text'].apply(bag_of_words_for_unigrams)\n",
    "bigrams =  df_data['text'].apply(bag_of_words_for_bigrams)\n",
    "bi_uni_grams = unigrams+bigrams\n",
    "corpus, dictionary = make_dictionary(bi_uni_grams,bi_uni_grams)"
   ]
  },
  {
   "cell_type": "code",
   "execution_count": 27,
   "metadata": {},
   "outputs": [],
   "source": [
    "import pickle\n",
    "pickle.dump(dictionary, open('corpus.pkl', 'wb'))\n",
    "dictionary.save('dictionary1000_tweets_used_tesla.gensim')"
   ]
  },
  {
   "cell_type": "code",
   "execution_count": null,
   "metadata": {},
   "outputs": [],
   "source": []
  },
  {
   "cell_type": "code",
   "execution_count": 28,
   "metadata": {},
   "outputs": [
    {
     "name": "stdout",
     "output_type": "stream",
     "text": [
      "nan <generator object evaluate_graph_for_max_label.<locals>.<genexpr> at 0x102f63780>\n"
     ]
    },
    {
     "data": {
      "image/png": "[encoded data removed]",
      "text/plain": [
       "<Figure size 432x288 with 1 Axes>"
      ]
     },
     "metadata": {
      "needs_background": "light"
     },
     "output_type": "display_data"
    },
    {
     "name": "stdout",
     "output_type": "stream",
     "text": [
      "CPU times: user 5.47 s, sys: 178 ms, total: 5.64 s\n",
      "Wall time: 5.58 s\n"
     ]
    }
   ],
   "source": [
    "%%time\n",
    "evaluate_graph_for_max_label(dictionary,  corpus, bi_uni_grams, limit=5)"
   ]
  },
  {
   "cell_type": "code",
   "execution_count": null,
   "metadata": {},
   "outputs": [],
   "source": []
  },
  {
   "cell_type": "code",
   "execution_count": 29,
   "metadata": {},
   "outputs": [
    {
     "name": "stdout",
     "output_type": "stream",
     "text": [
      "CPU times: user 1.56 s, sys: 22.4 ms, total: 1.58 s\n",
      "Wall time: 1.54 s\n"
     ]
    }
   ],
   "source": [
    "%%time\n",
    "warnings.filterwarnings(\"ignore\")\n",
    "lda = LdaModel(corpus=corpus, num_topics=2, id2word=dictionary,update_every=1)"
   ]
  },
  {
   "cell_type": "code",
   "execution_count": 30,
   "metadata": {},
   "outputs": [
    {
     "data": {
      "text/html": [
       "\n",
       "<link rel=\"stylesheet\" type=\"text/css\" href=\"https://cdn.rawgit.com/bmabey/pyLDAvis/files/ldavis.v1.0.0.css\">\n",
       "\n",
       "\n",
       "<div id=\"ldavis_el579150379229685538199641\"></div>\n",
       "<script type=\"text/javascript\">\n",
       "\n",
       "var ldavis_el579150379229685538199641_data = {\"mdsDat\": {\"Freq\": [53.05978775024414, 46.94021987915039], \"cluster\": [1, 1], \"topics\": [1, 2], \"x\": [0.04073906317353248, -0.04073906317353248], \"y\": [0.0, 0.0]}, \"tinfo\": {\"Category\": [\"Default\", \"Default\", \"Default\", \"Default\", \"Default\", \"Default\", \"Default\", \"Default\", \"Default\", \"Default\", \"Default\", \"Default\", \"Default\", \"Default\", \"Default\", \"Default\", \"Default\", \"Default\", \"Default\", \"Default\", \"Default\", \"Default\", \"Default\", \"Default\", \"Default\", \"Default\", \"Default\", \"Default\", \"Default\", \"Default\", \"Topic1\", \"Topic1\", \"Topic1\", \"Topic1\", \"Topic1\", \"Topic1\", \"Topic1\", \"Topic1\", \"Topic1\", \"Topic1\", \"Topic1\", \"Topic1\", \"Topic1\", \"Topic1\", \"Topic1\", \"Topic1\", \"Topic1\", \"Topic1\", \"Topic1\", \"Topic1\", \"Topic1\", \"Topic1\", \"Topic1\", \"Topic1\", \"Topic1\", \"Topic1\", \"Topic1\", \"Topic1\", \"Topic1\", \"Topic1\", \"Topic1\", \"Topic1\", \"Topic1\", \"Topic1\", \"Topic1\", \"Topic1\", \"Topic1\", \"Topic1\", \"Topic1\", \"Topic1\", \"Topic1\", \"Topic1\", \"Topic1\", \"Topic1\", \"Topic1\", \"Topic1\", \"Topic1\", \"Topic1\", \"Topic1\", \"Topic1\", \"Topic1\", \"Topic1\", \"Topic1\", \"Topic1\", \"Topic1\", \"Topic1\", \"Topic1\", \"Topic1\", \"Topic1\", \"Topic1\", \"Topic1\", \"Topic1\", \"Topic1\", \"Topic1\", \"Topic1\", \"Topic1\", \"Topic1\", \"Topic1\", \"Topic1\", \"Topic1\", \"Topic1\", \"Topic1\", \"Topic2\", \"Topic2\", \"Topic2\", \"Topic2\", \"Topic2\", \"Topic2\", \"Topic2\", \"Topic2\", \"Topic2\", \"Topic2\", \"Topic2\", \"Topic2\", \"Topic2\", \"Topic2\", \"Topic2\", \"Topic2\", \"Topic2\", \"Topic2\", \"Topic2\", \"Topic2\", \"Topic2\", \"Topic2\", \"Topic2\", \"Topic2\", \"Topic2\", \"Topic2\", \"Topic2\", \"Topic2\", \"Topic2\", \"Topic2\", \"Topic2\", \"Topic2\", \"Topic2\", \"Topic2\", \"Topic2\", \"Topic2\", \"Topic2\", \"Topic2\", \"Topic2\", \"Topic2\", \"Topic2\", \"Topic2\", \"Topic2\", \"Topic2\", \"Topic2\", \"Topic2\"], \"Freq\": [43.0, 43.0, 43.0, 43.0, 43.0, 43.0, 43.0, 44.0, 43.0, 43.0, 43.0, 43.0, 44.0, 43.0, 43.0, 15.0, 15.0, 15.0, 15.0, 15.0, 15.0, 15.0, 15.0, 15.0, 15.0, 15.0, 15.0, 15.0, 15.0, 17.0, 6.625870227813721, 4.637098789215088, 6.616664886474609, 6.597145080566406, 3.9475550651550293, 6.574719429016113, 3.934450387954712, 3.934075355529785, 3.929748058319092, 3.926793098449707, 3.9261674880981445, 3.923222303390503, 3.9222054481506348, 3.91867995262146, 3.9178686141967773, 3.9140589237213135, 3.912529706954956, 3.9112117290496826, 6.5184326171875, 3.9086697101593018, 6.505611419677734, 3.900834798812866, 3.893893003463745, 3.884753942489624, 3.88403582572937, 5.166075229644775, 5.157617092132568, 16.018144607543945, 5.122712135314941, 6.3809895515441895, 15.756155014038086, 12.504782676696777, 15.401518821716309, 13.567781448364258, 15.241215705871582, 15.02696704864502, 16.06524085998535, 13.057165145874023, 5.7131781578063965, 14.502830505371094, 9.079469680786133, 30.443979263305664, 14.418067932128906, 9.034825325012207, 5.6775312423706055, 8.912688255310059, 156.3088836669922, 14.011067390441895, 13.834296226501465, 28.306026458740234, 27.894113540649414, 21.236562728881836, 15.306684494018555, 26.71718406677246, 26.103214263916016, 25.928394317626953, 25.70240592956543, 25.237071990966797, 25.168424606323242, 24.626420974731445, 31.79909896850586, 17.05209732055664, 33.84626388549805, 23.015769958496094, 24.60062026977539, 30.269533157348633, 29.7071475982666, 27.661842346191406, 15.797053337097168, 15.347987174987793, 15.322344779968262, 15.163110733032227, 15.10928726196289, 15.078947067260742, 15.050471305847168, 15.033761978149414, 14.930610656738281, 14.926736831665039, 14.925644874572754, 14.890984535217285, 14.889058113098145, 14.821036338806152, 14.812767028808594, 14.805074691772461, 14.800119400024414, 14.54742431640625, 37.85698699951172, 37.83829116821289, 37.81941604614258, 37.79305648803711, 2.8819472789764404, 37.38426971435547, 37.348480224609375, 37.340797424316406, 2.830143690109253, 37.83195114135742, 36.67042922973633, 2.250164031982422, 2.24164080619812, 2.2360856533050537, 2.2353525161743164, 2.2331132888793945, 36.216896057128906, 36.091285705566406, 35.64002990722656, 35.984107971191406, 35.35211944580078, 34.85877990722656, 21.36585807800293, 40.85063171386719, 102.92015838623047, 38.33854293823242, 37.82902145385742, 35.24772644042969, 25.897449493408203, 19.895885467529297, 17.377031326293945, 15.258711814880371], \"Term\": [\"temperature keep_keep dog\", \"passersby_know\", \"comfortable_letting\", \"cabin_temperature\", \"set cabin_cabin temperature\", \"worry_introducing dog\", \"dog comfortable_comfortable letting\", \"introducing_dog\", \"keep_dog\", \"letting passersby_passersby know\", \"not_need\", \"need worry\", \"mode_set\", \"dog mode_mode set\", \"know not_not need\", \"going_miles\", \"crashed_police released\", \"released shocking_shocking surveillance\", \"surveillance video_video showing\", \"light crashed\", \"video_showing\", \"miles hour_hour ran\", \"shocking_surveillance\", \"ran red_red light\", \"moment_tesla\", \"hour_ran\", \"police_released\", \"showing moment_moment tesla\", \"tesla going_going miles\", \"actually_kind\", \"debate_either elon\", \"automatically\", \"goes tesla_tesla goes\", \"either_elon\", \"high temps\", \"elon musk_musk goes\", \"cabin\", \"existing cabin\", \"protection\", \"overheat protection\", \"come automatically\", \"existing\", \"protection come\", \"ensure bab\", \"cabin overheat\", \"ensure\", \"bab\", \"addition\", \"goes not_not debate\", \"temps ensure\", \"goes_not\", \"come\", \"addition existing\", \"overheat\", \"automatically high\", \"amazon delivers_delivers millions\", \"delivers_millions\", \"actually_kind\", \"build electric_electric suvs\", \"musk_goes\", \"tesla coil_coil syringe\", \"get\", \"nail_https\", \"tesla xyecla\", \"actually kind_kind suction\", \"syringe_helped\", \"tesla_coil\", \"tesla_xyecla\", \"rivian_build\", \"suction_plasma\", \"amazon desistiu_desistiu de\", \"mph_miami\", \"nail https\", \"contra oferta_oferta de\", \"electric_suvs\", \"nova_iorque\", \"tesla\", \"suction plasma_plasma tesla\", \"syringe helped_helped nail\", \"light mph_mph miami\", \"driver_watch slammed\", \"sentry_mode\", \"tesla model\", \"somehow driver\", \"beach_somehow\", \"slammed suv_suv blowing\", \"watch_slammed\", \"suv_blowing\", \"miami beach_beach somehow\", \"blowing red_red light\", \"red_light\", \"tesla sentry_sentry mode\", \"take money\", \"model\", \"not\", \"fine win_win take\", \"fine_win\", \"take_money\", \"sensors_tesla\", \"potential_sentry activated\", \"notifies_owners\", \"using_cameras\", \"going_miles\", \"crashed_police released\", \"released shocking_shocking surveillance\", \"surveillance video_video showing\", \"light crashed\", \"video_showing\", \"miles hour_hour ran\", \"shocking_surveillance\", \"ran red_red light\", \"moment_tesla\", \"hour_ran\", \"police_released\", \"showing moment_moment tesla\", \"tesla going_going miles\", \"temperature keep_keep dog\", \"passersby_know\", \"comfortable_letting\", \"cabin_temperature\", \"fa fa_fa fa\", \"set cabin_cabin temperature\", \"worry_introducing dog\", \"dog comfortable_comfortable letting\", \"fa_fa\", \"introducing_dog\", \"keep_dog\", \"apa itu\", \"pamerkan\", \"motors pamerkan\", \"growing\", \"mode anjing\", \"letting passersby_passersby know\", \"not_need\", \"need worry\", \"mode_set\", \"dog mode_mode set\", \"know not_not need\", \"nan\", \"take_money\", \"tesla\", \"fine_win\", \"fine win_win take\", \"take money\", \"red_light\", \"not\", \"model\", \"blowing red_red light\"], \"Total\": [43.0, 43.0, 43.0, 43.0, 43.0, 43.0, 43.0, 44.0, 43.0, 43.0, 43.0, 43.0, 44.0, 43.0, 43.0, 15.0, 15.0, 15.0, 15.0, 15.0, 15.0, 15.0, 15.0, 15.0, 15.0, 15.0, 15.0, 15.0, 15.0, 17.0, 7.214173316955566, 5.049826145172119, 7.213308334350586, 7.211472511291504, 4.325874328613281, 7.2093634605407715, 4.324642181396484, 4.324606895446777, 4.32420015335083, 4.3239216804504395, 4.3238630294799805, 4.323586463928223, 4.323490142822266, 4.323159217834473, 4.323083400726318, 4.32272481918335, 4.322580814361572, 4.3224568367004395, 7.204071521759033, 4.32221794128418, 7.2028656005859375, 4.321481227874756, 4.320828437805176, 4.319969177246094, 4.319901466369629, 5.7586798667907715, 5.757884979248047, 17.98404312133789, 5.754602909088135, 7.191147804260254, 17.95940589904785, 14.358110427856445, 17.926057815551758, 15.776290893554688, 17.910987854003906, 17.89084243774414, 19.306703567504883, 15.728280067443848, 6.469238758087158, 17.8415584564209, 10.740456581115723, 40.432167053222656, 17.833587646484375, 10.736259460449219, 6.465887069702148, 10.724774360656738, 259.2290344238281, 17.79531478881836, 17.778696060180664, 40.23112487792969, 40.19239807128906, 29.679672241210938, 20.553600311279297, 40.08173370361328, 40.02399826049805, 40.0075569152832, 39.98631286621094, 39.94255828857422, 39.93609619140625, 39.8851318359375, 57.69654846191406, 25.99063491821289, 69.093994140625, 40.392799377441406, 44.49650573730469, 68.09855651855469, 68.04569244384766, 68.5124740600586, 23.895282745361328, 23.853055953979492, 23.85064697265625, 23.835674285888672, 15.892376899719238, 15.895526885986328, 15.898479461669922, 15.90021800994873, 15.910920143127441, 15.91132640838623, 15.911437034606934, 15.915034294128418, 15.91523551940918, 15.922293663024902, 15.923150062561035, 15.923952102661133, 15.92446517944336, 15.950695037841797, 43.359859466552734, 43.36181640625, 43.363765716552734, 43.36650848388672, 3.338501453399658, 43.408935546875, 43.41264343261719, 43.413448333740234, 3.3438782691955566, 44.8175163269043, 43.48301315307617, 2.6765503883361816, 2.6774346828460693, 2.678011655807495, 2.6780874729156494, 2.6783199310302734, 43.53009796142578, 43.54312515258789, 43.5899658203125, 44.28177261352539, 43.61983871459961, 43.67103958129883, 31.976043701171875, 68.5124740600586, 259.2290344238281, 68.04569244384766, 68.09855651855469, 69.093994140625, 57.69654846191406, 44.49650573730469, 40.392799377441406, 39.8851318359375], \"loglift\": [30.0, 29.0, 28.0, 27.0, 26.0, 25.0, 24.0, 23.0, 22.0, 21.0, 20.0, 19.0, 18.0, 17.0, 16.0, 15.0, 14.0, 13.0, 12.0, 11.0, 10.0, 9.0, 8.0, 7.0, 6.0, 5.0, 4.0, 3.0, 2.0, 1.0, 0.5486999750137329, 0.5485000014305115, 0.5473999977111816, 0.544700026512146, 0.5422000288963318, 0.5415999889373779, 0.5392000079154968, 0.5390999913215637, 0.538100004196167, 0.5374000072479248, 0.5372999906539917, 0.5365999937057495, 0.536300003528595, 0.5354999899864197, 0.5353000164031982, 0.5343999862670898, 0.5340999960899353, 0.5338000059127808, 0.5336999893188477, 0.5332000255584717, 0.5318999886512756, 0.5313000082969666, 0.529699981212616, 0.5275999903678894, 0.527400016784668, 0.5252000093460083, 0.5236999988555908, 0.5180000066757202, 0.5174000263214111, 0.51419997215271, 0.5029000043869019, 0.49549999833106995, 0.4819999933242798, 0.4828999936580658, 0.4722999930381775, 0.4593000113964081, 0.44999998807907104, 0.44760000705718994, 0.5095000267028809, 0.42660000920295715, 0.4657000005245209, 0.3499999940395355, 0.421099990606308, 0.4611999988555908, 0.5037000179290771, 0.4487000107765198, 0.12790000438690186, 0.39469999074935913, 0.3828999996185303, 0.28220000863075256, 0.2685000002384186, 0.29899999499320984, 0.33899998664855957, 0.2281000018119812, 0.20630000531673431, 0.20000000298023224, 0.19179999828338623, 0.1746000051498413, 0.1720999926328659, 0.15160000324249268, 0.03799999877810478, 0.21230000257492065, -0.07989999651908875, 0.07129999995231628, 0.041099999099969864, -0.17710000276565552, -0.19499999284744263, -0.27320000529289246, 0.2198999971151352, 0.19280000030994415, 0.19130000472068787, 0.18140000104904175, 0.7057999968528748, 0.7035999894142151, 0.7014999985694885, 0.7002999782562256, 0.6927000284194946, 0.6923999786376953, 0.692300021648407, 0.6898000240325928, 0.6895999908447266, 0.6845999956130981, 0.6840000152587891, 0.6833999752998352, 0.6830999851226807, 0.6642000079154968, 0.6205999851226807, 0.6200000047683716, 0.6194999814033508, 0.6187000274658203, 0.6092000007629395, 0.6068999767303467, 0.6057999730110168, 0.6055999994277954, 0.5895000100135803, 0.586899995803833, 0.5859000086784363, 0.5827999711036682, 0.5785999894142151, 0.5759000182151794, 0.5756000280380249, 0.5745000243186951, 0.5723999738693237, 0.5685999989509583, 0.5548999905586243, 0.548799991607666, 0.5461000204086304, 0.5309000015258789, 0.3531000018119812, 0.23919999599456787, -0.16750000417232513, 0.1826000064611435, 0.16840000450611115, 0.08320000022649765, -0.04479999840259552, -0.04859999939799309, -0.08720000088214874, -0.2046000063419342], \"logprob\": [30.0, 29.0, 28.0, 27.0, 26.0, 25.0, 24.0, 23.0, 22.0, 21.0, 20.0, 19.0, 18.0, 17.0, 16.0, 15.0, 14.0, 13.0, 12.0, 11.0, 10.0, 9.0, 8.0, 7.0, 6.0, 5.0, 4.0, 3.0, 2.0, 1.0, -6.908299922943115, -7.265200138092041, -6.9096999168396, -6.912600040435791, -7.426199913024902, -6.915999889373779, -7.429500102996826, -7.429599761962891, -7.430699825286865, -7.431399822235107, -7.431600093841553, -7.432300090789795, -7.432600021362305, -7.433499813079834, -7.433700084686279, -7.434700012207031, -7.435100078582764, -7.435400009155273, -6.924600124359131, -7.436100006103516, -6.926599979400635, -7.4380998611450195, -7.439799785614014, -7.442200183868408, -7.442399978637695, -7.157100200653076, -7.15880012512207, -6.0254998207092285, -7.165599822998047, -6.945899963378906, -6.041999816894531, -6.273099899291992, -6.064799785614014, -6.1915998458862305, -6.075200080871582, -6.089399814605713, -6.022600173950195, -6.229899883270264, -7.05649995803833, -6.124899864196777, -6.593200206756592, -5.383399963378906, -6.130799770355225, -6.598199844360352, -7.062699794769287, -6.611800193786621, -3.7474000453948975, -6.15939998626709, -6.172100067138672, -5.456200122833252, -5.470799922943115, -5.743500232696533, -6.071000099182129, -5.513899803161621, -5.537199974060059, -5.543900012969971, -5.552700042724609, -5.570899963378906, -5.573699951171875, -5.595399856567383, -5.339799880981445, -5.9629998207092285, -5.277400016784668, -5.663099765777588, -5.596499919891357, -5.389100074768066, -5.407899856567383, -5.4791998863220215, -6.039400100708008, -6.068299770355225, -6.069900035858154, -6.080399990081787, -5.961400032043457, -5.963399887084961, -5.9653000831604, -5.966400146484375, -5.973299980163574, -5.973599910736084, -5.973599910736084, -5.97599983215332, -5.976099967956543, -5.9807000160217285, -5.981200218200684, -5.9816999435424805, -5.982100009918213, -5.999300003051758, -5.042900085449219, -5.043399810791016, -5.043900012969971, -5.044600009918213, -7.618199825286865, -5.055500030517578, -5.056399822235107, -5.056600093841553, -7.63640022277832, -5.043600082397461, -5.074699878692627, -7.865699768066406, -7.869500160217285, -7.872000217437744, -7.872300148010254, -7.873300075531006, -5.087200164794922, -5.090700149536133, -5.1031999588012695, -5.093599796295166, -5.111400127410889, -5.125400066375732, -5.6149001121521, -4.966800212860107, -4.042799949645996, -5.030300140380859, -5.043600082397461, -5.114299774169922, -5.422599792480469, -5.686200141906738, -5.821599960327148, -5.951600074768066]}, \"token.table\": {\"Topic\": [1, 2, 1, 2, 1, 1, 1, 2, 1, 2, 2, 1, 1, 1, 1, 2, 1, 2, 1, 2, 1, 1, 1, 2, 1, 1, 1, 2, 1, 2, 1, 2, 1, 2, 1, 2, 1, 2, 1, 2, 1, 2, 1, 2, 1, 2, 1, 2, 1, 1, 1, 1, 2, 1, 2, 1, 2, 1, 2, 1, 2, 1, 2, 1, 2, 1, 2, 1, 2, 2, 1, 1, 2, 1, 2, 1, 2, 1, 2, 1, 2, 1, 2, 1, 2, 1, 2, 1, 2, 2, 1, 2, 1, 2, 1, 2, 2, 1, 2, 1, 2, 1, 2, 1, 2, 1, 2, 1, 2, 1, 2, 1, 2, 1, 2, 1, 2, 1, 1, 2, 1, 2, 1, 2, 1, 2, 1, 1, 1, 2, 1, 2, 1, 2, 1, 2, 1, 2, 1, 2, 1, 2, 1, 2, 1, 2, 1, 2, 1, 2, 1, 2, 1, 2, 1, 2, 1, 2, 1, 2, 1, 2, 1, 2, 1, 2, 1, 2, 1, 1, 2, 1, 2, 1, 2, 1, 2, 1, 2, 1, 2, 1, 2, 1, 2, 1, 2, 1, 2, 1, 2, 1, 2], \"Freq\": [0.8374747633934021, 0.16749495267868042, 0.8896775841712952, 0.1112096980214119, 0.925399661064148, 0.9257484078407288, 0.868254542350769, 0.17365090548992157, 0.8379532098770142, 0.18621182441711426, 0.7472304701805115, 0.9901331067085266, 0.9259470701217651, 0.9253730773925781, 0.6496102809906006, 0.34979015588760376, 0.626800000667572, 0.3760799765586853, 0.8688696622848511, 0.17377392947673798, 0.9249320030212402, 0.9252654910087585, 0.13835561275482178, 0.8762522339820862, 0.9256085753440857, 0.9250986576080322, 0.13836435973644257, 0.8763076663017273, 0.8382807970046997, 0.1862846165895462, 0.0629107803106308, 0.9436616897583008, 0.9703121185302734, 0.13861602544784546, 0.8683744072914124, 0.17367488145828247, 0.13820601999759674, 0.8522704839706421, 0.18340279161930084, 0.8023871779441833, 0.6966491341590881, 0.2985639274120331, 0.970675528049469, 0.13866794109344482, 0.927946925163269, 0.15465782582759857, 0.970959484577179, 0.13870850205421448, 0.9253422617912292, 0.9252492785453796, 0.9251578450202942, 0.9249395728111267, 0.8986067771911621, 0.29905393719673157, 0.8971618413925171, 0.4405379593372345, 0.5580147504806519, 0.4408802092075348, 0.5584482550621033, 0.9054116010665894, 0.1392940878868103, 0.971672773361206, 0.138810396194458, 0.9704285264015198, 0.1386326402425766, 0.9718354344367981, 0.13883362710475922, 0.06292325258255005, 0.943848729133606, 0.7468016147613525, 0.924668550491333, 0.06280164420604706, 0.9420246481895447, 0.1561889350414276, 0.8478827476501465, 0.1609824001789093, 0.8509069681167603, 0.20608623325824738, 0.8014464378356934, 0.1608082801103592, 0.8270139694213867, 0.06284991651773453, 0.9427487254142761, 0.6959785223007202, 0.29827651381492615, 0.6260001063346863, 0.37560006976127625, 0.06284787505865097, 0.9427181482315063, 0.7467367649078369, 0.18066124618053436, 0.8129755854606628, 0.5694084167480469, 0.42086708545684814, 0.06280501931905746, 0.9420753121376038, 0.746822714805603, 0.7419834733009338, 0.24732781946659088, 0.8343591690063477, 0.1390598565340042, 0.7850355505943298, 0.16822190582752228, 0.8367707133293152, 0.16735413670539856, 0.3440075218677521, 0.6567416787147522, 0.18352848291397095, 0.8258781433105469, 0.5618418455123901, 0.44947350025177, 0.16076016426086426, 0.8267665505409241, 0.6289137601852417, 0.37734824419021606, 0.8391785025596619, 0.18648411333560944, 0.9259325265884399, 0.9250861406326294, 0.7469836473464966, 0.1383705884218216, 0.8763470649719238, 0.06279847770929337, 0.9419772028923035, 0.6288502216339111, 0.3773101568222046, 0.925026535987854, 0.9251784682273865, 0.06283287703990936, 0.9424931406974792, 0.5546258687973022, 0.45063355565071106, 0.06289909780025482, 0.9434864521026611, 0.9274661540985107, 0.15457768738269806, 0.6695882081985474, 0.3347941040992737, 0.7075549960136414, 0.2695447504520416, 0.1382203847169876, 0.8523590564727783, 0.06283366680145264, 0.9425050616264343, 0.0627964586019516, 0.9419468641281128, 0.6498772501945496, 0.3499338924884796, 0.6736235618591309, 0.32433727383613586, 0.7867239117622375, 0.22477826476097107, 0.8407337069511414, 0.1681467443704605, 0.06289222091436386, 0.9433832764625549, 0.6258988380432129, 0.37553930282592773, 0.7874593138694763, 0.22498838603496552, 0.8384177684783936, 0.16768355667591095, 0.49208328127861023, 0.5065563321113586, 0.40868470072746277, 0.5984311699867249, 0.13837683200836182, 0.8763865828514099, 0.9254508018493652, 0.6017844676971436, 0.3973320424556732, 0.8908980488777161, 0.11136225610971451, 0.06269319355487823, 0.9403979182243347, 0.7297991514205933, 0.24326638877391815, 0.6540817618370056, 0.346278578042984, 0.8874076008796692, 0.12677250802516937, 0.8287277221679688, 0.15538644790649414, 0.8265366554260254, 0.1907392293214798, 0.629308819770813, 0.3775852918624878, 0.06284831464290619, 0.9427246451377869, 0.6502224802970886, 0.35011979937553406, 0.13820858299732208, 0.8522862792015076], \"Term\": [\"actually kind_kind suction\", \"actually kind_kind suction\", \"actually_kind\", \"actually_kind\", \"addition\", \"addition existing\", \"amazon delivers_delivers millions\", \"amazon delivers_delivers millions\", \"amazon desistiu_desistiu de\", \"amazon desistiu_desistiu de\", \"apa itu\", \"automatically\", \"automatically high\", \"bab\", \"beach_somehow\", \"beach_somehow\", \"blowing red_red light\", \"blowing red_red light\", \"build electric_electric suvs\", \"build electric_electric suvs\", \"cabin\", \"cabin overheat\", \"cabin_temperature\", \"cabin_temperature\", \"come\", \"come automatically\", \"comfortable_letting\", \"comfortable_letting\", \"contra oferta_oferta de\", \"contra oferta_oferta de\", \"crashed_police released\", \"crashed_police released\", \"debate_either elon\", \"debate_either elon\", \"delivers_millions\", \"delivers_millions\", \"dog comfortable_comfortable letting\", \"dog comfortable_comfortable letting\", \"dog mode_mode set\", \"dog mode_mode set\", \"driver_watch slammed\", \"driver_watch slammed\", \"either_elon\", \"either_elon\", \"electric_suvs\", \"electric_suvs\", \"elon musk_musk goes\", \"elon musk_musk goes\", \"ensure\", \"ensure bab\", \"existing\", \"existing cabin\", \"fa fa_fa fa\", \"fa_fa\", \"fa_fa\", \"fine win_win take\", \"fine win_win take\", \"fine_win\", \"fine_win\", \"get\", \"get\", \"goes not_not debate\", \"goes not_not debate\", \"goes tesla_tesla goes\", \"goes tesla_tesla goes\", \"goes_not\", \"goes_not\", \"going_miles\", \"going_miles\", \"growing\", \"high temps\", \"hour_ran\", \"hour_ran\", \"introducing_dog\", \"introducing_dog\", \"keep_dog\", \"keep_dog\", \"know not_not need\", \"know not_not need\", \"letting passersby_passersby know\", \"letting passersby_passersby know\", \"light crashed\", \"light crashed\", \"light mph_mph miami\", \"light mph_mph miami\", \"miami beach_beach somehow\", \"miami beach_beach somehow\", \"miles hour_hour ran\", \"miles hour_hour ran\", \"mode anjing\", \"mode_set\", \"mode_set\", \"model\", \"model\", \"moment_tesla\", \"moment_tesla\", \"motors pamerkan\", \"mph_miami\", \"mph_miami\", \"musk_goes\", \"musk_goes\", \"nail https\", \"nail https\", \"nail_https\", \"nail_https\", \"nan\", \"nan\", \"need worry\", \"need worry\", \"not\", \"not\", \"not_need\", \"not_need\", \"notifies_owners\", \"notifies_owners\", \"nova_iorque\", \"nova_iorque\", \"overheat\", \"overheat protection\", \"pamerkan\", \"passersby_know\", \"passersby_know\", \"police_released\", \"police_released\", \"potential_sentry activated\", \"potential_sentry activated\", \"protection\", \"protection come\", \"ran red_red light\", \"ran red_red light\", \"red_light\", \"red_light\", \"released shocking_shocking surveillance\", \"released shocking_shocking surveillance\", \"rivian_build\", \"rivian_build\", \"sensors_tesla\", \"sensors_tesla\", \"sentry_mode\", \"sentry_mode\", \"set cabin_cabin temperature\", \"set cabin_cabin temperature\", \"shocking_surveillance\", \"shocking_surveillance\", \"showing moment_moment tesla\", \"showing moment_moment tesla\", \"slammed suv_suv blowing\", \"slammed suv_suv blowing\", \"somehow driver\", \"somehow driver\", \"suction plasma_plasma tesla\", \"suction plasma_plasma tesla\", \"suction_plasma\", \"suction_plasma\", \"surveillance video_video showing\", \"surveillance video_video showing\", \"suv_blowing\", \"suv_blowing\", \"syringe helped_helped nail\", \"syringe helped_helped nail\", \"syringe_helped\", \"syringe_helped\", \"take money\", \"take money\", \"take_money\", \"take_money\", \"temperature keep_keep dog\", \"temperature keep_keep dog\", \"temps ensure\", \"tesla\", \"tesla\", \"tesla coil_coil syringe\", \"tesla coil_coil syringe\", \"tesla going_going miles\", \"tesla going_going miles\", \"tesla model\", \"tesla model\", \"tesla sentry_sentry mode\", \"tesla sentry_sentry mode\", \"tesla xyecla\", \"tesla xyecla\", \"tesla_coil\", \"tesla_coil\", \"tesla_xyecla\", \"tesla_xyecla\", \"using_cameras\", \"using_cameras\", \"video_showing\", \"video_showing\", \"watch_slammed\", \"watch_slammed\", \"worry_introducing dog\", \"worry_introducing dog\"]}, \"R\": 30, \"lambda.step\": 0.01, \"plot.opts\": {\"xlab\": \"PC1\", \"ylab\": \"PC2\"}, \"topic.order\": [1, 2]};\n",
       "\n",
       "function LDAvis_load_lib(url, callback){\n",
       "  var s = document.createElement('script');\n",
       "  s.src = url;\n",
       "  s.async = true;\n",
       "  s.onreadystatechange = s.onload = callback;\n",
       "  s.onerror = function(){console.warn(\"failed to load library \" + url);};\n",
       "  document.getElementsByTagName(\"head\")[0].appendChild(s);\n",
       "}\n",
       "\n",
       "if(typeof(LDAvis) !== \"undefined\"){\n",
       "   // already loaded: just create the visualization\n",
       "   !function(LDAvis){\n",
       "       new LDAvis(\"#\" + \"ldavis_el579150379229685538199641\", ldavis_el579150379229685538199641_data);\n",
       "   }(LDAvis);\n",
       "}else if(typeof define === \"function\" && define.amd){\n",
       "   // require.js is available: use it to load d3/LDAvis\n",
       "   require.config({paths: {d3: \"https://cdnjs.cloudflare.com/ajax/libs/d3/3.5.5/d3.min\"}});\n",
       "   require([\"d3\"], function(d3){\n",
       "      window.d3 = d3;\n",
       "      LDAvis_load_lib(\"https://cdn.rawgit.com/bmabey/pyLDAvis/files/ldavis.v1.0.0.js\", function(){\n",
       "        new LDAvis(\"#\" + \"ldavis_el579150379229685538199641\", ldavis_el579150379229685538199641_data);\n",
       "      });\n",
       "    });\n",
       "}else{\n",
       "    // require.js not available: dynamically load d3 & LDAvis\n",
       "    LDAvis_load_lib(\"https://cdnjs.cloudflare.com/ajax/libs/d3/3.5.5/d3.min.js\", function(){\n",
       "         LDAvis_load_lib(\"https://cdn.rawgit.com/bmabey/pyLDAvis/files/ldavis.v1.0.0.js\", function(){\n",
       "                 new LDAvis(\"#\" + \"ldavis_el579150379229685538199641\", ldavis_el579150379229685538199641_data);\n",
       "            })\n",
       "         });\n",
       "}\n",
       "</script>"
      ],
      "text/plain": [
       "PreparedData(topic_coordinates=            Freq  cluster  topics         x    y\n",
       "topic                                           \n",
       "0      53.059788        1       1  0.040739  0.0\n",
       "1      46.940220        1       2 -0.040739  0.0, topic_info=     Category        Freq                                     Term  \\\n",
       "term                                                                 \n",
       "211   Default   43.000000                temperature keep_keep dog   \n",
       "209   Default   43.000000                           passersby_know   \n",
       "199   Default   43.000000                      comfortable_letting   \n",
       "198   Default   43.000000                        cabin_temperature   \n",
       "210   Default   43.000000              set cabin_cabin temperature   \n",
       "212   Default   43.000000                    worry_introducing dog   \n",
       "200   Default   43.000000      dog comfortable_comfortable letting   \n",
       "202   Default   44.000000                          introducing_dog   \n",
       "203   Default   43.000000                                 keep_dog   \n",
       "205   Default   43.000000         letting passersby_passersby know   \n",
       "208   Default   43.000000                                 not_need   \n",
       "207   Default   43.000000                               need worry   \n",
       "206   Default   44.000000                                 mode_set   \n",
       "201   Default   43.000000                        dog mode_mode set   \n",
       "204   Default   43.000000                        know not_not need   \n",
       "864   Default   15.000000                              going_miles   \n",
       "863   Default   15.000000                  crashed_police released   \n",
       "871   Default   15.000000  released shocking_shocking surveillance   \n",
       "874   Default   15.000000         surveillance video_video showing   \n",
       "866   Default   15.000000                            light crashed   \n",
       "876   Default   15.000000                            video_showing   \n",
       "867   Default   15.000000                      miles hour_hour ran   \n",
       "872   Default   15.000000                    shocking_surveillance   \n",
       "870   Default   15.000000                        ran red_red light   \n",
       "868   Default   15.000000                             moment_tesla   \n",
       "865   Default   15.000000                                 hour_ran   \n",
       "869   Default   15.000000                          police_released   \n",
       "873   Default   15.000000              showing moment_moment tesla   \n",
       "875   Default   15.000000                  tesla going_going miles   \n",
       "359   Default   17.000000                            actually_kind   \n",
       "...       ...         ...                                      ...   \n",
       "199    Topic2   37.819416                      comfortable_letting   \n",
       "198    Topic2   37.793056                        cabin_temperature   \n",
       "567    Topic2    2.881947                              fa fa_fa fa   \n",
       "210    Topic2   37.384270              set cabin_cabin temperature   \n",
       "212    Topic2   37.348480                    worry_introducing dog   \n",
       "200    Topic2   37.340797      dog comfortable_comfortable letting   \n",
       "569    Topic2    2.830144                                    fa_fa   \n",
       "202    Topic2   37.831951                          introducing_dog   \n",
       "203    Topic2   36.670429                                 keep_dog   \n",
       "3180   Topic2    2.250164                                  apa itu   \n",
       "3185   Topic2    2.241641                                 pamerkan   \n",
       "3184   Topic2    2.236086                          motors pamerkan   \n",
       "4523   Topic2    2.235353                                  growing   \n",
       "3182   Topic2    2.233113                              mode anjing   \n",
       "205    Topic2   36.216896         letting passersby_passersby know   \n",
       "208    Topic2   36.091286                                 not_need   \n",
       "207    Topic2   35.640030                               need worry   \n",
       "206    Topic2   35.984108                                 mode_set   \n",
       "201    Topic2   35.352119                        dog mode_mode set   \n",
       "204    Topic2   34.858780                        know not_not need   \n",
       "250    Topic2   21.365858                                      nan   \n",
       "41     Topic2   40.850632                               take_money   \n",
       "18     Topic2  102.920158                                    tesla   \n",
       "39     Topic2   38.338543                                 fine_win   \n",
       "38     Topic2   37.829021                        fine win_win take   \n",
       "40     Topic2   35.247726                               take money   \n",
       "374    Topic2   25.897449                                red_light   \n",
       "100    Topic2   19.895885                                      not   \n",
       "48     Topic2   17.377031                                    model   \n",
       "369    Topic2   15.258712                    blowing red_red light   \n",
       "\n",
       "           Total  loglift  logprob  \n",
       "term                                \n",
       "211    43.000000  30.0000  30.0000  \n",
       "209    43.000000  29.0000  29.0000  \n",
       "199    43.000000  28.0000  28.0000  \n",
       "198    43.000000  27.0000  27.0000  \n",
       "210    43.000000  26.0000  26.0000  \n",
       "212    43.000000  25.0000  25.0000  \n",
       "200    43.000000  24.0000  24.0000  \n",
       "202    44.000000  23.0000  23.0000  \n",
       "203    43.000000  22.0000  22.0000  \n",
       "205    43.000000  21.0000  21.0000  \n",
       "208    43.000000  20.0000  20.0000  \n",
       "207    43.000000  19.0000  19.0000  \n",
       "206    44.000000  18.0000  18.0000  \n",
       "201    43.000000  17.0000  17.0000  \n",
       "204    43.000000  16.0000  16.0000  \n",
       "864    15.000000  15.0000  15.0000  \n",
       "863    15.000000  14.0000  14.0000  \n",
       "871    15.000000  13.0000  13.0000  \n",
       "874    15.000000  12.0000  12.0000  \n",
       "866    15.000000  11.0000  11.0000  \n",
       "876    15.000000  10.0000  10.0000  \n",
       "867    15.000000   9.0000   9.0000  \n",
       "872    15.000000   8.0000   8.0000  \n",
       "870    15.000000   7.0000   7.0000  \n",
       "868    15.000000   6.0000   6.0000  \n",
       "865    15.000000   5.0000   5.0000  \n",
       "869    15.000000   4.0000   4.0000  \n",
       "873    15.000000   3.0000   3.0000  \n",
       "875    15.000000   2.0000   2.0000  \n",
       "359    17.000000   1.0000   1.0000  \n",
       "...          ...      ...      ...  \n",
       "199    43.363766   0.6195  -5.0439  \n",
       "198    43.366508   0.6187  -5.0446  \n",
       "567     3.338501   0.6092  -7.6182  \n",
       "210    43.408936   0.6069  -5.0555  \n",
       "212    43.412643   0.6058  -5.0564  \n",
       "200    43.413448   0.6056  -5.0566  \n",
       "569     3.343878   0.5895  -7.6364  \n",
       "202    44.817516   0.5869  -5.0436  \n",
       "203    43.483013   0.5859  -5.0747  \n",
       "3180    2.676550   0.5828  -7.8657  \n",
       "3185    2.677435   0.5786  -7.8695  \n",
       "3184    2.678012   0.5759  -7.8720  \n",
       "4523    2.678087   0.5756  -7.8723  \n",
       "3182    2.678320   0.5745  -7.8733  \n",
       "205    43.530098   0.5724  -5.0872  \n",
       "208    43.543125   0.5686  -5.0907  \n",
       "207    43.589966   0.5549  -5.1032  \n",
       "206    44.281773   0.5488  -5.0936  \n",
       "201    43.619839   0.5461  -5.1114  \n",
       "204    43.671040   0.5309  -5.1254  \n",
       "250    31.976044   0.3531  -5.6149  \n",
       "41     68.512474   0.2392  -4.9668  \n",
       "18    259.229034  -0.1675  -4.0428  \n",
       "39     68.045692   0.1826  -5.0303  \n",
       "38     68.098557   0.1684  -5.0436  \n",
       "40     69.093994   0.0832  -5.1143  \n",
       "374    57.696548  -0.0448  -5.4226  \n",
       "100    44.496506  -0.0486  -5.6862  \n",
       "48     40.392799  -0.0872  -5.8216  \n",
       "369    39.885132  -0.2046  -5.9516  \n",
       "\n",
       "[148 rows x 6 columns], token_table=      Topic      Freq                               Term\n",
       "term                                                    \n",
       "358       1  0.837475         actually kind_kind suction\n",
       "358       2  0.167495         actually kind_kind suction\n",
       "359       1  0.889678                      actually_kind\n",
       "359       2  0.111210                      actually_kind\n",
       "213       1  0.925400                           addition\n",
       "214       1  0.925748                  addition existing\n",
       "835       1  0.868255  amazon delivers_delivers millions\n",
       "835       2  0.173651  amazon delivers_delivers millions\n",
       "284       1  0.837953        amazon desistiu_desistiu de\n",
       "284       2  0.186212        amazon desistiu_desistiu de\n",
       "3180      2  0.747230                            apa itu\n",
       "215       1  0.990133                      automatically\n",
       "216       1  0.925947                 automatically high\n",
       "217       1  0.925373                                bab\n",
       "368       1  0.649610                      beach_somehow\n",
       "368       2  0.349790                      beach_somehow\n",
       "369       1  0.626800              blowing red_red light\n",
       "369       2  0.376080              blowing red_red light\n",
       "837       1  0.868870       build electric_electric suvs\n",
       "837       2  0.173774       build electric_electric suvs\n",
       "218       1  0.924932                              cabin\n",
       "219       1  0.925265                     cabin overheat\n",
       "198       1  0.138356                  cabin_temperature\n",
       "198       2  0.876252                  cabin_temperature\n",
       "220       1  0.925609                               come\n",
       "221       1  0.925099                 come automatically\n",
       "199       1  0.138364                comfortable_letting\n",
       "199       2  0.876308                comfortable_letting\n",
       "288       1  0.838281            contra oferta_oferta de\n",
       "288       2  0.186285            contra oferta_oferta de\n",
       "...     ...       ...                                ...\n",
       "40        2  0.506556                         take money\n",
       "41        1  0.408685                         take_money\n",
       "41        2  0.598431                         take_money\n",
       "211       1  0.138377          temperature keep_keep dog\n",
       "211       2  0.876387          temperature keep_keep dog\n",
       "233       1  0.925451                       temps ensure\n",
       "18        1  0.601784                              tesla\n",
       "18        2  0.397332                              tesla\n",
       "366       1  0.890898            tesla coil_coil syringe\n",
       "366       2  0.111362            tesla coil_coil syringe\n",
       "875       1  0.062693            tesla going_going miles\n",
       "875       2  0.940398            tesla going_going miles\n",
       "52        1  0.729799                        tesla model\n",
       "52        2  0.243266                        tesla model\n",
       "936       1  0.654082           tesla sentry_sentry mode\n",
       "936       2  0.346279           tesla sentry_sentry mode\n",
       "62        1  0.887408                       tesla xyecla\n",
       "62        2  0.126773                       tesla xyecla\n",
       "367       1  0.828728                         tesla_coil\n",
       "367       2  0.155386                         tesla_coil\n",
       "63        1  0.826537                       tesla_xyecla\n",
       "63        2  0.190739                       tesla_xyecla\n",
       "937       1  0.629309                      using_cameras\n",
       "937       2  0.377585                      using_cameras\n",
       "876       1  0.062848                      video_showing\n",
       "876       2  0.942725                      video_showing\n",
       "378       1  0.650222                      watch_slammed\n",
       "378       2  0.350120                      watch_slammed\n",
       "212       1  0.138209              worry_introducing dog\n",
       "212       2  0.852286              worry_introducing dog\n",
       "\n",
       "[193 rows x 3 columns], R=30, lambda_step=0.01, plot_opts={'xlab': 'PC1', 'ylab': 'PC2'}, topic_order=[1, 2])"
      ]
     },
     "execution_count": 30,
     "metadata": {},
     "output_type": "execute_result"
    },
    {
     "data": {
      "text/plain": [
       "<Figure size 720x576 with 0 Axes>"
      ]
     },
     "metadata": {},
     "output_type": "display_data"
    }
   ],
   "source": [
    "plt.figure(figsize=(10,8))\n",
    "p = pyLDAvis.enable_notebook()\n",
    "p = pyLDAvis.gensim.prepare(lda, corpus, dictionary)\n",
    "p"
   ]
  },
  {
   "cell_type": "code",
   "execution_count": 32,
   "metadata": {},
   "outputs": [
    {
     "name": "stderr",
     "output_type": "stream",
     "text": [
      "UsageError: Cell magic `%%timwe` not found.\n"
     ]
    }
   ],
   "source": [
    "%%timwe\n",
    "pyLDAvis.save_html(p, 'lda1000_for_Tesla_company.html')"
   ]
  },
  {
   "cell_type": "code",
   "execution_count": null,
   "metadata": {},
   "outputs": [],
   "source": []
  },
  {
   "cell_type": "code",
   "execution_count": null,
   "metadata": {},
   "outputs": [],
   "source": []
  },
  {
   "cell_type": "code",
   "execution_count": 33,
   "metadata": {},
   "outputs": [
    {
     "name": "stdout",
     "output_type": "stream",
     "text": [
      "threshold for probability: 0.5000000011785887\n",
      "CPU times: user 655 ms, sys: 23.1 ms, total: 678 ms\n",
      "Wall time: 666 ms\n"
     ]
    }
   ],
   "source": [
    "%%time\n",
    "probability_list,lebal_list = find_probility_for_label(lda, corpus)\n",
    "prob,arrow_probability =  arrowforlebels(probability_list,lebal_list,num_topics=2)"
   ]
  },
  {
   "cell_type": "code",
   "execution_count": 35,
   "metadata": {},
   "outputs": [
    {
     "data": {
      "text/plain": [
       "Text(0.5, 1.0, 'possible for every class (LDA classfication)')"
      ]
     },
     "execution_count": 35,
     "metadata": {},
     "output_type": "execute_result"
    },
    {
     "data": {
      "image/png": "[encoded data removed]",
      "text/plain": [
       "<Figure size 1008x360 with 1 Axes>"
      ]
     },
     "metadata": {
      "needs_background": "light"
     },
     "output_type": "display_data"
    }
   ],
   "source": [
    "plt.figure(figsize=(14,5))\n",
    "g = sns.barplot(x=np.arange(0,2),y=prob)\n",
    "for i in range(2):\n",
    "      g.text(i,prob[i], round(prob[i],2), color='black', ha=\"center\")\n",
    "plt.xlabel(\"number-of-class\")\n",
    "plt.ylabel('probability)(%100)')\n",
    "plt.title('possible for every class (LDA classfication)')"
   ]
  },
  {
   "cell_type": "code",
   "execution_count": 36,
   "metadata": {},
   "outputs": [],
   "source": [
    "def stick_label(arrow_probability):\n",
    "    label= []\n",
    "    for probs in arrow_probability:\n",
    "        for num,prob in enumerate(probs):\n",
    "            if prob == max(probs):\n",
    "                label.append(num)\n",
    "    return label\n",
    "label_list = stick_label(arrow_probability)"
   ]
  },
  {
   "cell_type": "code",
   "execution_count": 37,
   "metadata": {},
   "outputs": [
    {
     "data": {
      "text/html": [
       "<div>\n",
       "<style scoped>\n",
       "    .dataframe tbody tr th:only-of-type {\n",
       "        vertical-align: middle;\n",
       "    }\n",
       "\n",
       "    .dataframe tbody tr th {\n",
       "        vertical-align: top;\n",
       "    }\n",
       "\n",
       "    .dataframe thead th {\n",
       "        text-align: right;\n",
       "    }\n",
       "</style>\n",
       "<table border=\"1\" class=\"dataframe\">\n",
       "  <thead>\n",
       "    <tr style=\"text-align: right;\">\n",
       "      <th></th>\n",
       "      <th>created_at</th>\n",
       "      <th>text</th>\n",
       "      <th>label_topicModels</th>\n",
       "    </tr>\n",
       "  </thead>\n",
       "  <tbody>\n",
       "    <tr>\n",
       "      <th>0</th>\n",
       "      <td>2011-07-19</td>\n",
       "      <td>difference going stellar marketp</td>\n",
       "      <td>1</td>\n",
       "    </tr>\n",
       "    <tr>\n",
       "      <th>1</th>\n",
       "      <td>2013-01-02</td>\n",
       "      <td>get limitations compared tesla os pressuring a...</td>\n",
       "      <td>0</td>\n",
       "    </tr>\n",
       "    <tr>\n",
       "      <th>2</th>\n",
       "      <td>2012-05-08</td>\n",
       "      <td>grandote asi sincero como los que da mi gato t...</td>\n",
       "      <td>0</td>\n",
       "    </tr>\n",
       "    <tr>\n",
       "      <th>3</th>\n",
       "      <td>2014-10-25</td>\n",
       "      <td>fine win take money</td>\n",
       "      <td>1</td>\n",
       "    </tr>\n",
       "    <tr>\n",
       "      <th>4</th>\n",
       "      <td>2012-05-01</td>\n",
       "      <td>tesla model versus giant snow drift highway video</td>\n",
       "      <td>1</td>\n",
       "    </tr>\n",
       "  </tbody>\n",
       "</table>\n",
       "</div>"
      ],
      "text/plain": [
       "   created_at                                               text  \\\n",
       "0  2011-07-19                   difference going stellar marketp   \n",
       "1  2013-01-02  get limitations compared tesla os pressuring a...   \n",
       "2  2012-05-08  grandote asi sincero como los que da mi gato t...   \n",
       "3  2014-10-25                                fine win take money   \n",
       "4  2012-05-01  tesla model versus giant snow drift highway video   \n",
       "\n",
       "   label_topicModels  \n",
       "0                  1  \n",
       "1                  0  \n",
       "2                  0  \n",
       "3                  1  \n",
       "4                  1  "
      ]
     },
     "execution_count": 37,
     "metadata": {},
     "output_type": "execute_result"
    }
   ],
   "source": [
    "df_data['label_topicModels'] = label_list\n",
    "df_data.head()"
   ]
  },
  {
   "cell_type": "code",
   "execution_count": 38,
   "metadata": {},
   "outputs": [],
   "source": [
    "df_data.to_csv('data/tesla1000_topic_models.csv',index=False)"
   ]
  },
  {
   "cell_type": "code",
   "execution_count": null,
   "metadata": {},
   "outputs": [],
   "source": []
  },
  {
   "cell_type": "code",
   "execution_count": null,
   "metadata": {},
   "outputs": [],
   "source": []
  }
 ],
 "metadata": {
  "kernelspec": {
   "display_name": "Python 3",
   "language": "python",
   "name": "python3"
  },
  "language_info": {
   "codemirror_mode": {
    "name": "ipython",
    "version": 3
   },
   "file_extension": ".py",
   "mimetype": "text/x-python",
   "name": "python",
   "nbconvert_exporter": "python",
   "pygments_lexer": "ipython3",
   "version": "3.6.8"
  }
 },
 "nbformat": 4,
 "nbformat_minor": 2
}
