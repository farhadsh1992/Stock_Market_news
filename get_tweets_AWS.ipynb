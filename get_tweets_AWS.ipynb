{
 "cells": [
  {
   "cell_type": "code",
   "execution_count": null,
   "metadata": {},
   "outputs": [],
   "source": []
  },
  {
   "cell_type": "code",
   "execution_count": null,
   "metadata": {},
   "outputs": [],
   "source": []
  },
  {
   "cell_type": "markdown",
   "metadata": {},
   "source": [
    "## collect twitter form now until ... , with query and number of tweets(item)"
   ]
  },
  {
   "cell_type": "code",
   "execution_count": 1,
   "metadata": {},
   "outputs": [
    {
     "name": "stderr",
     "output_type": "stream",
     "text": [
      "/anaconda3/lib/python3.6/importlib/_bootstrap.py:219: RuntimeWarning: numpy.dtype size changed, may indicate binary incompatibility. Expected 96, got 88\n",
      "  return f(*args, **kwds)\n",
      "/anaconda3/lib/python3.6/importlib/_bootstrap.py:219: RuntimeWarning: numpy.dtype size changed, may indicate binary incompatibility. Expected 96, got 88\n",
      "  return f(*args, **kwds)\n"
     ]
    },
    {
     "name": "stdout",
     "output_type": "stream",
     "text": [
      "------------------------------------------------------------------------\n",
      "collect Tweets with spescial query\n",
      "Class: get_twitter()\n",
      "inpout: uery,item,namesave \n",
      "  \n",
      "def1: authenticate_twitter_app()\n",
      "def2: get_by_query_until()\n",
      "  \n",
      "outpout: df of tweets, csv file\n",
      "------------------------------------------------------------------------\n"
     ]
    }
   ],
   "source": [
    "import datetime\n",
    "from farhad.Get_tweets_awesome import get_twitter \n",
    "import pandas as pd"
   ]
  },
  {
   "cell_type": "code",
   "execution_count": null,
   "metadata": {},
   "outputs": [],
   "source": [
    "namesave = 'collection_tweets_about_tesla2.csv'\n",
    "\n",
    "query = 'Tesla'\n",
    "item = 2000\n",
    "\n",
    "\n",
    "twitter = get_twitter(query,item,namesave)\n",
    "twitter.authenticate_twitter_app()\n",
    "df = twitter.get_by_query_until()"
   ]
  },
  {
   "cell_type": "code",
   "execution_count": null,
   "metadata": {},
   "outputs": [],
   "source": []
  },
  {
   "cell_type": "code",
   "execution_count": 4,
   "metadata": {},
   "outputs": [
    {
     "name": "stdout",
     "output_type": "stream",
     "text": [
      "2015-11-08 06:04:52\n",
      "2016-07-08 07:40:57\n"
     ]
    }
   ],
   "source": [
    "time1 = df.sort_values('created_at')['created_at'][0]\n",
    "time2 = df.sort_values('created_at')['created_at'][len(df)-1]\n",
    "print(time1)\n",
    "print(time2)"
   ]
  },
  {
   "cell_type": "code",
   "execution_count": 64,
   "metadata": {},
   "outputs": [],
   "source": [
    "#df.to_csv('Fourth_colletion_Apple_tweets(1000_{}_{}).csv'.foramt(time1,time2),index=False)"
   ]
  },
  {
   "cell_type": "code",
   "execution_count": null,
   "metadata": {},
   "outputs": [],
   "source": []
  }
 ],
 "metadata": {
  "kernelspec": {
   "display_name": "Python 3",
   "language": "python",
   "name": "python3"
  },
  "language_info": {
   "codemirror_mode": {
    "name": "ipython",
    "version": 3
   },
   "file_extension": ".py",
   "mimetype": "text/x-python",
   "name": "python",
   "nbconvert_exporter": "python",
   "pygments_lexer": "ipython3",
   "version": "3.6.8"
  }
 },
 "nbformat": 4,
 "nbformat_minor": 2
}
