{
 "cells": [
  {
   "cell_type": "code",
   "execution_count": null,
   "metadata": {},
   "outputs": [],
   "source": []
  },
  {
   "cell_type": "code",
   "execution_count": null,
   "metadata": {},
   "outputs": [],
   "source": []
  },
  {
   "cell_type": "markdown",
   "metadata": {},
   "source": [
    "## collect twitter form now until ... , with query and number of tweets(item)"
   ]
  },
  {
   "cell_type": "code",
   "execution_count": 3,
   "metadata": {},
   "outputs": [],
   "source": [
    "import datetime\n",
    "from farhad.Get_tweets_awesome import get_twitter \n",
    "import pandas as pd\n",
    "from pendulum import now"
   ]
  },
  {
   "cell_type": "code",
   "execution_count": null,
   "metadata": {},
   "outputs": [],
   "source": []
  },
  {
   "cell_type": "code",
   "execution_count": 4,
   "metadata": {},
   "outputs": [
    {
     "name": "stdout",
     "output_type": "stream",
     "text": [
      "[Number of Tweets have been gotten:2000][collected tweets]*** DONE!(I am cool) ***\n",
      "2010-05-26 20:00:02\n",
      "2011-04-02 16:29:06\n"
     ]
    }
   ],
   "source": [
    "# max in day is 2627 tweets\n",
    "\n",
    "namesave = 'Collected/Collected_Tweets/Tesla/{}{}{}collection_tweets_about_tesla3.csv'.format(now().year,now().month,now().day)\n",
    "\n",
    "query = 'Tesla'\n",
    "item = 2000\n",
    "\n",
    "\n",
    "twitter = get_twitter(query,item,namesave)\n",
    "twitter.authenticate_twitter_app()\n",
    "df = twitter.get_by_query_until()\n",
    "\n",
    "\n",
    "time1 = df.sort_values('created_at')['created_at'][0]\n",
    "time2 = df.sort_values('created_at')['created_at'][len(df)-1]\n",
    "print(time1)\n",
    "print(time2)"
   ]
  },
  {
   "cell_type": "code",
   "execution_count": null,
   "metadata": {},
   "outputs": [],
   "source": []
  },
  {
   "cell_type": "code",
   "execution_count": 64,
   "metadata": {},
   "outputs": [],
   "source": [
    "#df.to_csv('Fourth_colletion_Apple_tweets(1000_{}_{}).csv'.foramt(time1,time2),index=False)"
   ]
  },
  {
   "cell_type": "code",
   "execution_count": null,
   "metadata": {},
   "outputs": [],
   "source": []
  }
 ],
 "metadata": {
  "kernelspec": {
   "display_name": "Python 3",
   "language": "python",
   "name": "python3"
  },
  "language_info": {
   "codemirror_mode": {
    "name": "ipython",
    "version": 3
   },
   "file_extension": ".py",
   "mimetype": "text/x-python",
   "name": "python",
   "nbconvert_exporter": "python",
   "pygments_lexer": "ipython3",
   "version": "3.6.8"
  }
 },
 "nbformat": 4,
 "nbformat_minor": 2
}
