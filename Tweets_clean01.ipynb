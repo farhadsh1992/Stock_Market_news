{
 "cells": [
  {
   "cell_type": "code",
   "execution_count": null,
   "metadata": {},
   "outputs": [],
   "source": []
  },
  {
   "cell_type": "code",
   "execution_count": null,
   "metadata": {},
   "outputs": [],
   "source": []
  },
  {
   "cell_type": "code",
   "execution_count": null,
   "metadata": {},
   "outputs": [],
   "source": []
  },
  {
   "cell_type": "code",
   "execution_count": 1,
   "metadata": {},
   "outputs": [
    {
     "name": "stderr",
     "output_type": "stream",
     "text": [
      "/anaconda3/lib/python3.6/importlib/_bootstrap.py:219: RuntimeWarning: numpy.dtype size changed, may indicate binary incompatibility. Expected 96, got 88\n",
      "  return f(*args, **kwds)\n",
      "/anaconda3/lib/python3.6/importlib/_bootstrap.py:219: RuntimeWarning: numpy.dtype size changed, may indicate binary incompatibility. Expected 96, got 88\n",
      "  return f(*args, **kwds)\n"
     ]
    },
    {
     "name": "stdout",
     "output_type": "stream",
     "text": [
      "------------------------------------------------------------------------\n",
      "Class:  Tweets_preprocesiing \n",
      "\n",
      "input: df\n",
      "Function:\n",
      "          data = Cleaner(df)\n",
      "          data = Remove_stop_words(df)\n",
      "          newdf = save_clean_tweets(df,new_data,created_at='created_at',name='clean.csv')\n",
      "\n",
      " \n",
      "------------------------------------------------------------------------\n"
     ]
    }
   ],
   "source": [
    "from farhad.TwCleaner import Tweets_preprocesiing\n",
    "import pandas as pd"
   ]
  },
  {
   "cell_type": "code",
   "execution_count": 2,
   "metadata": {},
   "outputs": [
    {
     "data": {
      "text/html": [
       "<div>\n",
       "<style scoped>\n",
       "    .dataframe tbody tr th:only-of-type {\n",
       "        vertical-align: middle;\n",
       "    }\n",
       "\n",
       "    .dataframe tbody tr th {\n",
       "        vertical-align: top;\n",
       "    }\n",
       "\n",
       "    .dataframe thead th {\n",
       "        text-align: right;\n",
       "    }\n",
       "</style>\n",
       "<table border=\"1\" class=\"dataframe\">\n",
       "  <thead>\n",
       "    <tr style=\"text-align: right;\">\n",
       "      <th></th>\n",
       "      <th>name</th>\n",
       "      <th>screen_name</th>\n",
       "      <th>text</th>\n",
       "      <th>created_at</th>\n",
       "      <th>geo</th>\n",
       "      <th>source</th>\n",
       "      <th>data_location</th>\n",
       "    </tr>\n",
       "  </thead>\n",
       "  <tbody>\n",
       "    <tr>\n",
       "      <th>0</th>\n",
       "      <td>Dennis Gots</td>\n",
       "      <td>DennisGots</td>\n",
       "      <td>@_Varkeer @Moose25101202 @XLM_Top @Ripple @Bil...</td>\n",
       "      <td>2011-07-19 20:24:52</td>\n",
       "      <td>NaN</td>\n",
       "      <td>Twitter for iPhone</td>\n",
       "      <td>NaN</td>\n",
       "    </tr>\n",
       "    <tr>\n",
       "      <th>1</th>\n",
       "      <td>Nikolaj Hansen-Turton</td>\n",
       "      <td>nikolajht</td>\n",
       "      <td>@pietrodimeglio @verge @Tesla I get the limita...</td>\n",
       "      <td>2013-01-02 06:08:48</td>\n",
       "      <td>NaN</td>\n",
       "      <td>Twitter for iPhone</td>\n",
       "      <td>Philadelphia, PA</td>\n",
       "    </tr>\n",
       "  </tbody>\n",
       "</table>\n",
       "</div>"
      ],
      "text/plain": [
       "                    name screen_name  \\\n",
       "0            Dennis Gots  DennisGots   \n",
       "1  Nikolaj Hansen-Turton   nikolajht   \n",
       "\n",
       "                                                text           created_at  \\\n",
       "0  @_Varkeer @Moose25101202 @XLM_Top @Ripple @Bil...  2011-07-19 20:24:52   \n",
       "1  @pietrodimeglio @verge @Tesla I get the limita...  2013-01-02 06:08:48   \n",
       "\n",
       "   geo              source     data_location  \n",
       "0  NaN  Twitter for iPhone               NaN  \n",
       "1  NaN  Twitter for iPhone  Philadelphia, PA  "
      ]
     },
     "execution_count": 2,
     "metadata": {},
     "output_type": "execute_result"
    }
   ],
   "source": [
    "df = pd.read_csv('data2/Secound_collection_tweets_about_tesla.csv')\n",
    "#df = df.dropna()\n",
    "df.head(2)"
   ]
  },
  {
   "cell_type": "code",
   "execution_count": 3,
   "metadata": {},
   "outputs": [
    {
     "name": "stdout",
     "output_type": "stream",
     "text": [
      "<class 'pandas.core.frame.DataFrame'>\n",
      "RangeIndex: 1000 entries, 0 to 999\n",
      "Data columns (total 7 columns):\n",
      "name             1000 non-null object\n",
      "screen_name      1000 non-null object\n",
      "text             1000 non-null object\n",
      "created_at       1000 non-null object\n",
      "geo              1 non-null object\n",
      "source           1000 non-null object\n",
      "data_location    693 non-null object\n",
      "dtypes: object(7)\n",
      "memory usage: 54.8+ KB\n"
     ]
    }
   ],
   "source": [
    "df.info()"
   ]
  },
  {
   "cell_type": "code",
   "execution_count": 4,
   "metadata": {},
   "outputs": [
    {
     "name": "stdout",
     "output_type": "stream",
     "text": [
      "[1000/1000][clean tweets]*** Done! ***\n",
      "[1000/1000][Remove stop_words]*** Done! ***\n"
     ]
    }
   ],
   "source": [
    "CT = Tweets_preprocesiing()\n",
    "data1 = CT.Cleaner(df['text'])\n",
    "data = CT.Remove_stop_words(data1)\n",
    "new_df = save_clean_tweets(df,data,created_at='created_at',name='tesla_clean_1000size.csv')"
   ]
  },
  {
   "cell_type": "markdown",
   "metadata": {},
   "source": [
    "# Label_price"
   ]
  },
  {
   "cell_type": "code",
   "execution_count": null,
   "metadata": {},
   "outputs": [],
   "source": [
    "df_data = pd.read_csv('data/tesla1000_topic_models.csv')\n",
    "df_data.head()"
   ]
  },
  {
   "cell_type": "code",
   "execution_count": null,
   "metadata": {},
   "outputs": [],
   "source": []
  },
  {
   "cell_type": "code",
   "execution_count": null,
   "metadata": {},
   "outputs": [],
   "source": []
  },
  {
   "cell_type": "code",
   "execution_count": null,
   "metadata": {},
   "outputs": [],
   "source": []
  },
  {
   "cell_type": "code",
   "execution_count": null,
   "metadata": {},
   "outputs": [],
   "source": []
  }
 ],
 "metadata": {
  "kernelspec": {
   "display_name": "Python 3",
   "language": "python",
   "name": "python3"
  },
  "language_info": {
   "codemirror_mode": {
    "name": "ipython",
    "version": 3
   },
   "file_extension": ".py",
   "mimetype": "text/x-python",
   "name": "python",
   "nbconvert_exporter": "python",
   "pygments_lexer": "ipython3",
   "version": "3.6.8"
  }
 },
 "nbformat": 4,
 "nbformat_minor": 2
}
