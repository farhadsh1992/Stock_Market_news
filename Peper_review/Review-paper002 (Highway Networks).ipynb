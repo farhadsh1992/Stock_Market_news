{
 "cells": [
  {
   "cell_type": "markdown",
   "metadata": {},
   "source": [
    "<div style=\"width:100%;height:100px;text-align:center;border: 4px solid black;background-color:#4D0033;color:white\">\n",
    "\n",
    "<header style=\"width:100%;height:100px;\">\n",
    "  <h1><b> Chapter 002</b></h1>\n",
    "    <h4> Review Paper </h4>\n",
    "</header>\n",
    "\n",
    "<div> "
   ]
  },
  {
   "cell_type": "code",
   "execution_count": null,
   "metadata": {},
   "outputs": [],
   "source": []
  },
  {
   "cell_type": "markdown",
   "metadata": {},
   "source": [
    "<div style='border: 4px solid #4D0033;padding:9px;'>\n",
    "\n",
    "By: Farhad Shadmand \n",
    "    \n",
    "https://github.com/farhadsh1992\n",
    "    \n",
    "</div>"
   ]
  },
  {
   "cell_type": "markdown",
   "metadata": {},
   "source": [
    "<div style=\"border: 4px solid #4D0033;background-color:#BFE6FF;color:black;border-radius: 5px;padding:7px\">\n",
    "  <strong> Refrence: </strong><br>\n",
    "        \n",
    "        \n",
    "</div>"
   ]
  },
  {
   "cell_type": "code",
   "execution_count": null,
   "metadata": {},
   "outputs": [],
   "source": []
  },
  {
   "cell_type": "markdown",
   "metadata": {},
   "source": [
    "<div style=\"border: 4px solid #4D0033;background-color:#00404D;color:black;border-radius: 5px;padding:7px;color:white;\">\n",
    "  <strong> Summary: </strong><br>\n",
    "        \n",
    "        \n",
    "</div>"
   ]
  },
  {
   "cell_type": "code",
   "execution_count": null,
   "metadata": {},
   "outputs": [],
   "source": []
  },
  {
   "cell_type": "markdown",
   "metadata": {},
   "source": [
    "<div style=\"width:25%;height:40px;border: 4px solid black;background-color:#009999;color:white;text-align:center;border-radius:0px 25px 25px 0px;padding:3px\">\n",
    "    <h4> contents-Paper:  </h4>\n",
    "</div>\n",
    "\n"
   ]
  },
  {
   "cell_type": "markdown",
   "metadata": {},
   "source": [
    "<div style=\"text-align:center;height:45px\">\n",
    "<div style=\"width:49%;height:30px;position:absolute;left:0 ;border: 4px solid black;background-color:#4D0033;color:white;text-align:center;border-radius:25px 25px 25px 25px;padding:3px\">\n",
    "    <h6><a href=\"A\" style=\"position: relative;padding:5px;color:white;text-align: center;\"> Highway Networks, by Srivastava, 2015 </a></h6>\n",
    "</div>\n",
    "<div style=\"width:49%;height:30px;position:absolute;left:50% ;border: 4px solid black;background-color:#4D0033;color:white;text-align:center;border-radius:25px 25px 25px 25px;padding:3px\">\n",
    "    <h6><a href=\"B\" style=\"position: relative;padding:5px;color:white;text-align: center;\">   </a></h6>\n",
    "</div>\n",
    "</div>"
   ]
  },
  {
   "cell_type": "code",
   "execution_count": null,
   "metadata": {},
   "outputs": [],
   "source": []
  },
  {
   "cell_type": "markdown",
   "metadata": {},
   "source": [
    "<div id=\"A\" style=\"width:100%;height:70px;border: 4px solid black;background-color:#4D0033;color:white;text-align:center;border-radius: 25px;padding:3px\">\n",
    "    <h3>    </h3>\n",
    "    <h5>     </h5>\n",
    "</div>"
   ]
  },
  {
   "cell_type": "markdown",
   "metadata": {},
   "source": [
    "<div style=\"width:50%;height:40px;border: 4px solid black;background-color:#009999;color:white;text-align:center;border-radius:0px 25px 25px 0px;padding:3px\">\n",
    "    <h4> :  </h4>\n",
    "</div>"
   ]
  },
  {
   "cell_type": "markdown",
   "metadata": {},
   "source": [
    "<div style=\"width:100%;height:40px;border: 4px solid black;background-color:#1E00B3;color:white;text-align:center;border-radius: 25px;padding:3px\">\n",
    "    <h4>   </h4>\n",
    "</div>"
   ]
  },
  {
   "cell_type": "markdown",
   "metadata": {},
   "source": [
    "<div style=\"width:100%;height:40px;border: 4px solid black;background-color:#009999;color:white;text-align:center;border-radius: 25px;padding:3px\">\n",
    "    <h4>   </h4>\n",
    "</div>"
   ]
  },
  {
   "cell_type": "markdown",
   "metadata": {},
   "source": [
    "<img src=\"https://cdn-images-1.medium.com/max/2600/1*Z1DlaJC54ZrgIIyNijtjNQ@2x.jpeg\" style=\"height:320px;width:100%\">"
   ]
  },
  {
   "cell_type": "markdown",
   "metadata": {},
   "source": [
    "<div id=\"A\" style=\"width:100%;height:70px;border: 4px solid black;background-color:#4D0033;color:white;text-align:center;border-radius: 25px;padding:3px\">\n",
    "    <h3>  Highway Networks  </h3>\n",
    "    <h5> 2015, Rupesh Kumar Srivastava    </h5>\n",
    "</div>"
   ]
  },
  {
   "cell_type": "markdown",
   "metadata": {},
   "source": [
    "<div style=\"border: 4px solid #4D0033;background-color:#BFE6FF;color:black;border-radius: 5px;padding:7px\">\n",
    "  <strong> Refrence: </strong><br>\n",
    "    \n",
    "(1) https://arxiv.org/abs/1505.00387\n",
    "    \n",
    "(2) towardsdatascience: https://towardsdatascience.com/review-highway-networks-gating-function-to-highway-image-classification-5a33833797b5\n",
    "    \n",
    "(3) Highway Networks with TensorFlow: https://medium.com/jim-fleming/highway-networks-with-tensorflow-1e6dfa667daa\n",
    "   \n",
    "https://chatbotslife.com/resnets-highwaynets-and-densenets-oh-my-9bb15918ee32    \n",
    "</div>"
   ]
  },
  {
   "cell_type": "markdown",
   "metadata": {},
   "source": [
    "<div style=\"border: 4px solid #4D0033;background-color:#00404D;color:black;border-radius: 5px;padding:7px;color:white;\">\n",
    "  <strong> Summary: </strong><br>\n",
    "    \n",
    "- highway networks allow unimpeded information flow across several layers on information highways.       \n",
    "        \n",
    "</div>"
   ]
  },
  {
   "cell_type": "markdown",
   "metadata": {},
   "source": [
    "it is found that there is difficulties optimizing a very deep neural network. It is probably due to gradient vanishing problem.\n",
    "Authors thereby make use of gating function to adaptively transform or bypass the signal so that the network can go deeper. It is probably due to gradient vanishing problem."
   ]
  },
  {
   "cell_type": "markdown",
   "metadata": {},
   "source": [
    "## **Note:**\n",
    "\n",
    "- This is plenty of theorical and emprical evidance that depth of neural network is a crucial ingradient for thier scuess.\n",
    "\n",
    "- Refer to networks as highway networks with a new  architecture which desgined to ease gradient-base training of very deep network.they allow unimpeded information flow across several layers on information highways.\n",
    "- Training deeper networks is not as straightforward as simply adding layers. Optimization of deep net- works has proven to be considerably more difficult,\n",
    "- Highway model architecture is inspired by Long Short Term Memory recurrent neural networks.\n",
    "- Highway networks as deep as 900 layers can be optimized using simple Stochastic Gradient Descent (SGD) with momentum, for up to 100 layers we compare their training behavior to that of traditional networks with normalized initialization.\n",
    "- the mdoel is tested with **CIFAR-10 dataset**."
   ]
  },
  {
   "cell_type": "markdown",
   "metadata": {},
   "source": [
    "<div style=\"width:50%;height:40px;border: 4px solid black;background-color:#009999;color:white;text-align:center;border-radius:0px 25px 25px 0px;padding:3px\">\n",
    "    <h4> Highway Networks:  </h4>\n",
    "</div>"
   ]
  },
  {
   "cell_type": "code",
   "execution_count": null,
   "metadata": {},
   "outputs": [],
   "source": []
  },
  {
   "cell_type": "markdown",
   "metadata": {},
   "source": [
    "a simple layer of dee learning is typically made from **a transform activation funcation** like $f$:\n",
    "\n",
    "## $ y = f(x,w_h,b) $, \n",
    "\n",
    "x as input  and y as output.\n",
    "for example:\n",
    "\n",
    "$y = f(x.w_h+b) (for Relu)$, \n",
    " \n",
    "But **for highway**, we additionally **define two other nonliear transform funcations**, such that:\n",
    "\n",
    "## $y = f(x,w_h,b).T(x,w_T)+x.C(x,w_C)$\n",
    "\n",
    "That $T(x,w_T)$ is as **the transform gate** and $C(x,w_C)$ is as  **the carry gate**(save Memmory gate) like forget-get in LSTM, They have the responssible that express **how much of the output is produced by transforming the input and carrying it**,<br>\n",
    "For simplicity, in this paper we set C = 1 − T , giving,\n",
    "<div style=\"border:3px solid #4D0033;width:40%;font-size:20px;padding:2%;margin:1%\">\n",
    "$y = f(x,w_h,b).T(x,w_T)+(1-T(x,w_T))$\n",
    "</div>  \n",
    "The dimensionality of $x,y,H(x,W_H) and T(x,W_T)$ must be the same for Equation above to be valid.<br>\n",
    "In particular, observe that\n",
    "\n",
    "<div style=\"border:3px solid #4D0033;width:40%;font-size:20px;padding:2%;margin:1%\">\n",
    " $y=\\begin{cases}\n",
    "    x       & \\quad \\text{if } T(x,w_T) \\text{ =0}\\\\\n",
    "    f(x,w_h,b) & \\quad \\text{if } T(x,w_T) \\text{ =1}\n",
    "  \\end{cases}$\n",
    "  \n",
    "</div>  "
   ]
  },
  {
   "cell_type": "markdown",
   "metadata": {},
   "source": [
    "Similarly, for the **Jacobian of the layer transform**,\n",
    "\n",
    "## $\\frac{dy}{dx}=\\begin{cases}\n",
    "    I      & \\quad \\text{if } T(x,w_T) \\text{ =0}\\\\\n",
    "    \\frac{\\partial f(x,w_h,b)}{\\partial x}  & \\quad \\text{if } T(x,w_T) \\text{ =1}\n",
    "  \\end{cases}$\n",
    "  \n",
    "Thus, depending on the output of the transform gates, a highway layer can smoothly vary its behavior between that of a plain layer and that of a layer which simply passes its inputs through."
   ]
  },
  {
   "cell_type": "markdown",
   "metadata": {},
   "source": [
    "<div style=\"width:50%;height:40px;border: 4px solid black;background-color:#009999;color:white;text-align:center;border-radius:0px 25px 25px 0px;padding:3px\">\n",
    "    <h4> Highway Network architecture:  </h4>\n",
    "</div>"
   ]
  },
  {
   "cell_type": "markdown",
   "metadata": {},
   "source": [
    "Convolutional highway layers are constructed similar to fully connected layers. Weight-sharing and local receptive fields are utilized for both H and T transforms."
   ]
  },
  {
   "cell_type": "markdown",
   "metadata": {},
   "source": [
    "<img src=\"https://cdn-images-1.medium.com/max/1600/1*qHf_AHv8yJJsKQok4KS4Jw.png\" style=\"border:3px solid #009999\">"
   ]
  },
  {
   "cell_type": "markdown",
   "metadata": {},
   "source": [
    "Formally, **T(x) is the sigmoid function**:\n",
    "\n",
    "## $T(x,w_T,b_T) = \\sigma (w_T^T x+b_T)$\n",
    "\n",
    "That\n",
    "\n",
    "## $\\sigma(z) = \\frac{1}{1+e^{-z}}$\n",
    "\n",
    "As we know, sigmoid function caps the output between 0 to 1. When the input has too small value, it becomes 0. When the input has too large value, it becomes 1. **Therefore, by learning $W_T$ and $b_T$, the network can adaptively pass $f(x)$ or just pass x to next layer.**\n",
    "\n",
    "### **Note:** \n",
    "\n",
    "- Author claims that this helps to have a simple initialization scheme for WT which is independent of the nature of H.\n",
    "- $b_T$ can be initialized with a negative value (e.g. -1, -3 etc.) such that the network is initially biased towards carry behavior.\n",
    "- Stochastic Gradient Descent (SGD) did not stall for networks with more than 1000 layers"
   ]
  },
  {
   "cell_type": "markdown",
   "metadata": {},
   "source": [
    "<div style=\"width:50%;height:40px;border: 4px solid black;background-color:#009999;color:white;text-align:center;border-radius:0px 25px 25px 0px;padding:3px\">\n",
    "    <h4> Training Deep Highway Networks:  </h4>\n",
    "</div>"
   ]
  },
  {
   "cell_type": "markdown",
   "metadata": {},
   "source": [
    "They use SGD as activation fucnation. they also use the transform gate defined as $T (x) = σ(W_T^T x + b^T)$, <br>\n",
    "That $b_T$ can be initialized with a negative value"
   ]
  },
  {
   "cell_type": "code",
   "execution_count": null,
   "metadata": {},
   "outputs": [],
   "source": []
  },
  {
   "cell_type": "markdown",
   "metadata": {},
   "source": [
    "<div id=\"A\" style=\"width:100%;height:70px;border: 4px solid black;background-color:#4D0033;color:white;text-align:center;border-radius: 25px;padding:3px\">\n",
    "    <h3>    </h3>\n",
    "    <h5>     </h5>\n",
    "</div>"
   ]
  }
 ],
 "metadata": {
  "kernelspec": {
   "display_name": "Python 3",
   "language": "python",
   "name": "python3"
  },
  "language_info": {
   "codemirror_mode": {
    "name": "ipython",
    "version": 3
   },
   "file_extension": ".py",
   "mimetype": "text/x-python",
   "name": "python",
   "nbconvert_exporter": "python",
   "pygments_lexer": "ipython3",
   "version": "3.6.8"
  }
 },
 "nbformat": 4,
 "nbformat_minor": 2
}
