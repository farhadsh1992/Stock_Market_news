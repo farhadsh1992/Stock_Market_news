{
 "cells": [
  {
   "cell_type": "markdown",
   "metadata": {},
   "source": [
    "<div style=\"width:100%;height:100px;text-align:center;border: 4px solid black;background-color:#4D0033;color:white\">\n",
    "\n",
    "<header style=\"width:100%;height:100px;\">\n",
    "  <h1><b> Chapter 006</b></h1>\n",
    "    <h4> Review Paper </h4>\n",
    "</header>\n",
    "\n",
    "<div> "
   ]
  },
  {
   "cell_type": "code",
   "execution_count": null,
   "metadata": {},
   "outputs": [],
   "source": []
  },
  {
   "cell_type": "markdown",
   "metadata": {},
   "source": [
    "<div style='border: 4px solid #4D0033;padding:9px;box-shadow: 0 4px 8px 0 #661100, 0 6px 20px 0 rgba(0, 0, 0, 0.19)'>\n",
    "\n",
    "By: Farhad Shadmand \n",
    "    \n",
    "https://github.com/farhadsh1992\n",
    "    \n",
    "</div>"
   ]
  },
  {
   "cell_type": "markdown",
   "metadata": {},
   "source": [
    "<div style=\"border: 4px solid #4D0033;background-color:#BFE6FF;color:black;border-radius: 5px;padding:7px\">\n",
    "  <strong> Refrence: </strong><br>\n",
    "        \n",
    "        \n",
    "</div>"
   ]
  },
  {
   "cell_type": "code",
   "execution_count": null,
   "metadata": {},
   "outputs": [],
   "source": []
  },
  {
   "cell_type": "markdown",
   "metadata": {},
   "source": [
    "<div style=\"border: 4px solid #4D0033;background-color:#00404D;color:black;border-radius: 5px;padding:7px;color:white;\">\n",
    "  <strong> Summary: </strong><br>\n",
    "        \n",
    "        \n",
    "</div>"
   ]
  },
  {
   "cell_type": "code",
   "execution_count": null,
   "metadata": {},
   "outputs": [],
   "source": []
  },
  {
   "cell_type": "markdown",
   "metadata": {},
   "source": [
    "<div style=\"width:25%;height:40px;border: 4px solid black;background-color:#009999;color:white;text-align:center;border-radius:0px 25px 25px 0px;padding:3px\">\n",
    "    <h4> contents-Paper:  </h4>\n",
    "</div>\n",
    "\n"
   ]
  },
  {
   "cell_type": "markdown",
   "metadata": {},
   "source": [
    "<div style=\"text-align:center;height:45px;margin:3px\">\n",
    "<div style=\"width:49%;height:30px;position:absolute;left:0 ;border: 4px solid black;background-color:#4D0033;color:white;text-align:center;border-radius:25px 25px 25px 25px;padding:3px\">\n",
    "    <h6><a href=\"#1\" style=\"position: relative;padding:5px;color:white;text-align: center;\"> Deep Unordered Composition Rivals Syntactic Methods for Text Classification  </a></h6>\n",
    "</div>\n",
    "<div style=\"width:49%;height:30px;position:absolute;left:50% ;border: 4px solid black;background-color:#009999;color:white;text-align:center;border-radius:25px 25px 25px 25px;padding:3px;box-shadow: 0 2px 2px 0 #009999, 0 2px 3px 0 rgba(0, 0, 0, 0.19)\">\n",
    "    <h6><a href=\"#2\" style=\"position: relative;padding:5px;color:white;text-align: center;\">a Neural Bag-of-Words Models (NBoWM)   </a></h6>\n",
    "</div>\n",
    "</div>\n",
    "<div style=\"text-align:center;height:45px\">\n",
    "<div style=\"width:49%;height:30px;position:absolute;left:0 ;border: 4px solid black;background-color:#009999;color:white;text-align:center;border-radius:25px 25px 25px 25px;padding:3px\">\n",
    "    <h6><a href=\"#3\" style=\"position: relative;padding:5px;color:white;text-align: center;\"> Recursive neural networks (RecNNs) </a></h6>\n",
    "</div>\n",
    "<div style=\"width:49%;height:30px;position:absolute;left:50% ;border: 4px solid black;background-color:#009999;color:white;text-align:center;border-radius:25px 25px 25px 25px;padding:3px\">\n",
    "    <h6><a href=\"#4\" style=\"position: relative;padding:5px;color:white;text-align: center;\"> Deep Averaging Networks (DAN):  </a></h6>\n",
    "</div>\n",
    "</div>\n",
    "<div style=\"text-align:center;height:45px\">\n",
    "<div style=\"width:49%;height:30px;position:absolute;left:0 ;border: 4px solid black;background-color:#009999;color:white;text-align:center;border-radius:25px 25px 25px 25px;padding:3px\">\n",
    "    <h6><a href=\"#5\" style=\"position: relative;padding:5px;color:white;text-align: center;\"> Word Dropout Improves Robustness: </a></h6>\n",
    "</div>\n",
    "<div style=\"width:49%;height:30px;position:absolute;left:50% ;border: 4px solid black;background-color:#009999;color:white;text-align:center;border-radius:25px 25px 25px 25px;padding:3px\">\n",
    "    <h6><a href=\"#\" style=\"position: relative;padding:5px;color:white;text-align: center;\">   </a></h6>\n",
    "</div>\n",
    "</div>"
   ]
  },
  {
   "cell_type": "code",
   "execution_count": null,
   "metadata": {},
   "outputs": [],
   "source": []
  },
  {
   "cell_type": "markdown",
   "metadata": {},
   "source": [
    "<div id=\"A\" style=\"width:100%;height:70px;border: 4px solid black;background-color:#4D0033;color:white;text-align:center;border-radius: 25px;padding:3px\">\n",
    "    <h3>    </h3>\n",
    "    <h5>     </h5>\n",
    "</div>"
   ]
  },
  {
   "cell_type": "markdown",
   "metadata": {},
   "source": [
    "<div id=\"\" style=\"width:50%;height:40px;border: 4px solid black;background-color:#009999;color:white;text-align:center;border-radius:0px 25px 25px 0px;padding:3px\">\n",
    "    <h4> :  </h4>\n",
    "</div>"
   ]
  },
  {
   "cell_type": "markdown",
   "metadata": {},
   "source": [
    "<div style=\"width:100%;height:40px;border: 4px solid black;background-color:#1E00B3;color:white;text-align:center;border-radius: 25px;padding:3px\">\n",
    "    <h4>   </h4>\n",
    "</div>"
   ]
  },
  {
   "cell_type": "markdown",
   "metadata": {},
   "source": [
    "<div style=\"width:100%;height:40px;border: 4px solid black;background-color:#009999;color:white;text-align:center;border-radius: 25px;padding:3px\">\n",
    "    <h4>   </h4>\n",
    "</div>"
   ]
  },
  {
   "cell_type": "markdown",
   "metadata": {},
   "source": [
    "<div style=\"border: 5px solid #00264D;box-shadow: 0 4px 8px 0 #00264D, 0 6px 20px 0 rgba(0, 0, 0, 0.19);padding:0.6%\">\n",
    "\n",
    "</div>"
   ]
  },
  {
   "cell_type": "markdown",
   "metadata": {},
   "source": [
    "<div  style=\"height:43px\">\n",
    "<div style=\"position:absolute;width:10%;height:28px;border: 4px solid black;background-color:#990000;color:white;text-align:center;border-radius:0px 0px 0px 0px;padding:3px;box-shadow: 0 4px 8px 0 #990000, 0 6px 20px 0 rgba(0, 0, 0, 0.19)\">\n",
    "    <h5>   </h5>\n",
    "</div>\n",
    "<div style=\"position:absolute;width:40%;height:28px;border: 4px solid black;background-color:#FFFF00;color:black;text-align:center;border-radius:0px 45px 45px 0px;padding:3px;left:11.5%;box-shadow: 0 4px 8px 0 #FFFF00, 0 6px 20px 0 rgba(0, 0, 0, 0.19);\">\n",
    "    <h5>  : </h5>\n",
    "</div>    \n",
    "</div> "
   ]
  },
  {
   "cell_type": "markdown",
   "metadata": {},
   "source": [
    "<div  style=\"height:43px\">\n",
    "<div style=\"position:absolute;width:10%;height:28px;border: 4px solid black;background-color:#00404D;color:white;text-align:center;border-radius:0px 0px 0px 0px;padding:3px;box-shadow: 0 4px 8px 0 #00404D, 0 6px 20px 0 rgba(0, 0, 0, 0.19)\">\n",
    "    <h5>   </h5>\n",
    "</div>\n",
    "<div style=\"position:absolute;width:40%;height:28px;border: 4px solid black;background-color:#1E00B3;color:white;text-align:center;border-radius:0px 45px 45px 0px;padding:3px;left:11.5%;box-shadow: 0 4px 8px 0 blue, 0 6px 20px 0 rgba(0, 0, 0, 0.19)\">\n",
    "    <h5> : </h5>\n",
    "</div>    \n",
    "</div> "
   ]
  },
  {
   "cell_type": "markdown",
   "metadata": {},
   "source": [
    "<div style=\"width:70%;border: 5px solid #00264D;box-shadow: 0 4px 8px 0 #00264D, 0 6px 20px 0 rgba(0, 0, 0, 0.19);padding:0.6%\">\n",
    "<div style=\"height:154px\">\n",
    "<img src=\"http://juditacs.github.io/assets/padded_sequence.png\" style=\"position:absoluate;height:150px;border:3px solid #1E00B3\">\n",
    "<img src=\"http://juditacs.github.io/assets/softmax_before_after.png\" style=\"position:absoluate;height:150px;border:3px solid #1E00B3\">\n",
    "   \n",
    "</div>\n",
    "\n",
    "<div style=\"height:30px\">\n",
    "<div style=\"width:22%;text-align:center;position:absolute;left:1.3%;border:3px solid #1E00B3\"><b>Mask(or Padding)</b></div> \n",
    "<div style=\"width:22.2%;text-align:center;position:absolute;left:24.1%;border:3px solid #1E00B3\"><b>Whithout mask</b></div>\n",
    "<div style=\"width:21.2%;text-align:center;position:absolute;left:47.1%;border:3px solid #1E00B3\"><b>with mask</b></div>     \n",
    "   \n",
    "</div>\n",
    "<div style=\"height:30px\">\n",
    "<div style=\"width:67%;text-align:center;position:absolute;left:1.3%;border:3px solid #00264D\"><b>fig24</b></div>     \n",
    "</div>\n",
    "</div>"
   ]
  },
  {
   "cell_type": "code",
   "execution_count": null,
   "metadata": {},
   "outputs": [],
   "source": []
  },
  {
   "cell_type": "markdown",
   "metadata": {},
   "source": [
    "<div id=\"1\" style=\"width:100%;height:70px;border: 4px solid black;background-color:#4D0033;color:white;text-align:center;border-radius: 25px;padding:3px;box-shadow: 0 4px 8px 0 #4D0033, 0 6px 30px 0 rgba(0, 0, 0, 0.19)\">\n",
    "    <h3>  Deep Unordered Composition Rivals Syntactic Methods for Text Classification  </h3>\n",
    "    <h5> 2015, Mohit Iyyer, </h5>\n",
    "</div>"
   ]
  },
  {
   "cell_type": "markdown",
   "metadata": {},
   "source": [
    "<div style=\"border: 4px solid #4D0033;background-color:#BFE6FF;color:black;border-radius: 5px;padding:7px;box-shadow: 0 4px 8px 0 #4D0033, 0 6px 20px 0 rgba(0, 0, 0, 0.19)\">\n",
    "  <strong> Refrence: </strong><br>\n",
    "    \n",
    "(1) The paper: https://www.aclweb.org/anthology/P15-1162    \n",
    "    \n",
    "(2) https://www.youtube.com/watch?v=y1_0i1RF74c    \n",
    "        \n",
    "</div>"
   ]
  },
  {
   "cell_type": "markdown",
   "metadata": {},
   "source": [
    "<div style=\"border: 4px solid #4D0033;background-color:#00404D;color:black;border-radius: 5px;padding:7px;color:white;box-shadow: 0 4px 8px 0 #4D0033, 0 6px 20px 0 rgba(0, 0, 0, 0.19)\">\n",
    "  <strong> Summary: </strong><br>\n",
    "    \n",
    "        \n",
    "</div>"
   ]
  },
  {
   "cell_type": "code",
   "execution_count": null,
   "metadata": {},
   "outputs": [],
   "source": []
  },
  {
   "cell_type": "markdown",
   "metadata": {},
   "source": [
    "<div id=\"\" style=\"height:43px\">\n",
    "<div style=\"position:absolute;width:5%;height:28px;border: 4px solid black;background-color:#4D0033;color:white;text-align:center;border-radius:0px 0px 0px 0px;padding:3px;box-shadow: 0 4px 8px 0 #4D0033, 0 6px 20px 0 rgba(0, 0, 0, 0.19)\">\n",
    "    <h5>   </h5>\n",
    "</div>\n",
    "<div style=\"position:absolute;width:40%;height:28px;border: 4px solid black;background-color:#009999;color:white;text-align:center;border-radius:0px 45px 45px 0px;padding:3px;left:6.5%;box-shadow: 0 4px 8px 0 #009999, 0 6px 20px 0 rgba(0, 0, 0, 0.19)\">\n",
    "    <h5> Abstract: </h5>\n",
    "</div>    \n",
    "</div> "
   ]
  },
  {
   "cell_type": "markdown",
   "metadata": {},
   "source": [
    "<div style=\"border: 5px solid #4D0033;box-shadow: 0 4px 8px 0 #00264D, 0 6px 20px 0 rgba(0, 0, 0, 0.19);padding:0.6%\">\n",
    "\n",
    "Composition functions fall into two classes:\n",
    "1. unordered, Unordered functions treat in- put texts as bags of word embeddings.    \n",
    "2. syntactic, syntac- tic functions take word order and sentence structure into account.\n",
    "Results have shown that syntactic functions outper- form unordered functions on many tasks, but syntactic functions require more training time than unordered compo- sition functions and are prohibitively expensive in the case of huge datasets or limited computing resources. \n",
    "    \n",
    "The authors expend a deep unordered model with a high-level accuracie and  just minutes of training time.<br>\n",
    "This Model, **Deep Averaging Network (DAN)** follows three steps: **[REF1]**\n",
    "1. take the vector average of the embeddings associated with an input sequence of tokens.\n",
    "2. pass that average through one or more feed- forward layers.\n",
    "3. perform (linear) classification on the final layer’s representation.\n",
    "- And finally imrove model by a novel dropout layer.\n",
    "    \n",
    "DAN Model can be also trained on data that have high syntactic variance   \n",
    "    \n",
    "**goals of this investigation is to marry the speed of unordered func- tions with the accuracy of syntactic functions.**  \n",
    "    \n",
    "**[REF1]**    \n",
    "</div>"
   ]
  },
  {
   "cell_type": "markdown",
   "metadata": {},
   "source": [
    "<div id=\"2\" style=\"height:43px\">\n",
    "<div style=\"position:absolute;width:5%;height:28px;border: 4px solid black;background-color:#4D0033;color:white;text-align:center;border-radius:0px 0px 0px 0px;padding:3px;box-shadow: 0 4px 8px 0 #4D0033, 0 6px 20px 0 rgba(0, 0, 0, 0.19)\">\n",
    "    <h5>   </h5>\n",
    "</div>\n",
    "<div style=\"position:absolute;width:40%;height:28px;border: 4px solid black;background-color:#009999;color:white;text-align:center;border-radius:0px 45px 45px 0px;padding:3px;left:6.5%;box-shadow: 0 4px 8px 0 #009999, 0 6px 20px 0 rgba(0, 0, 0, 0.19)\">\n",
    "    <h5> a Neural Bag-of-Words Models (NBoWM) : </h5>\n",
    "</div>    \n",
    "</div> "
   ]
  },
  {
   "cell_type": "markdown",
   "metadata": {},
   "source": [
    "<div style=\"border: 5px solid #4D0033;box-shadow: 0 4px 8px 0 #00264D, 0 6px 20px 0 rgba(0, 0, 0, 0.19);padding:0.6%\">\n",
    "\n",
    "### **Part-One, Word Embedding by a Neural Bag-of-Words Models:**\n",
    "\n",
    "described a g averages word embeddings like,\n",
    "\n",
    "###  $g(w)=\\frac{1}{|X|}\\displaystyle\\sum_{w}v_w$, $w \\in X$\n",
    "\n",
    "- that $X$ is an input sequence of tokens matrix,<br>\n",
    "- $v_m$ is the sequence of word embeddings for $w ∈ X$\n",
    "\n",
    "Feeding z to a softmax layer induces estimated probabilities for each output label,\n",
    "\n",
    "### $y = softmax(W_s · z + b)$\n",
    "\n",
    "$W_s$ is a $k \\times d$ matrix for a dataset with $k$ output labels, and $b$ is a bias term.\n",
    "\n",
    "They trained the NBOW model to minimize cross-entropy error as loss funcation, which for a single training instance with ground-truth label y is\n",
    "\n",
    "### $Loss(y)= \\displaystyle\\sum_{p=1}^{k} y_p \\log(y_p)$\n",
    "\n",
    "**[REF1]**    \n",
    "</div>"
   ]
  },
  {
   "cell_type": "code",
   "execution_count": null,
   "metadata": {},
   "outputs": [],
   "source": []
  },
  {
   "cell_type": "code",
   "execution_count": null,
   "metadata": {},
   "outputs": [],
   "source": [
    "<div style=\"border: 5px solid #4D0033;box-shadow: 0 4px 8px 0 #00264D, 0 6px 20px 0 rgba(0, 0, 0, 0.19);padding:0.6%\">\n",
    "\n",
    "\n",
    "</div>"
   ]
  },
  {
   "cell_type": "markdown",
   "metadata": {},
   "source": [
    "<div id=\"3\" style=\"height:43px\">\n",
    "<div style=\"position:absolute;width:5%;height:28px;border: 4px solid black;background-color:#4D0033;color:white;text-align:center;border-radius:0px 0px 0px 0px;padding:3px;box-shadow: 0 4px 8px 0 #4D0033, 0 6px 20px 0 rgba(0, 0, 0, 0.19)\">\n",
    "    <h5>   </h5>\n",
    "</div>\n",
    "<div style=\"position:absolute;width:40%;height:28px;border: 4px solid black;background-color:#009999;color:white;text-align:center;border-radius:0px 45px 45px 0px;padding:3px;left:6.5%;box-shadow: 0 4px 8px 0 #009999, 0 6px 20px 0 rgba(0, 0, 0, 0.19)\">\n",
    "    <h5> Recursive neural networks (RecNNs) : </h5>\n",
    "</div>    \n",
    "</div> "
   ]
  },
  {
   "cell_type": "markdown",
   "metadata": {},
   "source": [
    "<div style=\"border: 5px solid #4D0033;box-shadow: 0 4px 8px 0 #00264D, 0 6px 20px 0 rgba(0, 0, 0, 0.19);padding:0.6%\">\n",
    "\n",
    "Recursive neural networks (RecNNs) are **syntactic functions** that rely on natural language’s inherent structure to achieve state-of-the-art accuracies on sentiment analysis tasks [(Tai et al., 2015)]().<br>\n",
    "The composition function g now depends on a parse tree of the input sequence.  <br>\n",
    "A more powerful RecNN variant is the recursive neural tensor network (RecNTN), which modifies g to include a costly tensor product [(Socher et al., 2013b)](). \n",
    "- Notice that RecNNs require1 much more training time than NBOW models.   \n",
    "    \n",
    "- RecNNs require an error signal **at every node. (One root softmax is not strong enough for the model to learn compositional relations and leads to worse accuracies than standard bag-of-words models)\n",
    "- RecNNs also require relatively consistent syntax between training and test data due to their reliance on parse trees and thus cannot effectively incorporate out-of-domain data, (as we show in our question-answering experiments. [Kim (2014)]() shows that some of these issues can be avoided by using a convolutional network instead of a RecNN,)   \n",
    "    \n",
    "Socher et al. (2013b) report that removing the nonlinearities from their RecNN models drops per- formance on the Stanford Sentiment Treebank by over 5% absolute accuracy.\n",
    "To isolate the effects of syn- tactic composition from the nonlinear transforma- tions that are crucial to RecNN performance, we investigate how well a deep version of the NBOW model performs on tasks that have recently been dominated by syntactically-aware models.    \n",
    "    \n",
    "**[REF1]**\n",
    "</div>"
   ]
  },
  {
   "cell_type": "markdown",
   "metadata": {},
   "source": [
    "<div style=\"width:70%;border: 5px solid #00264D;box-shadow: 0 4px 8px 0 #00264D, 0 6px 20px 0 rgba(0, 0, 0, 0.19);padding:0.6%\">\n",
    "<div style=\"height:304px\">\n",
    "<img src=\"https://ai2-s2-public.s3.amazonaws.com/figures/2017-08-08/0592c7442b1b0badb1e37d4d0a37dfc33d6aa29f/4-Figure1-1.png\" style=\"position:absoluate;height:300px;border:3px solid #4D0033\">\n",
    "\n",
    "   \n",
    "</div>\n",
    "\n",
    "<div style=\"height:30px\">\n",
    "<div style=\"width:35%;text-align:center;position:absolute;left:1.3%;border:3px solid #4D0033\"><b> A </b></div> \n",
    "<div style=\"width:30%;text-align:center;position:absolute;left:36.6%;border:3px solid #4D0033\"><b> B </b></div>    \n",
    "    \n",
    "   \n",
    "</div>\n",
    "<div style=\"height:30px\">\n",
    "<div style=\"width:65.4%;text-align:center;position:absolute;left:1.3%;border:3px solid #00264D\"><b> FIG1</b></div>     \n",
    "</div>\n",
    "</div>"
   ]
  },
  {
   "cell_type": "markdown",
   "metadata": {},
   "source": [
    "<div id=\"4\" style=\"height:43px\">\n",
    "<div style=\"position:absolute;width:5%;height:28px;border: 4px solid black;background-color:#4D0033;color:white;text-align:center;border-radius:0px 0px 0px 0px;padding:3px;box-shadow: 0 4px 8px 0 #4D0033, 0 6px 20px 0 rgba(0, 0, 0, 0.19)\">\n",
    "    <h5>   </h5>\n",
    "</div>\n",
    "<div style=\"position:absolute;width:40%;height:28px;border: 4px solid black;background-color:#009999;color:white;text-align:center;border-radius:0px 45px 45px 0px;padding:3px;left:6.5%;box-shadow: 0 4px 8px 0 #009999, 0 6px 20px 0 rgba(0, 0, 0, 0.19)\">\n",
    "    <h5> Deep Averaging Networks (DAN): </h5>\n",
    "</div>    \n",
    "</div>"
   ]
  },
  {
   "cell_type": "markdown",
   "metadata": {},
   "source": [
    "<div style=\"border: 5px solid #4D0033;box-shadow: 0 4px 8px 0 #00264D, 0 6px 20px 0 rgba(0, 0, 0, 0.19);padding:0.6%\">\n",
    "\n",
    "First,They used a Neural Bag-of-Words Models (NBoWM). and Then apply a deep feed-forward nerual network.\n",
    "\n",
    "(To be more concrete, take s1 as the sentence “I really loved Rosamund Pike’s per- formance in the movie Gone Girl” and generate s2 and s3 by replacing “loved” with “liked” and then again by “despised”. The vector averages of these three sentences are almost identical, but the aver- ages associated with the synonymous sentences s1 and s2 are slightly more similar to each other than they are to s3’s average.)\n",
    "\n",
    "</div>"
   ]
  },
  {
   "cell_type": "code",
   "execution_count": null,
   "metadata": {},
   "outputs": [],
   "source": []
  },
  {
   "cell_type": "markdown",
   "metadata": {},
   "source": [
    "<div id=\"5\" style=\"height:43px\">\n",
    "<div style=\"position:absolute;width:5%;height:28px;border: 4px solid black;background-color:#4D0033;color:white;text-align:center;border-radius:0px 0px 0px 0px;padding:3px;box-shadow: 0 4px 8px 0 #4D0033, 0 6px 20px 0 rgba(0, 0, 0, 0.19)\">\n",
    "    <h5>   </h5>\n",
    "</div>\n",
    "<div style=\"position:absolute;width:40%;height:28px;border: 4px solid black;background-color:#009999;color:white;text-align:center;border-radius:0px 45px 45px 0px;padding:3px;left:6.5%;box-shadow: 0 4px 8px 0 #009999, 0 6px 20px 0 rgba(0, 0, 0, 0.19)\">\n",
    "    <h5> Word Dropout Improves Robustness: </h5>\n",
    "</div>    \n",
    "</div>"
   ]
  },
  {
   "cell_type": "code",
   "execution_count": null,
   "metadata": {},
   "outputs": [],
   "source": []
  }
 ],
 "metadata": {
  "kernelspec": {
   "display_name": "Python 3",
   "language": "python",
   "name": "python3"
  },
  "language_info": {
   "codemirror_mode": {
    "name": "ipython",
    "version": 3
   },
   "file_extension": ".py",
   "mimetype": "text/x-python",
   "name": "python",
   "nbconvert_exporter": "python",
   "pygments_lexer": "ipython3",
   "version": "3.6.8"
  }
 },
 "nbformat": 4,
 "nbformat_minor": 2
}
