{
 "cells": [
  {
   "cell_type": "code",
   "execution_count": null,
   "metadata": {},
   "outputs": [],
   "source": []
  },
  {
   "cell_type": "code",
   "execution_count": null,
   "metadata": {},
   "outputs": [],
   "source": []
  },
  {
   "cell_type": "markdown",
   "metadata": {},
   "source": [
    "# Load_data"
   ]
  },
  {
   "cell_type": "code",
   "execution_count": 2,
   "metadata": {},
   "outputs": [],
   "source": [
    "import pandas as pd\n",
    "import re"
   ]
  },
  {
   "cell_type": "code",
   "execution_count": 3,
   "metadata": {},
   "outputs": [
    {
     "data": {
      "text/html": [
       "<div>\n",
       "<style scoped>\n",
       "    .dataframe tbody tr th:only-of-type {\n",
       "        vertical-align: middle;\n",
       "    }\n",
       "\n",
       "    .dataframe tbody tr th {\n",
       "        vertical-align: top;\n",
       "    }\n",
       "\n",
       "    .dataframe thead th {\n",
       "        text-align: right;\n",
       "    }\n",
       "</style>\n",
       "<table border=\"1\" class=\"dataframe\">\n",
       "  <thead>\n",
       "    <tr style=\"text-align: right;\">\n",
       "      <th></th>\n",
       "      <th>created_at</th>\n",
       "      <th>text</th>\n",
       "      <th>Price_label(0,1)</th>\n",
       "    </tr>\n",
       "  </thead>\n",
       "  <tbody>\n",
       "    <tr>\n",
       "      <th>0</th>\n",
       "      <td>2010-06-29</td>\n",
       "      <td>RT @elonmusk: Some Tesla news</td>\n",
       "      <td>1</td>\n",
       "    </tr>\n",
       "    <tr>\n",
       "      <th>1</th>\n",
       "      <td>2010-06-29</td>\n",
       "      <td>T Trump  T Tusk  T Tesla  💕</td>\n",
       "      <td>1</td>\n",
       "    </tr>\n",
       "    <tr>\n",
       "      <th>2</th>\n",
       "      <td>2010-06-29</td>\n",
       "      <td>RT @nytimesbusiness: Tesla's Elon Musk may be ...</td>\n",
       "      <td>1</td>\n",
       "    </tr>\n",
       "    <tr>\n",
       "      <th>3</th>\n",
       "      <td>2010-07-01</td>\n",
       "      <td>RT @KudoKun_: 테슬라 모델 S가 나무에 부딪혀 불이 났는데, 운전자는 차...</td>\n",
       "      <td>-1</td>\n",
       "    </tr>\n",
       "    <tr>\n",
       "      <th>4</th>\n",
       "      <td>2010-07-01</td>\n",
       "      <td>2016: the year that people found out that Tesl...</td>\n",
       "      <td>-1</td>\n",
       "    </tr>\n",
       "  </tbody>\n",
       "</table>\n",
       "</div>"
      ],
      "text/plain": [
       "   created_at                                               text  \\\n",
       "0  2010-06-29                      RT @elonmusk: Some Tesla news   \n",
       "1  2010-06-29                        T Trump  T Tusk  T Tesla  💕   \n",
       "2  2010-06-29  RT @nytimesbusiness: Tesla's Elon Musk may be ...   \n",
       "3  2010-07-01  RT @KudoKun_: 테슬라 모델 S가 나무에 부딪혀 불이 났는데, 운전자는 차...   \n",
       "4  2010-07-01  2016: the year that people found out that Tesl...   \n",
       "\n",
       "   Price_label(0,1)  \n",
       "0                 1  \n",
       "1                 1  \n",
       "2                 1  \n",
       "3                -1  \n",
       "4                -1  "
      ]
     },
     "execution_count": 3,
     "metadata": {},
     "output_type": "execute_result"
    }
   ],
   "source": [
    "df_data = pd.read_csv('data/Clean_tweets/Tesla_label_from_2010-06-29_to_2019-02-26_2019227.csv')\n",
    "df_data.head()"
   ]
  },
  {
   "cell_type": "code",
   "execution_count": 3,
   "metadata": {},
   "outputs": [
    {
     "name": "stdout",
     "output_type": "stream",
     "text": [
      "<class 'pandas.core.frame.DataFrame'>\n",
      "RangeIndex: 3277 entries, 0 to 3276\n",
      "Data columns (total 3 columns):\n",
      "created_at          3277 non-null object\n",
      "text                3277 non-null object\n",
      "Price_label(0,1)    3277 non-null int64\n",
      "dtypes: int64(1), object(2)\n",
      "memory usage: 76.9+ KB\n"
     ]
    }
   ],
   "source": [
    "df_data.info()"
   ]
  },
  {
   "cell_type": "markdown",
   "metadata": {},
   "source": [
    "# Clean DATA"
   ]
  },
  {
   "cell_type": "code",
   "execution_count": 4,
   "metadata": {},
   "outputs": [],
   "source": [
    "from farhad.TwCleaner import Tweets_preprocesiing, __info_Tweets_preprocesiing__\n",
    "import warnings\n",
    "import numpy as np"
   ]
  },
  {
   "cell_type": "code",
   "execution_count": 5,
   "metadata": {},
   "outputs": [
    {
     "name": "stdout",
     "output_type": "stream",
     "text": [
      "[3277/3277][clean tweets] *** Done! ***\n",
      "[3277/3277][Remove stop_words] *** Done! ***\n"
     ]
    }
   ],
   "source": [
    "warnings.filterwarnings('ignore')\n",
    "save_file = 'data/Clean_tweets/2Tesla_label_from_2010-06-29_to_2019-02-26_2019227.csv'\n",
    "CT = Tweets_preprocesiing()\n",
    "data = CT.Cleaner(df_data,target='text', date='created_at', label='Price_label(0,1)', save_file=save_file)\n",
    "new_data = CT.Remove_stop_words(data)"
   ]
  },
  {
   "cell_type": "code",
   "execution_count": 6,
   "metadata": {},
   "outputs": [],
   "source": [
    "new_df = pd.DataFrame()\n",
    "new_df['created_at']= df_data['created_at']\n",
    "new_df['clean_text']= new_data\n",
    "new_df['Price_label(0,1)']= df_data['Price_label(0,1)']\n",
    "new_df.to_csv('data/Clean_tweets/2Tesla_label_from_2010-06-29_to_2019-02-26_2019227.csv',index=False)"
   ]
  },
  {
   "cell_type": "code",
   "execution_count": 7,
   "metadata": {},
   "outputs": [],
   "source": [
    "def change(x):\n",
    "    if x==-1:\n",
    "        y=0\n",
    "    else:\n",
    "        y=1\n",
    "    return y\n",
    "new_df['Price_label(0,1)'] = new_df['Price_label(0,1)'].apply(change)"
   ]
  },
  {
   "cell_type": "code",
   "execution_count": 8,
   "metadata": {},
   "outputs": [
    {
     "data": {
      "text/html": [
       "<div>\n",
       "<style scoped>\n",
       "    .dataframe tbody tr th:only-of-type {\n",
       "        vertical-align: middle;\n",
       "    }\n",
       "\n",
       "    .dataframe tbody tr th {\n",
       "        vertical-align: top;\n",
       "    }\n",
       "\n",
       "    .dataframe thead th {\n",
       "        text-align: right;\n",
       "    }\n",
       "</style>\n",
       "<table border=\"1\" class=\"dataframe\">\n",
       "  <thead>\n",
       "    <tr style=\"text-align: right;\">\n",
       "      <th></th>\n",
       "      <th>created_at</th>\n",
       "      <th>clean_text</th>\n",
       "      <th>Price_label(0,1)</th>\n",
       "    </tr>\n",
       "  </thead>\n",
       "  <tbody>\n",
       "    <tr>\n",
       "      <th>0</th>\n",
       "      <td>2010-06-29</td>\n",
       "      <td>nan</td>\n",
       "      <td>1</td>\n",
       "    </tr>\n",
       "    <tr>\n",
       "      <th>1</th>\n",
       "      <td>2010-06-29</td>\n",
       "      <td>trump tusk tesla</td>\n",
       "      <td>1</td>\n",
       "    </tr>\n",
       "    <tr>\n",
       "      <th>2</th>\n",
       "      <td>2010-06-29</td>\n",
       "      <td>tesla elon musk may trouble e c want -PRON- ho...</td>\n",
       "      <td>1</td>\n",
       "    </tr>\n",
       "    <tr>\n",
       "      <th>3</th>\n",
       "      <td>2010-07-01</td>\n",
       "      <td></td>\n",
       "      <td>0</td>\n",
       "    </tr>\n",
       "    <tr>\n",
       "      <th>4</th>\n",
       "      <td>2010-07-01</td>\n",
       "      <td>year people find tesla teleportation achieve y...</td>\n",
       "      <td>0</td>\n",
       "    </tr>\n",
       "  </tbody>\n",
       "</table>\n",
       "</div>"
      ],
      "text/plain": [
       "   created_at                                         clean_text  \\\n",
       "0  2010-06-29                                                nan   \n",
       "1  2010-06-29                                   trump tusk tesla   \n",
       "2  2010-06-29  tesla elon musk may trouble e c want -PRON- ho...   \n",
       "3  2010-07-01                                                      \n",
       "4  2010-07-01  year people find tesla teleportation achieve y...   \n",
       "\n",
       "   Price_label(0,1)  \n",
       "0                 1  \n",
       "1                 1  \n",
       "2                 1  \n",
       "3                 0  \n",
       "4                 0  "
      ]
     },
     "execution_count": 8,
     "metadata": {},
     "output_type": "execute_result"
    }
   ],
   "source": [
    "new_df.head()"
   ]
  },
  {
   "cell_type": "code",
   "execution_count": 11,
   "metadata": {},
   "outputs": [
    {
     "name": "stdout",
     "output_type": "stream",
     "text": [
      "<class 'pandas.core.frame.DataFrame'>\n",
      "RangeIndex: 3277 entries, 0 to 3276\n",
      "Data columns (total 3 columns):\n",
      "created_at          3277 non-null object\n",
      "clean_text          2834 non-null object\n",
      "Price_label(0,1)    3277 non-null int64\n",
      "dtypes: int64(1), object(2)\n",
      "memory usage: 76.9+ KB\n"
     ]
    }
   ],
   "source": [
    "new_df.info()"
   ]
  },
  {
   "cell_type": "code",
   "execution_count": 10,
   "metadata": {},
   "outputs": [],
   "source": [
    "new_df['clean_text'] = new_df['clean_text'].replace('nan',np.NaN) "
   ]
  },
  {
   "cell_type": "code",
   "execution_count": 12,
   "metadata": {},
   "outputs": [],
   "source": [
    "new_df = new_df.dropna()\n",
    "new_df.reset_index(inplace=True,drop=True)"
   ]
  },
  {
   "cell_type": "code",
   "execution_count": 15,
   "metadata": {},
   "outputs": [],
   "source": [
    "new_df['clean_text'] = new_df['clean_text'].apply(lambda x: re.sub(r'-PRON- ','',str(x)))"
   ]
  },
  {
   "cell_type": "code",
   "execution_count": 13,
   "metadata": {},
   "outputs": [
    {
     "name": "stdout",
     "output_type": "stream",
     "text": [
      "<class 'pandas.core.frame.DataFrame'>\n",
      "RangeIndex: 2834 entries, 0 to 2833\n",
      "Data columns (total 3 columns):\n",
      "created_at          2834 non-null object\n",
      "clean_text          2834 non-null object\n",
      "Price_label(0,1)    2834 non-null int64\n",
      "dtypes: int64(1), object(2)\n",
      "memory usage: 66.5+ KB\n"
     ]
    }
   ],
   "source": [
    "new_df.info()"
   ]
  },
  {
   "cell_type": "code",
   "execution_count": 14,
   "metadata": {},
   "outputs": [
    {
     "name": "stderr",
     "output_type": "stream",
     "text": [
      "Using TensorFlow backend.\n"
     ]
    },
    {
     "data": {
      "text/plain": [
       "<Figure size 640x480 with 1 Axes>"
      ]
     },
     "metadata": {},
     "output_type": "display_data"
    }
   ],
   "source": [
    "from farhad.TextTalent import plot_sample_length_distribution\n",
    "plot_sample_length_distribution(new_df['clean_text'])"
   ]
  },
  {
   "cell_type": "markdown",
   "metadata": {},
   "source": [
    "# Load_data clean data"
   ]
  },
  {
   "cell_type": "code",
   "execution_count": null,
   "metadata": {},
   "outputs": [],
   "source": [
    "import warnings\n",
    "\n",
    "warnings.filterwarnings('ignore')\n",
    "import pandas as pd\n",
    "import re"
   ]
  },
  {
   "cell_type": "code",
   "execution_count": null,
   "metadata": {},
   "outputs": [],
   "source": [
    "df_data = pd.read_csv('')\n",
    "df_data.head()"
   ]
  },
  {
   "cell_type": "markdown",
   "metadata": {},
   "source": [
    "# pre_processing  data"
   ]
  },
  {
   "cell_type": "code",
   "execution_count": 16,
   "metadata": {},
   "outputs": [
    {
     "name": "stdout",
     "output_type": "stream",
     "text": [
      "---------------------------------------------------------\n",
      "*** First def ***\n",
      "text_into_sequence_of_integers\n",
      "\n",
      "inputs: croups_df, dictunary, model=\"tfidf\"\n",
      "mode : (\"binary\" or \"count\" or \"tfidf\" or \"freq\")\n",
      "\n",
      "outputs: \n",
      "         Embadding = text to integer\n",
      "         Sequence; test to mode, mode=(\"binary\" or \"count\" or \"tfidf\" or \"freq\")\n",
      "---------------------------------------------------------\n",
      "---------------------------------------------------------\n",
      "*** second def ***\n",
      "text_into_sequence_of_integers_with_glove_dictionary\n",
      "\n",
      "inputs: croups_df,  model=\"tfidf\"\n",
      "mode : (\"binary\" or \"count\" or \"tfidf\" or \"freq\")\n",
      "\n",
      "outputs: \n",
      "         Embadding = text to integer\n",
      "         Sequence; test to mode, mode=(\"binary\" or \"count\" or \"tfidf\" or \"freq\")\n",
      "---------------------------------------------------------\n"
     ]
    }
   ],
   "source": [
    "import warnings\n",
    "warnings.filterwarnings('ignore')\n",
    "import os\n",
    "\n",
    "from farhad.AwesomeTextTools import text_into_sequence_of_integers\n",
    "from farhad.AwesomeTextTools import Get_embeddings_from_Glove\n",
    "from farhad.AwesomeTextTools import text_into_sequence_of_integers_with_glove_dictionary\n",
    "\n",
    "from tensorflow.keras.preprocessing.sequence import pad_sequences \n",
    "from sklearn.model_selection import train_test_split"
   ]
  },
  {
   "cell_type": "code",
   "execution_count": null,
   "metadata": {},
   "outputs": [],
   "source": []
  },
  {
   "cell_type": "code",
   "execution_count": 22,
   "metadata": {},
   "outputs": [
    {
     "name": "stdout",
     "output_type": "stream",
     "text": [
      "Training entries: 2834, labels: 2834\n",
      "        \n",
      "len of x_train: 2834\n",
      "len of sequence[1]:  1\n",
      "        \n",
      "CPU times: user 5.1 s, sys: 258 ms, total: 5.35 s\n",
      "Wall time: 5.49 s\n"
     ]
    }
   ],
   "source": [
    "%%time\n",
    "maxlen = 50\n",
    "\n",
    "\n",
    "word_embedding, sequence = text_into_sequence_of_integers_with_glove_dictionary(new_df['clean_text'], model=\"tfidf\")\n",
    "\n",
    "Embadding, sequence = text_into_sequence_of_integers(new_df['clean_text'],word_embedding, model='tfidf')\n",
    "x_train, _, y_train,_ = train_test_split(Embadding,new_df['Price_label(0,1)'], test_size=0, random_state=42)\n",
    "print(\"Training entries: {}, labels: {}\".format(len(x_train), len(y_train)))\n",
    "#print('sample of x_train:',x_train[1])\n",
    "\n",
    "train_data = pad_sequences(x_train, padding='post', maxlen=maxlen)\n",
    "#test_data = pad_sequences(x_test, padding='post', maxlen=maxlen)\n",
    "\n",
    "print('        ')\n",
    "print('len of x_train:',len(x_train))\n",
    "print(\"len of sequence[1]: \",len(x_train[1]))\n",
    "#print(\"Sample of sequence[1]: \",sequence[1])\n",
    "print('        ')"
   ]
  },
  {
   "cell_type": "code",
   "execution_count": 78,
   "metadata": {},
   "outputs": [
    {
     "name": "stdout",
     "output_type": "stream",
     "text": [
      "50\n"
     ]
    }
   ],
   "source": [
    "print(len(train_data[1]))"
   ]
  },
  {
   "cell_type": "markdown",
   "metadata": {},
   "source": [
    "# Model_Tweets50"
   ]
  },
  {
   "cell_type": "code",
   "execution_count": 23,
   "metadata": {},
   "outputs": [],
   "source": [
    "from tensorflow.keras.models import Sequential\n",
    "from tensorflow.keras.layers import Dense, Dropout, Embedding, MaxPool1D, GlobalMaxPool1D, LSTM, RNN, Conv1D,Flatten\n",
    "from tensorflow.keras.layers import GlobalAveragePooling1D\n",
    "from tensorflow.keras.callbacks import EarlyStopping,ModelCheckpoint\n",
    "from farhad_DL.utility import plot_confusion_matrix\n",
    "from farhad_DL.utils import TimeSummary, plot_training_summary, Estimate_fasterD\n",
    "\n",
    "\n",
    "from sklearn.metrics import confusion_matrix\n",
    "from tensorflow.logging import set_verbosity, ERROR"
   ]
  },
  {
   "cell_type": "code",
   "execution_count": 24,
   "metadata": {},
   "outputs": [],
   "source": [
    "def model_Tweets50(input_dim, output_dim=64):\n",
    "    \"\"\"\n",
    "    input_dim : Size of the vocabulary\n",
    "    output_dim: Dimension of the dense embedding.\n",
    "    input_length: Length of input sequences\n",
    "    \n",
    "    \"\"\"\n",
    "    model = Sequential()\n",
    "    model.add(Embedding(input_dim, output_dim))\n",
    "    model.add(GlobalAveragePooling1D())\n",
    "    model.add(Dense(output_dim, activation='relu'))\n",
    "    model.add(Dropout(0.2))\n",
    "    model.add(Dense(1, activation='sigmoid'))\n",
    "    \n",
    "    model.compile(optimizer = 'Adam',loss='binary_crossentropy',metrics=['accuracy'])\n",
    "    \n",
    "    return model"
   ]
  },
  {
   "cell_type": "code",
   "execution_count": 20,
   "metadata": {},
   "outputs": [],
   "source": [
    "model = model_Tweets50(input_dim= 2000, output_dim=16)\n",
    "model.load_weights('wieght_save/best_weights_for_second_(unviversal_badgoodtweets).hdf5') "
   ]
  },
  {
   "cell_type": "code",
   "execution_count": 24,
   "metadata": {},
   "outputs": [
    {
     "data": {
      "text/plain": [
       "array([690, 400,   0,   0,   0,   0,   0,   0,   0,   0,   0,   0,   0,\n",
       "         0,   0,   0,   0,   0,   0,   0,   0,   0,   0,   0,   0,   0,\n",
       "         0,   0,   0,   0,   0,   0,   0,   0,   0,   0,   0,   0,   0,\n",
       "         0,   0,   0,   0,   0,   0,   0,   0,   0,   0,   0], dtype=int32)"
      ]
     },
     "execution_count": 24,
     "metadata": {},
     "output_type": "execute_result"
    }
   ],
   "source": [
    "train_data[200]"
   ]
  },
  {
   "cell_type": "code",
   "execution_count": 25,
   "metadata": {},
   "outputs": [],
   "source": [
    "label = model.predict(train_data, verbose=0)\n",
    "label_rge = np.argmax(label,axis=1)"
   ]
  },
  {
   "cell_type": "code",
   "execution_count": 31,
   "metadata": {},
   "outputs": [
    {
     "data": {
      "text/plain": [
       "array([0, 0, 0, ..., 0, 0, 0])"
      ]
     },
     "execution_count": 31,
     "metadata": {},
     "output_type": "execute_result"
    }
   ],
   "source": [
    "label_rge"
   ]
  },
  {
   "cell_type": "code",
   "execution_count": null,
   "metadata": {},
   "outputs": [],
   "source": [
    "new_df['Price_label(0,1)']"
   ]
  },
  {
   "cell_type": "code",
   "execution_count": 32,
   "metadata": {},
   "outputs": [],
   "source": [
    "for i  in label_rge:\n",
    "    if i!=0.0:\n",
    "        print(i)"
   ]
  },
  {
   "cell_type": "code",
   "execution_count": 27,
   "metadata": {},
   "outputs": [
    {
     "name": "stdout",
     "output_type": "stream",
     "text": [
      "Accuracy for glove model: 50.21%\n"
     ]
    }
   ],
   "source": [
    "scores = model.evaluate(train_data, new_df['Price_label(0,1)'], verbose=0)\n",
    "print(\"Accuracy for glove model: %.2f%%\" % (scores[1]*100))"
   ]
  },
  {
   "cell_type": "code",
   "execution_count": 29,
   "metadata": {},
   "outputs": [],
   "source": [
    "#new_df['Price_label(0,1)']"
   ]
  },
  {
   "cell_type": "code",
   "execution_count": null,
   "metadata": {},
   "outputs": [],
   "source": []
  },
  {
   "cell_type": "code",
   "execution_count": null,
   "metadata": {},
   "outputs": [],
   "source": []
  },
  {
   "cell_type": "markdown",
   "metadata": {},
   "source": [
    "# New_model"
   ]
  },
  {
   "cell_type": "code",
   "execution_count": null,
   "metadata": {},
   "outputs": [],
   "source": [
    "%%time\n",
    "maxlen = 50\n",
    "\n",
    "\n",
    "word_embedding, sequence = text_into_sequence_of_integers_with_glove_dictionary(new_df['clean_text'], model=\"tfidf\")\n",
    "\n",
    "Embadding, sequence = text_into_sequence_of_integers(new_df['clean_text'],word_embedding, model='tfidf')\n",
    "x_train, x_test, y_train,y_test = train_test_split(Embadding,new_df['Price_label(0,1)'], test_size=20, random_state=42)\n",
    "print(\"Training entries: {}, labels: {}\".format(len(x_train), len(y_train)))\n",
    "print('sample of x_train:',x_train[1])\n",
    "\n",
    "train_data = pad_sequences(x_train, padding='post', maxlen=maxlen)\n",
    "test_data = pad_sequences(x_test, padding='post', maxlen=maxlen)\n",
    "\n",
    "print('        ')\n",
    "print('len of x_train:',len(x_train))\n",
    "print(\"len of sequence[1]: \",len(x_train[1]))\n",
    "#print(\"Sample of sequence[1]: \",sequence[1])\n",
    "print('        ')"
   ]
  },
  {
   "cell_type": "code",
   "execution_count": 78,
   "metadata": {},
   "outputs": [],
   "source": [
    "from tensorflow.keras.layers import Convolution1D,MaxPooling1D, GlobalMaxPooling1D\n",
    "\n",
    "\n",
    "def model_new_one(input_dim,nb_filters, output_dim=64):\n",
    "    \"\"\"\n",
    "    input_dim : Size of the vocabulary\n",
    "    output_dim: Dimension of the dense embedding.\n",
    "    input_length: Length of input sequences\n",
    "    \n",
    "    \"\"\"\n",
    "    model = Sequential()\n",
    "    model.add(Embedding(input_dim, output_dim))\n",
    "    model.add(Convolution1D(activation=\"relu\",\n",
    "                     filters=40, kernel_size=4, padding=\"valid\"))\n",
    "    model.add(GlobalMaxPooling1D())\n",
    "    model.add(Flatten())\n",
    "    #model.add(GlobalAveragePooling1D())\n",
    "    model.add(Dense(output_dim, activation='relu'))\n",
    "    model.add(Dropout(0.2))\n",
    "    model.add(Dense(1, activation='softmax'))\n",
    "    \n",
    "    \n",
    "    model.compile(optimizer = 'Adam',loss='binary_crossentropy',metrics=['accuracy'])\n",
    "    \n",
    "    return model"
   ]
  },
  {
   "cell_type": "code",
   "execution_count": null,
   "metadata": {},
   "outputs": [],
   "source": []
  },
  {
   "cell_type": "code",
   "execution_count": 80,
   "metadata": {},
   "outputs": [
    {
     "name": "stdout",
     "output_type": "stream",
     "text": [
      "[20/20]CPU times: user 1min 7s, sys: 29.2 s, total: 1min 36s\n",
      "Wall time: 52.4 s\n"
     ]
    }
   ],
   "source": [
    "%%time\n",
    "\n",
    "set_verbosity(ERROR)\n",
    "epochs = 20\n",
    "\n",
    "monitor = EarlyStopping(monitor='vall_loss',min_delta=1e-3,verbose=0, mode='atuo')\n",
    "checkpoint = ModelCheckpoint(filepath='wieght_save/best_weights_(price_label_of_model_one).hdf5',verbose=0,save_best_only=True)\n",
    "time_summary = TimeSummary()\n",
    "estimetor = Estimate_fasterD(epochs)\n",
    "\n",
    "model = model_new_one(input_dim= 2000, nb_filters=1,output_dim=32)\n",
    "history = model.fit(train_data,y_train, batch_size=4 , \n",
    "                    validation_split=0.20, verbose=0, epochs=epochs,\n",
    "                    callbacks=[monitor,checkpoint,time_summary,estimetor])\n",
    "\n",
    "\n",
    "model.load_weights('wieght_save/best_weights_(price_label_of_model_one).hdf5') "
   ]
  },
  {
   "cell_type": "code",
   "execution_count": 81,
   "metadata": {},
   "outputs": [
    {
     "name": "stdout",
     "output_type": "stream",
     "text": [
      "Training time: 0:01:35.203034(HH:MM:SS)\n",
      "Epoch time avg: 0:00:04.760128(HH:MM:SS)\n"
     ]
    },
    {
     "data": {
      "image/png": "[encoded data removed]",
      "text/plain": [
       "<Figure size 432x288 with 1 Axes>"
      ]
     },
     "metadata": {
      "needs_background": "light"
     },
     "output_type": "display_data"
    },
    {
     "data": {
      "image/png": "[encoded data removed]",
      "text/plain": [
       "<Figure size 432x288 with 1 Axes>"
      ]
     },
     "metadata": {
      "needs_background": "light"
     },
     "output_type": "display_data"
    }
   ],
   "source": [
    "plot_training_summary(history,time_summary)\n",
    "#scores = model.evaluate(test_data, y_test, verbose=0)\n",
    "#print(\"Accuracy for glove model: %.2f%%\" % (scores[1]*100))"
   ]
  },
  {
   "cell_type": "code",
   "execution_count": null,
   "metadata": {},
   "outputs": [],
   "source": []
  },
  {
   "cell_type": "code",
   "execution_count": null,
   "metadata": {},
   "outputs": [],
   "source": []
  },
  {
   "cell_type": "markdown",
   "metadata": {},
   "source": [
    "# next_model"
   ]
  },
  {
   "cell_type": "code",
   "execution_count": null,
   "metadata": {},
   "outputs": [],
   "source": [
    "from keras.constraints import maxnorm\n",
    "from keras.engine import Input\n",
    "from keras.engine import Model\n",
    "from keras.layers import Dropout, Dense, Bidirectional, LSTM, \\\n",
    "    Embedding, GaussianNoise, Activation, Flatten, \\\n",
    "    RepeatVector, MaxoutDense, GlobalMaxPooling1D, \\\n",
    "    Convolution1D, MaxPooling1D, concatenate, Conv1D\n",
    "from keras.models import Sequential\n",
    "from keras.optimizers import Adam\n",
    "from keras.regularizers import l2\n",
    "from kutilities.layers import AttentionWithContext, Attention, MeanOverTime\n",
    "from sklearn import preprocessing\n",
    "\n",
    "\n",
    "\n",
    "\n",
    "def cnn_multi_filters(wv, sent_length, nfilters, nb_filters, **kwargs):\n",
    "    noise = kwargs.get(\"noise\", 0)\n",
    "    trainable = kwargs.get(\"trainable\", False)\n",
    "    drop_text_input = kwargs.get(\"drop_text_input\", 0.)\n",
    "    drop_conv = kwargs.get(\"drop_conv\", 0.)\n",
    "    activity_l2 = kwargs.get(\"activity_l2\", 0.)\n",
    "\n",
    "    input_text = Input(shape=(sent_length,), dtype='int32')\n",
    "\n",
    "    emb_text = embeddings_layer(max_length=sent_length, embeddings=wv,\n",
    "                                trainable=trainable, masking=False)(input_text)\n",
    "    emb_text = GaussianNoise(noise)(emb_text)\n",
    "    emb_text = Dropout(drop_text_input)(emb_text)\n",
    "\n",
    "    pooling_reps = []\n",
    "    for i in nfilters:\n",
    "        feat_maps = Convolution1D(nb_filter=nb_filters,\n",
    "                                  filter_length=i,\n",
    "                                  border_mode=\"valid\",\n",
    "                                  activation=\"relu\",\n",
    "                                  subsample_length=1)(emb_text)\n",
    "        pool_vecs = MaxPooling1D(pool_length=2)(feat_maps)\n",
    "        pool_vecs = Flatten()(pool_vecs)\n",
    "        # pool_vecs = GlobalMaxPooling1D()(feat_maps)\n",
    "        pooling_reps.append(pool_vecs)\n",
    "\n",
    "    representation = concatenate(pooling_reps)\n",
    "\n",
    "    representation = Dropout(drop_conv)(representation)\n",
    "\n",
    "    probabilities = Dense(2, activation='softmax',\n",
    "                          activity_regularizer=l2(activity_l2))(representation)\n",
    "\n",
    "    model = Model(input=input_text, output=probabilities)\n",
    "    model.compile(optimizer=\"adam\", loss='categorical_crossentropy')\n",
    "\n",
    "    return model"
   ]
  },
  {
   "cell_type": "code",
   "execution_count": null,
   "metadata": {},
   "outputs": [],
   "source": [
    "%%time\n",
    "\n",
    "set_verbosity(ERROR)\n",
    "epochs = 200\n",
    "\n",
    "monitor = EarlyStopping(monitor='vall_loss',min_delta=1e-3,verbose=0, mode='atuo')\n",
    "checkpoint = ModelCheckpoint(filepath='wieght_save/best_weights_(price_label_of_model_one).hdf5',verbose=0,save_best_only=True)\n",
    "time_summary = TimeSummary()\n",
    "estimetor = Estimate_fasterD(epochs)\n",
    "\n",
    "model_cnn = cnn_multi_filters(wv, sent_length, nfilters, nb_filters, **kwargs)\n",
    "history = model_cnn.fit(train_data,y_train, batch_size=40 , \n",
    "                    validation_split=0.20, verbose=0, epochs=epochs,\n",
    "                    callbacks=[monitor,checkpoint,time_summary,estimetor])\n",
    "\n",
    "\n",
    "model.load_weights('wieght_save/best_weights_(price_label_of_model_one).hdf5') "
   ]
  }
 ],
 "metadata": {
  "kernelspec": {
   "display_name": "Python 3",
   "language": "python",
   "name": "python3"
  },
  "language_info": {
   "codemirror_mode": {
    "name": "ipython",
    "version": 3
   },
   "file_extension": ".py",
   "mimetype": "text/x-python",
   "name": "python",
   "nbconvert_exporter": "python",
   "pygments_lexer": "ipython3",
   "version": "3.6.8"
  }
 },
 "nbformat": 4,
 "nbformat_minor": 2
}
