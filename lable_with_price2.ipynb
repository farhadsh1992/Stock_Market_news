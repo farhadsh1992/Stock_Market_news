{
 "cells": [
  {
   "cell_type": "code",
   "execution_count": null,
   "metadata": {},
   "outputs": [],
   "source": []
  },
  {
   "cell_type": "code",
   "execution_count": null,
   "metadata": {},
   "outputs": [],
   "source": []
  },
  {
   "cell_type": "code",
   "execution_count": null,
   "metadata": {},
   "outputs": [],
   "source": []
  },
  {
   "cell_type": "code",
   "execution_count": 1,
   "metadata": {},
   "outputs": [],
   "source": [
    "import warnings\n",
    "warnings.filterwarnings('ignore')\n",
    "import pandas_datareader as web\n",
    "import datetime\n",
    "import pandas as pd\n",
    "import numpy as np\n",
    "\n",
    "\n",
    "\n",
    "from sklearn.preprocessing import MinMaxScaler\n",
    "import seaborn as sns\n",
    "import matplotlib.pyplot as plt\n",
    "\n",
    "from farhad.time_estimate import EstimateFaster\n",
    "from farhad.StockTalent import normalize_df, Normlize_nMonth\n"
   ]
  },
  {
   "cell_type": "code",
   "execution_count": null,
   "metadata": {},
   "outputs": [],
   "source": []
  },
  {
   "cell_type": "code",
   "execution_count": 3,
   "metadata": {},
   "outputs": [
    {
     "data": {
      "text/html": [
       "<div>\n",
       "<style scoped>\n",
       "    .dataframe tbody tr th:only-of-type {\n",
       "        vertical-align: middle;\n",
       "    }\n",
       "\n",
       "    .dataframe tbody tr th {\n",
       "        vertical-align: top;\n",
       "    }\n",
       "\n",
       "    .dataframe thead th {\n",
       "        text-align: right;\n",
       "    }\n",
       "</style>\n",
       "<table border=\"1\" class=\"dataframe\">\n",
       "  <thead>\n",
       "    <tr style=\"text-align: right;\">\n",
       "      <th></th>\n",
       "      <th>created_at</th>\n",
       "      <th>text</th>\n",
       "      <th>label_topicModels</th>\n",
       "    </tr>\n",
       "  </thead>\n",
       "  <tbody>\n",
       "    <tr>\n",
       "      <th>0</th>\n",
       "      <td>2011-07-19</td>\n",
       "      <td>difference going stellar marketp</td>\n",
       "      <td>1</td>\n",
       "    </tr>\n",
       "    <tr>\n",
       "      <th>1</th>\n",
       "      <td>2013-01-02</td>\n",
       "      <td>get limitations compared tesla os pressuring a...</td>\n",
       "      <td>0</td>\n",
       "    </tr>\n",
       "    <tr>\n",
       "      <th>2</th>\n",
       "      <td>2012-05-08</td>\n",
       "      <td>grandote asi sincero como los que da mi gato t...</td>\n",
       "      <td>0</td>\n",
       "    </tr>\n",
       "    <tr>\n",
       "      <th>3</th>\n",
       "      <td>2014-10-25</td>\n",
       "      <td>fine win take money</td>\n",
       "      <td>1</td>\n",
       "    </tr>\n",
       "    <tr>\n",
       "      <th>4</th>\n",
       "      <td>2012-05-01</td>\n",
       "      <td>tesla model versus giant snow drift highway video</td>\n",
       "      <td>1</td>\n",
       "    </tr>\n",
       "  </tbody>\n",
       "</table>\n",
       "</div>"
      ],
      "text/plain": [
       "   created_at                                               text  \\\n",
       "0  2011-07-19                   difference going stellar marketp   \n",
       "1  2013-01-02  get limitations compared tesla os pressuring a...   \n",
       "2  2012-05-08  grandote asi sincero como los que da mi gato t...   \n",
       "3  2014-10-25                                fine win take money   \n",
       "4  2012-05-01  tesla model versus giant snow drift highway video   \n",
       "\n",
       "   label_topicModels  \n",
       "0                  1  \n",
       "1                  0  \n",
       "2                  0  \n",
       "3                  1  \n",
       "4                  1  "
      ]
     },
     "execution_count": 3,
     "metadata": {},
     "output_type": "execute_result"
    }
   ],
   "source": [
    "df_data = pd.read_csv('data/tesla1000_topic_models.csv')\n",
    "df_data.head()"
   ]
  },
  {
   "cell_type": "code",
   "execution_count": 5,
   "metadata": {},
   "outputs": [
    {
     "data": {
      "text/html": [
       "<div>\n",
       "<style scoped>\n",
       "    .dataframe tbody tr th:only-of-type {\n",
       "        vertical-align: middle;\n",
       "    }\n",
       "\n",
       "    .dataframe tbody tr th {\n",
       "        vertical-align: top;\n",
       "    }\n",
       "\n",
       "    .dataframe thead th {\n",
       "        text-align: right;\n",
       "    }\n",
       "</style>\n",
       "<table border=\"1\" class=\"dataframe\">\n",
       "  <thead>\n",
       "    <tr style=\"text-align: right;\">\n",
       "      <th></th>\n",
       "      <th>created_at</th>\n",
       "      <th>text</th>\n",
       "      <th>label_topicModels</th>\n",
       "    </tr>\n",
       "  </thead>\n",
       "  <tbody>\n",
       "    <tr>\n",
       "      <th>986</th>\n",
       "      <td>2007-03-21</td>\n",
       "      <td>multiple sources tell amazon made clear beginn...</td>\n",
       "      <td>0</td>\n",
       "    </tr>\n",
       "    <tr>\n",
       "      <th>44</th>\n",
       "      <td>2007-04-10</td>\n",
       "      <td>tesla</td>\n",
       "      <td>0</td>\n",
       "    </tr>\n",
       "    <tr>\n",
       "      <th>412</th>\n",
       "      <td>2007-04-14</td>\n",
       "      <td>sadly hybrid wife calls old man car maybe tesl...</td>\n",
       "      <td>0</td>\n",
       "    </tr>\n",
       "    <tr>\n",
       "      <th>474</th>\n",
       "      <td>2007-08-09</td>\n",
       "      <td>amazon places big bet aspiring tesla rival riv...</td>\n",
       "      <td>1</td>\n",
       "    </tr>\n",
       "    <tr>\n",
       "      <th>687</th>\n",
       "      <td>2008-02-07</td>\n",
       "      <td>thanks</td>\n",
       "      <td>0</td>\n",
       "    </tr>\n",
       "  </tbody>\n",
       "</table>\n",
       "</div>"
      ],
      "text/plain": [
       "     created_at                                               text  \\\n",
       "986  2007-03-21  multiple sources tell amazon made clear beginn...   \n",
       "44   2007-04-10                                              tesla   \n",
       "412  2007-04-14  sadly hybrid wife calls old man car maybe tesl...   \n",
       "474  2007-08-09  amazon places big bet aspiring tesla rival riv...   \n",
       "687  2008-02-07                                             thanks   \n",
       "\n",
       "     label_topicModels  \n",
       "986                  0  \n",
       "44                   0  \n",
       "412                  0  \n",
       "474                  1  \n",
       "687                  0  "
      ]
     },
     "execution_count": 5,
     "metadata": {},
     "output_type": "execute_result"
    }
   ],
   "source": [
    "df_data.sort_values('created_at').head()"
   ]
  },
  {
   "cell_type": "code",
   "execution_count": 2,
   "metadata": {},
   "outputs": [
    {
     "data": {
      "text/html": [
       "<div>\n",
       "<style scoped>\n",
       "    .dataframe tbody tr th:only-of-type {\n",
       "        vertical-align: middle;\n",
       "    }\n",
       "\n",
       "    .dataframe tbody tr th {\n",
       "        vertical-align: top;\n",
       "    }\n",
       "\n",
       "    .dataframe thead th {\n",
       "        text-align: right;\n",
       "    }\n",
       "</style>\n",
       "<table border=\"1\" class=\"dataframe\">\n",
       "  <thead>\n",
       "    <tr style=\"text-align: right;\">\n",
       "      <th></th>\n",
       "      <th>High</th>\n",
       "      <th>Low</th>\n",
       "      <th>Open</th>\n",
       "      <th>Close</th>\n",
       "      <th>Volume</th>\n",
       "      <th>Adj Close</th>\n",
       "    </tr>\n",
       "    <tr>\n",
       "      <th>Date</th>\n",
       "      <th></th>\n",
       "      <th></th>\n",
       "      <th></th>\n",
       "      <th></th>\n",
       "      <th></th>\n",
       "      <th></th>\n",
       "    </tr>\n",
       "  </thead>\n",
       "  <tbody>\n",
       "    <tr>\n",
       "      <th>2011-01-03</th>\n",
       "      <td>27.000000</td>\n",
       "      <td>25.900000</td>\n",
       "      <td>26.84</td>\n",
       "      <td>26.620001</td>\n",
       "      <td>1283000</td>\n",
       "      <td>26.620001</td>\n",
       "    </tr>\n",
       "    <tr>\n",
       "      <th>2011-01-04</th>\n",
       "      <td>26.950001</td>\n",
       "      <td>26.020000</td>\n",
       "      <td>26.66</td>\n",
       "      <td>26.670000</td>\n",
       "      <td>1187400</td>\n",
       "      <td>26.670000</td>\n",
       "    </tr>\n",
       "    <tr>\n",
       "      <th>2011-01-05</th>\n",
       "      <td>26.900000</td>\n",
       "      <td>26.190001</td>\n",
       "      <td>26.48</td>\n",
       "      <td>26.830000</td>\n",
       "      <td>1446700</td>\n",
       "      <td>26.830000</td>\n",
       "    </tr>\n",
       "    <tr>\n",
       "      <th>2011-01-06</th>\n",
       "      <td>28.000000</td>\n",
       "      <td>26.809999</td>\n",
       "      <td>26.83</td>\n",
       "      <td>27.879999</td>\n",
       "      <td>2061200</td>\n",
       "      <td>27.879999</td>\n",
       "    </tr>\n",
       "    <tr>\n",
       "      <th>2011-01-07</th>\n",
       "      <td>28.580000</td>\n",
       "      <td>27.900000</td>\n",
       "      <td>28.00</td>\n",
       "      <td>28.240000</td>\n",
       "      <td>2247900</td>\n",
       "      <td>28.240000</td>\n",
       "    </tr>\n",
       "  </tbody>\n",
       "</table>\n",
       "</div>"
      ],
      "text/plain": [
       "                 High        Low   Open      Close   Volume  Adj Close\n",
       "Date                                                                  \n",
       "2011-01-03  27.000000  25.900000  26.84  26.620001  1283000  26.620001\n",
       "2011-01-04  26.950001  26.020000  26.66  26.670000  1187400  26.670000\n",
       "2011-01-05  26.900000  26.190001  26.48  26.830000  1446700  26.830000\n",
       "2011-01-06  28.000000  26.809999  26.83  27.879999  2061200  27.879999\n",
       "2011-01-07  28.580000  27.900000  28.00  28.240000  2247900  28.240000"
      ]
     },
     "execution_count": 2,
     "metadata": {},
     "output_type": "execute_result"
    }
   ],
   "source": [
    "start = datetime.datetime(2011,1,1)\n",
    "end = datetime.datetime(2019,2,14)\n",
    "#style.use('ggplot')\n",
    "pakage_price= web.DataReader('TSLA','yahoo', start,end) \n",
    "pakage_price.head()"
   ]
  },
  {
   "cell_type": "code",
   "execution_count": 45,
   "metadata": {},
   "outputs": [],
   "source": [
    "pakage_price[\"Date\"] = pakage_price.index\n",
    "pakage_price.to_csv(\"data/stock_price_tesla_from2007.csv\",index=False)"
   ]
  },
  {
   "cell_type": "code",
   "execution_count": null,
   "metadata": {},
   "outputs": [],
   "source": []
  },
  {
   "cell_type": "code",
   "execution_count": null,
   "metadata": {},
   "outputs": [],
   "source": []
  },
  {
   "cell_type": "code",
   "execution_count": 74,
   "metadata": {},
   "outputs": [
    {
     "data": {
      "text/html": [
       "<div>\n",
       "<style scoped>\n",
       "    .dataframe tbody tr th:only-of-type {\n",
       "        vertical-align: middle;\n",
       "    }\n",
       "\n",
       "    .dataframe tbody tr th {\n",
       "        vertical-align: top;\n",
       "    }\n",
       "\n",
       "    .dataframe thead th {\n",
       "        text-align: right;\n",
       "    }\n",
       "</style>\n",
       "<table border=\"1\" class=\"dataframe\">\n",
       "  <thead>\n",
       "    <tr style=\"text-align: right;\">\n",
       "      <th></th>\n",
       "      <th>High</th>\n",
       "      <th>Low</th>\n",
       "      <th>Open</th>\n",
       "      <th>Close</th>\n",
       "      <th>Volume</th>\n",
       "      <th>Adj Close</th>\n",
       "      <th>Date</th>\n",
       "    </tr>\n",
       "  </thead>\n",
       "  <tbody>\n",
       "    <tr>\n",
       "      <th>0</th>\n",
       "      <td>27.000000</td>\n",
       "      <td>25.90</td>\n",
       "      <td>26.84</td>\n",
       "      <td>26.620001</td>\n",
       "      <td>1283000</td>\n",
       "      <td>26.620001</td>\n",
       "      <td>2011-01-03</td>\n",
       "    </tr>\n",
       "    <tr>\n",
       "      <th>1</th>\n",
       "      <td>26.950001</td>\n",
       "      <td>26.02</td>\n",
       "      <td>26.66</td>\n",
       "      <td>26.670000</td>\n",
       "      <td>1187400</td>\n",
       "      <td>26.670000</td>\n",
       "      <td>2011-01-04</td>\n",
       "    </tr>\n",
       "  </tbody>\n",
       "</table>\n",
       "</div>"
      ],
      "text/plain": [
       "        High    Low   Open      Close   Volume  Adj Close        Date\n",
       "0  27.000000  25.90  26.84  26.620001  1283000  26.620001  2011-01-03\n",
       "1  26.950001  26.02  26.66  26.670000  1187400  26.670000  2011-01-04"
      ]
     },
     "execution_count": 74,
     "metadata": {},
     "output_type": "execute_result"
    }
   ],
   "source": [
    "df_price = pd.read_csv(\"data/stock_price_tesla_from2007.csv\")\n",
    "df_price.head(2)"
   ]
  },
  {
   "cell_type": "code",
   "execution_count": 48,
   "metadata": {},
   "outputs": [],
   "source": [
    "#df_price['month'] = df_price['Date'].apply(lambda x: datetime.datetime.strptime(str(x),\"%Y-%m-%d\").month)"
   ]
  },
  {
   "cell_type": "code",
   "execution_count": 81,
   "metadata": {},
   "outputs": [],
   "source": []
  },
  {
   "cell_type": "code",
   "execution_count": 82,
   "metadata": {},
   "outputs": [
    {
     "name": "stdout",
     "output_type": "stream",
     "text": [
      "[22/90][time]*** Done! ***\n"
     ]
    },
    {
     "data": {
      "text/html": [
       "<div>\n",
       "<style scoped>\n",
       "    .dataframe tbody tr th:only-of-type {\n",
       "        vertical-align: middle;\n",
       "    }\n",
       "\n",
       "    .dataframe tbody tr th {\n",
       "        vertical-align: top;\n",
       "    }\n",
       "\n",
       "    .dataframe thead th {\n",
       "        text-align: right;\n",
       "    }\n",
       "</style>\n",
       "<table border=\"1\" class=\"dataframe\">\n",
       "  <thead>\n",
       "    <tr style=\"text-align: right;\">\n",
       "      <th></th>\n",
       "      <th>High</th>\n",
       "      <th>Low</th>\n",
       "      <th>Open</th>\n",
       "      <th>Close</th>\n",
       "      <th>Volume</th>\n",
       "      <th>Adj Close</th>\n",
       "      <th>Date</th>\n",
       "      <th>norm_Adj_price</th>\n",
       "    </tr>\n",
       "  </thead>\n",
       "  <tbody>\n",
       "    <tr>\n",
       "      <th>0</th>\n",
       "      <td>27.000000</td>\n",
       "      <td>25.90</td>\n",
       "      <td>26.84</td>\n",
       "      <td>26.620001</td>\n",
       "      <td>1283000</td>\n",
       "      <td>26.620001</td>\n",
       "      <td>2011-01-03</td>\n",
       "      <td>-0.260579</td>\n",
       "    </tr>\n",
       "    <tr>\n",
       "      <th>1</th>\n",
       "      <td>26.950001</td>\n",
       "      <td>26.02</td>\n",
       "      <td>26.66</td>\n",
       "      <td>26.670000</td>\n",
       "      <td>1187400</td>\n",
       "      <td>26.670000</td>\n",
       "      <td>2011-01-04</td>\n",
       "      <td>0.172582</td>\n",
       "    </tr>\n",
       "  </tbody>\n",
       "</table>\n",
       "</div>"
      ],
      "text/plain": [
       "        High    Low   Open      Close   Volume  Adj Close        Date  \\\n",
       "0  27.000000  25.90  26.84  26.620001  1283000  26.620001  2011-01-03   \n",
       "1  26.950001  26.02  26.66  26.670000  1187400  26.670000  2011-01-04   \n",
       "\n",
       "   norm_Adj_price  \n",
       "0       -0.260579  \n",
       "1        0.172582  "
      ]
     },
     "execution_count": 82,
     "metadata": {},
     "output_type": "execute_result"
    }
   ],
   "source": [
    "df_price['norm_Adj_price'],std_list  = Normlize_nMonth(90 , df_price, Date=\"Date\", price=\"Adj Close\")\n",
    "df_price.head(2)"
   ]
  },
  {
   "cell_type": "code",
   "execution_count": 92,
   "metadata": {},
   "outputs": [
    {
     "name": "stdout",
     "output_type": "stream",
     "text": [
      "0.25\n"
     ]
    },
    {
     "data": {
      "image/png": "[encoded data removed]",
      "text/plain": [
       "<Figure size 1296x576 with 1 Axes>"
      ]
     },
     "metadata": {
      "needs_background": "light"
     },
     "output_type": "display_data"
    }
   ],
   "source": [
    "std = round(df_price[\"norm_Adj_price\"].std(),2)\n",
    "print(std)\n",
    "line1 = [0.2 for i in range(len(df_price))]\n",
    "line2 = [-0.2 for i in range(len(df_price))]\n",
    "\n",
    "plt.figure(figsize=(18,8))\n",
    "plt.bar(df_price['Date'] , df_price[\"norm_Adj_price\"], color='b', label='Noramlize')\n",
    "plt.plot(df_price['Date'],line1,'r--', label='Threshold for selling (Std)')\n",
    "plt.plot(df_price['Date'],line2,'g--',label='Threshold for buying')\n",
    "plt.title('Tesla _ ADJ price,from 2017,10,29 to 2019,01,10 (day)')\n",
    "\n",
    "plt.xticks(df_price['Date'][::25] ,rotation=90)\n",
    "plt.ylabel('normalize_price')\n",
    "plt.xlabel('Date')\n",
    "plt.legend()\n",
    "\n",
    "plt.text(2010,0.45, r'label=2',size=15,bbox=dict(facecolor='#2087A1', alpha=0.5))\n",
    "plt.text(2010,0.1, r'label=1',size=15,bbox=dict(facecolor='#5CD3F0', alpha=0.5))\n",
    "plt.text(2010,-0.1, r'label=-1',size=15,bbox=dict(facecolor='#F2A9BD', alpha=0.5))\n",
    "plt.text(2010,-0.3, r'label=-2',size=15,bbox=dict(facecolor='#EF2E62', alpha=0.5))\n",
    "\n",
    "plt.show()"
   ]
  },
  {
   "cell_type": "code",
   "execution_count": 94,
   "metadata": {},
   "outputs": [
    {
     "name": "stdout",
     "output_type": "stream",
     "text": [
      "0.25\n"
     ]
    },
    {
     "data": {
      "image/png": "[encoded data removed]",
      "text/plain": [
       "<Figure size 1296x576 with 1 Axes>"
      ]
     },
     "metadata": {
      "needs_background": "light"
     },
     "output_type": "display_data"
    }
   ],
   "source": [
    "std = round(df_price[\"norm_Adj_price\"].std(),2)\n",
    "print(std)\n",
    "line1 = [0.2 for i in range(len(df_price))]\n",
    "line2 = [-0.2 for i in range(len(df_price))]\n",
    "\n",
    "plt.figure(figsize=(18,8))\n",
    "plt.bar(df_price['Date'] , df_price[\"norm_Adj_price\"], color='b', label='Noramlize')\n",
    "plt.plot(df_price['Date'],line1,'r--', label='Threshold for selling (Std)')\n",
    "plt.plot(df_price['Date'],line2,'g--',label='Threshold for buying')\n",
    "plt.title('Tesla _ ADJ price,from 2017,10,29 to 2019,01,10 (day)')\n",
    "\n",
    "plt.xticks(df_price['Date'][::25] ,rotation=90)\n",
    "plt.ylabel('normalize_price')\n",
    "plt.xlabel('Date')\n",
    "plt.legend()\n",
    "\n",
    "#plt.text(2010,0.45, r'label=2',size=15,bbox=dict(facecolor='#2087A1', alpha=0.5))\n",
    "plt.text(2010,0.2, r'label=1',size=15,bbox=dict(facecolor='#5CD3F0', alpha=0.5))\n",
    "plt.text(2010,-0.2, r'label=0',size=15,bbox=dict(facecolor='#F2A9BD', alpha=0.5))\n",
    "#plt.text(2010,-0.3, r'label=-2',size=15,bbox=dict(facecolor='#EF2E62', alpha=0.5))\n",
    "\n",
    "plt.show()"
   ]
  },
  {
   "cell_type": "code",
   "execution_count": null,
   "metadata": {},
   "outputs": [],
   "source": []
  },
  {
   "cell_type": "code",
   "execution_count": 97,
   "metadata": {},
   "outputs": [],
   "source": [
    "def Give_lebal_according_price(x):\n",
    "    if x>=0.2:\n",
    "        y=2\n",
    "    elif x>=0:\n",
    "        y=1\n",
    "    elif x<0:\n",
    "        y=-1\n",
    "    elif x<=-0.2:\n",
    "        y=-2\n",
    "    return y\n",
    "df_price[\"Price_label\"] = df_price[\"norm_Adj_price\"].apply(Give_lebal_according_price)"
   ]
  },
  {
   "cell_type": "code",
   "execution_count": 98,
   "metadata": {},
   "outputs": [
    {
     "data": {
      "text/html": [
       "<div>\n",
       "<style scoped>\n",
       "    .dataframe tbody tr th:only-of-type {\n",
       "        vertical-align: middle;\n",
       "    }\n",
       "\n",
       "    .dataframe tbody tr th {\n",
       "        vertical-align: top;\n",
       "    }\n",
       "\n",
       "    .dataframe thead th {\n",
       "        text-align: right;\n",
       "    }\n",
       "</style>\n",
       "<table border=\"1\" class=\"dataframe\">\n",
       "  <thead>\n",
       "    <tr style=\"text-align: right;\">\n",
       "      <th></th>\n",
       "      <th>High</th>\n",
       "      <th>Low</th>\n",
       "      <th>Open</th>\n",
       "      <th>Close</th>\n",
       "      <th>Volume</th>\n",
       "      <th>Adj Close</th>\n",
       "      <th>Date</th>\n",
       "      <th>norm_Adj_price</th>\n",
       "      <th>Price_label</th>\n",
       "    </tr>\n",
       "  </thead>\n",
       "  <tbody>\n",
       "    <tr>\n",
       "      <th>0</th>\n",
       "      <td>27.000000</td>\n",
       "      <td>25.900000</td>\n",
       "      <td>26.84</td>\n",
       "      <td>26.620001</td>\n",
       "      <td>1283000</td>\n",
       "      <td>26.620001</td>\n",
       "      <td>2011-01-03</td>\n",
       "      <td>-0.260579</td>\n",
       "      <td>-1</td>\n",
       "    </tr>\n",
       "    <tr>\n",
       "      <th>1</th>\n",
       "      <td>26.950001</td>\n",
       "      <td>26.020000</td>\n",
       "      <td>26.66</td>\n",
       "      <td>26.670000</td>\n",
       "      <td>1187400</td>\n",
       "      <td>26.670000</td>\n",
       "      <td>2011-01-04</td>\n",
       "      <td>0.172582</td>\n",
       "      <td>1</td>\n",
       "    </tr>\n",
       "    <tr>\n",
       "      <th>2</th>\n",
       "      <td>26.900000</td>\n",
       "      <td>26.190001</td>\n",
       "      <td>26.48</td>\n",
       "      <td>26.830000</td>\n",
       "      <td>1446700</td>\n",
       "      <td>26.830000</td>\n",
       "      <td>2011-01-05</td>\n",
       "      <td>-0.071891</td>\n",
       "      <td>-1</td>\n",
       "    </tr>\n",
       "    <tr>\n",
       "      <th>3</th>\n",
       "      <td>28.000000</td>\n",
       "      <td>26.809999</td>\n",
       "      <td>26.83</td>\n",
       "      <td>27.879999</td>\n",
       "      <td>2061200</td>\n",
       "      <td>27.879999</td>\n",
       "      <td>2011-01-06</td>\n",
       "      <td>0.015073</td>\n",
       "      <td>1</td>\n",
       "    </tr>\n",
       "    <tr>\n",
       "      <th>4</th>\n",
       "      <td>28.580000</td>\n",
       "      <td>27.900000</td>\n",
       "      <td>28.00</td>\n",
       "      <td>28.240000</td>\n",
       "      <td>2247900</td>\n",
       "      <td>28.240000</td>\n",
       "      <td>2011-01-07</td>\n",
       "      <td>0.093645</td>\n",
       "      <td>1</td>\n",
       "    </tr>\n",
       "  </tbody>\n",
       "</table>\n",
       "</div>"
      ],
      "text/plain": [
       "        High        Low   Open      Close   Volume  Adj Close        Date  \\\n",
       "0  27.000000  25.900000  26.84  26.620001  1283000  26.620001  2011-01-03   \n",
       "1  26.950001  26.020000  26.66  26.670000  1187400  26.670000  2011-01-04   \n",
       "2  26.900000  26.190001  26.48  26.830000  1446700  26.830000  2011-01-05   \n",
       "3  28.000000  26.809999  26.83  27.879999  2061200  27.879999  2011-01-06   \n",
       "4  28.580000  27.900000  28.00  28.240000  2247900  28.240000  2011-01-07   \n",
       "\n",
       "   norm_Adj_price  Price_label  \n",
       "0       -0.260579           -1  \n",
       "1        0.172582            1  \n",
       "2       -0.071891           -1  \n",
       "3        0.015073            1  \n",
       "4        0.093645            1  "
      ]
     },
     "execution_count": 98,
     "metadata": {},
     "output_type": "execute_result"
    }
   ],
   "source": [
    "df_price.head()"
   ]
  },
  {
   "cell_type": "code",
   "execution_count": 100,
   "metadata": {},
   "outputs": [],
   "source": [
    "df_price2 = df_price[['Date','norm_Adj_price','Price_label']]"
   ]
  },
  {
   "cell_type": "code",
   "execution_count": null,
   "metadata": {},
   "outputs": [],
   "source": [
    "df_price2.to_csv('data/price_tesla_with_label.csv',index=False)"
   ]
  },
  {
   "cell_type": "code",
   "execution_count": null,
   "metadata": {},
   "outputs": [],
   "source": []
  },
  {
   "cell_type": "code",
   "execution_count": 99,
   "metadata": {},
   "outputs": [
    {
     "data": {
      "text/html": [
       "<div>\n",
       "<style scoped>\n",
       "    .dataframe tbody tr th:only-of-type {\n",
       "        vertical-align: middle;\n",
       "    }\n",
       "\n",
       "    .dataframe tbody tr th {\n",
       "        vertical-align: top;\n",
       "    }\n",
       "\n",
       "    .dataframe thead th {\n",
       "        text-align: right;\n",
       "    }\n",
       "</style>\n",
       "<table border=\"1\" class=\"dataframe\">\n",
       "  <thead>\n",
       "    <tr style=\"text-align: right;\">\n",
       "      <th></th>\n",
       "      <th>created_at</th>\n",
       "      <th>text</th>\n",
       "      <th>label_topicModels</th>\n",
       "    </tr>\n",
       "  </thead>\n",
       "  <tbody>\n",
       "    <tr>\n",
       "      <th>0</th>\n",
       "      <td>2011-07-19</td>\n",
       "      <td>difference going stellar marketp</td>\n",
       "      <td>1</td>\n",
       "    </tr>\n",
       "    <tr>\n",
       "      <th>1</th>\n",
       "      <td>2013-01-02</td>\n",
       "      <td>get limitations compared tesla os pressuring a...</td>\n",
       "      <td>0</td>\n",
       "    </tr>\n",
       "    <tr>\n",
       "      <th>2</th>\n",
       "      <td>2012-05-08</td>\n",
       "      <td>grandote asi sincero como los que da mi gato t...</td>\n",
       "      <td>0</td>\n",
       "    </tr>\n",
       "    <tr>\n",
       "      <th>3</th>\n",
       "      <td>2014-10-25</td>\n",
       "      <td>fine win take money</td>\n",
       "      <td>1</td>\n",
       "    </tr>\n",
       "    <tr>\n",
       "      <th>4</th>\n",
       "      <td>2012-05-01</td>\n",
       "      <td>tesla model versus giant snow drift highway video</td>\n",
       "      <td>1</td>\n",
       "    </tr>\n",
       "  </tbody>\n",
       "</table>\n",
       "</div>"
      ],
      "text/plain": [
       "   created_at                                               text  \\\n",
       "0  2011-07-19                   difference going stellar marketp   \n",
       "1  2013-01-02  get limitations compared tesla os pressuring a...   \n",
       "2  2012-05-08  grandote asi sincero como los que da mi gato t...   \n",
       "3  2014-10-25                                fine win take money   \n",
       "4  2012-05-01  tesla model versus giant snow drift highway video   \n",
       "\n",
       "   label_topicModels  \n",
       "0                  1  \n",
       "1                  0  \n",
       "2                  0  \n",
       "3                  1  \n",
       "4                  1  "
      ]
     },
     "execution_count": 99,
     "metadata": {},
     "output_type": "execute_result"
    }
   ],
   "source": [
    "df_data = pd.read_csv('data/tesla1000_topic_models.csv')\n",
    "df_data.head()"
   ]
  },
  {
   "cell_type": "code",
   "execution_count": 180,
   "metadata": {},
   "outputs": [],
   "source": [
    "df_data = df_data.sort_values('created_at')"
   ]
  },
  {
   "cell_type": "code",
   "execution_count": 181,
   "metadata": {},
   "outputs": [
    {
     "data": {
      "text/html": [
       "<div>\n",
       "<style scoped>\n",
       "    .dataframe tbody tr th:only-of-type {\n",
       "        vertical-align: middle;\n",
       "    }\n",
       "\n",
       "    .dataframe tbody tr th {\n",
       "        vertical-align: top;\n",
       "    }\n",
       "\n",
       "    .dataframe thead th {\n",
       "        text-align: right;\n",
       "    }\n",
       "</style>\n",
       "<table border=\"1\" class=\"dataframe\">\n",
       "  <thead>\n",
       "    <tr style=\"text-align: right;\">\n",
       "      <th></th>\n",
       "      <th>created_at</th>\n",
       "      <th>text</th>\n",
       "      <th>label_topicModels</th>\n",
       "    </tr>\n",
       "  </thead>\n",
       "  <tbody>\n",
       "    <tr>\n",
       "      <th>986</th>\n",
       "      <td>2007-03-21</td>\n",
       "      <td>multiple sources tell amazon made clear beginn...</td>\n",
       "      <td>0</td>\n",
       "    </tr>\n",
       "    <tr>\n",
       "      <th>44</th>\n",
       "      <td>2007-04-10</td>\n",
       "      <td>tesla</td>\n",
       "      <td>0</td>\n",
       "    </tr>\n",
       "    <tr>\n",
       "      <th>412</th>\n",
       "      <td>2007-04-14</td>\n",
       "      <td>sadly hybrid wife calls old man car maybe tesl...</td>\n",
       "      <td>0</td>\n",
       "    </tr>\n",
       "    <tr>\n",
       "      <th>474</th>\n",
       "      <td>2007-08-09</td>\n",
       "      <td>amazon places big bet aspiring tesla rival riv...</td>\n",
       "      <td>1</td>\n",
       "    </tr>\n",
       "    <tr>\n",
       "      <th>687</th>\n",
       "      <td>2008-02-07</td>\n",
       "      <td>thanks</td>\n",
       "      <td>0</td>\n",
       "    </tr>\n",
       "  </tbody>\n",
       "</table>\n",
       "</div>"
      ],
      "text/plain": [
       "     created_at                                               text  \\\n",
       "986  2007-03-21  multiple sources tell amazon made clear beginn...   \n",
       "44   2007-04-10                                              tesla   \n",
       "412  2007-04-14  sadly hybrid wife calls old man car maybe tesl...   \n",
       "474  2007-08-09  amazon places big bet aspiring tesla rival riv...   \n",
       "687  2008-02-07                                             thanks   \n",
       "\n",
       "     label_topicModels  \n",
       "986                  0  \n",
       "44                   0  \n",
       "412                  0  \n",
       "474                  1  \n",
       "687                  0  "
      ]
     },
     "execution_count": 181,
     "metadata": {},
     "output_type": "execute_result"
    }
   ],
   "source": [
    "df_data.head()"
   ]
  },
  {
   "cell_type": "code",
   "execution_count": 182,
   "metadata": {},
   "outputs": [
    {
     "data": {
      "text/html": [
       "<div>\n",
       "<style scoped>\n",
       "    .dataframe tbody tr th:only-of-type {\n",
       "        vertical-align: middle;\n",
       "    }\n",
       "\n",
       "    .dataframe tbody tr th {\n",
       "        vertical-align: top;\n",
       "    }\n",
       "\n",
       "    .dataframe thead th {\n",
       "        text-align: right;\n",
       "    }\n",
       "</style>\n",
       "<table border=\"1\" class=\"dataframe\">\n",
       "  <thead>\n",
       "    <tr style=\"text-align: right;\">\n",
       "      <th></th>\n",
       "      <th>High</th>\n",
       "      <th>Low</th>\n",
       "      <th>Open</th>\n",
       "      <th>Close</th>\n",
       "      <th>Volume</th>\n",
       "      <th>Adj Close</th>\n",
       "      <th>Date</th>\n",
       "      <th>norm_Adj_price</th>\n",
       "      <th>Price_label</th>\n",
       "    </tr>\n",
       "  </thead>\n",
       "  <tbody>\n",
       "    <tr>\n",
       "      <th>0</th>\n",
       "      <td>27.000000</td>\n",
       "      <td>25.900000</td>\n",
       "      <td>26.84</td>\n",
       "      <td>26.620001</td>\n",
       "      <td>1283000</td>\n",
       "      <td>26.620001</td>\n",
       "      <td>2011-01-03</td>\n",
       "      <td>-0.260579</td>\n",
       "      <td>-1</td>\n",
       "    </tr>\n",
       "    <tr>\n",
       "      <th>1</th>\n",
       "      <td>26.950001</td>\n",
       "      <td>26.020000</td>\n",
       "      <td>26.66</td>\n",
       "      <td>26.670000</td>\n",
       "      <td>1187400</td>\n",
       "      <td>26.670000</td>\n",
       "      <td>2011-01-04</td>\n",
       "      <td>0.172582</td>\n",
       "      <td>1</td>\n",
       "    </tr>\n",
       "    <tr>\n",
       "      <th>2</th>\n",
       "      <td>26.900000</td>\n",
       "      <td>26.190001</td>\n",
       "      <td>26.48</td>\n",
       "      <td>26.830000</td>\n",
       "      <td>1446700</td>\n",
       "      <td>26.830000</td>\n",
       "      <td>2011-01-05</td>\n",
       "      <td>-0.071891</td>\n",
       "      <td>-1</td>\n",
       "    </tr>\n",
       "    <tr>\n",
       "      <th>3</th>\n",
       "      <td>28.000000</td>\n",
       "      <td>26.809999</td>\n",
       "      <td>26.83</td>\n",
       "      <td>27.879999</td>\n",
       "      <td>2061200</td>\n",
       "      <td>27.879999</td>\n",
       "      <td>2011-01-06</td>\n",
       "      <td>0.015073</td>\n",
       "      <td>1</td>\n",
       "    </tr>\n",
       "    <tr>\n",
       "      <th>4</th>\n",
       "      <td>28.580000</td>\n",
       "      <td>27.900000</td>\n",
       "      <td>28.00</td>\n",
       "      <td>28.240000</td>\n",
       "      <td>2247900</td>\n",
       "      <td>28.240000</td>\n",
       "      <td>2011-01-07</td>\n",
       "      <td>0.093645</td>\n",
       "      <td>1</td>\n",
       "    </tr>\n",
       "  </tbody>\n",
       "</table>\n",
       "</div>"
      ],
      "text/plain": [
       "        High        Low   Open      Close   Volume  Adj Close        Date  \\\n",
       "0  27.000000  25.900000  26.84  26.620001  1283000  26.620001  2011-01-03   \n",
       "1  26.950001  26.020000  26.66  26.670000  1187400  26.670000  2011-01-04   \n",
       "2  26.900000  26.190001  26.48  26.830000  1446700  26.830000  2011-01-05   \n",
       "3  28.000000  26.809999  26.83  27.879999  2061200  27.879999  2011-01-06   \n",
       "4  28.580000  27.900000  28.00  28.240000  2247900  28.240000  2011-01-07   \n",
       "\n",
       "   norm_Adj_price  Price_label  \n",
       "0       -0.260579           -1  \n",
       "1        0.172582            1  \n",
       "2       -0.071891           -1  \n",
       "3        0.015073            1  \n",
       "4        0.093645            1  "
      ]
     },
     "execution_count": 182,
     "metadata": {},
     "output_type": "execute_result"
    }
   ],
   "source": [
    "df_price.head()"
   ]
  },
  {
   "cell_type": "code",
   "execution_count": 116,
   "metadata": {},
   "outputs": [],
   "source": [
    "df_data = df_data.sort_values('created_at')"
   ]
  },
  {
   "cell_type": "code",
   "execution_count": 117,
   "metadata": {},
   "outputs": [],
   "source": [
    "new_df = pd.merge(left=df_data, left_on='created_at', right=df_price2, right_on='Date')\n",
    "new_df = new_df[['created_at','text','label_topicModels','Price_label']]\n"
   ]
  },
  {
   "cell_type": "code",
   "execution_count": 122,
   "metadata": {},
   "outputs": [
    {
     "data": {
      "text/html": [
       "<div>\n",
       "<style scoped>\n",
       "    .dataframe tbody tr th:only-of-type {\n",
       "        vertical-align: middle;\n",
       "    }\n",
       "\n",
       "    .dataframe tbody tr th {\n",
       "        vertical-align: top;\n",
       "    }\n",
       "\n",
       "    .dataframe thead th {\n",
       "        text-align: right;\n",
       "    }\n",
       "</style>\n",
       "<table border=\"1\" class=\"dataframe\">\n",
       "  <thead>\n",
       "    <tr style=\"text-align: right;\">\n",
       "      <th></th>\n",
       "      <th>created_at</th>\n",
       "      <th>text</th>\n",
       "      <th>label_topicModels</th>\n",
       "      <th>Price_label</th>\n",
       "      <th>Price_label(0,1)</th>\n",
       "    </tr>\n",
       "  </thead>\n",
       "  <tbody>\n",
       "    <tr>\n",
       "      <th>0</th>\n",
       "      <td>2011-01-18</td>\n",
       "      <td>watch slammed suv blowing red light mph miami ...</td>\n",
       "      <td>0</td>\n",
       "      <td>-1</td>\n",
       "      <td>0</td>\n",
       "    </tr>\n",
       "    <tr>\n",
       "      <th>1</th>\n",
       "      <td>2011-01-19</td>\n",
       "      <td>tesla xyecla</td>\n",
       "      <td>0</td>\n",
       "      <td>-1</td>\n",
       "      <td>0</td>\n",
       "    </tr>\n",
       "    <tr>\n",
       "      <th>2</th>\n",
       "      <td>2011-01-21</td>\n",
       "      <td>yep tesla going take world structurally unprofi</td>\n",
       "      <td>0</td>\n",
       "      <td>2</td>\n",
       "      <td>1</td>\n",
       "    </tr>\n",
       "    <tr>\n",
       "      <th>3</th>\n",
       "      <td>2011-02-01</td>\n",
       "      <td>introducing dog mode set cabin temperature kee...</td>\n",
       "      <td>1</td>\n",
       "      <td>1</td>\n",
       "      <td>1</td>\n",
       "    </tr>\n",
       "    <tr>\n",
       "      <th>4</th>\n",
       "      <td>2011-02-11</td>\n",
       "      <td>wheeled electricvehicle company could next tes...</td>\n",
       "      <td>0</td>\n",
       "      <td>-1</td>\n",
       "      <td>0</td>\n",
       "    </tr>\n",
       "  </tbody>\n",
       "</table>\n",
       "</div>"
      ],
      "text/plain": [
       "   created_at                                               text  \\\n",
       "0  2011-01-18  watch slammed suv blowing red light mph miami ...   \n",
       "1  2011-01-19                                       tesla xyecla   \n",
       "2  2011-01-21    yep tesla going take world structurally unprofi   \n",
       "3  2011-02-01  introducing dog mode set cabin temperature kee...   \n",
       "4  2011-02-11  wheeled electricvehicle company could next tes...   \n",
       "\n",
       "   label_topicModels  Price_label  Price_label(0,1)  \n",
       "0                  0           -1                 0  \n",
       "1                  0           -1                 0  \n",
       "2                  0            2                 1  \n",
       "3                  1            1                 1  \n",
       "4                  0           -1                 0  "
      ]
     },
     "execution_count": 122,
     "metadata": {},
     "output_type": "execute_result"
    }
   ],
   "source": [
    "new_df.head()"
   ]
  },
  {
   "cell_type": "code",
   "execution_count": 151,
   "metadata": {},
   "outputs": [
    {
     "name": "stdout",
     "output_type": "stream",
     "text": [
      "<class 'pandas.core.frame.DataFrame'>\n",
      "Int64Index: 593 entries, 0 to 592\n",
      "Data columns (total 5 columns):\n",
      "created_at           593 non-null object\n",
      "text                 562 non-null object\n",
      "label_topicModels    593 non-null int64\n",
      "Price_label          593 non-null int64\n",
      "Price_label(0,1)     593 non-null int64\n",
      "dtypes: int64(3), object(2)\n",
      "memory usage: 27.8+ KB\n"
     ]
    }
   ],
   "source": [
    "new_df.info()"
   ]
  },
  {
   "cell_type": "code",
   "execution_count": 137,
   "metadata": {},
   "outputs": [],
   "source": [
    "def label_price_small(x):\n",
    "    if x>0:\n",
    "        y=1\n",
    "    if x<0:\n",
    "        y=-1\n",
    "    return y\n",
    "def label_topic(x):\n",
    "    if x==1:\n",
    "        y=-1\n",
    "    if x==-1:\n",
    "        y=1\n",
    "    return y\n",
    "new_df['Price_label(0,1)'] = new_df['Price_label'].apply(label_price_small)\n",
    "new_df['label_topicModels'] = new_df['label_topicModels'].apply(label_topic)\n",
    "\n",
    "\n",
    "new_df = new_df.sort_values('created_at')"
   ]
  },
  {
   "cell_type": "code",
   "execution_count": 138,
   "metadata": {},
   "outputs": [
    {
     "data": {
      "image/png": "[encoded data removed]",
      "text/plain": [
       "<Figure size 1296x288 with 1 Axes>"
      ]
     },
     "metadata": {
      "needs_background": "light"
     },
     "output_type": "display_data"
    }
   ],
   "source": [
    "plt.figure(figsize=(18,4))\n",
    "plt.bar(new_df['created_at'] , new_df['Price_label(0,1)'], color='b', label='Price_label')\n",
    "plt.bar(new_df['created_at'],new_df['label_topicModels'],color='#F7D1DB', label='label_topic_Models')\n",
    "\n",
    "plt.title('Tesla _ label_topic models and price,from 2017,10,29 to 2019,01,10 (day)')\n",
    "plt.xticks(new_df['created_at'][::25] ,rotation=90)\n",
    "plt.ylabel('label')\n",
    "plt.xlabel('Date')\n",
    "plt.legend()\n",
    "plt.savefig('fo.png')\n",
    "plt.show()"
   ]
  },
  {
   "cell_type": "code",
   "execution_count": 171,
   "metadata": {},
   "outputs": [],
   "source": [
    "def label_price_small(x):\n",
    "    if x>0:\n",
    "        y=1\n",
    "    if x<0:\n",
    "        y=0\n",
    "    return y\n",
    "def label_topic(x):\n",
    "    if x==0:\n",
    "        y=1\n",
    "    if x==1:\n",
    "        y=0\n",
    "    return y\n",
    "new_df['Price_label(0,1)'] = new_df['Price_label'].apply(label_price_small)\n",
    "new_df['label_topicModels'] = new_df['label_topicModels'].apply(label_topic)\n",
    "\n",
    "\n",
    "new_df = new_df.sort_values('created_at')"
   ]
  },
  {
   "cell_type": "code",
   "execution_count": 172,
   "metadata": {},
   "outputs": [],
   "source": [
    "from tensorflow.keras.metrics import binary_crossentropy\n",
    "#x = binary_crossentropy(new_df['Price_label(0,1)'],new_df['label_topicModels'])"
   ]
  },
  {
   "cell_type": "code",
   "execution_count": 173,
   "metadata": {},
   "outputs": [],
   "source": [
    "num = 0\n",
    "for i in range(len(new_df['Price_label(0,1)'])):\n",
    "    x = new_df['Price_label(0,1)'][i]- new_df['label_topicModels'][i]\n",
    "    if x!=0 :\n",
    "        num+=1\n",
    "                    \n",
    "        "
   ]
  },
  {
   "cell_type": "code",
   "execution_count": 174,
   "metadata": {},
   "outputs": [
    {
     "data": {
      "text/plain": [
       "296"
      ]
     },
     "execution_count": 174,
     "metadata": {},
     "output_type": "execute_result"
    }
   ],
   "source": [
    "num"
   ]
  },
  {
   "cell_type": "code",
   "execution_count": 175,
   "metadata": {},
   "outputs": [
    {
     "data": {
      "text/plain": [
       "593"
      ]
     },
     "execution_count": 175,
     "metadata": {},
     "output_type": "execute_result"
    }
   ],
   "source": [
    "len(new_df)"
   ]
  },
  {
   "cell_type": "code",
   "execution_count": 183,
   "metadata": {},
   "outputs": [],
   "source": [
    "new_df.to_csv('data/tesla_label_twoprice_andtopic.csv',index=False)"
   ]
  },
  {
   "cell_type": "code",
   "execution_count": null,
   "metadata": {},
   "outputs": [],
   "source": []
  }
 ],
 "metadata": {
  "kernelspec": {
   "display_name": "Python 3",
   "language": "python",
   "name": "python3"
  },
  "language_info": {
   "codemirror_mode": {
    "name": "ipython",
    "version": 3
   },
   "file_extension": ".py",
   "mimetype": "text/x-python",
   "name": "python",
   "nbconvert_exporter": "python",
   "pygments_lexer": "ipython3",
   "version": "3.6.8"
  }
 },
 "nbformat": 4,
 "nbformat_minor": 2
}
