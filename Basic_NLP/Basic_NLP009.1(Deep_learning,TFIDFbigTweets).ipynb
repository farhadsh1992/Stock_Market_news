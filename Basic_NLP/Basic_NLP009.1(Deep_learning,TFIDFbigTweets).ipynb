{
 "cells": [
  {
   "cell_type": "markdown",
   "metadata": {},
   "source": [
    "<div style=\"width:100%;height:100px;text-align:center;border: 4px solid black;background-color:#E6BF00;color:white\">\n",
    "\n",
    "<header style=\"width:100%;height:100px;\">\n",
    "  <h1><b> Session 003</b></h1>\n",
    "    <h4> Basic Natural language processing </h4>\n",
    "</header>\n",
    "\n",
    "<div> "
   ]
  },
  {
   "cell_type": "code",
   "execution_count": null,
   "metadata": {},
   "outputs": [],
   "source": []
  },
  {
   "cell_type": "markdown",
   "metadata": {},
   "source": [
    "<div style='border: 4px solid #E6BF00;padding:9px;'>\n",
    "\n",
    "By: Farhad Shadmand \n",
    "    \n",
    "https://github.com/farhadsh1992\n",
    "    \n",
    "</div>"
   ]
  },
  {
   "cell_type": "code",
   "execution_count": null,
   "metadata": {},
   "outputs": [],
   "source": []
  },
  {
   "cell_type": "markdown",
   "metadata": {},
   "source": [
    "<div style=\"border: 4px solid #3550B7;background-color:#BFE6FF;color:black;border-radius: 5px;padding:7px\">\n",
    "  <strong> Refrence: </strong><br>\n",
    "\n",
    "Embedding_layer: https://machinelearningmastery.com/use-word-embedding-layers-deep-learning-keras/\n",
    "    \n",
    "pooling layer theory: https://alexisbcook.github.io/2017/global-average-pooling-layers-for-object-localization/\n",
    "    \n",
    "<hr>\n",
    "\n",
    "\n",
    "http://nadbordrozd.github.io/blog/2016/05/20/text-classification-with-word2vec/\n",
    "  \n",
    "https://towardsdatascience.com/using-scikit-learn-to-find-bullies-c47a1045d92f\n",
    "    \n",
    "https://www.kaggle.com/eswarbabu88/toxic-comment-glove-logistic-regression\n",
    "    \n",
    "https://www.kaggle.com/stacykurnikova/using-glove-embedding\n",
    "    \n",
    "https://www.kaggle.com/ankitswarnkar/word-embedding-using-glove-vector\n",
    "    \n",
    "https://textminingonline.com/getting-started-with-word2vec-and-glove-in-python\n",
    "    \n",
    "https://markhneedham.com/blog/2018/05/19/interpreting-word2vec-glove-embeddings-sklearn-neo4j-graph-algorithms/\n",
    "    \n",
    "http://nadbordrozd.github.io/blog/2016/05/20/text-classification-with-word2vec/\n",
    "    \n",
    "https://radimrehurek.com/gensim/sklearn_api/w2vmodel.html\n",
    "    \n",
    "https://www.kaggle.com/reiinakano/basic-nlp-bag-of-words-tf-idf-word2vec-lstm\n",
    "    \n",
    "https://github.com/NLPH/NLPH\n",
    "    \n",
    "word2vec: http://mccormickml.com/2016/04/19/word2vec-tutorial-the-skip-gram-model/\n",
    "    \n",
    "TI-IDF: https://triton.ml/blog/tf-idf-from-scratch\n",
    "    \n",
    "</div>"
   ]
  },
  {
   "cell_type": "code",
   "execution_count": null,
   "metadata": {},
   "outputs": [],
   "source": []
  },
  {
   "cell_type": "markdown",
   "metadata": {},
   "source": [
    "# Result:"
   ]
  },
  {
   "cell_type": "code",
   "execution_count": null,
   "metadata": {},
   "outputs": [],
   "source": [
    "Reuslt = {}"
   ]
  },
  {
   "cell_type": "code",
   "execution_count": null,
   "metadata": {},
   "outputs": [],
   "source": []
  },
  {
   "cell_type": "markdown",
   "metadata": {},
   "source": [
    "# Load Data:"
   ]
  },
  {
   "cell_type": "code",
   "execution_count": 4,
   "metadata": {},
   "outputs": [],
   "source": [
    "import numpy as np\n",
    "import pandas as pd\n",
    "import re"
   ]
  },
  {
   "cell_type": "code",
   "execution_count": 5,
   "metadata": {},
   "outputs": [
    {
     "name": "stdout",
     "output_type": "stream",
     "text": [
      "<class 'pandas.core.frame.DataFrame'>\n",
      "RangeIndex: 1530184 entries, 0 to 1530183\n",
      "Data columns (total 4 columns):\n",
      "index         1530184 non-null int64\n",
      "created_at    1530184 non-null object\n",
      "text          1530184 non-null object\n",
      "label         1530184 non-null int64\n",
      "dtypes: int64(2), object(2)\n",
      "memory usage: 46.7+ MB\n"
     ]
    }
   ],
   "source": [
    "#data_path = '/Users/apple/Documents/Programming/python/Project/data/Clean_tweets/2Tesla_label_from_2010-06-29_to_2019-02-26_2019227.csv'\n",
    "data_path = \"/Users/apple/Documents/Programming/python/Project/data/tweets/Third__CLean_training.1600000.process.csv\"\n",
    "df_data = pd.read_csv(data_path)\n",
    "df_data = df_data.dropna().reset_index()\n",
    "\n",
    "\n",
    "df_data['text'] = df_data['text'].apply(lambda x: re.sub('-PRON- ','',x))\n",
    "df_data['text'] = df_data['text'].apply(lambda x: re.sub('-PRON-','',x))\n",
    "\n",
    "df_data.info()"
   ]
  },
  {
   "cell_type": "code",
   "execution_count": 6,
   "metadata": {},
   "outputs": [
    {
     "data": {
      "text/html": [
       "<div>\n",
       "<style scoped>\n",
       "    .dataframe tbody tr th:only-of-type {\n",
       "        vertical-align: middle;\n",
       "    }\n",
       "\n",
       "    .dataframe tbody tr th {\n",
       "        vertical-align: top;\n",
       "    }\n",
       "\n",
       "    .dataframe thead th {\n",
       "        text-align: right;\n",
       "    }\n",
       "</style>\n",
       "<table border=\"1\" class=\"dataframe\">\n",
       "  <thead>\n",
       "    <tr style=\"text-align: right;\">\n",
       "      <th></th>\n",
       "      <th>index</th>\n",
       "      <th>created_at</th>\n",
       "      <th>text</th>\n",
       "      <th>label</th>\n",
       "    </tr>\n",
       "  </thead>\n",
       "  <tbody>\n",
       "    <tr>\n",
       "      <th>0</th>\n",
       "      <td>0</td>\n",
       "      <td>Mon Apr 06 22:19:49 PDT 2009</td>\n",
       "      <td>upset not updat facebook text might cri result...</td>\n",
       "      <td>0</td>\n",
       "    </tr>\n",
       "    <tr>\n",
       "      <th>1</th>\n",
       "      <td>1</td>\n",
       "      <td>Mon Apr 06 22:19:53 PDT 2009</td>\n",
       "      <td>dive mani time ball manag save rest go bound</td>\n",
       "      <td>0</td>\n",
       "    </tr>\n",
       "  </tbody>\n",
       "</table>\n",
       "</div>"
      ],
      "text/plain": [
       "   index                    created_at  \\\n",
       "0      0  Mon Apr 06 22:19:49 PDT 2009   \n",
       "1      1  Mon Apr 06 22:19:53 PDT 2009   \n",
       "\n",
       "                                                text  label  \n",
       "0  upset not updat facebook text might cri result...      0  \n",
       "1       dive mani time ball manag save rest go bound      0  "
      ]
     },
     "execution_count": 6,
     "metadata": {},
     "output_type": "execute_result"
    }
   ],
   "source": [
    "df_data.head(2)"
   ]
  },
  {
   "cell_type": "code",
   "execution_count": null,
   "metadata": {},
   "outputs": [],
   "source": []
  },
  {
   "cell_type": "markdown",
   "metadata": {},
   "source": [
    "<div style=\"width:100%;height:70px;border: 4px solid black;background-color:#E6BF00;color:white;text-align:center;border-radius: 25px;padding:3px\">\n",
    "    <h1> Preprocessing Data: <h1>\n",
    "</div>"
   ]
  },
  {
   "cell_type": "code",
   "execution_count": null,
   "metadata": {},
   "outputs": [],
   "source": []
  },
  {
   "cell_type": "code",
   "execution_count": 9,
   "metadata": {},
   "outputs": [],
   "source": [
    "from sklearn.model_selection import train_test_split"
   ]
  },
  {
   "cell_type": "code",
   "execution_count": 10,
   "metadata": {},
   "outputs": [
    {
     "name": "stderr",
     "output_type": "stream",
     "text": [
      "/anaconda3/lib/python3.6/site-packages/sklearn/model_selection/_split.py:2179: FutureWarning: From version 0.21, test_size will always complement train_size unless both are specified.\n",
      "  FutureWarning)\n"
     ]
    },
    {
     "name": "stdout",
     "output_type": "stream",
     "text": [
      "306036\n"
     ]
    }
   ],
   "source": [
    "data,_ = train_test_split(df_data, train_size=0.20)\n",
    "data = data.reset_index()\n",
    "print(len(data))"
   ]
  },
  {
   "cell_type": "code",
   "execution_count": 11,
   "metadata": {},
   "outputs": [
    {
     "data": {
      "text/html": [
       "<div>\n",
       "<style scoped>\n",
       "    .dataframe tbody tr th:only-of-type {\n",
       "        vertical-align: middle;\n",
       "    }\n",
       "\n",
       "    .dataframe tbody tr th {\n",
       "        vertical-align: top;\n",
       "    }\n",
       "\n",
       "    .dataframe thead th {\n",
       "        text-align: right;\n",
       "    }\n",
       "</style>\n",
       "<table border=\"1\" class=\"dataframe\">\n",
       "  <thead>\n",
       "    <tr style=\"text-align: right;\">\n",
       "      <th></th>\n",
       "      <th>level_0</th>\n",
       "      <th>index</th>\n",
       "      <th>created_at</th>\n",
       "      <th>text</th>\n",
       "      <th>label</th>\n",
       "    </tr>\n",
       "  </thead>\n",
       "  <tbody>\n",
       "    <tr>\n",
       "      <th>0</th>\n",
       "      <td>787633</td>\n",
       "      <td>816211</td>\n",
       "      <td>Sat Apr 18 08:51:41 PDT 2009</td>\n",
       "      <td>sometim littl cryptic lol mess good sport</td>\n",
       "      <td>4</td>\n",
       "    </tr>\n",
       "    <tr>\n",
       "      <th>1</th>\n",
       "      <td>994704</td>\n",
       "      <td>1034493</td>\n",
       "      <td>Thu May 28 21:00:21 PDT 2009</td>\n",
       "      <td>yay hot tramp love</td>\n",
       "      <td>4</td>\n",
       "    </tr>\n",
       "    <tr>\n",
       "      <th>2</th>\n",
       "      <td>480550</td>\n",
       "      <td>498083</td>\n",
       "      <td>Mon Jun 15 18:20:50 PDT 2009</td>\n",
       "      <td>pathet tear lie eventu kill butterfli</td>\n",
       "      <td>0</td>\n",
       "    </tr>\n",
       "    <tr>\n",
       "      <th>3</th>\n",
       "      <td>24939</td>\n",
       "      <td>25803</td>\n",
       "      <td>Sun Apr 19 08:29:59 PDT 2009</td>\n",
       "      <td>not like sore throat seem</td>\n",
       "      <td>0</td>\n",
       "    </tr>\n",
       "    <tr>\n",
       "      <th>4</th>\n",
       "      <td>545994</td>\n",
       "      <td>565851</td>\n",
       "      <td>Wed Jun 17 06:51:32 PDT 2009</td>\n",
       "      <td>right befor bed last night ate bowl full pickl...</td>\n",
       "      <td>0</td>\n",
       "    </tr>\n",
       "  </tbody>\n",
       "</table>\n",
       "</div>"
      ],
      "text/plain": [
       "   level_0    index                    created_at  \\\n",
       "0   787633   816211  Sat Apr 18 08:51:41 PDT 2009   \n",
       "1   994704  1034493  Thu May 28 21:00:21 PDT 2009   \n",
       "2   480550   498083  Mon Jun 15 18:20:50 PDT 2009   \n",
       "3    24939    25803  Sun Apr 19 08:29:59 PDT 2009   \n",
       "4   545994   565851  Wed Jun 17 06:51:32 PDT 2009   \n",
       "\n",
       "                                                text  label  \n",
       "0          sometim littl cryptic lol mess good sport      4  \n",
       "1                                 yay hot tramp love      4  \n",
       "2              pathet tear lie eventu kill butterfli      0  \n",
       "3                          not like sore throat seem      0  \n",
       "4  right befor bed last night ate bowl full pickl...      0  "
      ]
     },
     "execution_count": 11,
     "metadata": {},
     "output_type": "execute_result"
    }
   ],
   "source": [
    "data.head()"
   ]
  },
  {
   "cell_type": "code",
   "execution_count": null,
   "metadata": {},
   "outputs": [],
   "source": []
  },
  {
   "cell_type": "markdown",
   "metadata": {},
   "source": [
    "<div style=\"width:100%;height:40px;border: 4px solid black;background-color:#660099;color:white;text-align:center;border-radius: 25px;padding:3px\">\n",
    "    <h4> Tfidf and PCA </h4>\n",
    "</div>"
   ]
  },
  {
   "cell_type": "code",
   "execution_count": 12,
   "metadata": {},
   "outputs": [],
   "source": [
    "from sklearn.feature_extraction.text import  TfidfVectorizer\n",
    "from sklearn.decomposition import PCA\n",
    "from dask import delayed"
   ]
  },
  {
   "cell_type": "code",
   "execution_count": 13,
   "metadata": {},
   "outputs": [
    {
     "name": "stdout",
     "output_type": "stream",
     "text": [
      "Lenght of data: 306036\n",
      "Lenght of data: 1042908 1042908\n"
     ]
    }
   ],
   "source": [
    "tfidf_vect= TfidfVectorizer(  use_idf=True, smooth_idf=True, sublinear_tf=False, ngram_range=(1,2))\n",
    "data_vectorized = tfidf_vect.fit_transform(data['text'])\n",
    "\n",
    "print('Lenght of data:',len(data_vectorized.toarray()))\n",
    "print('Lenght of one_row of data:',len(data_vectorized.toarray()[12]),len(data_vectorized.toarray()[22]))"
   ]
  },
  {
   "cell_type": "code",
   "execution_count": null,
   "metadata": {},
   "outputs": [],
   "source": [
    "max_length = 50\n",
    "pca_ = PCA(n_components = max_length )\n",
    "viz_data = pca_.fit_transform(data_vectorized.toarray()) \n",
    "\n",
    "print('Lenght of data:',len(viz_data))\n",
    "print('Lenght of data:',len(viz_data[12]),len(viz_data[22]))"
   ]
  },
  {
   "cell_type": "markdown",
   "metadata": {},
   "source": [
    "# faster:"
   ]
  },
  {
   "cell_type": "code",
   "execution_count": null,
   "metadata": {},
   "outputs": [],
   "source": [
    "max_length = 50\n",
    "\n",
    "tfidf_vect= TfidfVectorizer(  use_idf=True, smooth_idf=True, sublinear_tf=False, ngram_range=(1,2))\n",
    "pca_ = PCA(n_components = max_length )\n",
    "data_vectorized = delayed(tfidf_vect.fit_transform)(data['text'])\n",
    "viz_data = delayed(pca_.fit_transform)(data_vectorized.toarray()) \n",
    "viz_data = viz_data.compute()"
   ]
  },
  {
   "cell_type": "code",
   "execution_count": null,
   "metadata": {},
   "outputs": [],
   "source": []
  },
  {
   "cell_type": "code",
   "execution_count": 11,
   "metadata": {},
   "outputs": [],
   "source": [
    "from sklearn.feature_extraction.text import  TfidfVectorizer\n",
    "from sklearn.decomposition import PCA\n",
    "from sklearn.pipeline import Pipeline"
   ]
  },
  {
   "cell_type": "code",
   "execution_count": 14,
   "metadata": {},
   "outputs": [
    {
     "ename": "TypeError",
     "evalue": "PCA does not support sparse input. See TruncatedSVD for a possible alternative.",
     "output_type": "error",
     "traceback": [
      "\u001b[0;31m---------------------------------------------------------------------------\u001b[0m",
      "\u001b[0;31mTypeError\u001b[0m                                 Traceback (most recent call last)",
      "\u001b[0;32m<ipython-input-14-bf8949c44da0>\u001b[0m in \u001b[0;36m<module>\u001b[0;34m\u001b[0m\n\u001b[1;32m      4\u001b[0m                 ('pca',PCA(n_components = max_length ))])\n\u001b[1;32m      5\u001b[0m \u001b[0;34m\u001b[0m\u001b[0m\n\u001b[0;32m----> 6\u001b[0;31m \u001b[0mdata_vectorized\u001b[0m \u001b[0;34m=\u001b[0m \u001b[0mmodeL_preprossing\u001b[0m\u001b[0;34m.\u001b[0m\u001b[0mfit_transform\u001b[0m\u001b[0;34m(\u001b[0m\u001b[0mdata\u001b[0m\u001b[0;34m[\u001b[0m\u001b[0;34m'text'\u001b[0m\u001b[0;34m]\u001b[0m\u001b[0;34m)\u001b[0m\u001b[0;34m\u001b[0m\u001b[0;34m\u001b[0m\u001b[0m\n\u001b[0m",
      "\u001b[0;32m/anaconda3/lib/python3.6/site-packages/sklearn/pipeline.py\u001b[0m in \u001b[0;36mfit_transform\u001b[0;34m(self, X, y, **fit_params)\u001b[0m\n\u001b[1;32m    298\u001b[0m         \u001b[0mXt\u001b[0m\u001b[0;34m,\u001b[0m \u001b[0mfit_params\u001b[0m \u001b[0;34m=\u001b[0m \u001b[0mself\u001b[0m\u001b[0;34m.\u001b[0m\u001b[0m_fit\u001b[0m\u001b[0;34m(\u001b[0m\u001b[0mX\u001b[0m\u001b[0;34m,\u001b[0m \u001b[0my\u001b[0m\u001b[0;34m,\u001b[0m \u001b[0;34m**\u001b[0m\u001b[0mfit_params\u001b[0m\u001b[0;34m)\u001b[0m\u001b[0;34m\u001b[0m\u001b[0;34m\u001b[0m\u001b[0m\n\u001b[1;32m    299\u001b[0m         \u001b[0;32mif\u001b[0m \u001b[0mhasattr\u001b[0m\u001b[0;34m(\u001b[0m\u001b[0mlast_step\u001b[0m\u001b[0;34m,\u001b[0m \u001b[0;34m'fit_transform'\u001b[0m\u001b[0;34m)\u001b[0m\u001b[0;34m:\u001b[0m\u001b[0;34m\u001b[0m\u001b[0;34m\u001b[0m\u001b[0m\n\u001b[0;32m--> 300\u001b[0;31m             \u001b[0;32mreturn\u001b[0m \u001b[0mlast_step\u001b[0m\u001b[0;34m.\u001b[0m\u001b[0mfit_transform\u001b[0m\u001b[0;34m(\u001b[0m\u001b[0mXt\u001b[0m\u001b[0;34m,\u001b[0m \u001b[0my\u001b[0m\u001b[0;34m,\u001b[0m \u001b[0;34m**\u001b[0m\u001b[0mfit_params\u001b[0m\u001b[0;34m)\u001b[0m\u001b[0;34m\u001b[0m\u001b[0;34m\u001b[0m\u001b[0m\n\u001b[0m\u001b[1;32m    301\u001b[0m         \u001b[0;32melif\u001b[0m \u001b[0mlast_step\u001b[0m \u001b[0;32mis\u001b[0m \u001b[0;32mNone\u001b[0m\u001b[0;34m:\u001b[0m\u001b[0;34m\u001b[0m\u001b[0;34m\u001b[0m\u001b[0m\n\u001b[1;32m    302\u001b[0m             \u001b[0;32mreturn\u001b[0m \u001b[0mXt\u001b[0m\u001b[0;34m\u001b[0m\u001b[0;34m\u001b[0m\u001b[0m\n",
      "\u001b[0;32m/anaconda3/lib/python3.6/site-packages/sklearn/decomposition/pca.py\u001b[0m in \u001b[0;36mfit_transform\u001b[0;34m(self, X, y)\u001b[0m\n\u001b[1;32m    357\u001b[0m \u001b[0;34m\u001b[0m\u001b[0m\n\u001b[1;32m    358\u001b[0m         \"\"\"\n\u001b[0;32m--> 359\u001b[0;31m         \u001b[0mU\u001b[0m\u001b[0;34m,\u001b[0m \u001b[0mS\u001b[0m\u001b[0;34m,\u001b[0m \u001b[0mV\u001b[0m \u001b[0;34m=\u001b[0m \u001b[0mself\u001b[0m\u001b[0;34m.\u001b[0m\u001b[0m_fit\u001b[0m\u001b[0;34m(\u001b[0m\u001b[0mX\u001b[0m\u001b[0;34m)\u001b[0m\u001b[0;34m\u001b[0m\u001b[0;34m\u001b[0m\u001b[0m\n\u001b[0m\u001b[1;32m    360\u001b[0m         \u001b[0mU\u001b[0m \u001b[0;34m=\u001b[0m \u001b[0mU\u001b[0m\u001b[0;34m[\u001b[0m\u001b[0;34m:\u001b[0m\u001b[0;34m,\u001b[0m \u001b[0;34m:\u001b[0m\u001b[0mself\u001b[0m\u001b[0;34m.\u001b[0m\u001b[0mn_components_\u001b[0m\u001b[0;34m]\u001b[0m\u001b[0;34m\u001b[0m\u001b[0;34m\u001b[0m\u001b[0m\n\u001b[1;32m    361\u001b[0m \u001b[0;34m\u001b[0m\u001b[0m\n",
      "\u001b[0;32m/anaconda3/lib/python3.6/site-packages/sklearn/decomposition/pca.py\u001b[0m in \u001b[0;36m_fit\u001b[0;34m(self, X)\u001b[0m\n\u001b[1;32m    375\u001b[0m         \u001b[0;31m# This is more informative than the generic one raised by check_array.\u001b[0m\u001b[0;34m\u001b[0m\u001b[0;34m\u001b[0m\u001b[0;34m\u001b[0m\u001b[0m\n\u001b[1;32m    376\u001b[0m         \u001b[0;32mif\u001b[0m \u001b[0missparse\u001b[0m\u001b[0;34m(\u001b[0m\u001b[0mX\u001b[0m\u001b[0;34m)\u001b[0m\u001b[0;34m:\u001b[0m\u001b[0;34m\u001b[0m\u001b[0;34m\u001b[0m\u001b[0m\n\u001b[0;32m--> 377\u001b[0;31m             raise TypeError('PCA does not support sparse input. See '\n\u001b[0m\u001b[1;32m    378\u001b[0m                             'TruncatedSVD for a possible alternative.')\n\u001b[1;32m    379\u001b[0m \u001b[0;34m\u001b[0m\u001b[0m\n",
      "\u001b[0;31mTypeError\u001b[0m: PCA does not support sparse input. See TruncatedSVD for a possible alternative."
     ]
    }
   ],
   "source": [
    "max_length = 50\n",
    "modeL_preprossing = Pipeline(memory=None,\n",
    "         steps=[('Tfidf',TfidfVectorizer(  use_idf=True, smooth_idf=True, sublinear_tf=False, ngram_range=(1,2))),\n",
    "                ('pca',PCA(n_components = max_length ))])\n",
    "\n",
    "data_vectorized = modeL_preprossing.fit_transform(data['text'])"
   ]
  },
  {
   "cell_type": "code",
   "execution_count": null,
   "metadata": {},
   "outputs": [],
   "source": []
  },
  {
   "cell_type": "markdown",
   "metadata": {},
   "source": [
    "<div style=\"width:100%;height:40px;border: 4px solid black;background-color:#660099;color:white;text-align:center;border-radius: 25px;padding:3px\">\n",
    "    <h4>  Tweets_50d: </h4>\n",
    "</div>"
   ]
  },
  {
   "cell_type": "code",
   "execution_count": 5,
   "metadata": {},
   "outputs": [],
   "source": [
    "from farhad.TextAwsome import Text_Embadding"
   ]
  },
  {
   "cell_type": "code",
   "execution_count": 5,
   "metadata": {},
   "outputs": [
    {
     "name": "stdout",
     "output_type": "stream",
     "text": [
      " \n",
      "        ------------------------------------------------------------------- \n",
      "\n",
      "        Funcation:\n",
      "        0. model_GLove = Text_Embadding(df.text) \n",
      "        \n",
      "        \n",
      "\u001b[92mChoose one of dicationary below:\u001b[0m\n",
      "        1. model_GLove.Glove_100k_6B_50d()\n",
      "        1. model_GLove.Glove_twitter_27B_25d()\n",
      "        1. model_GLove.Glove_twitter_27B_50d()\n",
      "        1. Glove_datastories_twitter_50d(\n",
      "        \n",
      "\u001b[92mNext:\u001b[0m\n",
      "        2. data_embedding = model_GLove.data2vec()  \n",
      "        3. sent_embedding = model_GLove.sent2vec(text) just for a sentences\n",
      "        \n",
      "\u001b[92mFor saving file:\u001b[0m \n",
      "\n",
      "        4. model_GLove.save_file(name_file_save)\n",
      "        ------------------------------------------------------------------------\n",
      "        \n"
     ]
    }
   ],
   "source": [
    "gl = Text_Embadding()\n",
    "gl.__info__()"
   ]
  },
  {
   "cell_type": "code",
   "execution_count": 7,
   "metadata": {},
   "outputs": [
    {
     "name": "stdout",
     "output_type": "stream",
     "text": [
      "Found 658125 word vectors.\n",
      "Lenght of data: 1530184\n",
      "lenght of features: 50\n"
     ]
    }
   ],
   "source": [
    "glove_model = Text_Embadding(df_data.text)\n",
    "glove_model.Glove_datastories_twitter_50d()\n",
    "data_ET50d = glove_model.data2vec()  "
   ]
  },
  {
   "cell_type": "markdown",
   "metadata": {},
   "source": [
    "<div style=\"width:100%;height:40px;border: 4px solid black;background-color:#660099;color:white;text-align:center;border-radius: 25px;padding:3px\">\n",
    "    <h4>   Glove 50d: </h4>\n",
    "</div>"
   ]
  },
  {
   "cell_type": "code",
   "execution_count": null,
   "metadata": {},
   "outputs": [],
   "source": [
    "from farhad.TextAwsome import Text_Embadding"
   ]
  },
  {
   "cell_type": "code",
   "execution_count": 20,
   "metadata": {},
   "outputs": [
    {
     "name": "stdout",
     "output_type": "stream",
     "text": [
      "Found 100000 word vectors.\n",
      "Lenght of data: 2816\n",
      "lenght of features: 50\n"
     ]
    }
   ],
   "source": [
    "glove_model = Text_Embadding(df_data.clean_text)\n",
    "glove_model.Glove_100k_6B_50d()\n",
    "data_EG50d = glove_model.data2vec()  "
   ]
  },
  {
   "cell_type": "code",
   "execution_count": 7,
   "metadata": {},
   "outputs": [
    {
     "data": {
      "text/plain": [
       "{420: 0.0, 551: 0.0, 1517: 0.0}"
      ]
     },
     "execution_count": 7,
     "metadata": {},
     "output_type": "execute_result"
    }
   ],
   "source": [
    "glove_model.problem"
   ]
  },
  {
   "cell_type": "markdown",
   "metadata": {},
   "source": [
    "<div style=\"width:100%;height:40px;border: 4px solid black;background-color:#660099;color:white;text-align:center;border-radius: 25px;padding:3px\">\n",
    "    <h4>  Elmo </h4>\n",
    "</div>"
   ]
  },
  {
   "cell_type": "code",
   "execution_count": null,
   "metadata": {},
   "outputs": [],
   "source": []
  },
  {
   "cell_type": "code",
   "execution_count": null,
   "metadata": {},
   "outputs": [],
   "source": []
  },
  {
   "cell_type": "markdown",
   "metadata": {},
   "source": [
    "<div style=\"width:100%;height:70px;border: 4px solid black;background-color:#E6BF00;color:white;text-align:center;border-radius: 25px;padding:3px\">\n",
    "    <h1> ready for model: <h1>\n",
    "</div>"
   ]
  },
  {
   "cell_type": "code",
   "execution_count": 41,
   "metadata": {},
   "outputs": [],
   "source": []
  },
  {
   "cell_type": "code",
   "execution_count": 8,
   "metadata": {},
   "outputs": [],
   "source": [
    "from sklearn.model_selection import train_test_split"
   ]
  },
  {
   "cell_type": "code",
   "execution_count": 10,
   "metadata": {},
   "outputs": [],
   "source": [
    "#x = viz_data \n",
    "x = data_ET50d \n",
    "y = [i for i in df_data['label']]"
   ]
  },
  {
   "cell_type": "code",
   "execution_count": 13,
   "metadata": {},
   "outputs": [
    {
     "name": "stdout",
     "output_type": "stream",
     "text": [
      "lenght of x_train:  918110\n",
      "lenght of x_test:  612074\n",
      "example of y:  [4, 0, 4, 0, 4, 4, 4, 0, 0]\n",
      "example of x: \n",
      " [ 4.56551537e-02  1.11414276e-01  1.09391864e-02  1.06949046e-01\n",
      "  7.60812610e-02  4.95814756e-02 -1.14290871e-01  8.05688128e-02\n",
      "  1.07951127e-01 -1.83758065e-02  7.26123631e-01  1.33373179e-02\n",
      " -6.78690907e-04 -2.17103548e-02  1.04666715e-02  7.79138878e-02\n",
      "  1.78970486e-01  7.91496038e-02 -4.95879799e-02 -5.93567453e-02\n",
      " -6.24255128e-02  1.31175905e-01 -2.67426312e-01  1.82292446e-01\n",
      " -8.69711488e-03  1.41504426e-02 -1.40905902e-01  7.65895247e-02\n",
      " -5.37974797e-02 -4.27166075e-02  6.24211170e-02  1.05143143e-02\n",
      " -7.60698691e-02 -1.48892105e-01 -6.13339692e-02 -1.34831741e-01\n",
      " -2.73604449e-02 -1.72613189e-01  1.48584753e-01  4.75583412e-02\n",
      "  6.98466524e-02  2.51355082e-01 -6.33113757e-02 -3.86158028e-03\n",
      " -7.99351633e-02  4.15474996e-02 -7.61633515e-02 -3.05721965e-02\n",
      " -2.03831978e-02 -5.55787385e-02]\n"
     ]
    }
   ],
   "source": [
    "x_train, x_test, y_train, y_test  = train_test_split(x,y ,test_size=0.40, random_state =32, shuffle=True)\n",
    "\n",
    "print('lenght of x_train: ', len(y_train))\n",
    "print('lenght of x_test: ',len(y_test))\n",
    "\n",
    "print(\"example of y: \", y_train[1:10])\n",
    "print(\"example of x: \\n\", x_train[0])\n"
   ]
  },
  {
   "cell_type": "code",
   "execution_count": null,
   "metadata": {},
   "outputs": [],
   "source": []
  },
  {
   "cell_type": "code",
   "execution_count": null,
   "metadata": {},
   "outputs": [],
   "source": []
  },
  {
   "cell_type": "markdown",
   "metadata": {},
   "source": [
    "<div style=\"width:100%;height:70px;border: 4px solid black;background-color:#E6BF00;color:white;text-align:center;border-radius: 25px;padding:3px\">\n",
    "    <h1> The goal is imrove deep learning model for text analysis here. </h1>\n",
    "</div>"
   ]
  },
  {
   "cell_type": "code",
   "execution_count": null,
   "metadata": {},
   "outputs": [],
   "source": []
  },
  {
   "cell_type": "code",
   "execution_count": 14,
   "metadata": {},
   "outputs": [
    {
     "data": {
      "text/plain": [
       "'  \\nimprove the first pakge for deep_learning_text_analysis, \\nI call it Game_of_thrones :).\\n\\n'"
      ]
     },
     "execution_count": 14,
     "metadata": {},
     "output_type": "execute_result"
    }
   ],
   "source": [
    "\"\"\"  \n",
    "improve the first pakge for deep_learning_text_analysis, \n",
    "I call it Game_of_thrones :).\n",
    "\n",
    "\"\"\""
   ]
  },
  {
   "cell_type": "code",
   "execution_count": 15,
   "metadata": {},
   "outputs": [
    {
     "name": "stderr",
     "output_type": "stream",
     "text": [
      "Using TensorFlow backend.\n"
     ]
    }
   ],
   "source": [
    "from tensorflow.keras.models import Sequential\n",
    "from tensorflow.keras.layers import Dense, Dropout, Embedding, MaxPool1D, GlobalMaxPool1D, LSTM, RNN, Conv1D,Flatten, GlobalAveragePooling1D\n",
    "from tensorflow.keras.callbacks import EarlyStopping,ModelCheckpoint\n",
    "from tensorflow.train import AdamOptimizer\n",
    "\n",
    "from farhad_DL.utility import plot_confusion_matrix\n",
    "from farhad_DL.utils import TimeSummary, plot_training_summary, Estimate_fasterD\n",
    "\n",
    "\n",
    "from sklearn.metrics import confusion_matrix\n",
    "from tensorflow.logging import set_verbosity, ERROR\n",
    "\n",
    "from sklearn.metrics import accuracy_score,confusion_matrix, log_loss, f1_score,mean_squared_error\n",
    "from farhad_DL.utility import plot_confusion_matrix \n",
    "from sklearn.model_selection import  cross_val_score"
   ]
  },
  {
   "cell_type": "code",
   "execution_count": 19,
   "metadata": {},
   "outputs": [],
   "source": [
    "#!mkdir wieght_save"
   ]
  },
  {
   "cell_type": "markdown",
   "metadata": {},
   "source": [
    "<div style=\"width:100%;height:40px;border: 4px solid black;background-color:#B3001E;color:white;text-align:center;border-radius: 25px;padding:3px\">\n",
    "    <h4> first_model, from Training of tensorflow page </h4>\n",
    "</div>"
   ]
  },
  {
   "cell_type": "code",
   "execution_count": null,
   "metadata": {},
   "outputs": [],
   "source": []
  },
  {
   "cell_type": "code",
   "execution_count": 21,
   "metadata": {},
   "outputs": [],
   "source": [
    "def first_model(vocab_size , max_length):\n",
    "    \"\"\"\n",
    "    https://www.youtube.com/watch?v=vPrSca-YjFg&frags=pl%2Cwn\n",
    "    Text classification with movie reviews by google\n",
    "    ----------------------------------------------------------\n",
    "    \n",
    "    \"\"\"\n",
    "    model = Sequential()\n",
    "    model.add(Embedding(vocab_size, 32, input_length=max_length))# \n",
    "    model.add(GlobalAveragePooling1D())\n",
    "    model.add(Dense(32, activation='relu'))\n",
    "    model.add(Dense(1, activation='sigmoid'))\n",
    "    model.compile(optimizer=AdamOptimizer(), loss='binary_crossentropy', metrics=['acc'])\n",
    "    return model"
   ]
  },
  {
   "cell_type": "code",
   "execution_count": null,
   "metadata": {},
   "outputs": [],
   "source": [
    "set_verbosity(ERROR)\n",
    "epochs = 100\n",
    "max_length= 50\n",
    "vocab_size = 650000\n",
    "\n",
    "monitor = EarlyStopping(monitor='vall_loss',min_delta=1e-3,verbose=0, mode='atuo')\n",
    "checkpoint = ModelCheckpoint(filepath='wieght_save/weights_for_first.hdf5',verbose=0,save_best_only=True)\n",
    "time_summary = TimeSummary()\n",
    "estimetor = Estimate_fasterD(epochs)\n",
    "\n",
    "# embedding_matrix\n",
    "model = first_model(vocab_size , max_length = max_length)\n",
    "history = model.fit(x_train,y_train, validation_split=0.20, batch_size=160 ,verbose=0, epochs=epochs, callbacks=[monitor,checkpoint,time_summary,estimetor])\n",
    "\n",
    "\n",
    "plot_training_summary(history,time_summary)\n",
    "scores = model.evaluate(x_test, y_test, verbose=0)\n",
    "print(\"Accuracy : %.2f%%\" % (scores[1]*100))"
   ]
  },
  {
   "cell_type": "code",
   "execution_count": null,
   "metadata": {},
   "outputs": [],
   "source": [
    "print('Test loss: {}'.format(scores[0]))\n",
    "print('Test accuracy: {}'.format(scores[1]))"
   ]
  },
  {
   "cell_type": "markdown",
   "metadata": {},
   "source": [
    "**The best accuracy: 51.06%**\n",
    ">For:\n",
    "epochs: 100        <br>\n",
    "batch_size: 80    <br>\n",
    "max_length: 50       <br>\n",
    "vocab_size: 10,000 or 6,000     <br>"
   ]
  },
  {
   "cell_type": "code",
   "execution_count": null,
   "metadata": {},
   "outputs": [],
   "source": [
    "cm = confusion_matrix(y_test,y_pred , labels=[0,1])\n",
    "plot_confusion_matrix(cm, names=['bad','good'])"
   ]
  },
  {
   "cell_type": "code",
   "execution_count": null,
   "metadata": {},
   "outputs": [],
   "source": [
    "save_path= 'model_save'\n",
    "model_json = model.to_json()\n",
    "with open(os.path.join(save_path,\"network.json\"), \"w\") as json_file:\n",
    "    json_file.write(model_json)\n",
    "    \n",
    "from keras.models import load_model\n",
    "model2 = load_model(os.path.join(save_path,\"network.h5\"))\n",
    "\n",
    "# scoe = cross_val_score(classifier,x_train, y_train , cv=5);"
   ]
  },
  {
   "cell_type": "code",
   "execution_count": null,
   "metadata": {},
   "outputs": [],
   "source": []
  },
  {
   "cell_type": "markdown",
   "metadata": {},
   "source": [
    "<div style=\"width:100%;height:40px;border: 4px solid black;background-color:#B3001E;color:white;text-align:center;border-radius: 25px;padding:3px\">\n",
    "    <h4> model_Tweets50 (I get fantastic result with before) </h4>\n",
    "</div>"
   ]
  },
  {
   "cell_type": "code",
   "execution_count": null,
   "metadata": {},
   "outputs": [],
   "source": []
  },
  {
   "cell_type": "code",
   "execution_count": 25,
   "metadata": {},
   "outputs": [],
   "source": [
    "def model_Tweets50(input_dim, output_dim=64):\n",
    "    \"\"\"\n",
    "    input_dim : Size of the vocabulary\n",
    "    output_dim: Dimension of the dense embedding.\n",
    "    input_length: Length of input sequences\n",
    "    \n",
    "    \"\"\"\n",
    "    model = Sequential()\n",
    "    model.add(Embedding(input_dim, output_dim))\n",
    "    model.add(GlobalAveragePooling1D())\n",
    "    model.add(Dense(output_dim, activation='relu'))\n",
    "    model.add(Dropout(0.2))\n",
    "    model.add(Dense(1, activation='sigmoid'))\n",
    "    \n",
    "    model.compile(optimizer = 'Adam',loss='binary_crossentropy',metrics=['accuracy'])\n",
    "    \n",
    "    return model"
   ]
  },
  {
   "cell_type": "code",
   "execution_count": null,
   "metadata": {},
   "outputs": [],
   "source": []
  },
  {
   "cell_type": "code",
   "execution_count": 26,
   "metadata": {},
   "outputs": [
    {
     "ename": "ValueError",
     "evalue": "Error when checking model input: the list of Numpy arrays that you are passing to your model is not the size the model expected. Expected to see 1 array(s), but instead got the following list of 918110 arrays: [array([[ 4.56551537e-02],\n       [ 1.11414276e-01],\n       [ 1.09391864e-02],\n       [ 1.06949046e-01],\n       [ 7.60812610e-02],\n       [ 4.95814756e-02],\n       [-1.14290871e-01],\n       [ 8.056881...",
     "output_type": "error",
     "traceback": [
      "\u001b[0;31m---------------------------------------------------------------------------\u001b[0m",
      "\u001b[0;31mValueError\u001b[0m                                Traceback (most recent call last)",
      "\u001b[0;32m<ipython-input-26-4722867ce244>\u001b[0m in \u001b[0;36m<module>\u001b[0;34m\u001b[0m\n\u001b[1;32m     13\u001b[0m history = model.fit(x_train,y_train , batch_size=10 , \n\u001b[1;32m     14\u001b[0m                     \u001b[0mvalidation_split\u001b[0m\u001b[0;34m=\u001b[0m\u001b[0;36m0.20\u001b[0m\u001b[0;34m,\u001b[0m \u001b[0mverbose\u001b[0m\u001b[0;34m=\u001b[0m\u001b[0;36m0\u001b[0m\u001b[0;34m,\u001b[0m \u001b[0mepochs\u001b[0m\u001b[0;34m=\u001b[0m\u001b[0mepochs\u001b[0m\u001b[0;34m,\u001b[0m\u001b[0;34m\u001b[0m\u001b[0;34m\u001b[0m\u001b[0m\n\u001b[0;32m---> 15\u001b[0;31m                     callbacks=[monitor,checkpoint,time_summary,estimetor])\n\u001b[0m\u001b[1;32m     16\u001b[0m \u001b[0;34m\u001b[0m\u001b[0m\n\u001b[1;32m     17\u001b[0m \u001b[0;34m\u001b[0m\u001b[0m\n",
      "\u001b[0;32m/anaconda3/lib/python3.6/site-packages/tensorflow/python/keras/engine/training.py\u001b[0m in \u001b[0;36mfit\u001b[0;34m(self, x, y, batch_size, epochs, verbose, callbacks, validation_split, validation_data, shuffle, class_weight, sample_weight, initial_epoch, steps_per_epoch, validation_steps, **kwargs)\u001b[0m\n\u001b[1;32m   1276\u001b[0m         \u001b[0msteps_name\u001b[0m\u001b[0;34m=\u001b[0m\u001b[0;34m'steps_per_epoch'\u001b[0m\u001b[0;34m,\u001b[0m\u001b[0;34m\u001b[0m\u001b[0;34m\u001b[0m\u001b[0m\n\u001b[1;32m   1277\u001b[0m         \u001b[0msteps\u001b[0m\u001b[0;34m=\u001b[0m\u001b[0msteps_per_epoch\u001b[0m\u001b[0;34m,\u001b[0m\u001b[0;34m\u001b[0m\u001b[0;34m\u001b[0m\u001b[0m\n\u001b[0;32m-> 1278\u001b[0;31m         validation_split=validation_split)\n\u001b[0m\u001b[1;32m   1279\u001b[0m \u001b[0;34m\u001b[0m\u001b[0m\n\u001b[1;32m   1280\u001b[0m     \u001b[0;31m# Prepare validation data.\u001b[0m\u001b[0;34m\u001b[0m\u001b[0;34m\u001b[0m\u001b[0;34m\u001b[0m\u001b[0m\n",
      "\u001b[0;32m/anaconda3/lib/python3.6/site-packages/tensorflow/python/keras/engine/training.py\u001b[0m in \u001b[0;36m_standardize_user_data\u001b[0;34m(self, x, y, sample_weight, class_weight, batch_size, check_steps, steps_name, steps, validation_split)\u001b[0m\n\u001b[1;32m    876\u001b[0m         \u001b[0mfeed_input_shapes\u001b[0m\u001b[0;34m,\u001b[0m\u001b[0;34m\u001b[0m\u001b[0;34m\u001b[0m\u001b[0m\n\u001b[1;32m    877\u001b[0m         \u001b[0mcheck_batch_axis\u001b[0m\u001b[0;34m=\u001b[0m\u001b[0;32mFalse\u001b[0m\u001b[0;34m,\u001b[0m  \u001b[0;31m# Don't enforce the batch size.\u001b[0m\u001b[0;34m\u001b[0m\u001b[0;34m\u001b[0m\u001b[0m\n\u001b[0;32m--> 878\u001b[0;31m         exception_prefix='input')\n\u001b[0m\u001b[1;32m    879\u001b[0m \u001b[0;34m\u001b[0m\u001b[0m\n\u001b[1;32m    880\u001b[0m     \u001b[0;32mif\u001b[0m \u001b[0my\u001b[0m \u001b[0;32mis\u001b[0m \u001b[0;32mnot\u001b[0m \u001b[0;32mNone\u001b[0m\u001b[0;34m:\u001b[0m\u001b[0;34m\u001b[0m\u001b[0;34m\u001b[0m\u001b[0m\n",
      "\u001b[0;32m/anaconda3/lib/python3.6/site-packages/tensorflow/python/keras/engine/training_utils.py\u001b[0m in \u001b[0;36mstandardize_input_data\u001b[0;34m(data, names, shapes, check_batch_axis, exception_prefix)\u001b[0m\n\u001b[1;32m    150\u001b[0m                        \u001b[0;34m'Expected to see '\u001b[0m \u001b[0;34m+\u001b[0m \u001b[0mstr\u001b[0m\u001b[0;34m(\u001b[0m\u001b[0mlen\u001b[0m\u001b[0;34m(\u001b[0m\u001b[0mnames\u001b[0m\u001b[0;34m)\u001b[0m\u001b[0;34m)\u001b[0m \u001b[0;34m+\u001b[0m \u001b[0;34m' array(s), '\u001b[0m\u001b[0;34m\u001b[0m\u001b[0;34m\u001b[0m\u001b[0m\n\u001b[1;32m    151\u001b[0m                        \u001b[0;34m'but instead got the following list of '\u001b[0m \u001b[0;34m+\u001b[0m\u001b[0;34m\u001b[0m\u001b[0;34m\u001b[0m\u001b[0m\n\u001b[0;32m--> 152\u001b[0;31m                        str(len(data)) + ' arrays: ' + str(data)[:200] + '...')\n\u001b[0m\u001b[1;32m    153\u001b[0m     \u001b[0;32melif\u001b[0m \u001b[0mlen\u001b[0m\u001b[0;34m(\u001b[0m\u001b[0mnames\u001b[0m\u001b[0;34m)\u001b[0m \u001b[0;34m>\u001b[0m \u001b[0;36m1\u001b[0m\u001b[0;34m:\u001b[0m\u001b[0;34m\u001b[0m\u001b[0;34m\u001b[0m\u001b[0m\n\u001b[1;32m    154\u001b[0m       raise ValueError(\n",
      "\u001b[0;31mValueError\u001b[0m: Error when checking model input: the list of Numpy arrays that you are passing to your model is not the size the model expected. Expected to see 1 array(s), but instead got the following list of 918110 arrays: [array([[ 4.56551537e-02],\n       [ 1.11414276e-01],\n       [ 1.09391864e-02],\n       [ 1.06949046e-01],\n       [ 7.60812610e-02],\n       [ 4.95814756e-02],\n       [-1.14290871e-01],\n       [ 8.056881..."
     ]
    }
   ],
   "source": [
    "set_verbosity(ERROR)\n",
    "epochs = 20\n",
    "max_length = 50\n",
    "vocab_size = 658125\n",
    "\n",
    "\n",
    "monitor = EarlyStopping(monitor='vall_loss',min_delta=1e-3,verbose=0, mode='atuo')\n",
    "checkpoint = ModelCheckpoint(filepath='wieght_save2/2best_weights_for_second_(unviversal_badgoodtweets).hdf5',verbose=0,save_best_only=True)\n",
    "time_summary = TimeSummary()\n",
    "estimetor = Estimate_fasterD(epochs)\n",
    "\n",
    "model = model_Tweets50(input_dim= vocab_size, output_dim = max_length)\n",
    "history = model.fit(x_train,y_train , batch_size=10 , \n",
    "                    validation_split=0.20, verbose=0, epochs=epochs,\n",
    "                    callbacks=[monitor,checkpoint,time_summary,estimetor])\n",
    "\n",
    "\n",
    "model.load_weights('wieght_save2/bigTweets_weights_for_second_(unviversal_badgoodtweets).hdf5') "
   ]
  },
  {
   "cell_type": "code",
   "execution_count": null,
   "metadata": {},
   "outputs": [],
   "source": [
    "plot_training_summary(history,time_summary)\n",
    "scores = model.evaluate(test_data, y_test, verbose=0)\n",
    "print(\"Accuracy for glove model: %.2f%%\" % (scores[1]*100))"
   ]
  },
  {
   "cell_type": "code",
   "execution_count": null,
   "metadata": {},
   "outputs": [],
   "source": [
    "print('Test loss: {}'.format(scores[0]))\n",
    "print('Test accuracy: {}'.format(scores[1]))"
   ]
  },
  {
   "cell_type": "code",
   "execution_count": null,
   "metadata": {},
   "outputs": [],
   "source": [
    "cm = confusion_matrix(y_test,y_pred , labels=[0,1])\n",
    "plot_confusion_matrix(cm, names=['bad','good'])"
   ]
  },
  {
   "cell_type": "code",
   "execution_count": null,
   "metadata": {},
   "outputs": [],
   "source": []
  },
  {
   "cell_type": "markdown",
   "metadata": {},
   "source": [
    "<div style=\"width:100%;height:40px;border: 4px solid black;background-color:#B3001E;color:black;text-align:center;border-radius: 25px;padding:3px\">\n",
    "    <h4> text_DLModel </h4>\n",
    "</div>"
   ]
  },
  {
   "cell_type": "code",
   "execution_count": null,
   "metadata": {},
   "outputs": [],
   "source": []
  },
  {
   "cell_type": "code",
   "execution_count": 45,
   "metadata": {},
   "outputs": [
    {
     "name": "stdout",
     "output_type": "stream",
     "text": [
      "Lenght of data: 2816\n",
      "Lenght of data: 50 50\n"
     ]
    }
   ],
   "source": [
    "max_length = 50\n",
    "pca_ = PCA(n_components = max_length )\n",
    "viz_data = pca_.fit_transform(data_vectorized.toarray()) \n",
    "\n",
    "print('Lenght of data:',len(viz_data))\n",
    "print('Lenght of data:',len(viz_data[12]),len(viz_data[22]))"
   ]
  },
  {
   "cell_type": "code",
   "execution_count": 46,
   "metadata": {},
   "outputs": [],
   "source": [
    "x = viz_data \n",
    "y = [i for i in df_data['label']]\n",
    "x_train, x_test, y_train, y_test  = train_test_split(x,y ,test_size=0.20, random_state =32, shuffle=True)"
   ]
  },
  {
   "cell_type": "code",
   "execution_count": 47,
   "metadata": {},
   "outputs": [],
   "source": [
    "def text_DLModel(vocab_size,max_length ):\n",
    "    model = Sequential()\n",
    "    model.add(Embedding(vocab_size, 32, input_length=max_length))\n",
    "    model.add(Flatten())\n",
    "    model.add(Dropout(0.3))\n",
    "    model.add(Dense(16, activation='relu'))\n",
    "    model.add(Dropout(0.3))\n",
    "    model.add(Dense(8, activation='relu'))\n",
    "    model.add(Dropout(0.3))\n",
    "    model.add(Dense(1, activation='sigmoid'))\n",
    "    # compile the model\n",
    "    model.compile(optimizer='adam', loss='binary_crossentropy', metrics=['acc'])\n",
    "    \n",
    "    return model"
   ]
  },
  {
   "cell_type": "code",
   "execution_count": 53,
   "metadata": {},
   "outputs": [
    {
     "name": "stdout",
     "output_type": "stream",
     "text": [
      "[300/300]Training time: 0:01:04.977488(HH:MM:SS)\n",
      "Epoch time avg: 0:00:00.216556(HH:MM:SS)\n"
     ]
    },
    {
     "data": {
      "image/png": "[encoded data removed]",
      "text/plain": [
       "<Figure size 432x288 with 1 Axes>"
      ]
     },
     "metadata": {
      "needs_background": "light"
     },
     "output_type": "display_data"
    },
    {
     "data": {
      "image/png": "[encoded data removed]",
      "text/plain": [
       "<Figure size 432x288 with 1 Axes>"
      ]
     },
     "metadata": {
      "needs_background": "light"
     },
     "output_type": "display_data"
    },
    {
     "name": "stdout",
     "output_type": "stream",
     "text": [
      "Accuracy for glove model: 51.06%\n"
     ]
    }
   ],
   "source": [
    "set_verbosity(ERROR)\n",
    "epochs = 200\n",
    "max_length= 50\n",
    "vocab_size = 6000\n",
    "\n",
    "monitor = EarlyStopping(monitor='vall_loss',min_delta=1e-3,verbose=0, mode='atuo')\n",
    "checkpoint = ModelCheckpoint(filepath='wieght_save/weights_for_first.hdf5',verbose=0,save_best_only=True)\n",
    "time_summary = TimeSummary()\n",
    "estimetor = Estimate_fasterD(epochs)\n",
    "\n",
    "\n",
    "model = text_DLModel(vocab_size , max_length)\n",
    "history = model.fit(x_train,y_train, validation_split=0.20, batch_size=80 ,verbose=0, epochs=epochs, callbacks=[monitor,checkpoint,time_summary,estimetor])\n",
    "#model.load_weights('wieght_save/weights_for_second__first.hdf5') \n",
    "\n",
    "plot_training_summary(history,time_summary)\n",
    "scores = model.evaluate(x_test, y_test, verbose=0)\n",
    "print(\"Accuracy for glove model: %.2f%%\" % (scores[1]*100))"
   ]
  },
  {
   "cell_type": "code",
   "execution_count": null,
   "metadata": {},
   "outputs": [],
   "source": []
  },
  {
   "cell_type": "markdown",
   "metadata": {},
   "source": [
    "**The best accuracy: 51.06%**\n",
    ">For:\n",
    "epochs: 200        <br>\n",
    "batch_size: 120     <br>\n",
    "max_length: 50       <br>\n",
    "vocab_size: 6000     <br>"
   ]
  },
  {
   "cell_type": "code",
   "execution_count": null,
   "metadata": {},
   "outputs": [],
   "source": []
  },
  {
   "cell_type": "markdown",
   "metadata": {},
   "source": [
    "<div style=\"width:100%;height:40px;border: 4px solid black;background-color:#B3001E;color:black;text-align:center;border-radius: 25px;padding:3px\">\n",
    "    <h4> text_DLModel </h4>\n",
    "</div>"
   ]
  },
  {
   "cell_type": "code",
   "execution_count": null,
   "metadata": {},
   "outputs": [],
   "source": []
  },
  {
   "cell_type": "code",
   "execution_count": 42,
   "metadata": {},
   "outputs": [],
   "source": [
    "def text_DLModel2(vocab_size,max_length ):\n",
    "    model = Sequential()\n",
    "    model.add(Embedding(vocab_size, 120, input_length=max_length))\n",
    "    model.add(Flatten())\n",
    "    model.add(Dropout(0.3))\n",
    "    model.add(Dense(64, activation='relu'))\n",
    "    model.add(Dropout(0.3))\n",
    "    model.add(Dense(32, activation='relu'))\n",
    "    model.add(Dropout(0.3))\n",
    "    model.add(Dense(8, activation='relu'))\n",
    "    model.add(Dropout(0.3))\n",
    "    model.add(Dense(1, activation='sigmoid'))\n",
    "    # compile the model\n",
    "    model.compile(optimizer='adam', loss='binary_crossentropy', metrics=['acc'])\n",
    "    \n",
    "    return model"
   ]
  },
  {
   "cell_type": "code",
   "execution_count": 43,
   "metadata": {},
   "outputs": [
    {
     "name": "stdout",
     "output_type": "stream",
     "text": [
      "[400/400]"
     ]
    }
   ],
   "source": [
    "set_verbosity(ERROR)\n",
    "epochs = 400\n",
    "#max_length= 25\n",
    "vocab_size = 1000\n",
    "\n",
    "monitor = EarlyStopping(monitor='vall_loss',min_delta=1e-3,verbose=0, mode='atuo')\n",
    "checkpoint = ModelCheckpoint(filepath='wieght_save/weights_for_first.hdf5',verbose=0,save_best_only=True)\n",
    "time_summary = TimeSummary()\n",
    "estimetor = Estimate_fasterD(epochs)\n",
    "\n",
    "\n",
    "model = text_DLModel2(vocab_size , max_length)\n",
    "history = model.fit(x_train,y_train, validation_split=0.20, batch_size=80 ,verbose=0, epochs=epochs, callbacks=[monitor,checkpoint,time_summary,estimetor])\n",
    "#model.load_weights('wieght_save/weights_for_second__first.hdf5') "
   ]
  },
  {
   "cell_type": "code",
   "execution_count": 44,
   "metadata": {},
   "outputs": [
    {
     "name": "stdout",
     "output_type": "stream",
     "text": [
      "Training time: 0:13:47.721788(HH:MM:SS)\n",
      "Epoch time avg: 0:00:02.069267(HH:MM:SS)\n"
     ]
    },
    {
     "data": {
      "image/png": "[encoded data removed]",
      "text/plain": [
       "<Figure size 432x288 with 1 Axes>"
      ]
     },
     "metadata": {
      "needs_background": "light"
     },
     "output_type": "display_data"
    },
    {
     "data": {
      "image/png": "[encoded data removed]",
      "text/plain": [
       "<Figure size 432x288 with 1 Axes>"
      ]
     },
     "metadata": {
      "needs_background": "light"
     },
     "output_type": "display_data"
    },
    {
     "name": "stdout",
     "output_type": "stream",
     "text": [
      "Accuracy for glove model: 48.94%\n"
     ]
    }
   ],
   "source": [
    "plot_training_summary(history,time_summary)\n",
    "scores = model.evaluate(x_test, y_test, verbose=0)\n",
    "print(\"Accuracy for glove model: %.2f%%\" % (scores[1]*100))"
   ]
  },
  {
   "cell_type": "markdown",
   "metadata": {},
   "source": [
    "**The best accuracy: 48.94%**"
   ]
  },
  {
   "cell_type": "code",
   "execution_count": null,
   "metadata": {},
   "outputs": [],
   "source": []
  },
  {
   "cell_type": "markdown",
   "metadata": {},
   "source": [
    "<div style=\"width:100%;height:40px;border: 4px solid black;background-color:#B3001E;color:black;text-align:center;border-radius: 25px;padding:3px\">\n",
    "    <h4> semeval2017-task4  </h4>\n",
    "</div>"
   ]
  },
  {
   "cell_type": "code",
   "execution_count": null,
   "metadata": {},
   "outputs": [],
   "source": [
    "## create model\n",
    "model_glove = Sequential()\n",
    "model_glove.add(Embedding(vocabulary_size, 100, input_length=50, weights=[embedding_matrix], trainable=False))\n",
    "model_glove.add(Dropout(0.2))\n",
    "model_glove.add(Conv1D(64, 5, activation='relu'))\n",
    "model_glove.add(MaxPooling1D(pool_size=4))\n",
    "model_glove.add(LSTM(100))\n",
    "model_glove.add(Dense(1, activation='sigmoid'))\n",
    "model_glove.compile(loss='binary_crossentropy', optimizer='adam', metrics=['accuracy'])\n",
    "## Fit train data\n",
    "model_glove.fit(data, np.array(labels), validation_split=0.4, epochs = 3)"
   ]
  },
  {
   "cell_type": "code",
   "execution_count": null,
   "metadata": {},
   "outputs": [],
   "source": []
  },
  {
   "cell_type": "code",
   "execution_count": null,
   "metadata": {},
   "outputs": [],
   "source": []
  },
  {
   "cell_type": "code",
   "execution_count": null,
   "metadata": {},
   "outputs": [],
   "source": []
  },
  {
   "cell_type": "code",
   "execution_count": null,
   "metadata": {},
   "outputs": [],
   "source": []
  },
  {
   "cell_type": "code",
   "execution_count": null,
   "metadata": {},
   "outputs": [],
   "source": []
  },
  {
   "cell_type": "markdown",
   "metadata": {},
   "source": [
    "<div style=\"width:100%;height:40px;border: 4px solid black;background-color:#B3001E;color:black;text-align:center;border-radius: 25px;padding:3px\">\n",
    "    <h4> semeval2017-task4  </h4>\n",
    "</div>"
   ]
  },
  {
   "cell_type": "code",
   "execution_count": null,
   "metadata": {},
   "outputs": [],
   "source": []
  },
  {
   "cell_type": "markdown",
   "metadata": {},
   "source": [
    "<div style=\"border: 4px solid #B3001E;background-color:#BFE6FF;color:red;border-radius: 5px;padding:7px\">\n",
    "  <strong> Refrence: </strong><br>\n",
    "    \n",
    "https://github.com/cbaziotis/datastories-semeval2017-task4\n",
    "    \n",
    "    \n",
    "</div>"
   ]
  },
  {
   "cell_type": "code",
   "execution_count": 69,
   "metadata": {},
   "outputs": [],
   "source": [
    "from keras.constraints import maxnorm\n",
    "from keras.engine import Input\n",
    "from keras.engine import Model\n",
    "from keras.layers import Dropout, Dense, Bidirectional, \\\n",
    "    LSTM, Embedding, GaussianNoise, Activation, Flatten, \\\n",
    "    RepeatVector, MaxoutDense, GlobalMaxPooling1D, \\\n",
    "    Convolution1D, MaxPooling1D, concatenate, Conv1D\n",
    "from keras.models import Sequential\n",
    "from keras.optimizers import Adam\n",
    "from keras.regularizers import l2\n",
    "#from kutilities.layers import AttentionWithContext, Attention, MeanOverTime\n",
    "from sklearn import preprocessing\n",
    "\n",
    "\n",
    "from abc import ABCMeta, abstractmethod\n",
    "\n",
    "#from frozendict import frozendict\n"
   ]
  },
  {
   "cell_type": "code",
   "execution_count": null,
   "metadata": {},
   "outputs": [],
   "source": [
    "class ResourceManager(metaclass=ABCMeta):\n",
    "    def __init__(self):\n",
    "        self.wv_filename = \"\"\n",
    "        self.parsed_filename = \"\"\n",
    "\n",
    "    @abstractmethod\n",
    "    def write(self):\n",
    "        \"\"\"\n",
    "        parse the raw file/files and write the data to disk\n",
    "        :return:\n",
    "        \"\"\"\n",
    "        pass\n",
    "\n",
    "    @abstractmethod\n",
    "    def read(self):\n",
    "        \"\"\"\n",
    "        read the parsed file from disk\n",
    "        :return:\n",
    "        \"\"\"\n",
    "        pass\n",
    "\n",
    "    def read_hashable(self):\n",
    "        return frozendict(self.read())"
   ]
  },
  {
   "cell_type": "code",
   "execution_count": null,
   "metadata": {},
   "outputs": [],
   "source": [
    "class WordVectorsManager(ResourceManager):\n",
    "    def __init__(self, corpus=None, dim=None, omit_non_english=False):\n",
    "        super().__init__()\n",
    "\n",
    "        self.omit_non_english = omit_non_english\n",
    "        self.wv_filename = \"{}.{}d.txt\".format(corpus, str(dim))\n",
    "        self.parsed_filename = \"{}.{}d.pickle\".format(corpus, str(dim))\n",
    "\n",
    "    def is_ascii(self, text):\n",
    "        try:\n",
    "            text.encode('ascii')\n",
    "            return True\n",
    "        except:\n",
    "            return False\n",
    "\n",
    "    def write(self):\n",
    "        _word_vector_file = os.path.join(os.path.dirname(__file__), self.wv_filename)\n",
    "\n",
    "        if os.path.exists(_word_vector_file):\n",
    "            print('Indexing file {} ...'.format(self.wv_filename))\n",
    "            embeddings_dict = {}\n",
    "            f = open(_word_vector_file, \"r\", encoding=\"utf-8\")\n",
    "            for i, line in enumerate(f):\n",
    "                values = line.split()\n",
    "                word = values[0]\n",
    "                coefs = numpy.asarray(values[1:], dtype='float32')\n",
    "                # if not self.is_ascii(word):\n",
    "                #     print(word)\n",
    "\n",
    "                # if word.lower() in {'<unk>', \"<unknown>\"}:\n",
    "                #     print(word)\n",
    "                #     print(\"UNKNOWN\")\n",
    "                #     print()\n",
    "\n",
    "                if self.omit_non_english and not self.is_ascii(word):\n",
    "                    continue\n",
    "\n",
    "                embeddings_dict[word] = coefs\n",
    "            f.close()\n",
    "            print('Found %s word vectors.' % len(embeddings_dict))\n",
    "\n",
    "            with open(os.path.join(os.path.dirname(__file__), self.parsed_filename), 'wb') as pickle_file:\n",
    "                pickle.dump(embeddings_dict, pickle_file)\n",
    "\n",
    "        else:\n",
    "            print(\"{} not found!\".format(_word_vector_file))\n",
    "            raise FileNotFoundError(\n",
    "                errno.ENOENT, os.strerror(errno.ENOENT), _word_vector_file)\n",
    "\n",
    "    def read(self):\n",
    "        _parsed_file = os.path.join(os.path.dirname(__file__), self.parsed_filename)\n",
    "        if os.path.exists(_parsed_file):\n",
    "            with open(_parsed_file, 'rb') as f:\n",
    "                return pickle.load(f)\n",
    "        else:\n",
    "            self.write()\n",
    "            return self.read()"
   ]
  },
  {
   "cell_type": "code",
   "execution_count": 70,
   "metadata": {},
   "outputs": [],
   "source": [
    "def embeddings_layer(max_length, embeddings, trainable=False, masking=False,\n",
    "                     scale=False, normalize=False):\n",
    "    if scale:\n",
    "        print(\"Scaling embedding weights...\")\n",
    "        embeddings = preprocessing.scale(embeddings)\n",
    "    if normalize:\n",
    "        print(\"Normalizing embedding weights...\")\n",
    "        embeddings = preprocessing.normalize(embeddings)\n",
    "\n",
    "    vocab_size = embeddings.shape[0]\n",
    "    embedding_size = embeddings.shape[1]\n",
    "\n",
    "    _embedding = Embedding(\n",
    "        input_dim=vocab_size,\n",
    "        output_dim=embedding_size,\n",
    "        input_length=max_length if max_length > 0 else None,\n",
    "        trainable=trainable,\n",
    "        mask_zero=masking if max_length > 0 else False,\n",
    "        weights=[embeddings]\n",
    "    )\n",
    "\n",
    "    return _embedding\n",
    "\n",
    "def get_RNN(unit=LSTM, cells=64, bi=False, return_sequences=True, dropout_U=0.,\n",
    "            consume_less='cpu', l2_reg=0):\n",
    "    rnn = unit(cells, return_sequences=return_sequences,\n",
    "               consume_less=consume_less, dropout_U=dropout_U,\n",
    "               W_regularizer=l2(l2_reg))\n",
    "    if bi:\n",
    "        return Bidirectional(rnn)\n",
    "    else:\n",
    "        return rnn\n",
    "def target_RNN(wv, tweet_max_length, aspect_max_length, classes=2, **kwargs):\n",
    "    ######################################################\n",
    "    # HyperParameters\n",
    "    ######################################################\n",
    "    noise = kwargs.get(\"noise\", 0)\n",
    "    trainable = kwargs.get(\"trainable\", False)\n",
    "    rnn_size = kwargs.get(\"rnn_size\", 75)\n",
    "    rnn_type = kwargs.get(\"rnn_type\", LSTM)\n",
    "    final_size = kwargs.get(\"final_size\", 100)\n",
    "    final_type = kwargs.get(\"final_type\", \"linear\")\n",
    "    use_final = kwargs.get(\"use_final\", False)\n",
    "    drop_text_input = kwargs.get(\"drop_text_input\", 0.)\n",
    "    drop_text_rnn = kwargs.get(\"drop_text_rnn\", 0.)\n",
    "    drop_text_rnn_U = kwargs.get(\"drop_text_rnn_U\", 0.)\n",
    "    drop_target_rnn = kwargs.get(\"drop_target_rnn\", 0.)\n",
    "    drop_rep = kwargs.get(\"drop_rep\", 0.)\n",
    "    drop_final = kwargs.get(\"drop_final\", 0.)\n",
    "    activity_l2 = kwargs.get(\"activity_l2\", 0.)\n",
    "    clipnorm = kwargs.get(\"clipnorm\", 5)\n",
    "    bi = kwargs.get(\"bi\", False)\n",
    "    lr = kwargs.get(\"lr\", 0.001)\n",
    "\n",
    "    attention = kwargs.get(\"attention\", \"simple\")\n",
    "    #####################################################\n",
    "    shared_RNN = get_RNN(rnn_type, rnn_size, bi=bi, return_sequences=True,\n",
    "                         dropout_U=drop_text_rnn_U)\n",
    "\n",
    "    input_tweet = Input(shape=[tweet_max_length], dtype='int32')\n",
    "    input_aspect = Input(shape=[aspect_max_length], dtype='int32')\n",
    "\n",
    "    # Embeddings\n",
    "    tweets_emb = embeddings_layer(max_length=tweet_max_length, embeddings=wv, trainable=trainable, masking=True)(input_tweet)\n",
    "    tweets_emb = GaussianNoise(noise)(tweets_emb)\n",
    "    tweets_emb = Dropout(drop_text_input)(tweets_emb)\n",
    "\n",
    "    aspects_emb = embeddings_layer(max_length=aspect_max_length, embeddings=wv,\n",
    "                                   trainable=trainable, masking=True)(\n",
    "        input_aspect)\n",
    "    aspects_emb = GaussianNoise(noise)(aspects_emb)\n",
    "\n",
    "    # Recurrent NN\n",
    "    h_tweets = shared_RNN(tweets_emb)\n",
    "    h_tweets = Dropout(drop_text_rnn)(h_tweets)\n",
    "\n",
    "    h_aspects = shared_RNN(aspects_emb)\n",
    "    h_aspects = Dropout(drop_target_rnn)(h_aspects)\n",
    "    h_aspects = MeanOverTime()(h_aspects)\n",
    "    h_aspects = RepeatVector(tweet_max_length)(h_aspects)\n",
    "\n",
    "    # Merge of Aspect + Tweet\n",
    "    representation = concatenate([h_tweets, h_aspects])\n",
    "\n",
    "    # apply attention over the hidden outputs of the RNN's\n",
    "    att_layer = AttentionWithContext if attention == \"context\" else Attention\n",
    "    representation = att_layer()(representation)\n",
    "    representation = Dropout(drop_rep)(representation)\n",
    "\n",
    "    if use_final:\n",
    "        if final_type == \"maxout\":\n",
    "            representation = MaxoutDense(final_size)(representation)\n",
    "        else:\n",
    "            representation = Dense(final_size, activation=final_type)(\n",
    "                representation)\n",
    "        representation = Dropout(drop_final)(representation)\n",
    "\n",
    "    ######################################################\n",
    "    # Probabilities\n",
    "    ######################################################\n",
    "    probabilities = Dense(1 if classes == 2 else classes,\n",
    "                          activation=\"sigmoid\" if classes == 2 else \"softmax\",\n",
    "                          activity_regularizer=l2(activity_l2))(representation)\n",
    "\n",
    "    model = Model(input=[input_aspect, input_tweet], output=probabilities)\n",
    "\n",
    "    loss = \"binary_crossentropy\" if classes == 2 else \"categorical_crossentropy\"\n",
    "    model.compile(optimizer=Adam(clipnorm=clipnorm, lr=lr), loss=loss)\n",
    "    return model"
   ]
  },
  {
   "cell_type": "code",
   "execution_count": null,
   "metadata": {},
   "outputs": [],
   "source": [
    "def embeddings_layer(max_length, embeddings, trainable=False, masking=False, scale=False, normalize=False):\n",
    "    if scale:\n",
    "        print(\"Scaling embedding weights...\")\n",
    "        embeddings = preprocessing.scale(embeddings)\n",
    "    if normalize:\n",
    "        print(\"Normalizing embedding weights...\")\n",
    "        embeddings = preprocessing.normalize(embeddings)\n",
    "\n",
    "    vocab_size = embeddings.shape[0]\n",
    "    embedding_size = embeddings.shape[1]\n",
    "\n",
    "    _embedding = Embedding(\n",
    "        input_dim=vocab_size,\n",
    "        output_dim=embedding_size,\n",
    "        input_length=max_length if max_length > 0 else None,\n",
    "        trainable=trainable,\n",
    "        mask_zero=masking if max_length > 0 else False,\n",
    "        weights=[embeddings]\n",
    "    )\n",
    "\n",
    "    return _embedding\n",
    "\n",
    "\n",
    "def model_sk4():\n",
    "    input_tweet = Input(shape=[tweet_max_length], dtype='int32')\n",
    "    # input_aspect = Input(shape=[aspect_max_length], dtype='int32')\n",
    "    \n",
    "    # Embeddings\n",
    "    tweets_emb = embeddings_layer(max_length=tweet_max_length, embeddings=wv, trainable=trainable, masking=True)(input_tweet)\n",
    "    tweets_emb = GaussianNoise(noise)(tweets_emb)\n",
    "    tweets_emb = Dropout(drop_text_input)(tweets_emb)\n",
    "    \n",
    "    #aspects_emb = embeddings_layer(max_length=aspect_max_length, embeddings=wv,trainable=trainable, masking=True)(input_aspect)\n",
    "    #aspects_emb = GaussianNoise(noise)(aspects_emb)\n",
    "    \n",
    "    # Merge of Aspect + Tweet\n",
    "    #representation = concatenate([h_tweets, h_aspects])"
   ]
  },
  {
   "cell_type": "code",
   "execution_count": 71,
   "metadata": {},
   "outputs": [],
   "source": [
    "def target_RNN(wv, tweet_max_length, aspect_max_length, classes=2, **kwargs):\n",
    "    ######################################################\n",
    "    # HyperParameters\n",
    "    ######################################################\n",
    "    noise = kwargs.get(\"noise\", 0)\n",
    "    trainable = kwargs.get(\"trainable\", False)\n",
    "    rnn_size = kwargs.get(\"rnn_size\", 75)\n",
    "    rnn_type = kwargs.get(\"rnn_type\", LSTM)\n",
    "    final_size = kwargs.get(\"final_size\", 100)\n",
    "    final_type = kwargs.get(\"final_type\", \"linear\")\n",
    "    use_final = kwargs.get(\"use_final\", False)\n",
    "    drop_text_input = kwargs.get(\"drop_text_input\", 0.)\n",
    "    drop_text_rnn = kwargs.get(\"drop_text_rnn\", 0.)\n",
    "    drop_text_rnn_U = kwargs.get(\"drop_text_rnn_U\", 0.)\n",
    "    drop_target_rnn = kwargs.get(\"drop_target_rnn\", 0.)\n",
    "    drop_rep = kwargs.get(\"drop_rep\", 0.)\n",
    "    drop_final = kwargs.get(\"drop_final\", 0.)\n",
    "    activity_l2 = kwargs.get(\"activity_l2\", 0.)\n",
    "    clipnorm = kwargs.get(\"clipnorm\", 5)\n",
    "    bi = kwargs.get(\"bi\", False)\n",
    "    lr = kwargs.get(\"lr\", 0.001)\n",
    "\n",
    "    attention = kwargs.get(\"attention\", \"simple\")\n",
    "    #####################################################\n",
    "    shared_RNN = get_RNN(rnn_type, rnn_size, bi=bi, return_sequences=True,\n",
    "                         dropout_U=drop_text_rnn_U)\n",
    "\n",
    "    input_tweet = Input(shape=[tweet_max_length], dtype='int32')\n",
    "    input_aspect = Input(shape=[aspect_max_length], dtype='int32')\n",
    "\n",
    "    # Embeddings\n",
    "    tweets_emb = embeddings_layer(max_length=tweet_max_length, embeddings=wv,\n",
    "                                  trainable=trainable, masking=True)(\n",
    "        input_tweet)\n",
    "    tweets_emb = GaussianNoise(noise)(tweets_emb)\n",
    "    tweets_emb = Dropout(drop_text_input)(tweets_emb)\n",
    "\n",
    "    aspects_emb = embeddings_layer(max_length=aspect_max_length, embeddings=wv,\n",
    "                                   trainable=trainable, masking=True)(\n",
    "        input_aspect)\n",
    "    aspects_emb = GaussianNoise(noise)(aspects_emb)\n",
    "\n",
    "    # Recurrent NN\n",
    "    h_tweets = shared_RNN(tweets_emb)\n",
    "    h_tweets = Dropout(drop_text_rnn)(h_tweets)\n",
    "\n",
    "    h_aspects = shared_RNN(aspects_emb)\n",
    "    h_aspects = Dropout(drop_target_rnn)(h_aspects)\n",
    "    h_aspects = MeanOverTime()(h_aspects)\n",
    "    h_aspects = RepeatVector(tweet_max_length)(h_aspects)\n",
    "\n",
    "    # Merge of Aspect + Tweet\n",
    "    representation = concatenate([h_tweets, h_aspects])\n",
    "\n",
    "    # apply attention over the hidden outputs of the RNN's\n",
    "    att_layer = AttentionWithContext if attention == \"context\" else Attention\n",
    "    representation = att_layer()(representation)\n",
    "    representation = Dropout(drop_rep)(representation)\n",
    "\n",
    "    if use_final:\n",
    "        if final_type == \"maxout\":\n",
    "            representation = MaxoutDense(final_size)(representation)\n",
    "        else:\n",
    "            representation = Dense(final_size, activation=final_type)(\n",
    "                representation)\n",
    "        representation = Dropout(drop_final)(representation)\n",
    "\n",
    "    ######################################################\n",
    "    # Probabilities\n",
    "    ######################################################\n",
    "    probabilities = Dense(1 if classes == 2 else classes,\n",
    "                          activation=\"sigmoid\" if classes == 2 else \"softmax\",\n",
    "                          activity_regularizer=l2(activity_l2))(representation)\n",
    "\n",
    "    model = Model(input=[input_aspect, input_tweet], output=probabilities)\n",
    "\n",
    "    loss = \"binary_crossentropy\" if classes == 2 else \"categorical_crossentropy\"\n",
    "    model.compile(optimizer=Adam(clipnorm=clipnorm, lr=lr), loss=loss)\n",
    "    return model"
   ]
  },
  {
   "cell_type": "code",
   "execution_count": 74,
   "metadata": {},
   "outputs": [
    {
     "ename": "NameError",
     "evalue": "name 'kwargs' is not defined",
     "output_type": "error",
     "traceback": [
      "\u001b[0;31m---------------------------------------------------------------------------\u001b[0m",
      "\u001b[0;31mNameError\u001b[0m                                 Traceback (most recent call last)",
      "\u001b[0;32m<ipython-input-74-6f39f0d543b9>\u001b[0m in \u001b[0;36m<module>\u001b[0;34m\u001b[0m\n\u001b[0;32m----> 1\u001b[0;31m \u001b[0mtarget_RNN\u001b[0m\u001b[0;34m(\u001b[0m\u001b[0mx_train\u001b[0m\u001b[0;34m,\u001b[0m \u001b[0mmax_length\u001b[0m\u001b[0;34m,\u001b[0m \u001b[0mmax_length\u001b[0m\u001b[0;34m,\u001b[0m \u001b[0mclasses\u001b[0m\u001b[0;34m=\u001b[0m\u001b[0;36m2\u001b[0m\u001b[0;34m,\u001b[0m \u001b[0;34m**\u001b[0m\u001b[0mkwargs\u001b[0m\u001b[0;34m)\u001b[0m\u001b[0;34m\u001b[0m\u001b[0;34m\u001b[0m\u001b[0m\n\u001b[0m",
      "\u001b[0;31mNameError\u001b[0m: name 'kwargs' is not defined"
     ]
    }
   ],
   "source": [
    "target_RNN(x_train, max_length, max_length, classes=2, **kwargs)"
   ]
  },
  {
   "cell_type": "code",
   "execution_count": null,
   "metadata": {},
   "outputs": [],
   "source": []
  },
  {
   "cell_type": "markdown",
   "metadata": {},
   "source": [
    "<div style=\"width:100%;height:40px;border: 4px solid black;background-color:#B3001E;color:black;text-align:center;border-radius: 25px;padding:3px\">\n",
    "    <h4>  </h4>\n",
    "</div>"
   ]
  },
  {
   "cell_type": "code",
   "execution_count": null,
   "metadata": {},
   "outputs": [],
   "source": []
  },
  {
   "cell_type": "code",
   "execution_count": 26,
   "metadata": {},
   "outputs": [],
   "source": [
    "def model_Tweets50(input_dim, output_dim=64):\n",
    "    \"\"\"\n",
    "    input_dim : Size of the vocabulary\n",
    "    output_dim: Dimension of the dense embedding.\n",
    "    input_length: Length of input sequences\n",
    "    \n",
    "    \"\"\"\n",
    "    model = Sequential()\n",
    "    model.add(Embedding(input_dim, output_dim))\n",
    "    model.add(GlobalAveragePooling1D())\n",
    "    \n",
    "    #model.add(LSTM(32))\n",
    "    model.add(Dense(output_dim, activation='relu'))\n",
    "    model.add(Dropout(0.2))\n",
    "    #model.add(Dense(16, activation='relu'))\n",
    "    #model.add(Dropout(0.2))\n",
    "    model.add(Dense(1, activation='sigmoid'))\n",
    "    \n",
    "    model.compile(optimizer = 'Adam',loss='binary_crossentropy',metrics=['accuracy'])\n",
    "    \n",
    "    return model"
   ]
  },
  {
   "cell_type": "code",
   "execution_count": 30,
   "metadata": {},
   "outputs": [
    {
     "ename": "ValueError",
     "evalue": "Error when checking model input: the list of Numpy arrays that you are passing to your model is not the size the model expected. Expected to see 1 array(s), but instead got the following list of 2252 arrays: [array([[-0.04597766],\n       [ 0.07539941],\n       [-0.11853474],\n       [ 0.06086664],\n       [ 0.00437364],\n       [-0.15323256],\n       [-0.07096647],\n       [ 0.019163  ],\n       [-0.00217626],\n ...",
     "output_type": "error",
     "traceback": [
      "\u001b[0;31m---------------------------------------------------------------------------\u001b[0m",
      "\u001b[0;31mValueError\u001b[0m                                Traceback (most recent call last)",
      "\u001b[0;32m<ipython-input-30-e09320e25a6e>\u001b[0m in \u001b[0;36m<module>\u001b[0;34m\u001b[0m\n\u001b[1;32m      9\u001b[0m \u001b[0;31m# embedding_matrix\u001b[0m\u001b[0;34m\u001b[0m\u001b[0;34m\u001b[0m\u001b[0;34m\u001b[0m\u001b[0m\n\u001b[1;32m     10\u001b[0m \u001b[0mmodel\u001b[0m \u001b[0;34m=\u001b[0m \u001b[0mmodel_Tweets50\u001b[0m\u001b[0;34m(\u001b[0m\u001b[0minput_dim\u001b[0m \u001b[0;34m=\u001b[0m \u001b[0;36m2252\u001b[0m \u001b[0;34m)\u001b[0m\u001b[0;34m\u001b[0m\u001b[0;34m\u001b[0m\u001b[0m\n\u001b[0;32m---> 11\u001b[0;31m \u001b[0mhistory\u001b[0m \u001b[0;34m=\u001b[0m \u001b[0mmodel\u001b[0m\u001b[0;34m.\u001b[0m\u001b[0mfit\u001b[0m\u001b[0;34m(\u001b[0m\u001b[0mx_train\u001b[0m\u001b[0;34m,\u001b[0m\u001b[0my_train\u001b[0m\u001b[0;34m,\u001b[0m \u001b[0mvalidation_split\u001b[0m\u001b[0;34m=\u001b[0m\u001b[0;36m0.20\u001b[0m\u001b[0;34m,\u001b[0m \u001b[0mbatch_size\u001b[0m\u001b[0;34m=\u001b[0m\u001b[0;36m32\u001b[0m \u001b[0;34m,\u001b[0m\u001b[0mverbose\u001b[0m\u001b[0;34m=\u001b[0m\u001b[0;36m1\u001b[0m\u001b[0;34m,\u001b[0m \u001b[0mepochs\u001b[0m\u001b[0;34m=\u001b[0m\u001b[0mepochs\u001b[0m\u001b[0;34m,\u001b[0m \u001b[0mcallbacks\u001b[0m\u001b[0;34m=\u001b[0m\u001b[0;34m[\u001b[0m\u001b[0mmonitor\u001b[0m\u001b[0;34m,\u001b[0m\u001b[0mcheckpoint\u001b[0m\u001b[0;34m,\u001b[0m\u001b[0mtime_summary\u001b[0m\u001b[0;34m,\u001b[0m\u001b[0mestimetor\u001b[0m\u001b[0;34m]\u001b[0m\u001b[0;34m)\u001b[0m\u001b[0;34m\u001b[0m\u001b[0;34m\u001b[0m\u001b[0m\n\u001b[0m\u001b[1;32m     12\u001b[0m \u001b[0mmodel\u001b[0m\u001b[0;34m.\u001b[0m\u001b[0mload_weights\u001b[0m\u001b[0;34m(\u001b[0m\u001b[0;34m'wieght_save/weights_for_second__first.hdf5'\u001b[0m\u001b[0;34m)\u001b[0m\u001b[0;34m\u001b[0m\u001b[0;34m\u001b[0m\u001b[0m\n",
      "\u001b[0;32m/anaconda3/lib/python3.6/site-packages/tensorflow/python/keras/engine/training.py\u001b[0m in \u001b[0;36mfit\u001b[0;34m(self, x, y, batch_size, epochs, verbose, callbacks, validation_split, validation_data, shuffle, class_weight, sample_weight, initial_epoch, steps_per_epoch, validation_steps, **kwargs)\u001b[0m\n\u001b[1;32m   1276\u001b[0m         \u001b[0msteps_name\u001b[0m\u001b[0;34m=\u001b[0m\u001b[0;34m'steps_per_epoch'\u001b[0m\u001b[0;34m,\u001b[0m\u001b[0;34m\u001b[0m\u001b[0;34m\u001b[0m\u001b[0m\n\u001b[1;32m   1277\u001b[0m         \u001b[0msteps\u001b[0m\u001b[0;34m=\u001b[0m\u001b[0msteps_per_epoch\u001b[0m\u001b[0;34m,\u001b[0m\u001b[0;34m\u001b[0m\u001b[0;34m\u001b[0m\u001b[0m\n\u001b[0;32m-> 1278\u001b[0;31m         validation_split=validation_split)\n\u001b[0m\u001b[1;32m   1279\u001b[0m \u001b[0;34m\u001b[0m\u001b[0m\n\u001b[1;32m   1280\u001b[0m     \u001b[0;31m# Prepare validation data.\u001b[0m\u001b[0;34m\u001b[0m\u001b[0;34m\u001b[0m\u001b[0;34m\u001b[0m\u001b[0m\n",
      "\u001b[0;32m/anaconda3/lib/python3.6/site-packages/tensorflow/python/keras/engine/training.py\u001b[0m in \u001b[0;36m_standardize_user_data\u001b[0;34m(self, x, y, sample_weight, class_weight, batch_size, check_steps, steps_name, steps, validation_split)\u001b[0m\n\u001b[1;32m    876\u001b[0m         \u001b[0mfeed_input_shapes\u001b[0m\u001b[0;34m,\u001b[0m\u001b[0;34m\u001b[0m\u001b[0;34m\u001b[0m\u001b[0m\n\u001b[1;32m    877\u001b[0m         \u001b[0mcheck_batch_axis\u001b[0m\u001b[0;34m=\u001b[0m\u001b[0;32mFalse\u001b[0m\u001b[0;34m,\u001b[0m  \u001b[0;31m# Don't enforce the batch size.\u001b[0m\u001b[0;34m\u001b[0m\u001b[0;34m\u001b[0m\u001b[0m\n\u001b[0;32m--> 878\u001b[0;31m         exception_prefix='input')\n\u001b[0m\u001b[1;32m    879\u001b[0m \u001b[0;34m\u001b[0m\u001b[0m\n\u001b[1;32m    880\u001b[0m     \u001b[0;32mif\u001b[0m \u001b[0my\u001b[0m \u001b[0;32mis\u001b[0m \u001b[0;32mnot\u001b[0m \u001b[0;32mNone\u001b[0m\u001b[0;34m:\u001b[0m\u001b[0;34m\u001b[0m\u001b[0;34m\u001b[0m\u001b[0m\n",
      "\u001b[0;32m/anaconda3/lib/python3.6/site-packages/tensorflow/python/keras/engine/training_utils.py\u001b[0m in \u001b[0;36mstandardize_input_data\u001b[0;34m(data, names, shapes, check_batch_axis, exception_prefix)\u001b[0m\n\u001b[1;32m    150\u001b[0m                        \u001b[0;34m'Expected to see '\u001b[0m \u001b[0;34m+\u001b[0m \u001b[0mstr\u001b[0m\u001b[0;34m(\u001b[0m\u001b[0mlen\u001b[0m\u001b[0;34m(\u001b[0m\u001b[0mnames\u001b[0m\u001b[0;34m)\u001b[0m\u001b[0;34m)\u001b[0m \u001b[0;34m+\u001b[0m \u001b[0;34m' array(s), '\u001b[0m\u001b[0;34m\u001b[0m\u001b[0;34m\u001b[0m\u001b[0m\n\u001b[1;32m    151\u001b[0m                        \u001b[0;34m'but instead got the following list of '\u001b[0m \u001b[0;34m+\u001b[0m\u001b[0;34m\u001b[0m\u001b[0;34m\u001b[0m\u001b[0m\n\u001b[0;32m--> 152\u001b[0;31m                        str(len(data)) + ' arrays: ' + str(data)[:200] + '...')\n\u001b[0m\u001b[1;32m    153\u001b[0m     \u001b[0;32melif\u001b[0m \u001b[0mlen\u001b[0m\u001b[0;34m(\u001b[0m\u001b[0mnames\u001b[0m\u001b[0;34m)\u001b[0m \u001b[0;34m>\u001b[0m \u001b[0;36m1\u001b[0m\u001b[0;34m:\u001b[0m\u001b[0;34m\u001b[0m\u001b[0;34m\u001b[0m\u001b[0m\n\u001b[1;32m    154\u001b[0m       raise ValueError(\n",
      "\u001b[0;31mValueError\u001b[0m: Error when checking model input: the list of Numpy arrays that you are passing to your model is not the size the model expected. Expected to see 1 array(s), but instead got the following list of 2252 arrays: [array([[-0.04597766],\n       [ 0.07539941],\n       [-0.11853474],\n       [ 0.06086664],\n       [ 0.00437364],\n       [-0.15323256],\n       [-0.07096647],\n       [ 0.019163  ],\n       [-0.00217626],\n ..."
     ]
    }
   ],
   "source": [
    "set_verbosity(ERROR)\n",
    "epochs = 3\n",
    "\n",
    "monitor = EarlyStopping(monitor='vall_loss',min_delta=1e-3,verbose=0, mode='atuo')\n",
    "checkpoint = ModelCheckpoint(filepath='wieght_save/weights_for_first.hdf5',verbose=0,save_best_only=True)\n",
    "time_summary = TimeSummary()\n",
    "estimetor = Estimate_fasterD(epochs)\n",
    "\n",
    "# embedding_matrix\n",
    "model = model_Tweets50(input_dim = 2252 )\n",
    "history = model.fit(x_train,y_train, validation_split=0.20, batch_size=32 ,verbose=1, epochs=epochs, callbacks=[monitor,checkpoint,time_summary,estimetor])\n",
    "model.load_weights('wieght_save/weights_for_second__first.hdf5') "
   ]
  },
  {
   "cell_type": "code",
   "execution_count": null,
   "metadata": {},
   "outputs": [],
   "source": [
    "model.add(Conv1D(, activation='relu'))\n",
    "    model.add(MaxPool1D(pool_size=2))#MaxPooling1D(pool_size=2)\n",
    "    \n",
    "    model.add(LSTM(32))\n",
    "    model.add(Dense(vocabulary_size, activation='relu'))\n",
    "    model.add(Dropout(0.2))\n",
    "    model.add(Dense(16, activation='relu'))"
   ]
  }
 ],
 "metadata": {
  "kernelspec": {
   "display_name": "Python 3",
   "language": "python",
   "name": "python3"
  },
  "language_info": {
   "codemirror_mode": {
    "name": "ipython",
    "version": 3
   },
   "file_extension": ".py",
   "mimetype": "text/x-python",
   "name": "python",
   "nbconvert_exporter": "python",
   "pygments_lexer": "ipython3",
   "version": "3.6.8"
  }
 },
 "nbformat": 4,
 "nbformat_minor": 2
}
