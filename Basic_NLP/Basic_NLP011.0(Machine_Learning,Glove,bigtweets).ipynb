{
 "cells": [
  {
   "cell_type": "markdown",
   "metadata": {},
   "source": [
    "<div style=\"width:100%;height:100px;text-align:center;border: 4px solid black;background-color:#E6BF00;color:white\">\n",
    "\n",
    "<header style=\"width:100%;height:100px;\">\n",
    "  <h1><b> Session 003</b></h1>\n",
    "    <h4> Basic Natural language processing </h4>\n",
    "</header>\n",
    "\n",
    "<div> "
   ]
  },
  {
   "cell_type": "code",
   "execution_count": null,
   "metadata": {},
   "outputs": [],
   "source": []
  },
  {
   "cell_type": "markdown",
   "metadata": {},
   "source": [
    "<div style='border: 4px solid #E6BF00;padding:9px;'>\n",
    "\n",
    "By: Farhad Shadmand \n",
    "    \n",
    "https://github.com/farhadsh1992\n",
    "    \n",
    "</div>"
   ]
  },
  {
   "cell_type": "code",
   "execution_count": null,
   "metadata": {},
   "outputs": [],
   "source": []
  },
  {
   "cell_type": "markdown",
   "metadata": {},
   "source": [
    "<div style=\"border: 4px solid #3550B7;background-color:#BFE6FF;color:black;border-radius: 5px;padding:7px\">\n",
    "  <strong> Refrence: </strong><br>\n",
    "\n",
    "\n",
    "\n",
    "http://nadbordrozd.github.io/blog/2016/05/20/text-classification-with-word2vec/\n",
    "  \n",
    "https://towardsdatascience.com/using-scikit-learn-to-find-bullies-c47a1045d92f\n",
    "    \n",
    "https://www.kaggle.com/eswarbabu88/toxic-comment-glove-logistic-regression\n",
    "    \n",
    "https://www.kaggle.com/stacykurnikova/using-glove-embedding\n",
    "    \n",
    "https://www.kaggle.com/ankitswarnkar/word-embedding-using-glove-vector\n",
    "    \n",
    "https://textminingonline.com/getting-started-with-word2vec-and-glove-in-python\n",
    "    \n",
    "https://markhneedham.com/blog/2018/05/19/interpreting-word2vec-glove-embeddings-sklearn-neo4j-graph-algorithms/\n",
    "    \n",
    "http://nadbordrozd.github.io/blog/2016/05/20/text-classification-with-word2vec/\n",
    "    \n",
    "https://radimrehurek.com/gensim/sklearn_api/w2vmodel.html\n",
    "    \n",
    "https://www.kaggle.com/reiinakano/basic-nlp-bag-of-words-tf-idf-word2vec-lstm\n",
    "    \n",
    "<hr>\n",
    "    \n",
    "Tf-IDF (p1): http://blog.christianperone.com/2011/09/machine-learning-text-feature-extraction-tf-idf-part-i/\n",
    "    \n",
    "Tf-IDF (p2): http://blog.christianperone.com/2011/10/machine-learning-text-feature-extraction-tf-idf-part-ii/\n",
    "    \n",
    "Glove: http://www.thushv.com/natural_language_processing/glove-global-vectors-for-word-representation/\n",
    "    \n",
    "Word2vec: http://www.thushv.com/natural_language_processing/word2vec-part-1-nlp-with-deep-learning-with-tensorflow-skip-gram/\n",
    "    \n",
    "</div>"
   ]
  },
  {
   "cell_type": "code",
   "execution_count": null,
   "metadata": {},
   "outputs": [],
   "source": []
  },
  {
   "cell_type": "markdown",
   "metadata": {},
   "source": [
    "<div style=\"width:100%;height:70px;border: 4px solid black;background-color:#E6BF00;color:white;text-align:center;border-radius: 25px;padding:3px\">\n",
    "    <h1>  Result of ML <h1>\n",
    "</div>"
   ]
  },
  {
   "cell_type": "code",
   "execution_count": null,
   "metadata": {},
   "outputs": [],
   "source": []
  },
  {
   "cell_type": "code",
   "execution_count": 51,
   "metadata": {},
   "outputs": [
    {
     "data": {
      "text/html": [
       "<div>\n",
       "<style scoped>\n",
       "    .dataframe tbody tr th:only-of-type {\n",
       "        vertical-align: middle;\n",
       "    }\n",
       "\n",
       "    .dataframe tbody tr th {\n",
       "        vertical-align: top;\n",
       "    }\n",
       "\n",
       "    .dataframe thead th {\n",
       "        text-align: right;\n",
       "    }\n",
       "</style>\n",
       "<table border=\"1\" class=\"dataframe\">\n",
       "  <thead>\n",
       "    <tr style=\"text-align: right;\">\n",
       "      <th></th>\n",
       "      <th>title</th>\n",
       "      <th>cross_validation_train</th>\n",
       "      <th>accuracy_test</th>\n",
       "    </tr>\n",
       "  </thead>\n",
       "  <tbody>\n",
       "    <tr>\n",
       "      <th>1</th>\n",
       "      <td>XGBRegressor</td>\n",
       "      <td>0.197106</td>\n",
       "      <td>0.688814</td>\n",
       "    </tr>\n",
       "    <tr>\n",
       "      <th>3</th>\n",
       "      <td>GaussianNB</td>\n",
       "      <td>0.637847</td>\n",
       "      <td>0.639337</td>\n",
       "    </tr>\n",
       "    <tr>\n",
       "      <th>4</th>\n",
       "      <td>DecisionTreeClassifier</td>\n",
       "      <td>0.661941</td>\n",
       "      <td>0.663390</td>\n",
       "    </tr>\n",
       "    <tr>\n",
       "      <th>2</th>\n",
       "      <td>KNeighborsClassifier</td>\n",
       "      <td>0.678386</td>\n",
       "      <td>0.688814</td>\n",
       "    </tr>\n",
       "    <tr>\n",
       "      <th>5</th>\n",
       "      <td>LinearSVC</td>\n",
       "      <td>0.699079</td>\n",
       "      <td>0.700033</td>\n",
       "    </tr>\n",
       "    <tr>\n",
       "      <th>0</th>\n",
       "      <td>ExtraTreesClassifier</td>\n",
       "      <td>0.710477</td>\n",
       "      <td>0.712398</td>\n",
       "    </tr>\n",
       "  </tbody>\n",
       "</table>\n",
       "</div>"
      ],
      "text/plain": [
       "                    title  cross_validation_train  accuracy_test\n",
       "1            XGBRegressor                0.197106       0.688814\n",
       "3              GaussianNB                0.637847       0.639337\n",
       "4  DecisionTreeClassifier                0.661941       0.663390\n",
       "2    KNeighborsClassifier                0.678386       0.688814\n",
       "5               LinearSVC                0.699079       0.700033\n",
       "0    ExtraTreesClassifier                0.710477       0.712398"
      ]
     },
     "execution_count": 51,
     "metadata": {},
     "output_type": "execute_result"
    }
   ],
   "source": [
    "df_re = pd.DataFrame(result)\n",
    "df_re.sort_values('cross_validation_train').head(len(df_re))"
   ]
  },
  {
   "cell_type": "code",
   "execution_count": 52,
   "metadata": {},
   "outputs": [],
   "source": [
    "df_re.to_csv('result_of_Basic_NLP007.csv',index=False)"
   ]
  },
  {
   "cell_type": "code",
   "execution_count": null,
   "metadata": {},
   "outputs": [],
   "source": []
  },
  {
   "cell_type": "markdown",
   "metadata": {},
   "source": [
    "<div style=\"width:100%;height:70px;border: 4px solid black;background-color:#E6BF00;color:white;text-align:center;border-radius: 25px;padding:3px\">\n",
    "    <h1>  Load data <h1>\n",
    "</div>"
   ]
  },
  {
   "cell_type": "code",
   "execution_count": null,
   "metadata": {},
   "outputs": [],
   "source": []
  },
  {
   "cell_type": "code",
   "execution_count": 2,
   "metadata": {},
   "outputs": [],
   "source": [
    "import numpy as np\n",
    "import pandas as pd\n",
    "import re"
   ]
  },
  {
   "cell_type": "code",
   "execution_count": 10,
   "metadata": {},
   "outputs": [
    {
     "name": "stdout",
     "output_type": "stream",
     "text": [
      "<class 'pandas.core.frame.DataFrame'>\n",
      "RangeIndex: 1530184 entries, 0 to 1530183\n",
      "Data columns (total 4 columns):\n",
      "index         1530184 non-null int64\n",
      "created_at    1530184 non-null object\n",
      "text          1530184 non-null object\n",
      "label         1530184 non-null int64\n",
      "dtypes: int64(2), object(2)\n",
      "memory usage: 46.7+ MB\n"
     ]
    }
   ],
   "source": [
    "#data_path = '/Users/apple/Documents/Programming/python/Project/data/Clean_tweets/2Tesla_label_from_2010-06-29_to_2019-02-26_2019227.csv'\n",
    "data_path = \"/Users/apple/Documents/Programming/python/Project/data/tweets/Third__CLean_training.1600000.process.csv\"\n",
    "df_data = pd.read_csv(data_path)\n",
    "df_data = df_data.dropna().reset_index()\n",
    "\n",
    "#df_data['Price_label(0,1)'] = df_data['Price_label(0,1)'].apply(xx)\n",
    "df_data['text'] = df_data['text'].apply(lambda x: re.sub('-PRON- ','',x))\n",
    "df_data['text'] = df_data['text'].apply(lambda x: re.sub('-PRON-','',x))\n",
    "#df_data = df_data.reindex()\n",
    "df_data.info()"
   ]
  },
  {
   "cell_type": "code",
   "execution_count": 11,
   "metadata": {},
   "outputs": [],
   "source": [
    "def labelx(x):\n",
    "    if x==4:\n",
    "        return 1\n",
    "    else:\n",
    "        return 0\n",
    "df_data['label'] = df_data['label'].apply(labelx)"
   ]
  },
  {
   "cell_type": "code",
   "execution_count": 12,
   "metadata": {},
   "outputs": [
    {
     "data": {
      "text/html": [
       "<div>\n",
       "<style scoped>\n",
       "    .dataframe tbody tr th:only-of-type {\n",
       "        vertical-align: middle;\n",
       "    }\n",
       "\n",
       "    .dataframe tbody tr th {\n",
       "        vertical-align: top;\n",
       "    }\n",
       "\n",
       "    .dataframe thead th {\n",
       "        text-align: right;\n",
       "    }\n",
       "</style>\n",
       "<table border=\"1\" class=\"dataframe\">\n",
       "  <thead>\n",
       "    <tr style=\"text-align: right;\">\n",
       "      <th></th>\n",
       "      <th>index</th>\n",
       "      <th>created_at</th>\n",
       "      <th>text</th>\n",
       "      <th>label</th>\n",
       "    </tr>\n",
       "  </thead>\n",
       "  <tbody>\n",
       "    <tr>\n",
       "      <th>0</th>\n",
       "      <td>0</td>\n",
       "      <td>Mon Apr 06 22:19:49 PDT 2009</td>\n",
       "      <td>upset not updat facebook text might cri result...</td>\n",
       "      <td>0</td>\n",
       "    </tr>\n",
       "    <tr>\n",
       "      <th>1</th>\n",
       "      <td>1</td>\n",
       "      <td>Mon Apr 06 22:19:53 PDT 2009</td>\n",
       "      <td>dive mani time ball manag save rest go bound</td>\n",
       "      <td>0</td>\n",
       "    </tr>\n",
       "    <tr>\n",
       "      <th>2</th>\n",
       "      <td>2</td>\n",
       "      <td>Mon Apr 06 22:19:57 PDT 2009</td>\n",
       "      <td>whole bodi feel itchi like fire</td>\n",
       "      <td>0</td>\n",
       "    </tr>\n",
       "    <tr>\n",
       "      <th>3</th>\n",
       "      <td>3</td>\n",
       "      <td>Mon Apr 06 22:19:57 PDT 2009</td>\n",
       "      <td>not behav mad whi becaus not see</td>\n",
       "      <td>0</td>\n",
       "    </tr>\n",
       "    <tr>\n",
       "      <th>4</th>\n",
       "      <td>4</td>\n",
       "      <td>Mon Apr 06 22:20:00 PDT 2009</td>\n",
       "      <td>not whole crew</td>\n",
       "      <td>0</td>\n",
       "    </tr>\n",
       "  </tbody>\n",
       "</table>\n",
       "</div>"
      ],
      "text/plain": [
       "   index                    created_at  \\\n",
       "0      0  Mon Apr 06 22:19:49 PDT 2009   \n",
       "1      1  Mon Apr 06 22:19:53 PDT 2009   \n",
       "2      2  Mon Apr 06 22:19:57 PDT 2009   \n",
       "3      3  Mon Apr 06 22:19:57 PDT 2009   \n",
       "4      4  Mon Apr 06 22:20:00 PDT 2009   \n",
       "\n",
       "                                                text  label  \n",
       "0  upset not updat facebook text might cri result...      0  \n",
       "1       dive mani time ball manag save rest go bound      0  \n",
       "2                    whole bodi feel itchi like fire      0  \n",
       "3                   not behav mad whi becaus not see      0  \n",
       "4                                     not whole crew      0  "
      ]
     },
     "execution_count": 12,
     "metadata": {},
     "output_type": "execute_result"
    }
   ],
   "source": [
    "df_data.head(5)"
   ]
  },
  {
   "cell_type": "code",
   "execution_count": 13,
   "metadata": {},
   "outputs": [
    {
     "data": {
      "text/html": [
       "<div>\n",
       "<style scoped>\n",
       "    .dataframe tbody tr th:only-of-type {\n",
       "        vertical-align: middle;\n",
       "    }\n",
       "\n",
       "    .dataframe tbody tr th {\n",
       "        vertical-align: top;\n",
       "    }\n",
       "\n",
       "    .dataframe thead th {\n",
       "        text-align: right;\n",
       "    }\n",
       "</style>\n",
       "<table border=\"1\" class=\"dataframe\">\n",
       "  <thead>\n",
       "    <tr style=\"text-align: right;\">\n",
       "      <th></th>\n",
       "      <th>index</th>\n",
       "    </tr>\n",
       "    <tr>\n",
       "      <th>label</th>\n",
       "      <th></th>\n",
       "    </tr>\n",
       "  </thead>\n",
       "  <tbody>\n",
       "    <tr>\n",
       "      <th>0</th>\n",
       "      <td>309002753189</td>\n",
       "    </tr>\n",
       "    <tr>\n",
       "      <th>1</th>\n",
       "      <td>909366717500</td>\n",
       "    </tr>\n",
       "  </tbody>\n",
       "</table>\n",
       "</div>"
      ],
      "text/plain": [
       "              index\n",
       "label              \n",
       "0      309002753189\n",
       "1      909366717500"
      ]
     },
     "execution_count": 13,
     "metadata": {},
     "output_type": "execute_result"
    }
   ],
   "source": [
    "df_data.groupby('label').sum()"
   ]
  },
  {
   "cell_type": "code",
   "execution_count": null,
   "metadata": {},
   "outputs": [],
   "source": [
    "print"
   ]
  },
  {
   "cell_type": "code",
   "execution_count": 6,
   "metadata": {},
   "outputs": [],
   "source": [
    "result = {}\n",
    "result['title'] = []\n",
    "result['cross_validation_train'] = []\n",
    "result['accuracy_test'] = []\n",
    "\n",
    "def result_maker(title,scoe,acc):\n",
    "    result['title'].append(title)\n",
    "    result['cross_validation_train'].append(scoe.mean())\n",
    "    result['accuracy_test'].append(acc)"
   ]
  },
  {
   "cell_type": "code",
   "execution_count": null,
   "metadata": {},
   "outputs": [],
   "source": []
  },
  {
   "cell_type": "markdown",
   "metadata": {},
   "source": [
    "<div style=\"width:100%;height:70px;border: 4px solid black;background-color:#E6BF00;color:white;text-align:center;border-radius: 25px;padding:3px\">\n",
    "    <h1> Embedding <h1>\n",
    "</div>"
   ]
  },
  {
   "cell_type": "code",
   "execution_count": null,
   "metadata": {},
   "outputs": [],
   "source": []
  },
  {
   "cell_type": "markdown",
   "metadata": {},
   "source": [
    "## **Cut data, becuse I don't have space:**"
   ]
  },
  {
   "cell_type": "code",
   "execution_count": null,
   "metadata": {},
   "outputs": [],
   "source": [
    "# 1530184 "
   ]
  },
  {
   "cell_type": "code",
   "execution_count": 14,
   "metadata": {},
   "outputs": [],
   "source": [
    "from sklearn.model_selection import train_test_split"
   ]
  },
  {
   "cell_type": "code",
   "execution_count": 15,
   "metadata": {},
   "outputs": [],
   "source": [
    "x_data,_, y_data,_ = train_test_split(df_data['text'],df_data['label'] ,test_size=0.50, random_state =32, shuffle=True)"
   ]
  },
  {
   "cell_type": "code",
   "execution_count": null,
   "metadata": {},
   "outputs": [],
   "source": []
  },
  {
   "cell_type": "code",
   "execution_count": 17,
   "metadata": {},
   "outputs": [],
   "source": [
    "from farhad.TextAwsome import Text_Embadding"
   ]
  },
  {
   "cell_type": "code",
   "execution_count": 18,
   "metadata": {},
   "outputs": [
    {
     "name": "stdout",
     "output_type": "stream",
     "text": [
      "Found 658125 word vectors.\n",
      "Lenght of data: 765092\n",
      "lenght of features: 50\n"
     ]
    }
   ],
   "source": [
    "glove_model = Text_Embadding(x_data)   # df_data.clean_text or df_data.text\n",
    "glove_model.Glove_datastories_twitter_50d()\n",
    "data_ET50d = glove_model.data2vec()  "
   ]
  },
  {
   "cell_type": "code",
   "execution_count": null,
   "metadata": {},
   "outputs": [],
   "source": []
  },
  {
   "cell_type": "markdown",
   "metadata": {},
   "source": [
    "<div style=\"width:100%;height:70px;border: 4px solid black;background-color:#E6BF00;color:white;text-align:center;border-radius: 25px;padding:3px\">\n",
    "    <h1> model_selection <h1>\n",
    "</div>"
   ]
  },
  {
   "cell_type": "code",
   "execution_count": null,
   "metadata": {},
   "outputs": [],
   "source": []
  },
  {
   "cell_type": "code",
   "execution_count": 21,
   "metadata": {},
   "outputs": [],
   "source": [
    "x = data_ET50d \n",
    "#y = [i for i in df_data['label']]\n",
    "y = [i for i in y_data]"
   ]
  },
  {
   "cell_type": "code",
   "execution_count": 22,
   "metadata": {},
   "outputs": [
    {
     "name": "stdout",
     "output_type": "stream",
     "text": [
      "lenght train sample:  382546\n",
      "lenght train sample:  382546\n",
      "y_train sample: [0, 0, 1, 0, 1, 1, 1, 1, 0]\n",
      "x_train sample: \n",
      " [-0.03859538  0.05202736  0.04124341  0.0734569  -0.00229776 -0.02837828\n",
      " -0.073019   -0.01279442  0.00284792  0.0267969   0.90694547  0.04432925\n",
      "  0.0032675  -0.01562735  0.04690408 -0.04051898  0.13491042  0.03199145\n",
      " -0.07730589 -0.1010235  -0.09243413  0.03431433 -0.0627295  -0.00391254\n",
      "  0.0253977  -0.02755132 -0.03654208  0.03347418 -0.03484362  0.00411261\n",
      "  0.04094996  0.03095596 -0.04368424 -0.02871248 -0.12219357  0.07223292\n",
      " -0.03418995  0.09788002 -0.00947645  0.12253967  0.04824568  0.17092124\n",
      " -0.01483751  0.07557782 -0.00414311  0.01508231 -0.05965708 -0.00513222\n",
      "  0.02888768  0.07337037]\n"
     ]
    }
   ],
   "source": [
    "from sklearn.model_selection import train_test_split\n",
    "x_train, x_test, y_train, y_test  = train_test_split(x,y ,test_size=0.50, random_state =32, shuffle=True)\n",
    "\n",
    "print(\"lenght train sample: \", len(x_train))\n",
    "print(\"lenght train sample: \", len(x_test))\n",
    "print('y_train sample:',y_train[1:10])\n",
    "print('x_train sample: \\n',x_train[0])"
   ]
  },
  {
   "cell_type": "code",
   "execution_count": 46,
   "metadata": {},
   "outputs": [
    {
     "data": {
      "text/plain": [
       "50"
      ]
     },
     "execution_count": 46,
     "metadata": {},
     "output_type": "execute_result"
    }
   ],
   "source": [
    "round(sum(y_train)*100.0/len(y_train))"
   ]
  },
  {
   "cell_type": "code",
   "execution_count": null,
   "metadata": {},
   "outputs": [],
   "source": []
  },
  {
   "cell_type": "markdown",
   "metadata": {},
   "source": [
    "<div style=\"width:100%;height:70px;border: 4px solid black;background-color:#E6BF00;color:white;text-align:center;border-radius: 25px;padding:3px\">\n",
    "    <h1> LogisticRegression <h1>\n",
    "</div>"
   ]
  },
  {
   "cell_type": "code",
   "execution_count": null,
   "metadata": {},
   "outputs": [],
   "source": []
  },
  {
   "cell_type": "code",
   "execution_count": 26,
   "metadata": {},
   "outputs": [],
   "source": [
    "from sklearn.linear_model import LogisticRegression\n",
    "from sklearn.metrics import accuracy_score,confusion_matrix, log_loss, f1_score,mean_squared_error\n",
    "from farhad_DL.utility import plot_confusion_matrix \n",
    "from sklearn.model_selection import train_test_split, cross_val_score\n",
    "from sklearn.externals import joblib"
   ]
  },
  {
   "cell_type": "code",
   "execution_count": 16,
   "metadata": {},
   "outputs": [
    {
     "name": "stdout",
     "output_type": "stream",
     "text": [
      "accuracy: 0.6997043648151985\n",
      "accuracy: 0.6987684495665557\n"
     ]
    },
    {
     "data": {
      "image/png": "[encoded data removed]",
      "text/plain": [
       "<Figure size 432x288 with 2 Axes>"
      ]
     },
     "metadata": {
      "needs_background": "light"
     },
     "output_type": "display_data"
    }
   ],
   "source": [
    "classifier = LogisticRegression(solver='sag')\n",
    "\n",
    "scoe = cross_val_score(classifier,x_train, y_train , cv=5);\n",
    "print('accuracy:',scoe.mean())\n",
    "\n",
    "\n",
    "classifier.fit(x_train, y_train)\n",
    "y_pred = classifier.predict(x_test)\n",
    "\n",
    "acc = accuracy_score(y_test,y_pred)\n",
    "print('accuracy:',acc)\n",
    "\n",
    "cm = confusion_matrix(y_test,y_pred , labels=[0,1])\n",
    "plot_confusion_matrix(cm, names=['bad','good'])"
   ]
  },
  {
   "cell_type": "code",
   "execution_count": 17,
   "metadata": {},
   "outputs": [],
   "source": [
    "title = 'LogisticRegression'\n",
    "result_maker(title,scoe,acc)"
   ]
  },
  {
   "cell_type": "code",
   "execution_count": null,
   "metadata": {},
   "outputs": [],
   "source": [
    "filename = ''\n",
    "joblib.sump(,filename)"
   ]
  },
  {
   "cell_type": "code",
   "execution_count": null,
   "metadata": {},
   "outputs": [],
   "source": []
  },
  {
   "cell_type": "markdown",
   "metadata": {},
   "source": [
    "<div style=\"width:100%;height:70px;border: 4px solid black;background-color:#E6BF00;color:white;text-align:center;border-radius: 25px;padding:3px\">\n",
    "    <h1> ExtraTreesClassifier <h1>\n",
    "</div>"
   ]
  },
  {
   "cell_type": "code",
   "execution_count": null,
   "metadata": {},
   "outputs": [],
   "source": []
  },
  {
   "cell_type": "code",
   "execution_count": 27,
   "metadata": {},
   "outputs": [],
   "source": [
    "from sklearn.ensemble import ExtraTreesClassifier"
   ]
  },
  {
   "cell_type": "code",
   "execution_count": 28,
   "metadata": {},
   "outputs": [
    {
     "name": "stdout",
     "output_type": "stream",
     "text": [
      "accuracy: 0.7104766589264856\n",
      "accuracy: 0.7123979861245445\n"
     ]
    },
    {
     "data": {
      "image/png": "[encoded data removed]",
      "text/plain": [
       "<Figure size 432x288 with 2 Axes>"
      ]
     },
     "metadata": {
      "needs_background": "light"
     },
     "output_type": "display_data"
    }
   ],
   "source": [
    "ETC = ExtraTreesClassifier(n_estimators=200)\n",
    "\n",
    "scoe = cross_val_score(ETC,x_train, y_train , cv=5);\n",
    "print('accuracy:',scoe.mean())\n",
    "\n",
    "\n",
    "ETC.fit(x_train, y_train)\n",
    "y_pred = ETC.predict(x_test)\n",
    "\n",
    "acc = accuracy_score(y_test,y_pred)\n",
    "print('accuracy:',acc)\n",
    "\n",
    "cm = confusion_matrix(y_test,y_pred , labels=[0,1])\n",
    "plot_confusion_matrix(cm, names=['bad','good'])\n"
   ]
  },
  {
   "cell_type": "code",
   "execution_count": 29,
   "metadata": {},
   "outputs": [
    {
     "data": {
      "text/plain": [
       "['bigtweets_basicNLP0070_ExtraTreesClassifier.sav']"
      ]
     },
     "execution_count": 29,
     "metadata": {},
     "output_type": "execute_result"
    }
   ],
   "source": [
    "filename = 'bigtweets_basicNLP0070_ExtraTreesClassifier.sav'\n",
    "joblib.dump(ETC,filename)\n",
    "# loaded_model = joblib.load(filename)"
   ]
  },
  {
   "cell_type": "code",
   "execution_count": 30,
   "metadata": {},
   "outputs": [],
   "source": [
    "title = 'ExtraTreesClassifier'\n",
    "result_maker(title,scoe,acc)"
   ]
  },
  {
   "cell_type": "code",
   "execution_count": null,
   "metadata": {},
   "outputs": [],
   "source": []
  },
  {
   "cell_type": "markdown",
   "metadata": {},
   "source": [
    "<div style=\"width:100%;height:70px;border: 4px solid black;background-color:#E6BF00;color:white;text-align:center;border-radius: 25px;padding:3px\">\n",
    "    <h1> XGBRegressor <h1>\n",
    "</div>"
   ]
  },
  {
   "cell_type": "code",
   "execution_count": null,
   "metadata": {},
   "outputs": [],
   "source": []
  },
  {
   "cell_type": "code",
   "execution_count": 31,
   "metadata": {},
   "outputs": [],
   "source": [
    "from sklearn.model_selection import train_test_split, cross_val_score"
   ]
  },
  {
   "cell_type": "code",
   "execution_count": 32,
   "metadata": {},
   "outputs": [
    {
     "name": "stdout",
     "output_type": "stream",
     "text": [
      "accuracy: 0.19710602263470853\n",
      "accuracy: 0.6888138942767668\n"
     ]
    },
    {
     "data": {
      "image/png": "[encoded data removed]",
      "text/plain": [
       "<Figure size 432x288 with 2 Axes>"
      ]
     },
     "metadata": {
      "needs_background": "light"
     },
     "output_type": "display_data"
    }
   ],
   "source": [
    "from xgboost import XGBRegressor\n",
    "\n",
    "model_xgb_Regressor = XGBRegressor(n_estimators=60,early_stopping_rounds='auto',verbose=True,random_state=10)\n",
    "\n",
    "scoe = cross_val_score(model_xgb_Regressor,x_train, y_train , cv=5);\n",
    "print('accuracy:',scoe.mean())\n",
    "\n",
    "model_xgb_Regressor.fit(x_train, y_train)\n",
    "y_pred = model_xgb_Regressor.predict(x_test)\n",
    "for num in range(len(y_pred)):\n",
    "    if y_pred[num]>0.50:\n",
    "        y_pred[num]=1\n",
    "    else:\n",
    "         y_pred[num]=0\n",
    "            \n",
    "\n",
    "acc = accuracy_score(y_test,y_pred)\n",
    "print('accuracy:',acc)\n",
    "\n",
    "cm = confusion_matrix(y_test,y_pred , labels=[0,1])\n",
    "plot_confusion_matrix(cm, names=['bad','good'])"
   ]
  },
  {
   "cell_type": "code",
   "execution_count": 34,
   "metadata": {},
   "outputs": [],
   "source": [
    "title = 'XGBRegressor'\n",
    "result_maker(title,scoe,acc)"
   ]
  },
  {
   "cell_type": "code",
   "execution_count": 33,
   "metadata": {},
   "outputs": [
    {
     "ename": "SyntaxError",
     "evalue": "invalid syntax (<ipython-input-33-b2146320aec3>, line 2)",
     "output_type": "error",
     "traceback": [
      "\u001b[0;36m  File \u001b[0;32m\"<ipython-input-33-b2146320aec3>\"\u001b[0;36m, line \u001b[0;32m2\u001b[0m\n\u001b[0;31m    joblib.sump(,filename)\u001b[0m\n\u001b[0m                ^\u001b[0m\n\u001b[0;31mSyntaxError\u001b[0m\u001b[0;31m:\u001b[0m invalid syntax\n"
     ]
    }
   ],
   "source": [
    "filename = ''\n",
    "joblib.sump(,filename)"
   ]
  },
  {
   "cell_type": "code",
   "execution_count": null,
   "metadata": {},
   "outputs": [],
   "source": []
  },
  {
   "cell_type": "markdown",
   "metadata": {},
   "source": [
    "<div style=\"width:100%;height:70px;border: 4px solid black;background-color:#E6BF00;color:white;text-align:center;border-radius: 25px;padding:3px\">\n",
    "    <h1> KNeighborsClassifier <h1>\n",
    "</div>"
   ]
  },
  {
   "cell_type": "code",
   "execution_count": null,
   "metadata": {},
   "outputs": [],
   "source": []
  },
  {
   "cell_type": "code",
   "execution_count": 35,
   "metadata": {},
   "outputs": [
    {
     "name": "stdout",
     "output_type": "stream",
     "text": [
      "accuracy: 0.6783864048954755\n",
      "accuracy: 0.6888138942767668\n"
     ]
    },
    {
     "data": {
      "image/png": "[encoded data removed]",
      "text/plain": [
       "<Figure size 432x288 with 2 Axes>"
      ]
     },
     "metadata": {
      "needs_background": "light"
     },
     "output_type": "display_data"
    }
   ],
   "source": [
    "from sklearn.neighbors import KNeighborsClassifier\n",
    "kmean = KNeighborsClassifier()\n",
    "scoe = cross_val_score(kmean, x_train, y_train , cv=5);\n",
    "print('accuracy:',scoe.mean())\n",
    "\n",
    "kmean.fit(x_train, y_train)\n",
    "y_pred = model_xgb_Regressor.predict(x_test)\n",
    "for num in range(len(y_pred)):\n",
    "    if y_pred[num]>0.50:\n",
    "        y_pred[num]=1\n",
    "    else:\n",
    "         y_pred[num]=0\n",
    "            \n",
    "acc = accuracy_score(y_test,y_pred)\n",
    "print('accuracy:',acc)\n",
    "\n",
    "cm = confusion_matrix(y_test,y_pred , labels=[0,1])\n",
    "plot_confusion_matrix(cm, names=['bad','good'])"
   ]
  },
  {
   "cell_type": "code",
   "execution_count": 36,
   "metadata": {},
   "outputs": [],
   "source": [
    "title = 'KNeighborsClassifier'\n",
    "result_maker(title,scoe,acc)"
   ]
  },
  {
   "cell_type": "code",
   "execution_count": 37,
   "metadata": {},
   "outputs": [
    {
     "data": {
      "text/plain": [
       "['bigtweets_basicNLP0070_KNeighborsClassifier.sav']"
      ]
     },
     "execution_count": 37,
     "metadata": {},
     "output_type": "execute_result"
    }
   ],
   "source": [
    "filename = 'bigtweets_basicNLP0070_KNeighborsClassifier.sav'\n",
    "joblib.dump(model_xgb_Regressor,filename)"
   ]
  },
  {
   "cell_type": "code",
   "execution_count": null,
   "metadata": {},
   "outputs": [],
   "source": []
  },
  {
   "cell_type": "markdown",
   "metadata": {},
   "source": [
    "<div style=\"width:100%;height:70px;border: 4px solid black;background-color:#E6BF00;color:white;text-align:center;border-radius: 25px;padding:3px\">\n",
    "    <h1> GaussianNB <h1>\n",
    "</div>"
   ]
  },
  {
   "cell_type": "code",
   "execution_count": null,
   "metadata": {},
   "outputs": [],
   "source": []
  },
  {
   "cell_type": "code",
   "execution_count": 41,
   "metadata": {},
   "outputs": [
    {
     "name": "stdout",
     "output_type": "stream",
     "text": [
      "accuracy: 0.6378474524209015\n",
      "accuracy: 0.639337491438938\n"
     ]
    },
    {
     "data": {
      "image/png": "[encoded data removed]",
      "text/plain": [
       "<Figure size 432x288 with 2 Axes>"
      ]
     },
     "metadata": {
      "needs_background": "light"
     },
     "output_type": "display_data"
    }
   ],
   "source": [
    "from sklearn.naive_bayes import GaussianNB\n",
    "GNB = GaussianNB()\n",
    "GNB.fit(x_train, y_train)\n",
    "scoe = cross_val_score(GNB, x_train, y_train , cv=5);\n",
    "print('accuracy:',scoe.mean())\n",
    "\n",
    "GNB.fit(x_train, y_train)\n",
    "y_pred = GNB.predict(x_test)\n",
    "for num in range(len(y_pred)):\n",
    "    if y_pred[num]>0.50:\n",
    "        y_pred[num]=1\n",
    "    else:\n",
    "         y_pred[num]=0\n",
    "            \n",
    "acc = accuracy_score(y_test,y_pred)\n",
    "print('accuracy:',acc)\n",
    "\n",
    "cm = confusion_matrix(y_test,y_pred , labels=[0,1])\n",
    "plot_confusion_matrix(cm, names=['bad','good'])"
   ]
  },
  {
   "cell_type": "code",
   "execution_count": 42,
   "metadata": {},
   "outputs": [],
   "source": [
    "title = ' GaussianNB'\n",
    "result_maker(title,scoe,acc)"
   ]
  },
  {
   "cell_type": "code",
   "execution_count": null,
   "metadata": {},
   "outputs": [],
   "source": [
    "filename = ''\n",
    "joblib.sump(,filename)"
   ]
  },
  {
   "cell_type": "code",
   "execution_count": null,
   "metadata": {},
   "outputs": [],
   "source": []
  },
  {
   "cell_type": "markdown",
   "metadata": {},
   "source": [
    "<div style=\"width:100%;height:70px;border: 4px solid black;background-color:#E6BF00;color:white;text-align:center;border-radius: 25px;padding:3px\">\n",
    "    <h1> DecisionTreeClassifier <h1>\n",
    "</div>"
   ]
  },
  {
   "cell_type": "code",
   "execution_count": null,
   "metadata": {},
   "outputs": [],
   "source": []
  },
  {
   "cell_type": "code",
   "execution_count": 43,
   "metadata": {},
   "outputs": [
    {
     "name": "stdout",
     "output_type": "stream",
     "text": [
      "accuracy: 0.661941311232283\n",
      "accuracy: 0.6633895008704835\n"
     ]
    },
    {
     "data": {
      "image/png": "[encoded data removed]",
      "text/plain": [
       "<Figure size 432x288 with 2 Axes>"
      ]
     },
     "metadata": {
      "needs_background": "light"
     },
     "output_type": "display_data"
    }
   ],
   "source": [
    "from sklearn.tree import DecisionTreeClassifier\n",
    "model_DecisionTree = DecisionTreeClassifier(max_leaf_nodes=300)\n",
    "scoe = cross_val_score(model_DecisionTree, x_train, y_train , cv=5);\n",
    "print('accuracy:',scoe.mean())\n",
    "\n",
    "model_DecisionTree.fit(x_train, y_train)\n",
    "y_pred = model_DecisionTree.predict(x_test)\n",
    "for num in range(len(y_pred)):\n",
    "    if y_pred[num]>0.50:\n",
    "        y_pred[num]=1\n",
    "    else:\n",
    "         y_pred[num]=0\n",
    "            \n",
    "acc = accuracy_score(y_test,y_pred)\n",
    "print('accuracy:',acc)\n",
    "\n",
    "cm = confusion_matrix(y_test,y_pred , labels=[0,1])\n",
    "plot_confusion_matrix(cm, names=['bad','good'])"
   ]
  },
  {
   "cell_type": "code",
   "execution_count": 44,
   "metadata": {},
   "outputs": [],
   "source": [
    "title = 'DecisionTreeClassifier'\n",
    "result_maker(title,scoe,acc)"
   ]
  },
  {
   "cell_type": "code",
   "execution_count": null,
   "metadata": {},
   "outputs": [],
   "source": [
    "filename = ''\n",
    "joblib.sump(,filename)"
   ]
  },
  {
   "cell_type": "code",
   "execution_count": null,
   "metadata": {},
   "outputs": [],
   "source": []
  },
  {
   "cell_type": "markdown",
   "metadata": {},
   "source": [
    "<div style=\"width:100%;height:70px;border: 4px solid black;background-color:#E6BF00;color:white;text-align:center;border-radius: 25px;padding:3px\">\n",
    "    <h1> LinearSVC <h1>\n",
    "</div>"
   ]
  },
  {
   "cell_type": "code",
   "execution_count": null,
   "metadata": {},
   "outputs": [],
   "source": []
  },
  {
   "cell_type": "code",
   "execution_count": 47,
   "metadata": {},
   "outputs": [
    {
     "name": "stdout",
     "output_type": "stream",
     "text": [
      "accuracy: 0.6990793300758066\n",
      "accuracy: 0.7000334600283364\n"
     ]
    },
    {
     "data": {
      "image/png": "[encoded data removed]",
      "text/plain": [
       "<Figure size 432x288 with 2 Axes>"
      ]
     },
     "metadata": {
      "needs_background": "light"
     },
     "output_type": "display_data"
    }
   ],
   "source": [
    "from sklearn.svm import LinearSVC\n",
    "LSVC = LinearSVC()\n",
    "\n",
    "scoe = cross_val_score(LSVC, x_train, y_train , cv=5);\n",
    "print('accuracy:',scoe.mean())\n",
    "\n",
    "LSVC.fit(x_train, y_train)\n",
    "y_pred = LSVC.predict(x_test)\n",
    "for num in range(len(y_pred)):\n",
    "    if y_pred[num]>0.50:\n",
    "        y_pred[num]=1\n",
    "    else:\n",
    "         y_pred[num]=0\n",
    "            \n",
    "acc = accuracy_score(y_test,y_pred)\n",
    "print('accuracy:',acc)\n",
    "\n",
    "cm = confusion_matrix(y_test,y_pred , labels=[0,1])\n",
    "plot_confusion_matrix(cm, names=['bad','good'])"
   ]
  },
  {
   "cell_type": "code",
   "execution_count": 48,
   "metadata": {},
   "outputs": [],
   "source": [
    "title = ' LinearSVC'\n",
    "result_maker(title,scoe,acc)"
   ]
  },
  {
   "cell_type": "code",
   "execution_count": 50,
   "metadata": {},
   "outputs": [
    {
     "data": {
      "text/plain": [
       "['bigtweets_basicNLP0070_LinearSVC.sav']"
      ]
     },
     "execution_count": 50,
     "metadata": {},
     "output_type": "execute_result"
    }
   ],
   "source": [
    "filename = 'bigtweets_basicNLP0070_LinearSVC.sav'\n",
    "joblib.dump(LSVC,filename)"
   ]
  },
  {
   "cell_type": "code",
   "execution_count": null,
   "metadata": {},
   "outputs": [],
   "source": []
  }
 ],
 "metadata": {
  "kernelspec": {
   "display_name": "Python 3",
   "language": "python",
   "name": "python3"
  },
  "language_info": {
   "codemirror_mode": {
    "name": "ipython",
    "version": 3
   },
   "file_extension": ".py",
   "mimetype": "text/x-python",
   "name": "python",
   "nbconvert_exporter": "python",
   "pygments_lexer": "ipython3",
   "version": "3.6.8"
  }
 },
 "nbformat": 4,
 "nbformat_minor": 2
}
