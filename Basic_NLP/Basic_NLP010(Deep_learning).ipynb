{
 "cells": [
  {
   "cell_type": "markdown",
   "metadata": {},
   "source": [
    "<div style=\"width:100%;height:100px;text-align:center;border: 4px solid black;background-color:#E6BF00;color:white\">\n",
    "\n",
    "<header style=\"width:100%;height:100px;\">\n",
    "  <h1><b> Session 003</b></h1>\n",
    "    <h4> Basic Natural language processing </h4>\n",
    "</header>\n",
    "\n",
    "<div> "
   ]
  },
  {
   "cell_type": "code",
   "execution_count": null,
   "metadata": {},
   "outputs": [],
   "source": []
  },
  {
   "cell_type": "markdown",
   "metadata": {},
   "source": [
    "<div style='border: 4px solid #E6BF00;padding:9px;'>\n",
    "\n",
    "By: Farhad Shadmand \n",
    "    \n",
    "https://github.com/farhadsh1992\n",
    "    \n",
    "</div>"
   ]
  },
  {
   "cell_type": "code",
   "execution_count": null,
   "metadata": {},
   "outputs": [],
   "source": []
  },
  {
   "cell_type": "markdown",
   "metadata": {},
   "source": [
    "<div style=\"border: 4px solid #3550B7;background-color:#BFE6FF;color:black;border-radius: 5px;padding:7px\">\n",
    "  <strong> Refrence: </strong><br>\n",
    "\n",
    "Embedding_layer: https://machinelearningmastery.com/use-word-embedding-layers-deep-learning-keras/\n",
    "    \n",
    "<hr>\n",
    "\n",
    "\n",
    "http://nadbordrozd.github.io/blog/2016/05/20/text-classification-with-word2vec/\n",
    "  \n",
    "https://towardsdatascience.com/using-scikit-learn-to-find-bullies-c47a1045d92f\n",
    "    \n",
    "https://www.kaggle.com/eswarbabu88/toxic-comment-glove-logistic-regression\n",
    "    \n",
    "https://www.kaggle.com/stacykurnikova/using-glove-embedding\n",
    "    \n",
    "https://www.kaggle.com/ankitswarnkar/word-embedding-using-glove-vector\n",
    "    \n",
    "https://textminingonline.com/getting-started-with-word2vec-and-glove-in-python\n",
    "    \n",
    "https://markhneedham.com/blog/2018/05/19/interpreting-word2vec-glove-embeddings-sklearn-neo4j-graph-algorithms/\n",
    "    \n",
    "http://nadbordrozd.github.io/blog/2016/05/20/text-classification-with-word2vec/\n",
    "    \n",
    "https://radimrehurek.com/gensim/sklearn_api/w2vmodel.html\n",
    "    \n",
    "https://www.kaggle.com/reiinakano/basic-nlp-bag-of-words-tf-idf-word2vec-lstm\n",
    "    \n",
    "https://github.com/NLPH/NLPH\n",
    "    \n",
    "</div>"
   ]
  },
  {
   "cell_type": "code",
   "execution_count": null,
   "metadata": {},
   "outputs": [],
   "source": []
  },
  {
   "cell_type": "markdown",
   "metadata": {},
   "source": [
    "# Result:"
   ]
  },
  {
   "cell_type": "code",
   "execution_count": null,
   "metadata": {},
   "outputs": [],
   "source": [
    "Reuslt = {}"
   ]
  },
  {
   "cell_type": "code",
   "execution_count": null,
   "metadata": {},
   "outputs": [],
   "source": []
  },
  {
   "cell_type": "markdown",
   "metadata": {},
   "source": [
    "# Load Data:"
   ]
  },
  {
   "cell_type": "code",
   "execution_count": 2,
   "metadata": {},
   "outputs": [],
   "source": [
    "import numpy as np\n",
    "import pandas as pd"
   ]
  },
  {
   "cell_type": "code",
   "execution_count": 3,
   "metadata": {},
   "outputs": [
    {
     "name": "stdout",
     "output_type": "stream",
     "text": [
      "<class 'pandas.core.frame.DataFrame'>\n",
      "RangeIndex: 2816 entries, 0 to 2815\n",
      "Data columns (total 5 columns):\n",
      "created_at          2816 non-null object\n",
      "clean_text          2816 non-null object\n",
      "Price_label(0,1)    2816 non-null int64\n",
      "text                2816 non-null object\n",
      "label               2816 non-null int64\n",
      "dtypes: int64(2), object(3)\n",
      "memory usage: 110.1+ KB\n"
     ]
    }
   ],
   "source": [
    "data_path = '/Users/apple/Documents/Programming/python/Project/data/tweets/2Tesla_label_from_2010-06-29_to_2019-02-26_2019227.csv'\n",
    "#data_path = '/Users/apple/Documents/Programming/python/Project/data/tweets/Secound_CLean_training.1600000.processed.noemoticon.csv'\n",
    "df_data = pd.read_csv(data_path)\n",
    "\n",
    "#df_data = df_data.dropna().reset_index()\n",
    "#df_data['Price_label(0,1)'] = df_data['Price_label(0,1)'].apply(xx)\n",
    "#df_data = df_data.reindex()\n",
    "\n",
    "df_data.info()"
   ]
  },
  {
   "cell_type": "code",
   "execution_count": 4,
   "metadata": {},
   "outputs": [
    {
     "data": {
      "text/html": [
       "<div>\n",
       "<style scoped>\n",
       "    .dataframe tbody tr th:only-of-type {\n",
       "        vertical-align: middle;\n",
       "    }\n",
       "\n",
       "    .dataframe tbody tr th {\n",
       "        vertical-align: top;\n",
       "    }\n",
       "\n",
       "    .dataframe thead th {\n",
       "        text-align: right;\n",
       "    }\n",
       "</style>\n",
       "<table border=\"1\" class=\"dataframe\">\n",
       "  <thead>\n",
       "    <tr style=\"text-align: right;\">\n",
       "      <th></th>\n",
       "      <th>created_at</th>\n",
       "      <th>clean_text</th>\n",
       "      <th>Price_label(0,1)</th>\n",
       "      <th>text</th>\n",
       "      <th>label</th>\n",
       "    </tr>\n",
       "  </thead>\n",
       "  <tbody>\n",
       "    <tr>\n",
       "      <th>0</th>\n",
       "      <td>2010-06-29</td>\n",
       "      <td>trump tusk tesla</td>\n",
       "      <td>1</td>\n",
       "      <td>trump tusk tesla</td>\n",
       "      <td>1</td>\n",
       "    </tr>\n",
       "    <tr>\n",
       "      <th>1</th>\n",
       "      <td>2010-06-29</td>\n",
       "      <td>tesla elon musk may trouble e c want -PRON- ho...</td>\n",
       "      <td>1</td>\n",
       "      <td>tesla elon musk may trouble want hold contempt...</td>\n",
       "      <td>1</td>\n",
       "    </tr>\n",
       "  </tbody>\n",
       "</table>\n",
       "</div>"
      ],
      "text/plain": [
       "   created_at  ... label\n",
       "0  2010-06-29  ...     1\n",
       "1  2010-06-29  ...     1\n",
       "\n",
       "[2 rows x 5 columns]"
      ]
     },
     "execution_count": 4,
     "metadata": {},
     "output_type": "execute_result"
    }
   ],
   "source": [
    "df_data.head(2)"
   ]
  },
  {
   "cell_type": "code",
   "execution_count": null,
   "metadata": {},
   "outputs": [],
   "source": []
  },
  {
   "cell_type": "markdown",
   "metadata": {},
   "source": [
    "<div style=\"width:100%;height:70px;border: 4px solid black;background-color:#E6BF00;color:white;text-align:center;border-radius: 25px;padding:3px\">\n",
    "    <h1> Preprocessing Data: <h1>\n",
    "</div>"
   ]
  },
  {
   "cell_type": "code",
   "execution_count": null,
   "metadata": {},
   "outputs": [],
   "source": []
  },
  {
   "cell_type": "markdown",
   "metadata": {},
   "source": [
    "<div style=\"width:100%;height:40px;border: 4px solid black;background-color:#660099;color:white;text-align:center;border-radius: 25px;padding:3px\">\n",
    "    <h4> Tfidf and PCA </h4>\n",
    "</div>"
   ]
  },
  {
   "cell_type": "code",
   "execution_count": 5,
   "metadata": {},
   "outputs": [],
   "source": [
    "from sklearn.feature_extraction.text import  TfidfVectorizer\n",
    "from sklearn.decomposition import PCA"
   ]
  },
  {
   "cell_type": "code",
   "execution_count": 6,
   "metadata": {},
   "outputs": [
    {
     "name": "stdout",
     "output_type": "stream",
     "text": [
      "Lenght of data: 2816\n",
      "Lenght of data: 18184 18184\n"
     ]
    }
   ],
   "source": [
    "tfidf_vect= TfidfVectorizer(  use_idf=True, smooth_idf=True, sublinear_tf=False, ngram_range=(1,2))\n",
    "data_vectorized = tfidf_vect.fit_transform(df_data['text'])\n",
    "\n",
    "print('Lenght of data:',len(data_vectorized.toarray()))\n",
    "print('Lenght of data:',len(data_vectorized.toarray()[12]),len(data_vectorized.toarray()[22]))"
   ]
  },
  {
   "cell_type": "code",
   "execution_count": 24,
   "metadata": {},
   "outputs": [
    {
     "name": "stdout",
     "output_type": "stream",
     "text": [
      "Lenght of data: 2816\n",
      "Lenght of data: 120 120\n"
     ]
    }
   ],
   "source": [
    "max_length = 120\n",
    "pca_ = PCA(n_components = max_length )\n",
    "viz_data = pca_.fit_transform(data_vectorized.toarray()) \n",
    "\n",
    "print('Lenght of data:',len(viz_data))\n",
    "print('Lenght of data:',len(viz_data[12]),len(viz_data[22]))"
   ]
  },
  {
   "cell_type": "code",
   "execution_count": null,
   "metadata": {},
   "outputs": [],
   "source": []
  },
  {
   "cell_type": "code",
   "execution_count": null,
   "metadata": {},
   "outputs": [],
   "source": []
  },
  {
   "cell_type": "markdown",
   "metadata": {},
   "source": [
    "<div style=\"width:100%;height:40px;border: 4px solid black;background-color:#660099;color:white;text-align:center;border-radius: 25px;padding:3px\">\n",
    "    <h4>  Tweets_50d: </h4>\n",
    "</div>"
   ]
  },
  {
   "cell_type": "code",
   "execution_count": 5,
   "metadata": {},
   "outputs": [],
   "source": [
    "from farhad.TextAwsome import Text_Embadding"
   ]
  },
  {
   "cell_type": "code",
   "execution_count": 5,
   "metadata": {},
   "outputs": [
    {
     "name": "stdout",
     "output_type": "stream",
     "text": [
      " \n",
      "        ------------------------------------------------------------------- \n",
      "\n",
      "        Funcation:\n",
      "        0. model_GLove = Text_Embadding(df.text) \n",
      "        \n",
      "        \n",
      "\u001b[92mChoose one of dicationary below:\u001b[0m\n",
      "        1. model_GLove.Glove_100k_6B_50d()\n",
      "        1. model_GLove.Glove_twitter_27B_25d()\n",
      "        1. model_GLove.Glove_twitter_27B_50d()\n",
      "        1. Glove_datastories_twitter_50d(\n",
      "        \n",
      "\u001b[92mNext:\u001b[0m\n",
      "        2. data_embedding = model_GLove.data2vec()  \n",
      "        3. sent_embedding = model_GLove.sent2vec(text) just for a sentences\n",
      "        \n",
      "\u001b[92mFor saving file:\u001b[0m \n",
      "\n",
      "        4. model_GLove.save_file(name_file_save)\n",
      "        ------------------------------------------------------------------------\n",
      "        \n"
     ]
    }
   ],
   "source": [
    "gl = Text_Embadding()\n",
    "gl.__info__()"
   ]
  },
  {
   "cell_type": "code",
   "execution_count": 6,
   "metadata": {},
   "outputs": [
    {
     "name": "stdout",
     "output_type": "stream",
     "text": [
      "Found 658125 word vectors.\n",
      "Lenght of data: 2816\n",
      "lenght of features: 50\n"
     ]
    }
   ],
   "source": [
    "glove_model = Text_Embadding(df_data.clean_text)\n",
    "glove_model.Glove_datastories_twitter_50d()\n",
    "data_ET50d = glove_model.data2vec()  "
   ]
  },
  {
   "cell_type": "markdown",
   "metadata": {},
   "source": [
    "<div style=\"width:100%;height:40px;border: 4px solid black;background-color:#660099;color:white;text-align:center;border-radius: 25px;padding:3px\">\n",
    "    <h4>   Glove 50d: </h4>\n",
    "</div>"
   ]
  },
  {
   "cell_type": "code",
   "execution_count": null,
   "metadata": {},
   "outputs": [],
   "source": [
    "from farhad.TextAwsome import Text_Embadding"
   ]
  },
  {
   "cell_type": "code",
   "execution_count": 20,
   "metadata": {},
   "outputs": [
    {
     "name": "stdout",
     "output_type": "stream",
     "text": [
      "Found 100000 word vectors.\n",
      "Lenght of data: 2816\n",
      "lenght of features: 50\n"
     ]
    }
   ],
   "source": [
    "glove_model = Text_Embadding(df_data.clean_text)\n",
    "glove_model.Glove_100k_6B_50d()\n",
    "data_EG50d = glove_model.data2vec()  "
   ]
  },
  {
   "cell_type": "code",
   "execution_count": 7,
   "metadata": {},
   "outputs": [
    {
     "data": {
      "text/plain": [
       "{420: 0.0, 551: 0.0, 1517: 0.0}"
      ]
     },
     "execution_count": 7,
     "metadata": {},
     "output_type": "execute_result"
    }
   ],
   "source": [
    "glove_model.problem"
   ]
  },
  {
   "cell_type": "markdown",
   "metadata": {},
   "source": [
    "<div style=\"width:100%;height:40px;border: 4px solid black;background-color:#660099;color:white;text-align:center;border-radius: 25px;padding:3px\">\n",
    "    <h4>  Elmo </h4>\n",
    "</div>"
   ]
  },
  {
   "cell_type": "code",
   "execution_count": null,
   "metadata": {},
   "outputs": [],
   "source": []
  },
  {
   "cell_type": "code",
   "execution_count": null,
   "metadata": {},
   "outputs": [],
   "source": []
  },
  {
   "cell_type": "markdown",
   "metadata": {},
   "source": [
    "<div style=\"width:100%;height:70px;border: 4px solid black;background-color:#E6BF00;color:white;text-align:center;border-radius: 25px;padding:3px\">\n",
    "    <h1> ready for model: <h1>\n",
    "</div>"
   ]
  },
  {
   "cell_type": "code",
   "execution_count": 41,
   "metadata": {},
   "outputs": [],
   "source": []
  },
  {
   "cell_type": "code",
   "execution_count": 9,
   "metadata": {},
   "outputs": [],
   "source": [
    "from sklearn.model_selection import train_test_split"
   ]
  },
  {
   "cell_type": "code",
   "execution_count": 25,
   "metadata": {},
   "outputs": [],
   "source": [
    "x = viz_data \n",
    "y = [i for i in df_data['label']]"
   ]
  },
  {
   "cell_type": "code",
   "execution_count": 26,
   "metadata": {},
   "outputs": [
    {
     "name": "stdout",
     "output_type": "stream",
     "text": [
      "example of y:  [1, 0, 1, 1, 1, 1, 1, 1, 0]\n",
      "example of x: \n",
      " [-1.44406576e-02 -1.02428302e-02  8.70601883e-04 -1.87994750e-02\n",
      " -1.87128661e-02 -6.36210859e-03  1.18902269e-02 -3.59809845e-02\n",
      " -1.39386964e-02 -6.01478773e-03 -1.18264831e-02 -1.90738045e-02\n",
      "  5.21700863e-03 -2.08449402e-02 -5.76037039e-03 -1.23394831e-02\n",
      "  2.88583466e-03 -1.07199564e-02 -3.86469343e-03 -1.48167509e-03\n",
      " -1.21018724e-02 -8.63046239e-03 -2.43923125e-03  1.38177935e-03\n",
      " -5.89859237e-03 -2.13014630e-03 -5.47362369e-03 -6.02661101e-03\n",
      " -3.34197266e-03  8.02120431e-03  7.62507721e-03  1.87468286e-03\n",
      "  1.23625457e-03  2.43374938e-03 -2.44462945e-02  8.16114200e-03\n",
      " -4.91987452e-03 -1.72233770e-03 -1.24309322e-02 -1.74880580e-03\n",
      " -1.04895105e-02  2.42624652e-04  3.02446410e-03  9.60198897e-06\n",
      " -3.51046335e-03 -3.20345898e-03 -5.61651034e-03 -1.90653638e-03\n",
      " -7.50327840e-03  3.16862059e-03  2.11455446e-03  1.21814002e-03\n",
      "  2.14580055e-03  3.43281034e-04  4.08543403e-03 -7.99567104e-03\n",
      " -8.95391123e-04 -3.66435561e-03  1.51938492e-03 -5.54445728e-04\n",
      " -5.61412599e-03 -1.10424572e-03  3.33062831e-03  1.54351618e-03\n",
      " -8.77525544e-03  1.64512753e-03  3.65160288e-03 -6.68042418e-03\n",
      " -1.33371706e-04 -3.21218126e-03 -5.28356803e-03 -6.01689145e-03\n",
      " -3.18371059e-03 -2.84123190e-03 -3.01407178e-03 -3.23307088e-03\n",
      "  1.07172444e-03 -1.87371534e-04 -2.88427925e-03  8.96808822e-03\n",
      " -6.04051519e-03 -4.90488238e-03 -7.09144928e-03  5.20496899e-03\n",
      " -5.02983209e-03 -5.86314445e-04  2.18410085e-03 -3.71473724e-03\n",
      " -5.09197389e-03 -3.22713271e-03 -1.54515095e-03  2.76102471e-03\n",
      " -1.77296779e-03 -1.40382046e-02  1.49961130e-02 -6.14241795e-03\n",
      " -1.12343730e-02 -7.54209658e-03  8.55614090e-04  3.71762094e-03\n",
      " -8.30192759e-03  4.99445757e-03 -1.19519464e-03 -1.75543502e-04\n",
      " -1.15428554e-02 -1.23659622e-03 -1.41995807e-02 -2.16375495e-02\n",
      "  2.63052359e-03 -2.21017140e-04  8.31845545e-03  5.26068502e-03\n",
      " -1.53423874e-02 -7.49503730e-03  6.39297017e-03  8.94632232e-03\n",
      " -2.18363467e-03  7.88819234e-03  6.22317859e-03  2.21813136e-03]\n"
     ]
    }
   ],
   "source": [
    "x_train, x_test, y_train, y_test  = train_test_split(x,y ,test_size=0.20, random_state =32, shuffle=True)\n",
    "\n",
    "print(\"example of y: \", y_train[1:10])\n",
    "print(\"example of x: \\n\", x_train[0])\n"
   ]
  },
  {
   "cell_type": "code",
   "execution_count": null,
   "metadata": {},
   "outputs": [],
   "source": []
  },
  {
   "cell_type": "code",
   "execution_count": null,
   "metadata": {},
   "outputs": [],
   "source": []
  },
  {
   "cell_type": "markdown",
   "metadata": {},
   "source": [
    "<div style=\"width:100%;height:70px;border: 4px solid black;background-color:#E6BF00;color:white;text-align:center;border-radius: 25px;padding:3px\">\n",
    "    <h1> The goal is imrove deep learning model for text analysis here. </h1>\n",
    "</div>"
   ]
  },
  {
   "cell_type": "code",
   "execution_count": null,
   "metadata": {},
   "outputs": [],
   "source": []
  },
  {
   "cell_type": "code",
   "execution_count": 13,
   "metadata": {},
   "outputs": [
    {
     "data": {
      "text/plain": [
       "'  \\nimprove the first pakge for deep_learning_text_analysis, \\nI call it Game_of_thrones :).\\n\\n'"
      ]
     },
     "execution_count": 13,
     "metadata": {},
     "output_type": "execute_result"
    }
   ],
   "source": [
    "\"\"\"  \n",
    "improve the first pakge for deep_learning_text_analysis, \n",
    "I call it Game_of_thrones :).\n",
    "\n",
    "\"\"\""
   ]
  },
  {
   "cell_type": "code",
   "execution_count": 14,
   "metadata": {},
   "outputs": [
    {
     "name": "stderr",
     "output_type": "stream",
     "text": [
      "Using TensorFlow backend.\n"
     ]
    }
   ],
   "source": [
    "from tensorflow.keras.models import Sequential\n",
    "from tensorflow.keras.layers import Dense, Dropout, Embedding, MaxPool1D, GlobalMaxPool1D, LSTM, RNN, Conv1D,Flatten, GlobalAveragePooling1D\n",
    "from tensorflow.keras.callbacks import EarlyStopping,ModelCheckpoint\n",
    "from tensorflow.train import AdamOptimizer\n",
    "\n",
    "from farhad_DL.utility import plot_confusion_matrix\n",
    "from farhad_DL.utils import TimeSummary, plot_training_summary, Estimate_fasterD\n",
    "\n",
    "\n",
    "from sklearn.metrics import confusion_matrix\n",
    "from tensorflow.logging import set_verbosity, ERROR"
   ]
  },
  {
   "cell_type": "code",
   "execution_count": 19,
   "metadata": {},
   "outputs": [],
   "source": [
    "#!mkdir wieght_save"
   ]
  },
  {
   "cell_type": "markdown",
   "metadata": {},
   "source": [
    "<div style=\"width:100%;height:40px;border: 4px solid black;background-color:#B3001E;color:black;text-align:center;border-radius: 25px;padding:3px\">\n",
    "    <h4> first_model, from Training of tensorflow page </h4>\n",
    "</div>"
   ]
  },
  {
   "cell_type": "code",
   "execution_count": null,
   "metadata": {},
   "outputs": [],
   "source": []
  },
  {
   "cell_type": "code",
   "execution_count": 32,
   "metadata": {},
   "outputs": [],
   "source": [
    "def first_model(vocab_size , max_length):\n",
    "    \"\"\"\n",
    "    https://www.youtube.com/watch?v=vPrSca-YjFg&frags=pl%2Cwn\n",
    "    Text classification with movie reviews by google\n",
    "    ----------------------------------------------------------\n",
    "    \n",
    "    \"\"\"\n",
    "    model.add(Embedding(vocab_size, 32, input_length=max_length))# \n",
    "    model.add(GlobalAveragePooling1D())\n",
    "    model.add(Dense(32, activation='relu'))\n",
    "    model.add(Dense(1, activation='sigmoid'))\n",
    "    model.compile(optimizer=AdamOptimizer(), loss='binary_crossentropy', metrics=['acc'])\n",
    "    return model"
   ]
  },
  {
   "cell_type": "code",
   "execution_count": 64,
   "metadata": {},
   "outputs": [
    {
     "name": "stdout",
     "output_type": "stream",
     "text": [
      "[400/400]Training time: 0:00:51.548289(HH:MM:SS)\n",
      "Epoch time avg: 0:00:00.128842(HH:MM:SS)\n"
     ]
    },
    {
     "data": {
      "image/png": "[encoded data removed]",
      "text/plain": [
       "<Figure size 432x288 with 1 Axes>"
      ]
     },
     "metadata": {
      "needs_background": "light"
     },
     "output_type": "display_data"
    },
    {
     "data": {
      "image/png": "[encoded data removed]",
      "text/plain": [
       "<Figure size 432x288 with 1 Axes>"
      ]
     },
     "metadata": {
      "needs_background": "light"
     },
     "output_type": "display_data"
    },
    {
     "name": "stdout",
     "output_type": "stream",
     "text": [
      "Accuracy for glove model: 51.06%\n"
     ]
    }
   ],
   "source": [
    "set_verbosity(ERROR)\n",
    "epochs = 400\n",
    "#max_length= 120\n",
    "vocab_size = 6000\n",
    "\n",
    "monitor = EarlyStopping(monitor='vall_loss',min_delta=1e-3,verbose=0, mode='atuo')\n",
    "checkpoint = ModelCheckpoint(filepath='wieght_save/weights_for_first.hdf5',verbose=0,save_best_only=True)\n",
    "time_summary = TimeSummary()\n",
    "estimetor = Estimate_fasterD(epochs)\n",
    "\n",
    "# embedding_matrix\n",
    "model = first_model(vocab_size , max_length = max_length)\n",
    "history = model.fit(x_train,y_train, validation_split=0.20, batch_size=160 ,verbose=0, epochs=epochs, callbacks=[monitor,checkpoint,time_summary,estimetor])\n",
    "\n",
    "\n",
    "plot_training_summary(history,time_summary)\n",
    "scores = model.evaluate(x_test, y_test, verbose=0)\n",
    "print(\"Accuracy : %.2f%%\" % (scores[1]*100))"
   ]
  },
  {
   "cell_type": "markdown",
   "metadata": {},
   "source": [
    "**The best accuracy: 51.06%**\n",
    ">For:\n",
    "epochs: 100        <br>\n",
    "batch_size: 80    <br>\n",
    "max_length: 50       <br>\n",
    "vocab_size: 10,000 or 6,000     <br>"
   ]
  },
  {
   "cell_type": "code",
   "execution_count": null,
   "metadata": {},
   "outputs": [],
   "source": []
  },
  {
   "cell_type": "markdown",
   "metadata": {},
   "source": [
    "<div style=\"width:100%;height:40px;border: 4px solid black;background-color:#B3001E;color:black;text-align:center;border-radius: 25px;padding:3px\">\n",
    "    <h4> text_DLModel </h4>\n",
    "</div>"
   ]
  },
  {
   "cell_type": "code",
   "execution_count": null,
   "metadata": {},
   "outputs": [],
   "source": []
  },
  {
   "cell_type": "code",
   "execution_count": 45,
   "metadata": {},
   "outputs": [
    {
     "name": "stdout",
     "output_type": "stream",
     "text": [
      "Lenght of data: 2816\n",
      "Lenght of data: 50 50\n"
     ]
    }
   ],
   "source": [
    "max_length = 50\n",
    "pca_ = PCA(n_components = max_length )\n",
    "viz_data = pca_.fit_transform(data_vectorized.toarray()) \n",
    "\n",
    "print('Lenght of data:',len(viz_data))\n",
    "print('Lenght of data:',len(viz_data[12]),len(viz_data[22]))"
   ]
  },
  {
   "cell_type": "code",
   "execution_count": 46,
   "metadata": {},
   "outputs": [],
   "source": [
    "x = viz_data \n",
    "y = [i for i in df_data['label']]\n",
    "x_train, x_test, y_train, y_test  = train_test_split(x,y ,test_size=0.20, random_state =32, shuffle=True)"
   ]
  },
  {
   "cell_type": "code",
   "execution_count": 47,
   "metadata": {},
   "outputs": [],
   "source": [
    "def text_DLModel(vocab_size,max_length ):\n",
    "    model = Sequential()\n",
    "    model.add(Embedding(vocab_size, 32, input_length=max_length))\n",
    "    model.add(Flatten())\n",
    "    model.add(Dropout(0.3))\n",
    "    model.add(Dense(16, activation='relu'))\n",
    "    model.add(Dropout(0.3))\n",
    "    model.add(Dense(8, activation='relu'))\n",
    "    model.add(Dropout(0.3))\n",
    "    model.add(Dense(1, activation='sigmoid'))\n",
    "    # compile the model\n",
    "    model.compile(optimizer='adam', loss='binary_crossentropy', metrics=['acc'])\n",
    "    \n",
    "    return model"
   ]
  },
  {
   "cell_type": "code",
   "execution_count": 53,
   "metadata": {},
   "outputs": [
    {
     "name": "stdout",
     "output_type": "stream",
     "text": [
      "[300/300]Training time: 0:01:04.977488(HH:MM:SS)\n",
      "Epoch time avg: 0:00:00.216556(HH:MM:SS)\n"
     ]
    },
    {
     "data": {
      "image/png": "[encoded data removed]",
      "text/plain": [
       "<Figure size 432x288 with 1 Axes>"
      ]
     },
     "metadata": {
      "needs_background": "light"
     },
     "output_type": "display_data"
    },
    {
     "data": {
      "image/png": "[encoded data removed]",
      "text/plain": [
       "<Figure size 432x288 with 1 Axes>"
      ]
     },
     "metadata": {
      "needs_background": "light"
     },
     "output_type": "display_data"
    },
    {
     "name": "stdout",
     "output_type": "stream",
     "text": [
      "Accuracy for glove model: 51.06%\n"
     ]
    }
   ],
   "source": [
    "set_verbosity(ERROR)\n",
    "epochs = 200\n",
    "max_length= 50\n",
    "vocab_size = 6000\n",
    "\n",
    "monitor = EarlyStopping(monitor='vall_loss',min_delta=1e-3,verbose=0, mode='atuo')\n",
    "checkpoint = ModelCheckpoint(filepath='wieght_save/weights_for_first.hdf5',verbose=0,save_best_only=True)\n",
    "time_summary = TimeSummary()\n",
    "estimetor = Estimate_fasterD(epochs)\n",
    "\n",
    "\n",
    "model = text_DLModel(vocab_size , max_length)\n",
    "history = model.fit(x_train,y_train, validation_split=0.20, batch_size=80 ,verbose=0, epochs=epochs, callbacks=[monitor,checkpoint,time_summary,estimetor])\n",
    "#model.load_weights('wieght_save/weights_for_second__first.hdf5') \n",
    "\n",
    "plot_training_summary(history,time_summary)\n",
    "scores = model.evaluate(x_test, y_test, verbose=0)\n",
    "print(\"Accuracy for glove model: %.2f%%\" % (scores[1]*100))"
   ]
  },
  {
   "cell_type": "code",
   "execution_count": null,
   "metadata": {},
   "outputs": [],
   "source": []
  },
  {
   "cell_type": "markdown",
   "metadata": {},
   "source": [
    "**The best accuracy: 51.06%**\n",
    ">For:\n",
    "epochs: 200        <br>\n",
    "batch_size: 120     <br>\n",
    "max_length: 50       <br>\n",
    "vocab_size: 6000     <br>"
   ]
  },
  {
   "cell_type": "code",
   "execution_count": null,
   "metadata": {},
   "outputs": [],
   "source": []
  },
  {
   "cell_type": "markdown",
   "metadata": {},
   "source": [
    "<div style=\"width:100%;height:40px;border: 4px solid black;background-color:#B3001E;color:black;text-align:center;border-radius: 25px;padding:3px\">\n",
    "    <h4> text_DLModel </h4>\n",
    "</div>"
   ]
  },
  {
   "cell_type": "code",
   "execution_count": null,
   "metadata": {},
   "outputs": [],
   "source": []
  },
  {
   "cell_type": "code",
   "execution_count": 42,
   "metadata": {},
   "outputs": [],
   "source": [
    "def text_DLModel2(vocab_size,max_length ):\n",
    "    model = Sequential()\n",
    "    model.add(Embedding(vocab_size, 120, input_length=max_length))\n",
    "    model.add(Flatten())\n",
    "    model.add(Dropout(0.3))\n",
    "    model.add(Dense(64, activation='relu'))\n",
    "    model.add(Dropout(0.3))\n",
    "    model.add(Dense(32, activation='relu'))\n",
    "    model.add(Dropout(0.3))\n",
    "    model.add(Dense(8, activation='relu'))\n",
    "    model.add(Dropout(0.3))\n",
    "    model.add(Dense(1, activation='sigmoid'))\n",
    "    # compile the model\n",
    "    model.compile(optimizer='adam', loss='binary_crossentropy', metrics=['acc'])\n",
    "    \n",
    "    return model"
   ]
  },
  {
   "cell_type": "code",
   "execution_count": 43,
   "metadata": {},
   "outputs": [
    {
     "name": "stdout",
     "output_type": "stream",
     "text": [
      "[400/400]"
     ]
    }
   ],
   "source": [
    "set_verbosity(ERROR)\n",
    "epochs = 400\n",
    "#max_length= 25\n",
    "vocab_size = 1000\n",
    "\n",
    "monitor = EarlyStopping(monitor='vall_loss',min_delta=1e-3,verbose=0, mode='atuo')\n",
    "checkpoint = ModelCheckpoint(filepath='wieght_save/weights_for_first.hdf5',verbose=0,save_best_only=True)\n",
    "time_summary = TimeSummary()\n",
    "estimetor = Estimate_fasterD(epochs)\n",
    "\n",
    "\n",
    "model = text_DLModel2(vocab_size , max_length)\n",
    "history = model.fit(x_train,y_train, validation_split=0.20, batch_size=80 ,verbose=0, epochs=epochs, callbacks=[monitor,checkpoint,time_summary,estimetor])\n",
    "#model.load_weights('wieght_save/weights_for_second__first.hdf5') "
   ]
  },
  {
   "cell_type": "code",
   "execution_count": 44,
   "metadata": {},
   "outputs": [
    {
     "name": "stdout",
     "output_type": "stream",
     "text": [
      "Training time: 0:13:47.721788(HH:MM:SS)\n",
      "Epoch time avg: 0:00:02.069267(HH:MM:SS)\n"
     ]
    },
    {
     "data": {
      "image/png": "[encoded data removed]",
      "text/plain": [
       "<Figure size 432x288 with 1 Axes>"
      ]
     },
     "metadata": {
      "needs_background": "light"
     },
     "output_type": "display_data"
    },
    {
     "data": {
      "image/png": "[encoded data removed]",
      "text/plain": [
       "<Figure size 432x288 with 1 Axes>"
      ]
     },
     "metadata": {
      "needs_background": "light"
     },
     "output_type": "display_data"
    },
    {
     "name": "stdout",
     "output_type": "stream",
     "text": [
      "Accuracy for glove model: 48.94%\n"
     ]
    }
   ],
   "source": [
    "plot_training_summary(history,time_summary)\n",
    "scores = model.evaluate(x_test, y_test, verbose=0)\n",
    "print(\"Accuracy for glove model: %.2f%%\" % (scores[1]*100))"
   ]
  },
  {
   "cell_type": "markdown",
   "metadata": {},
   "source": [
    "**The best accuracy: 48.94%**"
   ]
  },
  {
   "cell_type": "code",
   "execution_count": null,
   "metadata": {},
   "outputs": [],
   "source": []
  },
  {
   "cell_type": "markdown",
   "metadata": {},
   "source": [
    "<div style=\"width:100%;height:40px;border: 4px solid black;background-color:#B3001E;color:black;text-align:center;border-radius: 25px;padding:3px\">\n",
    "    <h4> semeval2017-task4  </h4>\n",
    "</div>"
   ]
  },
  {
   "cell_type": "code",
   "execution_count": null,
   "metadata": {},
   "outputs": [],
   "source": []
  },
  {
   "cell_type": "markdown",
   "metadata": {},
   "source": [
    "<div style=\"border: 4px solid #B3001E;background-color:#BFE6FF;color:red;border-radius: 5px;padding:7px\">\n",
    "  <strong> Refrence: </strong><br>\n",
    "    \n",
    "https://github.com/cbaziotis/datastories-semeval2017-task4\n",
    "    \n",
    "    \n",
    "</div>"
   ]
  },
  {
   "cell_type": "code",
   "execution_count": 69,
   "metadata": {},
   "outputs": [],
   "source": [
    "from keras.constraints import maxnorm\n",
    "from keras.engine import Input\n",
    "from keras.engine import Model\n",
    "from keras.layers import Dropout, Dense, Bidirectional, \\\n",
    "    LSTM, Embedding, GaussianNoise, Activation, Flatten, \\\n",
    "    RepeatVector, MaxoutDense, GlobalMaxPooling1D, \\\n",
    "    Convolution1D, MaxPooling1D, concatenate, Conv1D\n",
    "from keras.models import Sequential\n",
    "from keras.optimizers import Adam\n",
    "from keras.regularizers import l2\n",
    "#from kutilities.layers import AttentionWithContext, Attention, MeanOverTime\n",
    "from sklearn import preprocessing\n",
    "\n",
    "\n",
    "from abc import ABCMeta, abstractmethod\n",
    "\n",
    "#from frozendict import frozendict\n"
   ]
  },
  {
   "cell_type": "code",
   "execution_count": null,
   "metadata": {},
   "outputs": [],
   "source": [
    "class ResourceManager(metaclass=ABCMeta):\n",
    "    def __init__(self):\n",
    "        self.wv_filename = \"\"\n",
    "        self.parsed_filename = \"\"\n",
    "\n",
    "    @abstractmethod\n",
    "    def write(self):\n",
    "        \"\"\"\n",
    "        parse the raw file/files and write the data to disk\n",
    "        :return:\n",
    "        \"\"\"\n",
    "        pass\n",
    "\n",
    "    @abstractmethod\n",
    "    def read(self):\n",
    "        \"\"\"\n",
    "        read the parsed file from disk\n",
    "        :return:\n",
    "        \"\"\"\n",
    "        pass\n",
    "\n",
    "    def read_hashable(self):\n",
    "        return frozendict(self.read())"
   ]
  },
  {
   "cell_type": "code",
   "execution_count": null,
   "metadata": {},
   "outputs": [],
   "source": [
    "class WordVectorsManager(ResourceManager):\n",
    "    def __init__(self, corpus=None, dim=None, omit_non_english=False):\n",
    "        super().__init__()\n",
    "\n",
    "        self.omit_non_english = omit_non_english\n",
    "        self.wv_filename = \"{}.{}d.txt\".format(corpus, str(dim))\n",
    "        self.parsed_filename = \"{}.{}d.pickle\".format(corpus, str(dim))\n",
    "\n",
    "    def is_ascii(self, text):\n",
    "        try:\n",
    "            text.encode('ascii')\n",
    "            return True\n",
    "        except:\n",
    "            return False\n",
    "\n",
    "    def write(self):\n",
    "        _word_vector_file = os.path.join(os.path.dirname(__file__), self.wv_filename)\n",
    "\n",
    "        if os.path.exists(_word_vector_file):\n",
    "            print('Indexing file {} ...'.format(self.wv_filename))\n",
    "            embeddings_dict = {}\n",
    "            f = open(_word_vector_file, \"r\", encoding=\"utf-8\")\n",
    "            for i, line in enumerate(f):\n",
    "                values = line.split()\n",
    "                word = values[0]\n",
    "                coefs = numpy.asarray(values[1:], dtype='float32')\n",
    "                # if not self.is_ascii(word):\n",
    "                #     print(word)\n",
    "\n",
    "                # if word.lower() in {'<unk>', \"<unknown>\"}:\n",
    "                #     print(word)\n",
    "                #     print(\"UNKNOWN\")\n",
    "                #     print()\n",
    "\n",
    "                if self.omit_non_english and not self.is_ascii(word):\n",
    "                    continue\n",
    "\n",
    "                embeddings_dict[word] = coefs\n",
    "            f.close()\n",
    "            print('Found %s word vectors.' % len(embeddings_dict))\n",
    "\n",
    "            with open(os.path.join(os.path.dirname(__file__), self.parsed_filename), 'wb') as pickle_file:\n",
    "                pickle.dump(embeddings_dict, pickle_file)\n",
    "\n",
    "        else:\n",
    "            print(\"{} not found!\".format(_word_vector_file))\n",
    "            raise FileNotFoundError(\n",
    "                errno.ENOENT, os.strerror(errno.ENOENT), _word_vector_file)\n",
    "\n",
    "    def read(self):\n",
    "        _parsed_file = os.path.join(os.path.dirname(__file__), self.parsed_filename)\n",
    "        if os.path.exists(_parsed_file):\n",
    "            with open(_parsed_file, 'rb') as f:\n",
    "                return pickle.load(f)\n",
    "        else:\n",
    "            self.write()\n",
    "            return self.read()"
   ]
  },
  {
   "cell_type": "code",
   "execution_count": 70,
   "metadata": {},
   "outputs": [],
   "source": [
    "def embeddings_layer(max_length, embeddings, trainable=False, masking=False,\n",
    "                     scale=False, normalize=False):\n",
    "    if scale:\n",
    "        print(\"Scaling embedding weights...\")\n",
    "        embeddings = preprocessing.scale(embeddings)\n",
    "    if normalize:\n",
    "        print(\"Normalizing embedding weights...\")\n",
    "        embeddings = preprocessing.normalize(embeddings)\n",
    "\n",
    "    vocab_size = embeddings.shape[0]\n",
    "    embedding_size = embeddings.shape[1]\n",
    "\n",
    "    _embedding = Embedding(\n",
    "        input_dim=vocab_size,\n",
    "        output_dim=embedding_size,\n",
    "        input_length=max_length if max_length > 0 else None,\n",
    "        trainable=trainable,\n",
    "        mask_zero=masking if max_length > 0 else False,\n",
    "        weights=[embeddings]\n",
    "    )\n",
    "\n",
    "    return _embedding\n",
    "\n",
    "def get_RNN(unit=LSTM, cells=64, bi=False, return_sequences=True, dropout_U=0.,\n",
    "            consume_less='cpu', l2_reg=0):\n",
    "    rnn = unit(cells, return_sequences=return_sequences,\n",
    "               consume_less=consume_less, dropout_U=dropout_U,\n",
    "               W_regularizer=l2(l2_reg))\n",
    "    if bi:\n",
    "        return Bidirectional(rnn)\n",
    "    else:\n",
    "        return rnn\n",
    "def target_RNN(wv, tweet_max_length, aspect_max_length, classes=2, **kwargs):\n",
    "    ######################################################\n",
    "    # HyperParameters\n",
    "    ######################################################\n",
    "    noise = kwargs.get(\"noise\", 0)\n",
    "    trainable = kwargs.get(\"trainable\", False)\n",
    "    rnn_size = kwargs.get(\"rnn_size\", 75)\n",
    "    rnn_type = kwargs.get(\"rnn_type\", LSTM)\n",
    "    final_size = kwargs.get(\"final_size\", 100)\n",
    "    final_type = kwargs.get(\"final_type\", \"linear\")\n",
    "    use_final = kwargs.get(\"use_final\", False)\n",
    "    drop_text_input = kwargs.get(\"drop_text_input\", 0.)\n",
    "    drop_text_rnn = kwargs.get(\"drop_text_rnn\", 0.)\n",
    "    drop_text_rnn_U = kwargs.get(\"drop_text_rnn_U\", 0.)\n",
    "    drop_target_rnn = kwargs.get(\"drop_target_rnn\", 0.)\n",
    "    drop_rep = kwargs.get(\"drop_rep\", 0.)\n",
    "    drop_final = kwargs.get(\"drop_final\", 0.)\n",
    "    activity_l2 = kwargs.get(\"activity_l2\", 0.)\n",
    "    clipnorm = kwargs.get(\"clipnorm\", 5)\n",
    "    bi = kwargs.get(\"bi\", False)\n",
    "    lr = kwargs.get(\"lr\", 0.001)\n",
    "\n",
    "    attention = kwargs.get(\"attention\", \"simple\")\n",
    "    #####################################################\n",
    "    shared_RNN = get_RNN(rnn_type, rnn_size, bi=bi, return_sequences=True,\n",
    "                         dropout_U=drop_text_rnn_U)\n",
    "\n",
    "    input_tweet = Input(shape=[tweet_max_length], dtype='int32')\n",
    "    input_aspect = Input(shape=[aspect_max_length], dtype='int32')\n",
    "\n",
    "    # Embeddings\n",
    "    tweets_emb = embeddings_layer(max_length=tweet_max_length, embeddings=wv, trainable=trainable, masking=True)(input_tweet)\n",
    "    tweets_emb = GaussianNoise(noise)(tweets_emb)\n",
    "    tweets_emb = Dropout(drop_text_input)(tweets_emb)\n",
    "\n",
    "    aspects_emb = embeddings_layer(max_length=aspect_max_length, embeddings=wv,\n",
    "                                   trainable=trainable, masking=True)(\n",
    "        input_aspect)\n",
    "    aspects_emb = GaussianNoise(noise)(aspects_emb)\n",
    "\n",
    "    # Recurrent NN\n",
    "    h_tweets = shared_RNN(tweets_emb)\n",
    "    h_tweets = Dropout(drop_text_rnn)(h_tweets)\n",
    "\n",
    "    h_aspects = shared_RNN(aspects_emb)\n",
    "    h_aspects = Dropout(drop_target_rnn)(h_aspects)\n",
    "    h_aspects = MeanOverTime()(h_aspects)\n",
    "    h_aspects = RepeatVector(tweet_max_length)(h_aspects)\n",
    "\n",
    "    # Merge of Aspect + Tweet\n",
    "    representation = concatenate([h_tweets, h_aspects])\n",
    "\n",
    "    # apply attention over the hidden outputs of the RNN's\n",
    "    att_layer = AttentionWithContext if attention == \"context\" else Attention\n",
    "    representation = att_layer()(representation)\n",
    "    representation = Dropout(drop_rep)(representation)\n",
    "\n",
    "    if use_final:\n",
    "        if final_type == \"maxout\":\n",
    "            representation = MaxoutDense(final_size)(representation)\n",
    "        else:\n",
    "            representation = Dense(final_size, activation=final_type)(\n",
    "                representation)\n",
    "        representation = Dropout(drop_final)(representation)\n",
    "\n",
    "    ######################################################\n",
    "    # Probabilities\n",
    "    ######################################################\n",
    "    probabilities = Dense(1 if classes == 2 else classes,\n",
    "                          activation=\"sigmoid\" if classes == 2 else \"softmax\",\n",
    "                          activity_regularizer=l2(activity_l2))(representation)\n",
    "\n",
    "    model = Model(input=[input_aspect, input_tweet], output=probabilities)\n",
    "\n",
    "    loss = \"binary_crossentropy\" if classes == 2 else \"categorical_crossentropy\"\n",
    "    model.compile(optimizer=Adam(clipnorm=clipnorm, lr=lr), loss=loss)\n",
    "    return model"
   ]
  },
  {
   "cell_type": "code",
   "execution_count": null,
   "metadata": {},
   "outputs": [],
   "source": [
    "def embeddings_layer(max_length, embeddings, trainable=False, masking=False, scale=False, normalize=False):\n",
    "    if scale:\n",
    "        print(\"Scaling embedding weights...\")\n",
    "        embeddings = preprocessing.scale(embeddings)\n",
    "    if normalize:\n",
    "        print(\"Normalizing embedding weights...\")\n",
    "        embeddings = preprocessing.normalize(embeddings)\n",
    "\n",
    "    vocab_size = embeddings.shape[0]\n",
    "    embedding_size = embeddings.shape[1]\n",
    "\n",
    "    _embedding = Embedding(\n",
    "        input_dim=vocab_size,\n",
    "        output_dim=embedding_size,\n",
    "        input_length=max_length if max_length > 0 else None,\n",
    "        trainable=trainable,\n",
    "        mask_zero=masking if max_length > 0 else False,\n",
    "        weights=[embeddings]\n",
    "    )\n",
    "\n",
    "    return _embedding\n",
    "\n",
    "\n",
    "def model_sk4():\n",
    "    input_tweet = Input(shape=[tweet_max_length], dtype='int32')\n",
    "    # input_aspect = Input(shape=[aspect_max_length], dtype='int32')\n",
    "    \n",
    "    # Embeddings\n",
    "    tweets_emb = embeddings_layer(max_length=tweet_max_length, embeddings=wv, trainable=trainable, masking=True)(input_tweet)\n",
    "    tweets_emb = GaussianNoise(noise)(tweets_emb)\n",
    "    tweets_emb = Dropout(drop_text_input)(tweets_emb)\n",
    "    \n",
    "    #aspects_emb = embeddings_layer(max_length=aspect_max_length, embeddings=wv,trainable=trainable, masking=True)(input_aspect)\n",
    "    #aspects_emb = GaussianNoise(noise)(aspects_emb)\n",
    "    \n",
    "    # Merge of Aspect + Tweet\n",
    "    #representation = concatenate([h_tweets, h_aspects])"
   ]
  },
  {
   "cell_type": "code",
   "execution_count": 71,
   "metadata": {},
   "outputs": [],
   "source": [
    "def target_RNN(wv, tweet_max_length, aspect_max_length, classes=2, **kwargs):\n",
    "    ######################################################\n",
    "    # HyperParameters\n",
    "    ######################################################\n",
    "    noise = kwargs.get(\"noise\", 0)\n",
    "    trainable = kwargs.get(\"trainable\", False)\n",
    "    rnn_size = kwargs.get(\"rnn_size\", 75)\n",
    "    rnn_type = kwargs.get(\"rnn_type\", LSTM)\n",
    "    final_size = kwargs.get(\"final_size\", 100)\n",
    "    final_type = kwargs.get(\"final_type\", \"linear\")\n",
    "    use_final = kwargs.get(\"use_final\", False)\n",
    "    drop_text_input = kwargs.get(\"drop_text_input\", 0.)\n",
    "    drop_text_rnn = kwargs.get(\"drop_text_rnn\", 0.)\n",
    "    drop_text_rnn_U = kwargs.get(\"drop_text_rnn_U\", 0.)\n",
    "    drop_target_rnn = kwargs.get(\"drop_target_rnn\", 0.)\n",
    "    drop_rep = kwargs.get(\"drop_rep\", 0.)\n",
    "    drop_final = kwargs.get(\"drop_final\", 0.)\n",
    "    activity_l2 = kwargs.get(\"activity_l2\", 0.)\n",
    "    clipnorm = kwargs.get(\"clipnorm\", 5)\n",
    "    bi = kwargs.get(\"bi\", False)\n",
    "    lr = kwargs.get(\"lr\", 0.001)\n",
    "\n",
    "    attention = kwargs.get(\"attention\", \"simple\")\n",
    "    #####################################################\n",
    "    shared_RNN = get_RNN(rnn_type, rnn_size, bi=bi, return_sequences=True,\n",
    "                         dropout_U=drop_text_rnn_U)\n",
    "\n",
    "    input_tweet = Input(shape=[tweet_max_length], dtype='int32')\n",
    "    input_aspect = Input(shape=[aspect_max_length], dtype='int32')\n",
    "\n",
    "    # Embeddings\n",
    "    tweets_emb = embeddings_layer(max_length=tweet_max_length, embeddings=wv,\n",
    "                                  trainable=trainable, masking=True)(\n",
    "        input_tweet)\n",
    "    tweets_emb = GaussianNoise(noise)(tweets_emb)\n",
    "    tweets_emb = Dropout(drop_text_input)(tweets_emb)\n",
    "\n",
    "    aspects_emb = embeddings_layer(max_length=aspect_max_length, embeddings=wv,\n",
    "                                   trainable=trainable, masking=True)(\n",
    "        input_aspect)\n",
    "    aspects_emb = GaussianNoise(noise)(aspects_emb)\n",
    "\n",
    "    # Recurrent NN\n",
    "    h_tweets = shared_RNN(tweets_emb)\n",
    "    h_tweets = Dropout(drop_text_rnn)(h_tweets)\n",
    "\n",
    "    h_aspects = shared_RNN(aspects_emb)\n",
    "    h_aspects = Dropout(drop_target_rnn)(h_aspects)\n",
    "    h_aspects = MeanOverTime()(h_aspects)\n",
    "    h_aspects = RepeatVector(tweet_max_length)(h_aspects)\n",
    "\n",
    "    # Merge of Aspect + Tweet\n",
    "    representation = concatenate([h_tweets, h_aspects])\n",
    "\n",
    "    # apply attention over the hidden outputs of the RNN's\n",
    "    att_layer = AttentionWithContext if attention == \"context\" else Attention\n",
    "    representation = att_layer()(representation)\n",
    "    representation = Dropout(drop_rep)(representation)\n",
    "\n",
    "    if use_final:\n",
    "        if final_type == \"maxout\":\n",
    "            representation = MaxoutDense(final_size)(representation)\n",
    "        else:\n",
    "            representation = Dense(final_size, activation=final_type)(\n",
    "                representation)\n",
    "        representation = Dropout(drop_final)(representation)\n",
    "\n",
    "    ######################################################\n",
    "    # Probabilities\n",
    "    ######################################################\n",
    "    probabilities = Dense(1 if classes == 2 else classes,\n",
    "                          activation=\"sigmoid\" if classes == 2 else \"softmax\",\n",
    "                          activity_regularizer=l2(activity_l2))(representation)\n",
    "\n",
    "    model = Model(input=[input_aspect, input_tweet], output=probabilities)\n",
    "\n",
    "    loss = \"binary_crossentropy\" if classes == 2 else \"categorical_crossentropy\"\n",
    "    model.compile(optimizer=Adam(clipnorm=clipnorm, lr=lr), loss=loss)\n",
    "    return model"
   ]
  },
  {
   "cell_type": "code",
   "execution_count": 74,
   "metadata": {},
   "outputs": [
    {
     "ename": "NameError",
     "evalue": "name 'kwargs' is not defined",
     "output_type": "error",
     "traceback": [
      "\u001b[0;31m---------------------------------------------------------------------------\u001b[0m",
      "\u001b[0;31mNameError\u001b[0m                                 Traceback (most recent call last)",
      "\u001b[0;32m<ipython-input-74-6f39f0d543b9>\u001b[0m in \u001b[0;36m<module>\u001b[0;34m\u001b[0m\n\u001b[0;32m----> 1\u001b[0;31m \u001b[0mtarget_RNN\u001b[0m\u001b[0;34m(\u001b[0m\u001b[0mx_train\u001b[0m\u001b[0;34m,\u001b[0m \u001b[0mmax_length\u001b[0m\u001b[0;34m,\u001b[0m \u001b[0mmax_length\u001b[0m\u001b[0;34m,\u001b[0m \u001b[0mclasses\u001b[0m\u001b[0;34m=\u001b[0m\u001b[0;36m2\u001b[0m\u001b[0;34m,\u001b[0m \u001b[0;34m**\u001b[0m\u001b[0mkwargs\u001b[0m\u001b[0;34m)\u001b[0m\u001b[0;34m\u001b[0m\u001b[0;34m\u001b[0m\u001b[0m\n\u001b[0m",
      "\u001b[0;31mNameError\u001b[0m: name 'kwargs' is not defined"
     ]
    }
   ],
   "source": [
    "target_RNN(x_train, max_length, max_length, classes=2, **kwargs)"
   ]
  },
  {
   "cell_type": "code",
   "execution_count": null,
   "metadata": {},
   "outputs": [],
   "source": []
  },
  {
   "cell_type": "markdown",
   "metadata": {},
   "source": [
    "<div style=\"width:100%;height:40px;border: 4px solid black;background-color:#B3001E;color:black;text-align:center;border-radius: 25px;padding:3px\">\n",
    "    <h4>  </h4>\n",
    "</div>"
   ]
  },
  {
   "cell_type": "code",
   "execution_count": null,
   "metadata": {},
   "outputs": [],
   "source": []
  },
  {
   "cell_type": "code",
   "execution_count": 26,
   "metadata": {},
   "outputs": [],
   "source": [
    "def model_Tweets50(input_dim, output_dim=64):\n",
    "    \"\"\"\n",
    "    input_dim : Size of the vocabulary\n",
    "    output_dim: Dimension of the dense embedding.\n",
    "    input_length: Length of input sequences\n",
    "    \n",
    "    \"\"\"\n",
    "    model = Sequential()\n",
    "    model.add(Embedding(input_dim, output_dim))\n",
    "    model.add(GlobalAveragePooling1D())\n",
    "    \n",
    "    #model.add(LSTM(32))\n",
    "    model.add(Dense(output_dim, activation='relu'))\n",
    "    model.add(Dropout(0.2))\n",
    "    #model.add(Dense(16, activation='relu'))\n",
    "    #model.add(Dropout(0.2))\n",
    "    model.add(Dense(1, activation='sigmoid'))\n",
    "    \n",
    "    model.compile(optimizer = 'Adam',loss='binary_crossentropy',metrics=['accuracy'])\n",
    "    \n",
    "    return model"
   ]
  },
  {
   "cell_type": "code",
   "execution_count": 30,
   "metadata": {},
   "outputs": [
    {
     "ename": "ValueError",
     "evalue": "Error when checking model input: the list of Numpy arrays that you are passing to your model is not the size the model expected. Expected to see 1 array(s), but instead got the following list of 2252 arrays: [array([[-0.04597766],\n       [ 0.07539941],\n       [-0.11853474],\n       [ 0.06086664],\n       [ 0.00437364],\n       [-0.15323256],\n       [-0.07096647],\n       [ 0.019163  ],\n       [-0.00217626],\n ...",
     "output_type": "error",
     "traceback": [
      "\u001b[0;31m---------------------------------------------------------------------------\u001b[0m",
      "\u001b[0;31mValueError\u001b[0m                                Traceback (most recent call last)",
      "\u001b[0;32m<ipython-input-30-e09320e25a6e>\u001b[0m in \u001b[0;36m<module>\u001b[0;34m\u001b[0m\n\u001b[1;32m      9\u001b[0m \u001b[0;31m# embedding_matrix\u001b[0m\u001b[0;34m\u001b[0m\u001b[0;34m\u001b[0m\u001b[0;34m\u001b[0m\u001b[0m\n\u001b[1;32m     10\u001b[0m \u001b[0mmodel\u001b[0m \u001b[0;34m=\u001b[0m \u001b[0mmodel_Tweets50\u001b[0m\u001b[0;34m(\u001b[0m\u001b[0minput_dim\u001b[0m \u001b[0;34m=\u001b[0m \u001b[0;36m2252\u001b[0m \u001b[0;34m)\u001b[0m\u001b[0;34m\u001b[0m\u001b[0;34m\u001b[0m\u001b[0m\n\u001b[0;32m---> 11\u001b[0;31m \u001b[0mhistory\u001b[0m \u001b[0;34m=\u001b[0m \u001b[0mmodel\u001b[0m\u001b[0;34m.\u001b[0m\u001b[0mfit\u001b[0m\u001b[0;34m(\u001b[0m\u001b[0mx_train\u001b[0m\u001b[0;34m,\u001b[0m\u001b[0my_train\u001b[0m\u001b[0;34m,\u001b[0m \u001b[0mvalidation_split\u001b[0m\u001b[0;34m=\u001b[0m\u001b[0;36m0.20\u001b[0m\u001b[0;34m,\u001b[0m \u001b[0mbatch_size\u001b[0m\u001b[0;34m=\u001b[0m\u001b[0;36m32\u001b[0m \u001b[0;34m,\u001b[0m\u001b[0mverbose\u001b[0m\u001b[0;34m=\u001b[0m\u001b[0;36m1\u001b[0m\u001b[0;34m,\u001b[0m \u001b[0mepochs\u001b[0m\u001b[0;34m=\u001b[0m\u001b[0mepochs\u001b[0m\u001b[0;34m,\u001b[0m \u001b[0mcallbacks\u001b[0m\u001b[0;34m=\u001b[0m\u001b[0;34m[\u001b[0m\u001b[0mmonitor\u001b[0m\u001b[0;34m,\u001b[0m\u001b[0mcheckpoint\u001b[0m\u001b[0;34m,\u001b[0m\u001b[0mtime_summary\u001b[0m\u001b[0;34m,\u001b[0m\u001b[0mestimetor\u001b[0m\u001b[0;34m]\u001b[0m\u001b[0;34m)\u001b[0m\u001b[0;34m\u001b[0m\u001b[0;34m\u001b[0m\u001b[0m\n\u001b[0m\u001b[1;32m     12\u001b[0m \u001b[0mmodel\u001b[0m\u001b[0;34m.\u001b[0m\u001b[0mload_weights\u001b[0m\u001b[0;34m(\u001b[0m\u001b[0;34m'wieght_save/weights_for_second__first.hdf5'\u001b[0m\u001b[0;34m)\u001b[0m\u001b[0;34m\u001b[0m\u001b[0;34m\u001b[0m\u001b[0m\n",
      "\u001b[0;32m/anaconda3/lib/python3.6/site-packages/tensorflow/python/keras/engine/training.py\u001b[0m in \u001b[0;36mfit\u001b[0;34m(self, x, y, batch_size, epochs, verbose, callbacks, validation_split, validation_data, shuffle, class_weight, sample_weight, initial_epoch, steps_per_epoch, validation_steps, **kwargs)\u001b[0m\n\u001b[1;32m   1276\u001b[0m         \u001b[0msteps_name\u001b[0m\u001b[0;34m=\u001b[0m\u001b[0;34m'steps_per_epoch'\u001b[0m\u001b[0;34m,\u001b[0m\u001b[0;34m\u001b[0m\u001b[0;34m\u001b[0m\u001b[0m\n\u001b[1;32m   1277\u001b[0m         \u001b[0msteps\u001b[0m\u001b[0;34m=\u001b[0m\u001b[0msteps_per_epoch\u001b[0m\u001b[0;34m,\u001b[0m\u001b[0;34m\u001b[0m\u001b[0;34m\u001b[0m\u001b[0m\n\u001b[0;32m-> 1278\u001b[0;31m         validation_split=validation_split)\n\u001b[0m\u001b[1;32m   1279\u001b[0m \u001b[0;34m\u001b[0m\u001b[0m\n\u001b[1;32m   1280\u001b[0m     \u001b[0;31m# Prepare validation data.\u001b[0m\u001b[0;34m\u001b[0m\u001b[0;34m\u001b[0m\u001b[0;34m\u001b[0m\u001b[0m\n",
      "\u001b[0;32m/anaconda3/lib/python3.6/site-packages/tensorflow/python/keras/engine/training.py\u001b[0m in \u001b[0;36m_standardize_user_data\u001b[0;34m(self, x, y, sample_weight, class_weight, batch_size, check_steps, steps_name, steps, validation_split)\u001b[0m\n\u001b[1;32m    876\u001b[0m         \u001b[0mfeed_input_shapes\u001b[0m\u001b[0;34m,\u001b[0m\u001b[0;34m\u001b[0m\u001b[0;34m\u001b[0m\u001b[0m\n\u001b[1;32m    877\u001b[0m         \u001b[0mcheck_batch_axis\u001b[0m\u001b[0;34m=\u001b[0m\u001b[0;32mFalse\u001b[0m\u001b[0;34m,\u001b[0m  \u001b[0;31m# Don't enforce the batch size.\u001b[0m\u001b[0;34m\u001b[0m\u001b[0;34m\u001b[0m\u001b[0m\n\u001b[0;32m--> 878\u001b[0;31m         exception_prefix='input')\n\u001b[0m\u001b[1;32m    879\u001b[0m \u001b[0;34m\u001b[0m\u001b[0m\n\u001b[1;32m    880\u001b[0m     \u001b[0;32mif\u001b[0m \u001b[0my\u001b[0m \u001b[0;32mis\u001b[0m \u001b[0;32mnot\u001b[0m \u001b[0;32mNone\u001b[0m\u001b[0;34m:\u001b[0m\u001b[0;34m\u001b[0m\u001b[0;34m\u001b[0m\u001b[0m\n",
      "\u001b[0;32m/anaconda3/lib/python3.6/site-packages/tensorflow/python/keras/engine/training_utils.py\u001b[0m in \u001b[0;36mstandardize_input_data\u001b[0;34m(data, names, shapes, check_batch_axis, exception_prefix)\u001b[0m\n\u001b[1;32m    150\u001b[0m                        \u001b[0;34m'Expected to see '\u001b[0m \u001b[0;34m+\u001b[0m \u001b[0mstr\u001b[0m\u001b[0;34m(\u001b[0m\u001b[0mlen\u001b[0m\u001b[0;34m(\u001b[0m\u001b[0mnames\u001b[0m\u001b[0;34m)\u001b[0m\u001b[0;34m)\u001b[0m \u001b[0;34m+\u001b[0m \u001b[0;34m' array(s), '\u001b[0m\u001b[0;34m\u001b[0m\u001b[0;34m\u001b[0m\u001b[0m\n\u001b[1;32m    151\u001b[0m                        \u001b[0;34m'but instead got the following list of '\u001b[0m \u001b[0;34m+\u001b[0m\u001b[0;34m\u001b[0m\u001b[0;34m\u001b[0m\u001b[0m\n\u001b[0;32m--> 152\u001b[0;31m                        str(len(data)) + ' arrays: ' + str(data)[:200] + '...')\n\u001b[0m\u001b[1;32m    153\u001b[0m     \u001b[0;32melif\u001b[0m \u001b[0mlen\u001b[0m\u001b[0;34m(\u001b[0m\u001b[0mnames\u001b[0m\u001b[0;34m)\u001b[0m \u001b[0;34m>\u001b[0m \u001b[0;36m1\u001b[0m\u001b[0;34m:\u001b[0m\u001b[0;34m\u001b[0m\u001b[0;34m\u001b[0m\u001b[0m\n\u001b[1;32m    154\u001b[0m       raise ValueError(\n",
      "\u001b[0;31mValueError\u001b[0m: Error when checking model input: the list of Numpy arrays that you are passing to your model is not the size the model expected. Expected to see 1 array(s), but instead got the following list of 2252 arrays: [array([[-0.04597766],\n       [ 0.07539941],\n       [-0.11853474],\n       [ 0.06086664],\n       [ 0.00437364],\n       [-0.15323256],\n       [-0.07096647],\n       [ 0.019163  ],\n       [-0.00217626],\n ..."
     ]
    }
   ],
   "source": [
    "set_verbosity(ERROR)\n",
    "epochs = 3\n",
    "\n",
    "monitor = EarlyStopping(monitor='vall_loss',min_delta=1e-3,verbose=0, mode='atuo')\n",
    "checkpoint = ModelCheckpoint(filepath='wieght_save/weights_for_first.hdf5',verbose=0,save_best_only=True)\n",
    "time_summary = TimeSummary()\n",
    "estimetor = Estimate_fasterD(epochs)\n",
    "\n",
    "# embedding_matrix\n",
    "model = model_Tweets50(input_dim = 2252 )\n",
    "history = model.fit(x_train,y_train, validation_split=0.20, batch_size=32 ,verbose=1, epochs=epochs, callbacks=[monitor,checkpoint,time_summary,estimetor])\n",
    "model.load_weights('wieght_save/weights_for_second__first.hdf5') "
   ]
  },
  {
   "cell_type": "code",
   "execution_count": null,
   "metadata": {},
   "outputs": [],
   "source": [
    "model.add(Conv1D(, activation='relu'))\n",
    "    model.add(MaxPool1D(pool_size=2))#MaxPooling1D(pool_size=2)\n",
    "    \n",
    "    model.add(LSTM(32))\n",
    "    model.add(Dense(vocabulary_size, activation='relu'))\n",
    "    model.add(Dropout(0.2))\n",
    "    model.add(Dense(16, activation='relu'))"
   ]
  }
 ],
 "metadata": {
  "kernelspec": {
   "display_name": "Python 3",
   "language": "python",
   "name": "python3"
  },
  "language_info": {
   "codemirror_mode": {
    "name": "ipython",
    "version": 3
   },
   "file_extension": ".py",
   "mimetype": "text/x-python",
   "name": "python",
   "nbconvert_exporter": "python",
   "pygments_lexer": "ipython3",
   "version": "3.6.8"
  }
 },
 "nbformat": 4,
 "nbformat_minor": 2
}
