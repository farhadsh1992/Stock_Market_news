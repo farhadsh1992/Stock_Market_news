{
 "cells": [
  {
   "cell_type": "markdown",
   "metadata": {},
   "source": [
    "<div style=\"width:100%;height:100px;text-align:center;border: 4px solid black;background-color:#E6BF00;color:white\">\n",
    "\n",
    "<header style=\"width:100%;height:100px;\">\n",
    "  <h1><b> Session 003</b></h1>\n",
    "    <h4> Basic Natural language processing </h4>\n",
    "</header>\n",
    "\n",
    "<div> "
   ]
  },
  {
   "cell_type": "code",
   "execution_count": null,
   "metadata": {},
   "outputs": [],
   "source": []
  },
  {
   "cell_type": "markdown",
   "metadata": {},
   "source": [
    "<div style='border: 4px solid #E6BF00;padding:9px;'>\n",
    "\n",
    "By: Farhad Shadmand \n",
    "    \n",
    "https://github.com/farhadsh1992\n",
    "    \n",
    "</div>"
   ]
  },
  {
   "cell_type": "code",
   "execution_count": null,
   "metadata": {},
   "outputs": [],
   "source": []
  },
  {
   "cell_type": "markdown",
   "metadata": {},
   "source": [
    "<div style=\"border: 4px solid #3550B7;background-color:#BFE6FF;color:black;border-radius: 5px;padding:7px\">\n",
    "  <strong> Refrence: </strong><br>\n",
    "\n",
    "\n",
    "\n",
    "http://nadbordrozd.github.io/blog/2016/05/20/text-classification-with-word2vec/\n",
    "  \n",
    "https://towardsdatascience.com/using-scikit-learn-to-find-bullies-c47a1045d92f\n",
    "    \n",
    "https://www.kaggle.com/eswarbabu88/toxic-comment-glove-logistic-regression\n",
    "    \n",
    "https://www.kaggle.com/stacykurnikova/using-glove-embedding\n",
    "    \n",
    "https://www.kaggle.com/ankitswarnkar/word-embedding-using-glove-vector\n",
    "    \n",
    "https://textminingonline.com/getting-started-with-word2vec-and-glove-in-python\n",
    "    \n",
    "https://markhneedham.com/blog/2018/05/19/interpreting-word2vec-glove-embeddings-sklearn-neo4j-graph-algorithms/\n",
    "    \n",
    "http://nadbordrozd.github.io/blog/2016/05/20/text-classification-with-word2vec/\n",
    "    \n",
    "https://radimrehurek.com/gensim/sklearn_api/w2vmodel.html\n",
    "    \n",
    "https://www.kaggle.com/reiinakano/basic-nlp-bag-of-words-tf-idf-word2vec-lstm\n",
    "    \n",
    "</div>"
   ]
  },
  {
   "cell_type": "code",
   "execution_count": null,
   "metadata": {},
   "outputs": [],
   "source": []
  },
  {
   "cell_type": "markdown",
   "metadata": {},
   "source": [
    "<div style=\"width:100%;height:70px;border: 4px solid black;background-color:#E6BF00;color:white;text-align:center;border-radius: 25px;padding:3px\">\n",
    "    <h1>  Result of ML <h1>\n",
    "</div>"
   ]
  },
  {
   "cell_type": "code",
   "execution_count": null,
   "metadata": {},
   "outputs": [],
   "source": []
  },
  {
   "cell_type": "code",
   "execution_count": 28,
   "metadata": {},
   "outputs": [
    {
     "data": {
      "text/html": [
       "<div>\n",
       "<style scoped>\n",
       "    .dataframe tbody tr th:only-of-type {\n",
       "        vertical-align: middle;\n",
       "    }\n",
       "\n",
       "    .dataframe tbody tr th {\n",
       "        vertical-align: top;\n",
       "    }\n",
       "\n",
       "    .dataframe thead th {\n",
       "        text-align: right;\n",
       "    }\n",
       "</style>\n",
       "<table border=\"1\" class=\"dataframe\">\n",
       "  <thead>\n",
       "    <tr style=\"text-align: right;\">\n",
       "      <th></th>\n",
       "      <th>title</th>\n",
       "      <th>cross_validation_train</th>\n",
       "      <th>accuracy_test</th>\n",
       "    </tr>\n",
       "  </thead>\n",
       "  <tbody>\n",
       "    <tr>\n",
       "      <th>2</th>\n",
       "      <td>XGBRegressor</td>\n",
       "      <td>-0.021116</td>\n",
       "      <td>0.484043</td>\n",
       "    </tr>\n",
       "    <tr>\n",
       "      <th>3</th>\n",
       "      <td>KNeighborsClassifier</td>\n",
       "      <td>0.506652</td>\n",
       "      <td>0.484043</td>\n",
       "    </tr>\n",
       "    <tr>\n",
       "      <th>6</th>\n",
       "      <td>LinearSVC</td>\n",
       "      <td>0.510195</td>\n",
       "      <td>0.480496</td>\n",
       "    </tr>\n",
       "    <tr>\n",
       "      <th>0</th>\n",
       "      <td>LogisticRegression</td>\n",
       "      <td>0.512417</td>\n",
       "      <td>0.478723</td>\n",
       "    </tr>\n",
       "    <tr>\n",
       "      <th>4</th>\n",
       "      <td>GaussianNB</td>\n",
       "      <td>0.513749</td>\n",
       "      <td>0.505319</td>\n",
       "    </tr>\n",
       "    <tr>\n",
       "      <th>1</th>\n",
       "      <td>ExtraTreesClassifier</td>\n",
       "      <td>0.516858</td>\n",
       "      <td>0.480496</td>\n",
       "    </tr>\n",
       "    <tr>\n",
       "      <th>5</th>\n",
       "      <td>DecisionTreeClassifier</td>\n",
       "      <td>0.517753</td>\n",
       "      <td>0.462766</td>\n",
       "    </tr>\n",
       "  </tbody>\n",
       "</table>\n",
       "</div>"
      ],
      "text/plain": [
       "                    title  cross_validation_train  accuracy_test\n",
       "2            XGBRegressor               -0.021116       0.484043\n",
       "3    KNeighborsClassifier                0.506652       0.484043\n",
       "6               LinearSVC                0.510195       0.480496\n",
       "0      LogisticRegression                0.512417       0.478723\n",
       "4              GaussianNB                0.513749       0.505319\n",
       "1    ExtraTreesClassifier                0.516858       0.480496\n",
       "5  DecisionTreeClassifier                0.517753       0.462766"
      ]
     },
     "execution_count": 28,
     "metadata": {},
     "output_type": "execute_result"
    }
   ],
   "source": [
    "# For dimonation = 50\n",
    "df_re = pd.DataFrame(result)\n",
    "df_re.sort_values('cross_validation_train').head(len(df_re))"
   ]
  },
  {
   "cell_type": "code",
   "execution_count": 30,
   "metadata": {},
   "outputs": [],
   "source": [
    "df_re.to_json('result_of_Elmo_ML_Mytweets12.2.json')"
   ]
  },
  {
   "cell_type": "markdown",
   "metadata": {},
   "source": [
    "<div style=\"width:100%;height:70px;border: 4px solid black;background-color:#E6BF00;color:white;text-align:center;border-radius: 25px;padding:3px\">\n",
    "    <h1>  Load data <h1>\n",
    "</div>"
   ]
  },
  {
   "cell_type": "code",
   "execution_count": null,
   "metadata": {},
   "outputs": [],
   "source": []
  },
  {
   "cell_type": "code",
   "execution_count": 1,
   "metadata": {},
   "outputs": [],
   "source": [
    "import numpy as np\n",
    "import pandas as pd\n",
    "import re"
   ]
  },
  {
   "cell_type": "code",
   "execution_count": 2,
   "metadata": {},
   "outputs": [
    {
     "name": "stdout",
     "output_type": "stream",
     "text": [
      "<class 'pandas.core.frame.DataFrame'>\n",
      "Int64Index: 2816 entries, 0 to 2815\n",
      "Data columns (total 3 columns):\n",
      "created_at    2816 non-null object\n",
      "text          2816 non-null object\n",
      "label         2816 non-null int64\n",
      "dtypes: int64(1), object(2)\n",
      "memory usage: 88.0+ KB\n"
     ]
    }
   ],
   "source": [
    "#data_path = '/Users/apple/Documents/Programming/python/Project/data/Clean_tweets/2Tesla_label_from_2010-06-29_to_2019-02-26_2019227.csv'\n",
    "data_path = '/Users/apple/Documents/Programming/pyfile/DataBase/project_data/Clean/2Tesla_label_from_2010-06-29_to_2019-02-26_2019227.csv'\n",
    "df_data = pd.read_csv(data_path)\n",
    "df_data = df_data.dropna()\n",
    "\n",
    "def xx(x):\n",
    "    if x==-1:\n",
    "        return 0\n",
    "    else:\n",
    "        return x\n",
    "#df_data['Price_label(0,1)'] = df_data['Price_label(0,1)'].apply(xx)\n",
    "#df_data['text'] = df_data['clean_text'].apply(lambda x: re.sub('-PRON- ','',x))\n",
    "#df_data['text'] = df_data['clean_text'].apply(lambda x: re.sub('-PRON-','',x))\n",
    "#df_data = df_data.reindex()\n",
    "df_data = df_data[['created_at','text','label']]\n",
    "df_data.info()"
   ]
  },
  {
   "cell_type": "code",
   "execution_count": null,
   "metadata": {},
   "outputs": [],
   "source": []
  },
  {
   "cell_type": "code",
   "execution_count": 67,
   "metadata": {},
   "outputs": [],
   "source": [
    "#df_data['label'] = df_data['Price_label(0,1)']"
   ]
  },
  {
   "cell_type": "code",
   "execution_count": 68,
   "metadata": {},
   "outputs": [],
   "source": [
    "\"\"\" \n",
    "number = []\n",
    "for num,text in enumerate(df_data.text):\n",
    "    words = text.split(' ')\n",
    "    if len(words)<=1:\n",
    "        df_data.drop([num],axis=0)\n",
    "        number.append(num)\n",
    "df_data = df_data.reset_index()\n",
    "\"\"\""
   ]
  },
  {
   "cell_type": "code",
   "execution_count": 70,
   "metadata": {},
   "outputs": [],
   "source": [
    "\"\"\"\n",
    "%%time\n",
    "for num,text in enumerate(df_data.text):\n",
    "    words = text.split(' ')\n",
    "    row = []\n",
    "    for w in words:\n",
    "        if len(w)>1:\n",
    "            row.append(w)\n",
    "    df_data.text[num] = ' '.join(row)\n",
    "#df_data = df_data.reset_index()\n",
    "\"\"\""
   ]
  },
  {
   "cell_type": "code",
   "execution_count": 3,
   "metadata": {},
   "outputs": [
    {
     "data": {
      "text/html": [
       "<div>\n",
       "<style scoped>\n",
       "    .dataframe tbody tr th:only-of-type {\n",
       "        vertical-align: middle;\n",
       "    }\n",
       "\n",
       "    .dataframe tbody tr th {\n",
       "        vertical-align: top;\n",
       "    }\n",
       "\n",
       "    .dataframe thead th {\n",
       "        text-align: right;\n",
       "    }\n",
       "</style>\n",
       "<table border=\"1\" class=\"dataframe\">\n",
       "  <thead>\n",
       "    <tr style=\"text-align: right;\">\n",
       "      <th></th>\n",
       "      <th>created_at</th>\n",
       "      <th>text</th>\n",
       "      <th>label</th>\n",
       "    </tr>\n",
       "  </thead>\n",
       "  <tbody>\n",
       "    <tr>\n",
       "      <th>0</th>\n",
       "      <td>2010-06-29</td>\n",
       "      <td>trump tusk tesla</td>\n",
       "      <td>1</td>\n",
       "    </tr>\n",
       "    <tr>\n",
       "      <th>1</th>\n",
       "      <td>2010-06-29</td>\n",
       "      <td>tesla elon musk may trouble want hold contempt...</td>\n",
       "      <td>1</td>\n",
       "    </tr>\n",
       "    <tr>\n",
       "      <th>2</th>\n",
       "      <td>2010-07-01</td>\n",
       "      <td>year people find tesla teleportation achieve y...</td>\n",
       "      <td>0</td>\n",
       "    </tr>\n",
       "    <tr>\n",
       "      <th>3</th>\n",
       "      <td>2010-07-02</td>\n",
       "      <td>look mx efficient compare audi jaguar</td>\n",
       "      <td>0</td>\n",
       "    </tr>\n",
       "    <tr>\n",
       "      <th>4</th>\n",
       "      <td>2010-07-14</td>\n",
       "      <td>tesla musk risk contempt charge sec argue twee...</td>\n",
       "      <td>1</td>\n",
       "    </tr>\n",
       "  </tbody>\n",
       "</table>\n",
       "</div>"
      ],
      "text/plain": [
       "   created_at                                               text  label\n",
       "0  2010-06-29                                   trump tusk tesla      1\n",
       "1  2010-06-29  tesla elon musk may trouble want hold contempt...      1\n",
       "2  2010-07-01  year people find tesla teleportation achieve y...      0\n",
       "3  2010-07-02              look mx efficient compare audi jaguar      0\n",
       "4  2010-07-14  tesla musk risk contempt charge sec argue twee...      1"
      ]
     },
     "execution_count": 3,
     "metadata": {},
     "output_type": "execute_result"
    }
   ],
   "source": [
    "df_data.head(5)"
   ]
  },
  {
   "cell_type": "code",
   "execution_count": 4,
   "metadata": {},
   "outputs": [
    {
     "data": {
      "text/plain": [
       "Index(['created_at', 'text', 'label'], dtype='object')"
      ]
     },
     "execution_count": 4,
     "metadata": {},
     "output_type": "execute_result"
    }
   ],
   "source": [
    "df_data.columns"
   ]
  },
  {
   "cell_type": "code",
   "execution_count": 75,
   "metadata": {},
   "outputs": [],
   "source": []
  },
  {
   "cell_type": "code",
   "execution_count": 77,
   "metadata": {},
   "outputs": [],
   "source": []
  },
  {
   "cell_type": "code",
   "execution_count": 10,
   "metadata": {},
   "outputs": [
    {
     "data": {
      "text/html": [
       "<div>\n",
       "<style scoped>\n",
       "    .dataframe tbody tr th:only-of-type {\n",
       "        vertical-align: middle;\n",
       "    }\n",
       "\n",
       "    .dataframe tbody tr th {\n",
       "        vertical-align: top;\n",
       "    }\n",
       "\n",
       "    .dataframe thead th {\n",
       "        text-align: right;\n",
       "    }\n",
       "</style>\n",
       "<table border=\"1\" class=\"dataframe\">\n",
       "  <thead>\n",
       "    <tr style=\"text-align: right;\">\n",
       "      <th></th>\n",
       "      <th>created_at</th>\n",
       "      <th>text</th>\n",
       "    </tr>\n",
       "    <tr>\n",
       "      <th>label</th>\n",
       "      <th></th>\n",
       "      <th></th>\n",
       "    </tr>\n",
       "  </thead>\n",
       "  <tbody>\n",
       "    <tr>\n",
       "      <th>0</th>\n",
       "      <td>2010-07-012010-07-022010-07-222010-07-272010-0...</td>\n",
       "      <td>year people find tesla teleportation achieve y...</td>\n",
       "    </tr>\n",
       "    <tr>\n",
       "      <th>1</th>\n",
       "      <td>2010-06-292010-06-292010-07-142010-07-142010-0...</td>\n",
       "      <td>trump tusk teslatesla elon musk may trouble wa...</td>\n",
       "    </tr>\n",
       "  </tbody>\n",
       "</table>\n",
       "</div>"
      ],
      "text/plain": [
       "                                              created_at  \\\n",
       "label                                                      \n",
       "0      2010-07-012010-07-022010-07-222010-07-272010-0...   \n",
       "1      2010-06-292010-06-292010-07-142010-07-142010-0...   \n",
       "\n",
       "                                                    text  \n",
       "label                                                     \n",
       "0      year people find tesla teleportation achieve y...  \n",
       "1      trump tusk teslatesla elon musk may trouble wa...  "
      ]
     },
     "execution_count": 10,
     "metadata": {},
     "output_type": "execute_result"
    }
   ],
   "source": [
    "df_data.groupby('label').sum()"
   ]
  },
  {
   "cell_type": "code",
   "execution_count": 5,
   "metadata": {},
   "outputs": [],
   "source": [
    "result = {}\n",
    "result['title'] = []\n",
    "result['cross_validation_train'] = []\n",
    "result['accuracy_test'] = []\n",
    "\n",
    "def result_maker(title,scoe,acc):\n",
    "    result['title'].append(title)\n",
    "    result['cross_validation_train'].append(scoe.mean())\n",
    "    result['accuracy_test'].append(acc)"
   ]
  },
  {
   "cell_type": "code",
   "execution_count": null,
   "metadata": {},
   "outputs": [],
   "source": []
  },
  {
   "cell_type": "markdown",
   "metadata": {},
   "source": [
    "<div style=\"width:100%;height:70px;border: 4px solid black;background-color:#E6BF00;color:white;text-align:center;border-radius: 25px;padding:3px\">\n",
    "    <h1> ELMO <h1>\n",
    "</div>"
   ]
  },
  {
   "cell_type": "code",
   "execution_count": null,
   "metadata": {},
   "outputs": [],
   "source": []
  },
  {
   "cell_type": "code",
   "execution_count": 6,
   "metadata": {},
   "outputs": [],
   "source": [
    "from farhad.Elmo_Thrones import ELMO_AWS"
   ]
  },
  {
   "cell_type": "code",
   "execution_count": 7,
   "metadata": {},
   "outputs": [
    {
     "name": "stdout",
     "output_type": "stream",
     "text": [
      "INFO:tensorflow:Using /var/folders/x3/r4c3zj896_55ywhdnh66wx0w0000gn/T/tfhub_modules to cache modules.\n",
      "INFO:tensorflow:Saver not created because there are no variables in the graph to restore\n",
      "INFO:tensorflow:Graph was finalized.\n",
      "INFO:tensorflow:Running local_init_op.\n",
      "INFO:tensorflow:Done running local_init_op.\n",
      "\u001b[92ma 50 dimensional vector as the sentence embedding.\u001b[0m\n",
      "2816\n",
      "2816\n",
      "CPU times: user 1.18 s, sys: 264 ms, total: 1.44 s\n",
      "Wall time: 1.5 s\n"
     ]
    }
   ],
   "source": [
    "%%time\n",
    "df = df_data.text\n",
    "elmo = ELMO_AWS()\n",
    "embed_data = elmo.Universal_Encoder(df,mode='dim50',kind='norm')\n",
    "\n",
    "print(len(embed_data))\n",
    "print(len(embed_data))"
   ]
  },
  {
   "cell_type": "code",
   "execution_count": 8,
   "metadata": {},
   "outputs": [
    {
     "data": {
      "text/plain": [
       "array([ 0.2783172 , -0.01503292,  0.01375373, -0.01811778, -0.04649745,\n",
       "        0.15517274, -0.28379875,  0.08284412, -0.1412149 ,  0.04378505,\n",
       "        0.18986207, -0.07488217,  0.1298998 , -0.1848547 , -0.09227709,\n",
       "       -0.09121232,  0.27829084,  0.11050502,  0.05802172, -0.23626134,\n",
       "       -0.14351173, -0.03364568,  0.27868304, -0.06414157, -0.2681666 ,\n",
       "        0.0958973 , -0.21928649, -0.08112582,  0.13211125, -0.20039313,\n",
       "        0.01610145,  0.10351509,  0.06651402,  0.02290783,  0.16076921,\n",
       "       -0.18655886,  0.0226246 , -0.10860206, -0.0675513 , -0.0897296 ,\n",
       "        0.3845458 ,  0.22980689,  0.1079257 , -0.06193075, -0.13920665,\n",
       "        0.00291347, -0.06848463,  0.23519738,  0.45234737, -0.11584611],\n",
       "      dtype=float32)"
      ]
     },
     "execution_count": 8,
     "metadata": {},
     "output_type": "execute_result"
    }
   ],
   "source": [
    "embed_data[1]"
   ]
  },
  {
   "cell_type": "markdown",
   "metadata": {},
   "source": [
    "<div style=\"width:100%;height:70px;border: 4px solid black;background-color:#E6BF00;color:white;text-align:center;border-radius: 25px;padding:3px\">\n",
    "    <h1> Dimensional_Reduction <h1>\n",
    "</div>"
   ]
  },
  {
   "cell_type": "code",
   "execution_count": null,
   "metadata": {},
   "outputs": [],
   "source": []
  },
  {
   "cell_type": "code",
   "execution_count": 103,
   "metadata": {},
   "outputs": [],
   "source": [
    "#from sklearn.decomposition import PCA"
   ]
  },
  {
   "cell_type": "code",
   "execution_count": 188,
   "metadata": {},
   "outputs": [],
   "source": [
    "#pca_ = PCA(n_components=5)\n",
    "#viz_data = pca_.fit_transform(data_vectorized.toarray()) "
   ]
  },
  {
   "cell_type": "code",
   "execution_count": 2,
   "metadata": {},
   "outputs": [],
   "source": [
    "#print('Lenght of data:',len(viz_data))\n",
    "#print('Lenght of data:',len(viz_data[12]),len(viz_data[22]))"
   ]
  },
  {
   "cell_type": "code",
   "execution_count": 1,
   "metadata": {},
   "outputs": [],
   "source": [
    "#viz_data[1]"
   ]
  },
  {
   "cell_type": "code",
   "execution_count": null,
   "metadata": {},
   "outputs": [],
   "source": []
  },
  {
   "cell_type": "markdown",
   "metadata": {},
   "source": [
    "<div style=\"width:100%;height:70px;border: 4px solid black;background-color:#E6BF00;color:white;text-align:center;border-radius: 25px;padding:3px\">\n",
    "    <h1> model_selection <h1>\n",
    "</div>"
   ]
  },
  {
   "cell_type": "code",
   "execution_count": null,
   "metadata": {},
   "outputs": [],
   "source": []
  },
  {
   "cell_type": "code",
   "execution_count": 9,
   "metadata": {},
   "outputs": [],
   "source": [
    "x = embed_data\n",
    "y = [i for i in df_data['label']]"
   ]
  },
  {
   "cell_type": "code",
   "execution_count": 10,
   "metadata": {},
   "outputs": [
    {
     "name": "stdout",
     "output_type": "stream",
     "text": [
      "[1, 0, 1, 1, 1, 1, 1, 1, 0]\n",
      "[ 6.89549744e-01 -1.62198260e-01  6.79792538e-02  8.42216983e-02\n",
      "  2.86323428e-01  1.70514598e-01 -1.95666656e-01  2.37419307e-01\n",
      " -3.44753444e-01  1.46607205e-01 -3.73069555e-01 -1.83128141e-04\n",
      "  3.76636237e-02 -5.56422286e-02  2.02419534e-01  2.06329718e-01\n",
      "  3.34249556e-01  2.40548346e-02 -5.53536750e-02  5.83230257e-02\n",
      " -4.00051326e-02  1.34037942e-01  1.55467287e-01 -8.25423524e-02\n",
      " -1.09924778e-01 -1.66045710e-01  1.00000724e-01  1.45712733e-01\n",
      " -1.56621248e-01  1.57654747e-01  1.52250662e-01  1.64236292e-01\n",
      " -1.95847884e-01  1.64799958e-01  2.04318941e-01 -2.24508673e-01\n",
      "  5.64232394e-02 -7.44004697e-02 -1.85391009e-01  8.96181464e-02\n",
      " -9.52342376e-02 -1.27098233e-01  3.46657336e-02 -3.49010676e-01\n",
      " -1.47957385e-01 -5.93805760e-02  2.78414264e-02 -6.19671382e-02\n",
      "  7.54950568e-02  4.14337777e-02]\n"
     ]
    }
   ],
   "source": [
    "from sklearn.model_selection import train_test_split\n",
    "x_train, x_test, y_train, y_test  = train_test_split(x,y ,test_size=0.20, random_state =32, shuffle=True)\n",
    "\n",
    "print(y_train[1:10])\n",
    "print(x_train[0])"
   ]
  },
  {
   "cell_type": "code",
   "execution_count": null,
   "metadata": {},
   "outputs": [],
   "source": []
  },
  {
   "cell_type": "markdown",
   "metadata": {},
   "source": [
    "<div style=\"width:100%;height:70px;border: 4px solid black;background-color:#E6BF00;color:white;text-align:center;border-radius: 25px;padding:3px\">\n",
    "    <h1> LogisticRegression <h1>\n",
    "</div>"
   ]
  },
  {
   "cell_type": "code",
   "execution_count": null,
   "metadata": {},
   "outputs": [],
   "source": []
  },
  {
   "cell_type": "code",
   "execution_count": 11,
   "metadata": {},
   "outputs": [],
   "source": [
    "from sklearn.linear_model import LogisticRegression\n",
    "from sklearn.metrics import accuracy_score,confusion_matrix, log_loss, f1_score,mean_squared_error\n",
    "from farhad_DL.utility import plot_confusion_matrix \n",
    "from sklearn.model_selection import train_test_split, cross_val_score"
   ]
  },
  {
   "cell_type": "code",
   "execution_count": 12,
   "metadata": {},
   "outputs": [
    {
     "name": "stdout",
     "output_type": "stream",
     "text": [
      "accuracy: 0.5124168514412417\n",
      "accuracy: 0.4787234042553192\n"
     ]
    },
    {
     "data": {
      "image/png": "[encoded data removed]",
      "text/plain": [
       "<Figure size 432x288 with 2 Axes>"
      ]
     },
     "metadata": {
      "needs_background": "light"
     },
     "output_type": "display_data"
    }
   ],
   "source": [
    "classifier = LogisticRegression(solver='sag')\n",
    "\n",
    "scoe = cross_val_score(classifier,x_train, y_train , cv=5);\n",
    "print('accuracy:',scoe.mean())\n",
    "\n",
    "\n",
    "classifier.fit(x_train, y_train)\n",
    "y_pred = classifier.predict(x_test)\n",
    "\n",
    "acc = accuracy_score(y_test,y_pred)\n",
    "print('accuracy:',acc)\n",
    "\n",
    "cm = confusion_matrix(y_test,y_pred , labels=[0,1])\n",
    "plot_confusion_matrix(cm, names=['bad','good'])"
   ]
  },
  {
   "cell_type": "code",
   "execution_count": 13,
   "metadata": {},
   "outputs": [],
   "source": [
    "title = 'LogisticRegression'\n",
    "result_maker(title,scoe,acc)"
   ]
  },
  {
   "cell_type": "code",
   "execution_count": null,
   "metadata": {},
   "outputs": [],
   "source": []
  },
  {
   "cell_type": "markdown",
   "metadata": {},
   "source": [
    "<div style=\"width:100%;height:70px;border: 4px solid black;background-color:#E6BF00;color:white;text-align:center;border-radius: 25px;padding:3px\">\n",
    "    <h1> ExtraTreesClassifier <h1>\n",
    "</div>"
   ]
  },
  {
   "cell_type": "code",
   "execution_count": null,
   "metadata": {},
   "outputs": [],
   "source": []
  },
  {
   "cell_type": "code",
   "execution_count": 14,
   "metadata": {},
   "outputs": [],
   "source": [
    "from sklearn.ensemble import ExtraTreesClassifier"
   ]
  },
  {
   "cell_type": "code",
   "execution_count": 15,
   "metadata": {},
   "outputs": [
    {
     "name": "stdout",
     "output_type": "stream",
     "text": [
      "accuracy: 0.5168583394924858\n",
      "accuracy: 0.4804964539007092\n"
     ]
    },
    {
     "data": {
      "image/png": "[encoded data removed]",
      "text/plain": [
       "<Figure size 432x288 with 2 Axes>"
      ]
     },
     "metadata": {
      "needs_background": "light"
     },
     "output_type": "display_data"
    }
   ],
   "source": [
    "ETC = ExtraTreesClassifier(n_estimators=200)\n",
    "\n",
    "scoe = cross_val_score(ETC,x_train, y_train , cv=5);\n",
    "print('accuracy:',scoe.mean())\n",
    "\n",
    "\n",
    "ETC.fit(x_train, y_train)\n",
    "y_pred = ETC.predict(x_test)\n",
    "\n",
    "acc = accuracy_score(y_test,y_pred)\n",
    "print('accuracy:',acc)\n",
    "\n",
    "cm = confusion_matrix(y_test,y_pred , labels=[0,1])\n",
    "plot_confusion_matrix(cm, names=['bad','good'])"
   ]
  },
  {
   "cell_type": "code",
   "execution_count": 16,
   "metadata": {},
   "outputs": [],
   "source": [
    "title = 'ExtraTreesClassifier'\n",
    "result_maker(title,scoe,acc)"
   ]
  },
  {
   "cell_type": "code",
   "execution_count": null,
   "metadata": {},
   "outputs": [],
   "source": []
  },
  {
   "cell_type": "markdown",
   "metadata": {},
   "source": [
    "<div style=\"width:100%;height:70px;border: 4px solid black;background-color:#E6BF00;color:white;text-align:center;border-radius: 25px;padding:3px\">\n",
    "    <h1> XGBRegressor <h1>\n",
    "</div>"
   ]
  },
  {
   "cell_type": "code",
   "execution_count": null,
   "metadata": {},
   "outputs": [],
   "source": []
  },
  {
   "cell_type": "code",
   "execution_count": 17,
   "metadata": {},
   "outputs": [],
   "source": [
    "from sklearn.model_selection import train_test_split, cross_val_score"
   ]
  },
  {
   "cell_type": "code",
   "execution_count": 18,
   "metadata": {},
   "outputs": [
    {
     "name": "stdout",
     "output_type": "stream",
     "text": [
      "accuracy: -0.021115685091550217\n",
      "accuracy: 0.48404255319148937\n"
     ]
    },
    {
     "data": {
      "image/png": "[encoded data removed]",
      "text/plain": [
       "<Figure size 432x288 with 2 Axes>"
      ]
     },
     "metadata": {
      "needs_background": "light"
     },
     "output_type": "display_data"
    }
   ],
   "source": [
    "from xgboost import XGBRegressor\n",
    "\n",
    "model_xgb_Regressor = XGBRegressor(n_estimators=60,early_stopping_rounds='auto',verbose=True,random_state=10)\n",
    "\n",
    "scoe = cross_val_score(model_xgb_Regressor,x_train, y_train , cv=5);\n",
    "print('accuracy:',scoe.mean())\n",
    "\n",
    "model_xgb_Regressor.fit(x_train, y_train)\n",
    "y_pred = model_xgb_Regressor.predict(x_test)\n",
    "for num in range(len(y_pred)):\n",
    "    if y_pred[num]>0.50:\n",
    "        y_pred[num]=1\n",
    "    else:\n",
    "         y_pred[num]=0\n",
    "            \n",
    "\n",
    "acc = accuracy_score(y_test,y_pred)\n",
    "print('accuracy:',acc)\n",
    "\n",
    "cm = confusion_matrix(y_test,y_pred , labels=[0,1])\n",
    "plot_confusion_matrix(cm, names=['bad','good'])"
   ]
  },
  {
   "cell_type": "code",
   "execution_count": 19,
   "metadata": {},
   "outputs": [],
   "source": [
    "title = 'XGBRegressor'\n",
    "result_maker(title,scoe,acc)"
   ]
  },
  {
   "cell_type": "code",
   "execution_count": null,
   "metadata": {},
   "outputs": [],
   "source": []
  },
  {
   "cell_type": "markdown",
   "metadata": {},
   "source": [
    "<div style=\"width:100%;height:70px;border: 4px solid black;background-color:#E6BF00;color:white;text-align:center;border-radius: 25px;padding:3px\">\n",
    "    <h1> KNeighborsClassifier <h1>\n",
    "</div>"
   ]
  },
  {
   "cell_type": "code",
   "execution_count": null,
   "metadata": {},
   "outputs": [],
   "source": []
  },
  {
   "cell_type": "code",
   "execution_count": 20,
   "metadata": {},
   "outputs": [
    {
     "name": "stdout",
     "output_type": "stream",
     "text": [
      "accuracy: 0.5066518847006651\n",
      "accuracy: 0.48404255319148937\n"
     ]
    },
    {
     "data": {
      "image/png": "[encoded data removed]",
      "text/plain": [
       "<Figure size 432x288 with 2 Axes>"
      ]
     },
     "metadata": {
      "needs_background": "light"
     },
     "output_type": "display_data"
    }
   ],
   "source": [
    "from sklearn.neighbors import KNeighborsClassifier\n",
    "kmean = KNeighborsClassifier()\n",
    "scoe = cross_val_score(kmean, x_train, y_train , cv=5);\n",
    "print('accuracy:',scoe.mean())\n",
    "\n",
    "kmean.fit(x_train, y_train)\n",
    "y_pred = model_xgb_Regressor.predict(x_test)\n",
    "for num in range(len(y_pred)):\n",
    "    if y_pred[num]>0.50:\n",
    "        y_pred[num]=1\n",
    "    else:\n",
    "         y_pred[num]=0\n",
    "            \n",
    "acc = accuracy_score(y_test,y_pred)\n",
    "print('accuracy:',acc)\n",
    "\n",
    "cm = confusion_matrix(y_test,y_pred , labels=[0,1])\n",
    "plot_confusion_matrix(cm, names=['bad','good'])"
   ]
  },
  {
   "cell_type": "code",
   "execution_count": 21,
   "metadata": {},
   "outputs": [],
   "source": [
    "title = 'KNeighborsClassifier'\n",
    "result_maker(title,scoe,acc)"
   ]
  },
  {
   "cell_type": "code",
   "execution_count": null,
   "metadata": {},
   "outputs": [],
   "source": []
  },
  {
   "cell_type": "markdown",
   "metadata": {},
   "source": [
    "<div style=\"width:100%;height:70px;border: 4px solid black;background-color:#E6BF00;color:white;text-align:center;border-radius: 25px;padding:3px\">\n",
    "    <h1> GaussianNB <h1>\n",
    "</div>"
   ]
  },
  {
   "cell_type": "code",
   "execution_count": null,
   "metadata": {},
   "outputs": [],
   "source": []
  },
  {
   "cell_type": "code",
   "execution_count": 22,
   "metadata": {},
   "outputs": [
    {
     "name": "stdout",
     "output_type": "stream",
     "text": [
      "accuracy: 0.5137491993101749\n",
      "accuracy: 0.5053191489361702\n"
     ]
    },
    {
     "data": {
      "image/png": "[encoded data removed]",
      "text/plain": [
       "<Figure size 432x288 with 2 Axes>"
      ]
     },
     "metadata": {
      "needs_background": "light"
     },
     "output_type": "display_data"
    }
   ],
   "source": [
    "from sklearn.naive_bayes import GaussianNB\n",
    "GNB = GaussianNB()\n",
    "GNB.fit(x_train, y_train)\n",
    "scoe = cross_val_score(GNB, x_train, y_train , cv=5);\n",
    "print('accuracy:',scoe.mean())\n",
    "\n",
    "GNB.fit(x_train, y_train)\n",
    "y_pred = GNB.predict(x_test)\n",
    "for num in range(len(y_pred)):\n",
    "    if y_pred[num]>0.50:\n",
    "        y_pred[num]=1\n",
    "    else:\n",
    "         y_pred[num]=0\n",
    "            \n",
    "acc = accuracy_score(y_test,y_pred)\n",
    "print('accuracy:',acc)\n",
    "\n",
    "cm = confusion_matrix(y_test,y_pred , labels=[0,1])\n",
    "plot_confusion_matrix(cm, names=['bad','good'])"
   ]
  },
  {
   "cell_type": "code",
   "execution_count": 23,
   "metadata": {},
   "outputs": [],
   "source": [
    "title = ' GaussianNB'\n",
    "result_maker(title,scoe,acc)"
   ]
  },
  {
   "cell_type": "code",
   "execution_count": null,
   "metadata": {},
   "outputs": [],
   "source": []
  },
  {
   "cell_type": "markdown",
   "metadata": {},
   "source": [
    "<div style=\"width:100%;height:70px;border: 4px solid black;background-color:#E6BF00;color:white;text-align:center;border-radius: 25px;padding:3px\">\n",
    "    <h1> DecisionTreeClassifier <h1>\n",
    "</div>"
   ]
  },
  {
   "cell_type": "code",
   "execution_count": null,
   "metadata": {},
   "outputs": [],
   "source": []
  },
  {
   "cell_type": "code",
   "execution_count": 24,
   "metadata": {},
   "outputs": [
    {
     "name": "stdout",
     "output_type": "stream",
     "text": [
      "accuracy: 0.5177531411677754\n",
      "accuracy: 0.4627659574468085\n"
     ]
    },
    {
     "data": {
      "image/png": "[encoded data removed]",
      "text/plain": [
       "<Figure size 432x288 with 2 Axes>"
      ]
     },
     "metadata": {
      "needs_background": "light"
     },
     "output_type": "display_data"
    }
   ],
   "source": [
    "from sklearn.tree import DecisionTreeClassifier\n",
    "model_DecisionTree = DecisionTreeClassifier(max_leaf_nodes=300)\n",
    "scoe = cross_val_score(model_DecisionTree, x_train, y_train , cv=5);\n",
    "print('accuracy:',scoe.mean())\n",
    "\n",
    "model_DecisionTree.fit(x_train, y_train)\n",
    "y_pred = model_DecisionTree.predict(x_test)\n",
    "for num in range(len(y_pred)):\n",
    "    if y_pred[num]>0.50:\n",
    "        y_pred[num]=1\n",
    "    else:\n",
    "         y_pred[num]=0\n",
    "            \n",
    "acc = accuracy_score(y_test,y_pred)\n",
    "print('accuracy:',acc)\n",
    "\n",
    "cm = confusion_matrix(y_test,y_pred , labels=[0,1])\n",
    "plot_confusion_matrix(cm, names=['bad','good'])"
   ]
  },
  {
   "cell_type": "code",
   "execution_count": 25,
   "metadata": {},
   "outputs": [],
   "source": [
    "title = 'DecisionTreeClassifier'\n",
    "result_maker(title,scoe,acc)"
   ]
  },
  {
   "cell_type": "code",
   "execution_count": null,
   "metadata": {},
   "outputs": [],
   "source": []
  },
  {
   "cell_type": "markdown",
   "metadata": {},
   "source": [
    "<div style=\"width:100%;height:70px;border: 4px solid black;background-color:#E6BF00;color:white;text-align:center;border-radius: 25px;padding:3px\">\n",
    "    <h1> LinearSVC <h1>\n",
    "</div>"
   ]
  },
  {
   "cell_type": "code",
   "execution_count": null,
   "metadata": {},
   "outputs": [],
   "source": []
  },
  {
   "cell_type": "code",
   "execution_count": 26,
   "metadata": {},
   "outputs": [
    {
     "name": "stdout",
     "output_type": "stream",
     "text": [
      "accuracy: 0.5101946292190195\n",
      "accuracy: 0.4804964539007092\n"
     ]
    },
    {
     "data": {
      "image/png": "[encoded data removed]",
      "text/plain": [
       "<Figure size 432x288 with 2 Axes>"
      ]
     },
     "metadata": {
      "needs_background": "light"
     },
     "output_type": "display_data"
    }
   ],
   "source": [
    "from sklearn.svm import LinearSVC\n",
    "LSVC = LinearSVC()\n",
    "\n",
    "scoe = cross_val_score(LSVC, x_train, y_train , cv=5);\n",
    "print('accuracy:',scoe.mean())\n",
    "\n",
    "LSVC.fit(x_train, y_train)\n",
    "y_pred = LSVC.predict(x_test)\n",
    "for num in range(len(y_pred)):\n",
    "    if y_pred[num]>0.50:\n",
    "        y_pred[num]=1\n",
    "    else:\n",
    "         y_pred[num]=0\n",
    "            \n",
    "acc = accuracy_score(y_test,y_pred)\n",
    "print('accuracy:',acc)\n",
    "\n",
    "cm = confusion_matrix(y_test,y_pred , labels=[0,1])\n",
    "plot_confusion_matrix(cm, names=['bad','good'])"
   ]
  },
  {
   "cell_type": "code",
   "execution_count": 27,
   "metadata": {},
   "outputs": [],
   "source": [
    "title = ' LinearSVC'\n",
    "result_maker(title,scoe,acc)"
   ]
  },
  {
   "cell_type": "code",
   "execution_count": null,
   "metadata": {},
   "outputs": [],
   "source": []
  }
 ],
 "metadata": {
  "kernelspec": {
   "display_name": "Python 3",
   "language": "python",
   "name": "python3"
  },
  "language_info": {
   "codemirror_mode": {
    "name": "ipython",
    "version": 3
   },
   "file_extension": ".py",
   "mimetype": "text/x-python",
   "name": "python",
   "nbconvert_exporter": "python",
   "pygments_lexer": "ipython3",
   "version": "3.6.8"
  }
 },
 "nbformat": 4,
 "nbformat_minor": 2
}
